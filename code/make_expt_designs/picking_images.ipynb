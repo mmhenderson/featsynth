{
 "cells": [
  {
   "cell_type": "code",
   "execution_count": 1,
   "id": "f39c30df-493f-43a7-ba13-1df43da36d45",
   "metadata": {},
   "outputs": [
    {
     "name": "stdout",
     "output_type": "stream",
     "text": [
      "/user_data/mmhender/stimuli/featsynth/images_comb64/synth_losses_all.npy\n"
     ]
    }
   ],
   "source": [
    "import os, sys\n",
    "import numpy as np\n",
    "import pandas as pd\n",
    "import copy\n",
    "\n",
    "things_root = '/user_data/mmhender/stimuli/things/'\n",
    "project_root = '/user_data/mmhender/featsynth/'\n",
    "stimuli_folder = '/user_data/mmhender/stimuli/featsynth/images_comb64/'\n",
    "ecoset_info_path = '/user_data/mmhender/stimuli/ecoset_info/'\n",
    "\n",
    "sys.path.insert(0, '/user_data/mmhender/featsynth/code/')\n",
    "from utils import expt_utils\n",
    "\n",
    "expt_name = 'fmri_pilot2'\n",
    "\n",
    "# using here the same set of categories that we chose from ecoset.\n",
    "# 64 basic categories in 8 superordinate groups.\n",
    "fn = os.path.join(ecoset_info_path, 'categ_use_ecoset.npy')\n",
    "info = np.load(fn, allow_pickle=True).item()\n",
    "basic_names = list(info['binfo'].keys())\n",
    "super_names = list(info['sinfo'].keys())\n",
    "\n",
    "\n",
    "# load info about which images to use\n",
    "# made this in make_featsynth_images_comb64.py\n",
    "fn = os.path.join(stimuli_folder, 'synth_losses_all.npy')\n",
    "print(fn)\n",
    "l = np.load(fn, allow_pickle=True).item()\n"
   ]
  },
  {
   "cell_type": "code",
   "execution_count": 4,
   "id": "8bf306a1-b568-49fb-b568-cef64efb1413",
   "metadata": {},
   "outputs": [],
   "source": [
    "bnames = list(l.keys())\n"
   ]
  },
  {
   "cell_type": "code",
   "execution_count": 7,
   "id": "abf85be5-c26f-4099-9bf7-7d01636ad514",
   "metadata": {},
   "outputs": [],
   "source": [
    "loss_each_categ = np.array([np.mean(l[b]['loss_combined_z']) for b in bnames])"
   ]
  },
  {
   "cell_type": "code",
   "execution_count": 10,
   "id": "ddd6874c-f6e1-4a5d-8f81-6032dcc90fe9",
   "metadata": {},
   "outputs": [
    {
     "data": {
      "text/plain": [
       "(64,)"
      ]
     },
     "execution_count": 10,
     "metadata": {},
     "output_type": "execute_result"
    }
   ],
   "source": [
    "loss_each_categ.shape"
   ]
  },
  {
   "cell_type": "code",
   "execution_count": 12,
   "id": "e3626efd-b2d3-4cd6-bf4f-2ba250ffa824",
   "metadata": {},
   "outputs": [
    {
     "name": "stdout",
     "output_type": "stream",
     "text": [
      "insect\n",
      "['moth' 'caterpillar' 'ant' 'beetle' 'grasshopper' 'mosquito' 'bee'\n",
      " 'butterfly']\n",
      "[-0.23828219 -0.11632442 -0.09576781 -0.07585629 -0.02219027  0.25264625\n",
      "  0.25518358  0.32906799]\n",
      "mammal\n",
      "['rabbit' 'elephant' 'lion' 'pig' 'squirrel' 'cow' 'horse' 'dog']\n",
      "[-0.26673335 -0.22242557 -0.21848276 -0.18224017 -0.11143691 -0.08217693\n",
      " -0.08182114 -0.02567807]\n",
      "vegetable\n",
      "['lettuce' 'cabbage' 'asparagus' 'corn' 'pea' 'onion' 'beet' 'pumpkin']\n",
      "[-0.23788259 -0.21970225 -0.16404657 -0.09567846 -0.05645082  0.12192798\n",
      "  0.18100114  0.23293105]\n",
      "fruit\n",
      "['grape' 'coconut' 'pear' 'raspberry' 'apple' 'pomegranate' 'banana'\n",
      " 'cherry']\n",
      "[-0.12760298 -0.039614    0.02776966  0.06378501  0.10393366  0.14316732\n",
      "  0.19068617  0.30880925]\n",
      "tool\n",
      "['shovel' 'axe' 'knife' 'broom' 'spoon' 'hammer' 'scissors' 'pencil']\n",
      "[-0.23063256 -0.21811461 -0.1953238  -0.18873233 -0.16143536 -0.09915473\n",
      "  0.22204144  0.25724076]\n",
      "musical instrument\n",
      "['cymbal' 'bell' 'trumpet' 'piano' 'clarinet' 'guitar' 'drum' 'violin']\n",
      "[-1.46398662e-01 -1.08590684e-02 -9.46170568e-04  1.93810358e-02\n",
      "  6.78630253e-02  7.88083367e-02  2.12853029e-01  1.31705160e+00]\n",
      "furniture\n",
      "['table' 'bench' 'couch' 'bed' 'chair' 'lamp' 'television' 'refrigerator']\n",
      "[-0.21955035 -0.21496426 -0.15559437 -0.10683965 -0.02621282 -0.01027954\n",
      " -0.00363505  0.16762541]\n",
      "vehicle\n",
      "['canoe' 'airplane' 'ship' 'train' 'motorcycle' 'bus' 'truck' 'car']\n",
      "[-0.13539844 -0.09722209 -0.09616681 -0.04906391  0.07403669  0.10079001\n",
      "  0.10187733  0.2164404 ]\n"
     ]
    }
   ],
   "source": [
    "for sname in super_names:\n",
    "\n",
    "    print(sname)\n",
    "\n",
    "    these_basic = np.array(info['sinfo'][sname]['basic_names'])\n",
    "    \n",
    "    loss_each_categ = np.array([np.mean(l[b]['loss_combined_z']) for b in these_basic])\n",
    "\n",
    "    order = np.argsort(loss_each_categ)\n",
    "\n",
    "    print(these_basic[order])\n",
    "    print(loss_each_categ[order])\n",
    "\n",
    "    "
   ]
  }
 ],
 "metadata": {
  "kernelspec": {
   "display_name": "Python 3 (ipykernel)",
   "language": "python",
   "name": "python3"
  },
  "language_info": {
   "codemirror_mode": {
    "name": "ipython",
    "version": 3
   },
   "file_extension": ".py",
   "mimetype": "text/x-python",
   "name": "python",
   "nbconvert_exporter": "python",
   "pygments_lexer": "ipython3",
   "version": "3.10.9"
  }
 },
 "nbformat": 4,
 "nbformat_minor": 5
}
