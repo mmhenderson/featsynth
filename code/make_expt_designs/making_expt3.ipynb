{
 "cells": [
  {
   "cell_type": "code",
   "execution_count": 1,
   "id": "e09bfadf-c05b-43e4-9083-07723533dea7",
   "metadata": {},
   "outputs": [],
   "source": [
    "import os, sys\n",
    "import numpy as np\n",
    "import pandas as pd\n",
    "import copy\n",
    "\n",
    "things_root = '/user_data/mmhender/stimuli/things/'\n",
    "project_root = '/user_data/mmhender/featsynth/'\n",
    "stimuli_folder = 'images_v3'\n",
    "ecoset_info_path = '/user_data/mmhender/stimuli/ecoset_info/'\n",
    "\n",
    "sys.path.insert(0, '/user_data/mmhender/featsynth/code/')\n",
    "from utils import dropbox_utils, expt_utils\n",
    "token_path = os.path.join(project_root, 'tokens/dbx_token.txt')\n",
    "dbx = dropbox_utils.init_dropbox(token_path)\n",
    "\n",
    "expt_name = 'expt3'"
   ]
  },
  {
   "cell_type": "code",
   "execution_count": 2,
   "id": "d22fb9fb-b714-4e43-a616-2722d910bd3f",
   "metadata": {},
   "outputs": [
    {
     "data": {
      "text/plain": [
       "<function utils.dropbox_utils.get_shared_url(path, dbx)>"
      ]
     },
     "execution_count": 2,
     "metadata": {},
     "output_type": "execute_result"
    }
   ],
   "source": [
    "dropbox_utils.get_shared_url"
   ]
  },
  {
   "cell_type": "code",
   "execution_count": 7,
   "id": "81d8d175-b9a4-492e-bffc-c18f4ef222a0",
   "metadata": {},
   "outputs": [
    {
     "data": {
      "text/plain": [
       "'https://dl.dropboxusercontent.com/scl/fi/asorg5l4hv59q4h009y7g/orig.png?rlkey=q1zix0tc1o3e2xo8i5oaa14i4&dl=0'"
      ]
     },
     "execution_count": 7,
     "metadata": {},
     "output_type": "execute_result"
    }
   ],
   "source": [
    "path = '/images_v3/beetle_01b/orig.png'\n",
    "dropbox_utils.get_shared_url(path, dbx)"
   ]
  },
  {
   "cell_type": "code",
   "execution_count": 4,
   "id": "e3f65662-d496-40ac-80c4-13fe44e433a7",
   "metadata": {},
   "outputs": [
    {
     "data": {
      "text/plain": [
       "'https://dl.dropboxusercontent.com/s/6vh442tpv33iclw/orig.png?dl=0'"
      ]
     },
     "execution_count": 4,
     "metadata": {},
     "output_type": "execute_result"
    }
   ],
   "source": [
    "path = '/images_v1/airbag_01b/orig.png'\n",
    "dropbox_utils.get_shared_url(path, dbx)"
   ]
  },
  {
   "cell_type": "code",
   "execution_count": 5,
   "id": "e54b98b2-9021-4d35-a0df-83c0ea449f22",
   "metadata": {},
   "outputs": [
    {
     "data": {
      "text/plain": [
       "'https://dl.dropboxusercontent.com/scl/fi/cbx1m9cbos3pce70psuuu/orig.png?rlkey=h3fn2rrh5oak53zjk2kg2039w&dl=0'"
      ]
     },
     "execution_count": 5,
     "metadata": {},
     "output_type": "execute_result"
    }
   ],
   "source": [
    "path = '/images_v3/apple_10s/orig.png'\n",
    "dropbox_utils.get_shared_url(path, dbx)"
   ]
  },
  {
   "cell_type": "code",
   "execution_count": 2,
   "id": "97e5b5ec-82e6-4a7c-a25c-c3869533dfa3",
   "metadata": {},
   "outputs": [
    {
     "data": {
      "text/plain": [
       "GetSharedLinksResult(links=[])"
      ]
     },
     "execution_count": 2,
     "metadata": {},
     "output_type": "execute_result"
    }
   ],
   "source": [
    "path = '/images_v3/apple_02s/orig.png'\n",
    "result = dbx.sharing_get_shared_links(path)\n",
    "result"
   ]
  },
  {
   "cell_type": "code",
   "execution_count": 3,
   "id": "42660b7b-a98e-4e77-b502-34f3f1f09273",
   "metadata": {},
   "outputs": [],
   "source": [
    "meta = dbx.sharing_create_shared_link_with_settings(path)"
   ]
  },
  {
   "cell_type": "code",
   "execution_count": 4,
   "id": "dac44514-29ff-48f7-8492-95a41b6c3a7b",
   "metadata": {},
   "outputs": [],
   "source": [
    "result = dbx.sharing_get_shared_links(path)"
   ]
  },
  {
   "cell_type": "code",
   "execution_count": 5,
   "id": "d308fc34-8ab6-4419-b0ea-1afbaa1c55fe",
   "metadata": {},
   "outputs": [
    {
     "data": {
      "text/plain": [
       "GetSharedLinksResult(links=[])"
      ]
     },
     "execution_count": 5,
     "metadata": {},
     "output_type": "execute_result"
    }
   ],
   "source": [
    "result"
   ]
  },
  {
   "cell_type": "code",
   "execution_count": 6,
   "id": "c88f61fc-7a60-4dea-88ac-f30ce4a35e32",
   "metadata": {},
   "outputs": [
    {
     "data": {
      "text/plain": [
       "'https://www.dropbox.com/scl/fi/jnjr0dxdeoz7ejdemygg7/orig.png?rlkey=oz8vai08wfpwtmm3ao7k5wy5i&dl=0'"
      ]
     },
     "execution_count": 6,
     "metadata": {},
     "output_type": "execute_result"
    }
   ],
   "source": [
    "result = dbx.sharing_list_shared_links(path)\n",
    "result.links[0].url"
   ]
  },
  {
   "cell_type": "code",
   "execution_count": 3,
   "id": "8f3da519-aad1-4af9-be1c-261ad3aaaa65",
   "metadata": {},
   "outputs": [],
   "source": [
    "dbxpath = '/images_v3/beetle_01b/orig.png'"
   ]
  },
  {
   "cell_type": "code",
   "execution_count": 10,
   "id": "d6a1217e-1e77-4fdb-8b1f-30e40297d06b",
   "metadata": {},
   "outputs": [],
   "source": [
    "dbxpath = '/images_v3/airplane_02n/orig.png'"
   ]
  },
  {
   "cell_type": "code",
   "execution_count": 11,
   "id": "f89e34c9-6fd0-4e98-88ea-4d5f9e5f4c84",
   "metadata": {},
   "outputs": [
    {
     "name": "stdout",
     "output_type": "stream",
     "text": [
      "creating dropbox url\n",
      "/images_v3/airplane_02n/orig.png\n",
      "<dropbox.dropbox_client.Dropbox object at 0x7fee1c487208>\n"
     ]
    },
    {
     "ename": "IndexError",
     "evalue": "list index out of range",
     "output_type": "error",
     "traceback": [
      "\u001b[0;31m---------------------------------------------------------------------------\u001b[0m",
      "\u001b[0;31mIndexError\u001b[0m                                Traceback (most recent call last)",
      "\u001b[0;32m/tmp/ipykernel_19742/2125809372.py\u001b[0m in \u001b[0;36m<module>\u001b[0;34m\u001b[0m\n\u001b[1;32m      4\u001b[0m \u001b[0mprint\u001b[0m\u001b[0;34m(\u001b[0m\u001b[0mdbxpath\u001b[0m\u001b[0;34m)\u001b[0m\u001b[0;34m\u001b[0m\u001b[0;34m\u001b[0m\u001b[0m\n\u001b[1;32m      5\u001b[0m \u001b[0mprint\u001b[0m\u001b[0;34m(\u001b[0m\u001b[0mdbx\u001b[0m\u001b[0;34m)\u001b[0m\u001b[0;34m\u001b[0m\u001b[0;34m\u001b[0m\u001b[0m\n\u001b[0;32m----> 6\u001b[0;31m \u001b[0murl\u001b[0m \u001b[0;34m=\u001b[0m \u001b[0mdropbox_utils\u001b[0m\u001b[0;34m.\u001b[0m\u001b[0mget_shared_url\u001b[0m\u001b[0;34m(\u001b[0m\u001b[0mdbxpath\u001b[0m\u001b[0;34m,\u001b[0m \u001b[0mdbx\u001b[0m\u001b[0;34m)\u001b[0m\u001b[0;34m\u001b[0m\u001b[0;34m\u001b[0m\u001b[0m\n\u001b[0m",
      "\u001b[0;32m/user_data/mmhender/featsynth/code/utils/dropbox_utils.py\u001b[0m in \u001b[0;36mget_shared_url\u001b[0;34m(path, dbx)\u001b[0m\n\u001b[1;32m     16\u001b[0m         \u001b[0mmeta\u001b[0m \u001b[0;34m=\u001b[0m \u001b[0mdbx\u001b[0m\u001b[0;34m.\u001b[0m\u001b[0msharing_create_shared_link_with_settings\u001b[0m\u001b[0;34m(\u001b[0m\u001b[0mpath\u001b[0m\u001b[0;34m)\u001b[0m\u001b[0;34m\u001b[0m\u001b[0;34m\u001b[0m\u001b[0m\n\u001b[1;32m     17\u001b[0m         \u001b[0mresult\u001b[0m \u001b[0;34m=\u001b[0m \u001b[0mdbx\u001b[0m\u001b[0;34m.\u001b[0m\u001b[0msharing_get_shared_links\u001b[0m\u001b[0;34m(\u001b[0m\u001b[0mpath\u001b[0m\u001b[0;34m)\u001b[0m\u001b[0;34m\u001b[0m\u001b[0;34m\u001b[0m\u001b[0m\n\u001b[0;32m---> 18\u001b[0;31m     \u001b[0murl\u001b[0m \u001b[0;34m=\u001b[0m \u001b[0mresult\u001b[0m\u001b[0;34m.\u001b[0m\u001b[0mlinks\u001b[0m\u001b[0;34m[\u001b[0m\u001b[0;36m0\u001b[0m\u001b[0;34m]\u001b[0m\u001b[0;34m.\u001b[0m\u001b[0murl\u001b[0m\u001b[0;34m\u001b[0m\u001b[0;34m\u001b[0m\u001b[0m\n\u001b[0m\u001b[1;32m     19\u001b[0m     \u001b[0murl\u001b[0m \u001b[0;34m=\u001b[0m \u001b[0murl\u001b[0m\u001b[0;34m.\u001b[0m\u001b[0mreplace\u001b[0m\u001b[0;34m(\u001b[0m\u001b[0;34m'www.dropbox'\u001b[0m\u001b[0;34m,\u001b[0m \u001b[0;34m'dl.dropboxusercontent'\u001b[0m\u001b[0;34m)\u001b[0m\u001b[0;34m\u001b[0m\u001b[0;34m\u001b[0m\u001b[0m\n\u001b[1;32m     20\u001b[0m \u001b[0;34m\u001b[0m\u001b[0m\n",
      "\u001b[0;31mIndexError\u001b[0m: list index out of range"
     ]
    }
   ],
   "source": [
    "stimuli_folder = 'images_v3'\n",
    "\n",
    "print('creating dropbox url')\n",
    "print(dbxpath)\n",
    "print(dbx)\n",
    "url = dropbox_utils.get_shared_url(dbxpath, dbx)"
   ]
  },
  {
   "cell_type": "code",
   "execution_count": 30,
   "id": "7fc13a0e-96d4-4076-8053-b1859f8861d5",
   "metadata": {},
   "outputs": [],
   "source": [
    "result2 = dbx.sharing_list_shared_links(path, cursor=None, direct_only=None)"
   ]
  },
  {
   "cell_type": "code",
   "execution_count": 36,
   "id": "64cd1e0e-ca90-4b19-ab38-d230190f1d46",
   "metadata": {},
   "outputs": [
    {
     "data": {
      "text/plain": [
       "'https://www.dropbox.com/scl/fi/dcdoirs2pubaauotn9iyv/orig.png?rlkey=3l84qtfxkmkvq9ge1h8uunilg&dl=0'"
      ]
     },
     "execution_count": 36,
     "metadata": {},
     "output_type": "execute_result"
    }
   ],
   "source": [
    "result2.links[0].url"
   ]
  },
  {
   "cell_type": "code",
   "execution_count": 29,
   "id": "9d327813-40c9-4255-bf18-1172554e58ce",
   "metadata": {},
   "outputs": [],
   "source": [
    "# path = '/images_v3/airplane_03n/orig.png'\n",
    "# meta = dbx.sharing_create_shared_link_with_settings(path)"
   ]
  },
  {
   "cell_type": "code",
   "execution_count": 27,
   "id": "9babc149-47ca-4a3c-a878-505fcca08956",
   "metadata": {},
   "outputs": [
    {
     "data": {
      "text/plain": [
       "GetSharedLinksResult(links=[])"
      ]
     },
     "execution_count": 27,
     "metadata": {},
     "output_type": "execute_result"
    }
   ],
   "source": [
    "result"
   ]
  },
  {
   "cell_type": "code",
   "execution_count": 50,
   "id": "242b574e-fe83-4f87-aae1-dec6225db923",
   "metadata": {},
   "outputs": [
    {
     "data": {
      "text/plain": [
       "'https://www.dropbox.com/scl/fi/dcdoirs2pubaauotn9iyv/orig.png?rlkey=3l84qtfxkmkvq9ge1h8uunilg&dl=0'"
      ]
     },
     "execution_count": 50,
     "metadata": {},
     "output_type": "execute_result"
    }
   ],
   "source": [
    "path = '/images_v3/airplane_03n/orig.png'\n",
    "result = dbx.sharing_list_shared_links(path)\n",
    "result.links[0].url"
   ]
  },
  {
   "cell_type": "code",
   "execution_count": 37,
   "id": "9918d25f-cb4d-4adc-9874-139f66fb2731",
   "metadata": {},
   "outputs": [],
   "source": [
    "path = '/images_v1/airbag_01b/orig.png'\n",
    "result = dbx.sharing_get_shared_links(path)"
   ]
  },
  {
   "cell_type": "code",
   "execution_count": 49,
   "id": "7448cd7c-516a-4343-be78-e2609a6a0eae",
   "metadata": {},
   "outputs": [
    {
     "data": {
      "text/plain": [
       "'https://www.dropbox.com/s/6vh442tpv33iclw/orig.png?dl=0'"
      ]
     },
     "execution_count": 49,
     "metadata": {},
     "output_type": "execute_result"
    }
   ],
   "source": [
    "path = '/images_v1/airbag_01b/orig.png'\n",
    "result = dbx.sharing_list_shared_links(path)\n",
    "result.links[0].url"
   ]
  },
  {
   "cell_type": "code",
   "execution_count": 51,
   "id": "8f265208-ea0d-4b18-93a8-838c897ee2fa",
   "metadata": {},
   "outputs": [
    {
     "data": {
      "text/plain": [
       "'https://www.dropbox.com/s/eb4vxps9irllw2l/orig.png?dl=0'"
      ]
     },
     "execution_count": 51,
     "metadata": {},
     "output_type": "execute_result"
    }
   ],
   "source": [
    "path = '/images_v1_grayscale/airbag_01b/orig.png'\n",
    "result = dbx.sharing_list_shared_links(path)\n",
    "result.links[0].url"
   ]
  },
  {
   "cell_type": "code",
   "execution_count": 44,
   "id": "ca6692b3-878a-4a1b-8861-997aa3a950b4",
   "metadata": {},
   "outputs": [
    {
     "ename": "ApiError",
     "evalue": "ApiError('9c305c9c31574407826449a5c6730ca5', SharedLinkError('shared_link_not_found', None))",
     "output_type": "error",
     "traceback": [
      "\u001b[0;31m---------------------------------------------------------------------------\u001b[0m",
      "\u001b[0;31mApiError\u001b[0m                                  Traceback (most recent call last)",
      "\u001b[0;32m/tmp/ipykernel_19742/3932491353.py\u001b[0m in \u001b[0;36m<module>\u001b[0;34m\u001b[0m\n\u001b[1;32m      2\u001b[0m \u001b[0mresult\u001b[0m \u001b[0;34m=\u001b[0m \u001b[0mdbx\u001b[0m\u001b[0;34m.\u001b[0m\u001b[0msharing_get_shared_links\u001b[0m\u001b[0;34m(\u001b[0m\u001b[0mpath\u001b[0m\u001b[0;34m)\u001b[0m\u001b[0;34m\u001b[0m\u001b[0;34m\u001b[0m\u001b[0m\n\u001b[1;32m      3\u001b[0m \u001b[0murl\u001b[0m \u001b[0;34m=\u001b[0m \u001b[0mresult\u001b[0m\u001b[0;34m.\u001b[0m\u001b[0mlinks\u001b[0m\u001b[0;34m[\u001b[0m\u001b[0;36m0\u001b[0m\u001b[0;34m]\u001b[0m\u001b[0;34m.\u001b[0m\u001b[0murl\u001b[0m\u001b[0;34m\u001b[0m\u001b[0;34m\u001b[0m\u001b[0m\n\u001b[0;32m----> 4\u001b[0;31m \u001b[0mmeta\u001b[0m \u001b[0;34m=\u001b[0m \u001b[0mdbx\u001b[0m\u001b[0;34m.\u001b[0m\u001b[0msharing_get_shared_link_metadata\u001b[0m\u001b[0;34m(\u001b[0m\u001b[0murl\u001b[0m\u001b[0;34m,\u001b[0m \u001b[0mpath\u001b[0m\u001b[0;34m=\u001b[0m\u001b[0mpath\u001b[0m\u001b[0;34m)\u001b[0m\u001b[0;34m\u001b[0m\u001b[0;34m\u001b[0m\u001b[0m\n\u001b[0m\u001b[1;32m      5\u001b[0m \u001b[0mmeta\u001b[0m\u001b[0;34m\u001b[0m\u001b[0;34m\u001b[0m\u001b[0m\n",
      "\u001b[0;32m~/imstat_env/lib/python3.7/site-packages/dropbox/base.py\u001b[0m in \u001b[0;36msharing_get_shared_link_metadata\u001b[0;34m(self, url, path, link_password)\u001b[0m\n\u001b[1;32m   4788\u001b[0m             \u001b[0;34m'sharing'\u001b[0m\u001b[0;34m,\u001b[0m\u001b[0;34m\u001b[0m\u001b[0;34m\u001b[0m\u001b[0m\n\u001b[1;32m   4789\u001b[0m             \u001b[0marg\u001b[0m\u001b[0;34m,\u001b[0m\u001b[0;34m\u001b[0m\u001b[0;34m\u001b[0m\u001b[0m\n\u001b[0;32m-> 4790\u001b[0;31m             \u001b[0;32mNone\u001b[0m\u001b[0;34m,\u001b[0m\u001b[0;34m\u001b[0m\u001b[0;34m\u001b[0m\u001b[0m\n\u001b[0m\u001b[1;32m   4791\u001b[0m         )\n\u001b[1;32m   4792\u001b[0m         \u001b[0;32mreturn\u001b[0m \u001b[0mr\u001b[0m\u001b[0;34m\u001b[0m\u001b[0;34m\u001b[0m\u001b[0m\n",
      "\u001b[0;32m~/imstat_env/lib/python3.7/site-packages/dropbox/dropbox_client.py\u001b[0m in \u001b[0;36mrequest\u001b[0;34m(self, route, namespace, request_arg, request_binary, timeout)\u001b[0m\n\u001b[1;32m    352\u001b[0m                            \u001b[0mdeserialized_result\u001b[0m\u001b[0;34m,\u001b[0m\u001b[0;34m\u001b[0m\u001b[0;34m\u001b[0m\u001b[0m\n\u001b[1;32m    353\u001b[0m                            \u001b[0muser_message_text\u001b[0m\u001b[0;34m,\u001b[0m\u001b[0;34m\u001b[0m\u001b[0;34m\u001b[0m\u001b[0m\n\u001b[0;32m--> 354\u001b[0;31m                            user_message_locale)\n\u001b[0m\u001b[1;32m    355\u001b[0m         \u001b[0;32melif\u001b[0m \u001b[0mroute_style\u001b[0m \u001b[0;34m==\u001b[0m \u001b[0mself\u001b[0m\u001b[0;34m.\u001b[0m\u001b[0m_ROUTE_STYLE_DOWNLOAD\u001b[0m\u001b[0;34m:\u001b[0m\u001b[0;34m\u001b[0m\u001b[0;34m\u001b[0m\u001b[0m\n\u001b[1;32m    356\u001b[0m             \u001b[0;32mreturn\u001b[0m \u001b[0;34m(\u001b[0m\u001b[0mdeserialized_result\u001b[0m\u001b[0;34m,\u001b[0m \u001b[0mres\u001b[0m\u001b[0;34m.\u001b[0m\u001b[0mhttp_resp\u001b[0m\u001b[0;34m)\u001b[0m\u001b[0;34m\u001b[0m\u001b[0;34m\u001b[0m\u001b[0m\n",
      "\u001b[0;31mApiError\u001b[0m: ApiError('9c305c9c31574407826449a5c6730ca5', SharedLinkError('shared_link_not_found', None))"
     ]
    }
   ],
   "source": [
    "path = '/images_v1/airbag_01b/orig.png'\n",
    "result = dbx.sharing_get_shared_links(path)\n",
    "url = result.links[0].url\n",
    "meta = dbx.sharing_get_shared_link_metadata(url, path=path)\n",
    "meta"
   ]
  },
  {
   "cell_type": "code",
   "execution_count": 45,
   "id": "b4864eac-8e7e-40c7-8696-14ac5f7423fc",
   "metadata": {},
   "outputs": [
    {
     "data": {
      "text/plain": [
       "'https://www.dropbox.com/s/6vh442tpv33iclw/orig.png?dl=0'"
      ]
     },
     "execution_count": 45,
     "metadata": {},
     "output_type": "execute_result"
    }
   ],
   "source": [
    "url"
   ]
  },
  {
   "cell_type": "code",
   "execution_count": 38,
   "id": "f5ac7445-dc11-4dcb-a04d-af64787f846c",
   "metadata": {},
   "outputs": [
    {
     "data": {
      "text/plain": [
       "GetSharedLinksResult(links=[PathLinkMetadata(expires=NOT_SET, path='/images_v1/airbag_01b/orig.png', url='https://www.dropbox.com/s/6vh442tpv33iclw/orig.png?dl=0', visibility=Visibility('public', None))])"
      ]
     },
     "execution_count": 38,
     "metadata": {},
     "output_type": "execute_result"
    }
   ],
   "source": [
    "result"
   ]
  },
  {
   "cell_type": "code",
   "execution_count": null,
   "id": "461f9fdb-d7ca-4ff5-ac4e-8fceb8a96c25",
   "metadata": {},
   "outputs": [],
   "source": [
    "result = dbx.sharing_get_shared_links(path)"
   ]
  },
  {
   "cell_type": "code",
   "execution_count": 21,
   "id": "598d2a08-0971-4bec-993c-2f5339ea076c",
   "metadata": {},
   "outputs": [
    {
     "ename": "ApiError",
     "evalue": "ApiError('35918aa58bfc44eb86a49539ed9f1d79', CreateSharedLinkWithSettingsError('shared_link_already_exists', SharedLinkAlreadyExistsMetadata('metadata', FileLinkMetadata(client_modified=datetime.datetime(2023, 9, 23, 4, 34, 35), content_owner_team_info=NOT_SET, expires=NOT_SET, id='id:wpzZuo5WvU4AAAAAAABmdw', link_permissions=LinkPermissions(allow_comments=False, allow_download=True, audience_options=[LinkAudienceOption(allowed=True, audience=LinkAudience('public', None), disallowed_reason=NOT_SET), LinkAudienceOption(allowed=False, audience=LinkAudience('team', None), disallowed_reason=LinkAudienceDisallowedReason('user_not_on_team', None)), LinkAudienceOption(allowed=True, audience=LinkAudience('no_one', None), disallowed_reason=NOT_SET)], can_allow_download=True, can_disallow_download=False, can_remove_expiry=True, can_remove_password=True, can_revoke=True, can_set_expiry=False, can_set_password=False, can_use_extended_sharing_controls=False, effective_audience=LinkAudience('public', None), link_access_level=LinkAccessLevel('viewer', None), requested_visibility=RequestedVisibility('public', None), require_password=False, resolved_visibility=ResolvedVisibility('public', None), revoke_failure_reason=NOT_SET, team_restricts_comments=False, visibility_policies=[VisibilityPolicy(allowed=True, disallowed_reason=NOT_SET, policy=RequestedVisibility('public', None), resolved_policy=AlphaResolvedVisibility('public', None)), VisibilityPolicy(allowed=False, disallowed_reason=VisibilityPolicyDisallowedReason('user_not_on_team', None), policy=RequestedVisibility('team_only', None), resolved_policy=AlphaResolvedVisibility('no_one', None)), VisibilityPolicy(allowed=True, disallowed_reason=NOT_SET, policy=RequestedVisibility('password', None), resolved_policy=AlphaResolvedVisibility('password', None))]), name='orig.png', path_lower='/images_v3/airplane_03n/orig.png', rev='016061c3b3eff4a000000027ed9a2a0', server_modified=datetime.datetime(2023, 9, 24, 15, 9, 43), size=96553, team_member_info=NOT_SET, url='https://www.dropbox.com/scl/fi/dcdoirs2pubaauotn9iyv/orig.png?rlkey=3l84qtfxkmkvq9ge1h8uunilg&dl=0'))))",
     "output_type": "error",
     "traceback": [
      "\u001b[0;31m---------------------------------------------------------------------------\u001b[0m",
      "\u001b[0;31mApiError\u001b[0m                                  Traceback (most recent call last)",
      "\u001b[0;32m/tmp/ipykernel_19742/3760679420.py\u001b[0m in \u001b[0;36m<module>\u001b[0;34m\u001b[0m\n\u001b[1;32m      1\u001b[0m \u001b[0mpath\u001b[0m \u001b[0;34m=\u001b[0m \u001b[0;34m'/images_v3/airplane_03n/orig.png'\u001b[0m\u001b[0;34m\u001b[0m\u001b[0;34m\u001b[0m\u001b[0m\n\u001b[0;32m----> 2\u001b[0;31m \u001b[0mmeta\u001b[0m \u001b[0;34m=\u001b[0m \u001b[0mdbx\u001b[0m\u001b[0;34m.\u001b[0m\u001b[0msharing_create_shared_link_with_settings\u001b[0m\u001b[0;34m(\u001b[0m\u001b[0mpath\u001b[0m\u001b[0;34m)\u001b[0m\u001b[0;34m\u001b[0m\u001b[0;34m\u001b[0m\u001b[0m\n\u001b[0m\u001b[1;32m      3\u001b[0m \u001b[0mresult\u001b[0m \u001b[0;34m=\u001b[0m \u001b[0mdbx\u001b[0m\u001b[0;34m.\u001b[0m\u001b[0msharing_get_shared_links\u001b[0m\u001b[0;34m(\u001b[0m\u001b[0mpath\u001b[0m\u001b[0;34m)\u001b[0m\u001b[0;34m\u001b[0m\u001b[0;34m\u001b[0m\u001b[0m\n",
      "\u001b[0;32m~/imstat_env/lib/python3.7/site-packages/dropbox/base.py\u001b[0m in \u001b[0;36msharing_create_shared_link_with_settings\u001b[0;34m(self, path, settings)\u001b[0m\n\u001b[1;32m   4586\u001b[0m             \u001b[0;34m'sharing'\u001b[0m\u001b[0;34m,\u001b[0m\u001b[0;34m\u001b[0m\u001b[0;34m\u001b[0m\u001b[0m\n\u001b[1;32m   4587\u001b[0m             \u001b[0marg\u001b[0m\u001b[0;34m,\u001b[0m\u001b[0;34m\u001b[0m\u001b[0;34m\u001b[0m\u001b[0m\n\u001b[0;32m-> 4588\u001b[0;31m             \u001b[0;32mNone\u001b[0m\u001b[0;34m,\u001b[0m\u001b[0;34m\u001b[0m\u001b[0;34m\u001b[0m\u001b[0m\n\u001b[0m\u001b[1;32m   4589\u001b[0m         )\n\u001b[1;32m   4590\u001b[0m         \u001b[0;32mreturn\u001b[0m \u001b[0mr\u001b[0m\u001b[0;34m\u001b[0m\u001b[0;34m\u001b[0m\u001b[0m\n",
      "\u001b[0;32m~/imstat_env/lib/python3.7/site-packages/dropbox/dropbox_client.py\u001b[0m in \u001b[0;36mrequest\u001b[0;34m(self, route, namespace, request_arg, request_binary, timeout)\u001b[0m\n\u001b[1;32m    352\u001b[0m                            \u001b[0mdeserialized_result\u001b[0m\u001b[0;34m,\u001b[0m\u001b[0;34m\u001b[0m\u001b[0;34m\u001b[0m\u001b[0m\n\u001b[1;32m    353\u001b[0m                            \u001b[0muser_message_text\u001b[0m\u001b[0;34m,\u001b[0m\u001b[0;34m\u001b[0m\u001b[0;34m\u001b[0m\u001b[0m\n\u001b[0;32m--> 354\u001b[0;31m                            user_message_locale)\n\u001b[0m\u001b[1;32m    355\u001b[0m         \u001b[0;32melif\u001b[0m \u001b[0mroute_style\u001b[0m \u001b[0;34m==\u001b[0m \u001b[0mself\u001b[0m\u001b[0;34m.\u001b[0m\u001b[0m_ROUTE_STYLE_DOWNLOAD\u001b[0m\u001b[0;34m:\u001b[0m\u001b[0;34m\u001b[0m\u001b[0;34m\u001b[0m\u001b[0m\n\u001b[1;32m    356\u001b[0m             \u001b[0;32mreturn\u001b[0m \u001b[0;34m(\u001b[0m\u001b[0mdeserialized_result\u001b[0m\u001b[0;34m,\u001b[0m \u001b[0mres\u001b[0m\u001b[0;34m.\u001b[0m\u001b[0mhttp_resp\u001b[0m\u001b[0;34m)\u001b[0m\u001b[0;34m\u001b[0m\u001b[0;34m\u001b[0m\u001b[0m\n",
      "\u001b[0;31mApiError\u001b[0m: ApiError('35918aa58bfc44eb86a49539ed9f1d79', CreateSharedLinkWithSettingsError('shared_link_already_exists', SharedLinkAlreadyExistsMetadata('metadata', FileLinkMetadata(client_modified=datetime.datetime(2023, 9, 23, 4, 34, 35), content_owner_team_info=NOT_SET, expires=NOT_SET, id='id:wpzZuo5WvU4AAAAAAABmdw', link_permissions=LinkPermissions(allow_comments=False, allow_download=True, audience_options=[LinkAudienceOption(allowed=True, audience=LinkAudience('public', None), disallowed_reason=NOT_SET), LinkAudienceOption(allowed=False, audience=LinkAudience('team', None), disallowed_reason=LinkAudienceDisallowedReason('user_not_on_team', None)), LinkAudienceOption(allowed=True, audience=LinkAudience('no_one', None), disallowed_reason=NOT_SET)], can_allow_download=True, can_disallow_download=False, can_remove_expiry=True, can_remove_password=True, can_revoke=True, can_set_expiry=False, can_set_password=False, can_use_extended_sharing_controls=False, effective_audience=LinkAudience('public', None), link_access_level=LinkAccessLevel('viewer', None), requested_visibility=RequestedVisibility('public', None), require_password=False, resolved_visibility=ResolvedVisibility('public', None), revoke_failure_reason=NOT_SET, team_restricts_comments=False, visibility_policies=[VisibilityPolicy(allowed=True, disallowed_reason=NOT_SET, policy=RequestedVisibility('public', None), resolved_policy=AlphaResolvedVisibility('public', None)), VisibilityPolicy(allowed=False, disallowed_reason=VisibilityPolicyDisallowedReason('user_not_on_team', None), policy=RequestedVisibility('team_only', None), resolved_policy=AlphaResolvedVisibility('no_one', None)), VisibilityPolicy(allowed=True, disallowed_reason=NOT_SET, policy=RequestedVisibility('password', None), resolved_policy=AlphaResolvedVisibility('password', None))]), name='orig.png', path_lower='/images_v3/airplane_03n/orig.png', rev='016061c3b3eff4a000000027ed9a2a0', server_modified=datetime.datetime(2023, 9, 24, 15, 9, 43), size=96553, team_member_info=NOT_SET, url='https://www.dropbox.com/scl/fi/dcdoirs2pubaauotn9iyv/orig.png?rlkey=3l84qtfxkmkvq9ge1h8uunilg&dl=0'))))"
     ]
    }
   ],
   "source": [
    "path = '/images_v3/airplane_03n/orig.png'\n",
    "meta = dbx.sharing_create_shared_link_with_settings(path)\n",
    "result = dbx.sharing_get_shared_links(path)"
   ]
  },
  {
   "cell_type": "code",
   "execution_count": 20,
   "id": "c6b3b6de-0fa9-4c64-887c-73050e1c503e",
   "metadata": {},
   "outputs": [
    {
     "data": {
      "text/plain": [
       "FileLinkMetadata(client_modified=datetime.datetime(2023, 9, 23, 4, 34, 35), content_owner_team_info=NOT_SET, expires=NOT_SET, id='id:wpzZuo5WvU4AAAAAAABmdw', link_permissions=LinkPermissions(allow_comments=False, allow_download=True, audience_options=[LinkAudienceOption(allowed=True, audience=LinkAudience('public', None), disallowed_reason=NOT_SET), LinkAudienceOption(allowed=False, audience=LinkAudience('team', None), disallowed_reason=LinkAudienceDisallowedReason('user_not_on_team', None)), LinkAudienceOption(allowed=True, audience=LinkAudience('no_one', None), disallowed_reason=NOT_SET)], can_allow_download=True, can_disallow_download=False, can_remove_expiry=True, can_remove_password=True, can_revoke=True, can_set_expiry=False, can_set_password=False, can_use_extended_sharing_controls=False, effective_audience=LinkAudience('public', None), link_access_level=LinkAccessLevel('viewer', None), requested_visibility=RequestedVisibility('public', None), require_password=False, resolved_visibility=ResolvedVisibility('public', None), revoke_failure_reason=NOT_SET, team_restricts_comments=False, visibility_policies=[VisibilityPolicy(allowed=True, disallowed_reason=NOT_SET, policy=RequestedVisibility('public', None), resolved_policy=AlphaResolvedVisibility('public', None)), VisibilityPolicy(allowed=False, disallowed_reason=VisibilityPolicyDisallowedReason('user_not_on_team', None), policy=RequestedVisibility('team_only', None), resolved_policy=AlphaResolvedVisibility('no_one', None)), VisibilityPolicy(allowed=True, disallowed_reason=NOT_SET, policy=RequestedVisibility('password', None), resolved_policy=AlphaResolvedVisibility('password', None))]), name='orig.png', path_lower='/images_v3/airplane_03n/orig.png', rev='016061c3b3eff4a000000027ed9a2a0', server_modified=datetime.datetime(2023, 9, 24, 15, 9, 43), size=96553, team_member_info=NOT_SET, url='https://www.dropbox.com/scl/fi/dcdoirs2pubaauotn9iyv/orig.png?rlkey=3l84qtfxkmkvq9ge1h8uunilg&dl=0')"
      ]
     },
     "execution_count": 20,
     "metadata": {},
     "output_type": "execute_result"
    }
   ],
   "source": [
    "meta"
   ]
  },
  {
   "cell_type": "code",
   "execution_count": 18,
   "id": "e7470f2c-8f15-4753-967c-159cde01347b",
   "metadata": {},
   "outputs": [],
   "source": [
    "result = dbx.sharing_get_shared_links(path)"
   ]
  },
  {
   "cell_type": "code",
   "execution_count": 19,
   "id": "d383bc31-8c8f-46a3-9a11-036ee6e8f38c",
   "metadata": {},
   "outputs": [
    {
     "data": {
      "text/plain": [
       "GetSharedLinksResult(links=[])"
      ]
     },
     "execution_count": 19,
     "metadata": {},
     "output_type": "execute_result"
    }
   ],
   "source": [
    "result"
   ]
  },
  {
   "cell_type": "code",
   "execution_count": 15,
   "id": "4a719f04-b568-466f-9589-c8c695285e06",
   "metadata": {},
   "outputs": [
    {
     "data": {
      "text/plain": [
       "GetSharedLinksResult(links=[PathLinkMetadata(expires=NOT_SET, path='/images_v1/airbag_01b/orig.png', url='https://www.dropbox.com/s/6vh442tpv33iclw/orig.png?dl=0', visibility=Visibility('public', None))])"
      ]
     },
     "execution_count": 15,
     "metadata": {},
     "output_type": "execute_result"
    }
   ],
   "source": [
    "result"
   ]
  },
  {
   "cell_type": "code",
   "execution_count": 12,
   "id": "53da8936-6431-4053-96e9-9f5e519c6c35",
   "metadata": {},
   "outputs": [],
   "source": [
    "# using here the same set of categories that we chose from ecoset.\n",
    "# 64 basic in 8 superordinate.\n",
    "fn = os.path.join(ecoset_info_path, 'categ_use_ecoset.npy')\n",
    "info = np.load(fn, allow_pickle=True).item()\n",
    "basic_names = list(info['binfo'].keys())\n",
    "super_names = list(info['sinfo'].keys())\n",
    "\n",
    "# load info about things images/names \n",
    "fn2load = os.path.join(things_root, 'things_file_info.npy')\n",
    "tfiles = np.load(fn2load, allow_pickle=True).item()\n",
    "\n",
    "categ_sets = [super_names]\n",
    "concept_sets = [[info['sinfo'][sname]['basic_names'] for sname in super_names]]\n",
    "\n",
    "n_ex_use = 10;\n",
    "n_counterbalance_conds = 1\n",
    "\n",
    "# # decide which images we will use - same as expt 1 (and 2)\n",
    "# categ_sets, concept_sets, image_name_sets = make_expt1.choose_image_subsets()\n",
    "\n",
    "# figure out trial conditions/counts\n",
    "n_categ_use = len(categ_sets[0])\n",
    "n_concepts_use = len(concept_sets[0][0])\n",
    "# n_ex_use = len(image_name_sets[0][0][0])\n",
    "\n",
    "# image types are original or \"synth\" from different DNN layers\n",
    "n_layers=4\n",
    "n_image_types = n_layers+1 \n",
    "\n",
    "cue_levels = ['basic', 'super']\n",
    "n_cue_levels = len(cue_levels); # basic or superordinate\n",
    "\n",
    "n_trials_per_concept = n_image_types * n_cue_levels\n",
    "assert(n_trials_per_concept==n_ex_use)\n",
    "\n",
    "n_trials_total = n_categ_use * n_concepts_use * n_trials_per_concept\n",
    "\n",
    "n_runs = 16;\n",
    "assert(np.mod(n_trials_total, n_runs)==0)\n",
    "n_trials_per_run = int(n_trials_total/n_runs);\n"
   ]
  },
  {
   "cell_type": "code",
   "execution_count": 13,
   "id": "f868e8f3-a3de-422f-b699-e5abed36e5ed",
   "metadata": {},
   "outputs": [
    {
     "data": {
      "text/plain": [
       "40"
      ]
     },
     "execution_count": 13,
     "metadata": {},
     "output_type": "execute_result"
    }
   ],
   "source": [
    "n_trials_per_run"
   ]
  },
  {
   "cell_type": "code",
   "execution_count": 10,
   "id": "44a05c11-2366-4a41-8b7c-97e4a1130cd4",
   "metadata": {},
   "outputs": [
    {
     "data": {
      "text/plain": [
       "(8, 8)"
      ]
     },
     "execution_count": 10,
     "metadata": {},
     "output_type": "execute_result"
    }
   ],
   "source": [
    "n_categ_use, n_concepts_use"
   ]
  },
  {
   "cell_type": "code",
   "execution_count": 11,
   "id": "58aa3f5f-873c-4023-b939-669e79c2764a",
   "metadata": {},
   "outputs": [
    {
     "data": {
      "text/plain": [
       "640"
      ]
     },
     "execution_count": 11,
     "metadata": {},
     "output_type": "execute_result"
    }
   ],
   "source": [
    "n_trials_total"
   ]
  },
  {
   "cell_type": "code",
   "execution_count": 4,
   "id": "b7b8fa56-fc76-4346-8bf0-635cf581d8b3",
   "metadata": {},
   "outputs": [
    {
     "name": "stdout",
     "output_type": "stream",
     "text": [
      "making trial info for counterbalance cond 0 of 2\n",
      "['bird', 'drink', 'fruit', 'body_part', 'home_decor', 'medical_equipment', 'weapon', 'vehicle', 'electronic_device', 'sports_equipment']\n"
     ]
    }
   ],
   "source": [
    "cb = 0;\n",
    "\n",
    "print('making trial info for counterbalance cond %d of %d'%(cb, n_counterbalance_conds))\n",
    "\n",
    "categ_use = categ_sets[cb]\n",
    "print(categ_use)\n",
    "concepts_use = concept_sets[cb]\n",
    "image_names_use = image_name_sets[cb]\n",
    "\n",
    "dbxpath_dict = dict()\n",
    "\n",
    "rand = 0;\n",
    "        \n",
    "trial_info = pd.DataFrame({'trial_num_overall': np.zeros((n_trials_total,)), \n",
    "                            'run_number': np.zeros((n_trials_total,)), \n",
    "                            'trial_in_run': np.zeros((n_trials_total,)), \n",
    "                            'image_set_num': np.zeros((n_trials_total,)), \n",
    "                            'random_order_number': np.zeros((n_trials_total,)), \n",
    "                           'categ_ind': np.zeros((n_trials_total,)),\n",
    "                          'concept_ind': np.zeros((n_trials_total,)),\n",
    "                          'super_name': np.zeros((n_trials_total,)),\n",
    "                          'basic_name': np.zeros((n_trials_total,)),\n",
    "                          'ex_num': np.zeros((n_trials_total,)),\n",
    "                          'image_type_num': np.zeros((n_trials_total,)),\n",
    "                          'image_type': np.zeros((n_trials_total,)),\n",
    "                          'image_name': np.zeros((n_trials_total,)),\n",
    "                          'dropbox_url': np.zeros((n_trials_total,)),\n",
    "                          'cue_level_num': np.zeros((n_trials_total,)),\n",
    "                          'cue_level': np.zeros((n_trials_total,)),\n",
    "                          'cue_name': np.zeros((n_trials_total,)),\n",
    "                          'distractor_name': np.zeros((n_trials_total,)),\n",
    "                          'left_name': np.zeros((n_trials_total,)),\n",
    "                          'right_name': np.zeros((n_trials_total,)),\n",
    "                          'correct_resp': np.zeros((n_trials_total,)), \n",
    "                          })\n",
    "\n",
    "image_type_names = ['orig', 'pool1','pool2','pool3','pool4']\n"
   ]
  },
  {
   "cell_type": "code",
   "execution_count": 5,
   "id": "d38724d7-5846-45b4-bdba-36e878eb5752",
   "metadata": {},
   "outputs": [
    {
     "name": "stdout",
     "output_type": "stream",
     "text": [
      "proc trial 0 of 1000\n",
      "proc trial 100 of 1000\n",
      "proc trial 200 of 1000\n",
      "proc trial 300 of 1000\n",
      "proc trial 400 of 1000\n",
      "proc trial 500 of 1000\n",
      "proc trial 600 of 1000\n",
      "proc trial 700 of 1000\n",
      "proc trial 800 of 1000\n",
      "proc trial 900 of 1000\n"
     ]
    }
   ],
   "source": [
    "tt=-1\n",
    "for ca in range(n_categ_use):\n",
    "\n",
    "    for co in range(n_concepts_use):\n",
    "\n",
    "        ex = -1\n",
    "\n",
    "        for typ in range(n_image_types):\n",
    "            for cue in range(n_cue_levels):\n",
    "\n",
    "                tt+=1\n",
    "                if np.mod(tt,100)==0:\n",
    "                    print('proc trial %d of %d'%(tt, n_trials_total))\n",
    "\n",
    "                trial_info['trial_num_overall'].iloc[tt] = tt\n",
    "                trial_info['categ_ind'].iloc[tt] = ca\n",
    "                trial_info['concept_ind'].iloc[tt] = co\n",
    "                trial_info['super_name'].iloc[tt] = categ_use[ca]\n",
    "                trial_info['basic_name'].iloc[tt] = concepts_use[ca][co]\n",
    "\n",
    "                trial_info['image_type_num'].iloc[tt] = typ\n",
    "                trial_info['image_type'].iloc[tt] = image_type_names[typ]\n",
    "                trial_info['cue_level_num'].iloc[tt] = cue\n",
    "                trial_info['cue_level'].iloc[tt] = cue_levels[cue]\n",
    "\n",
    "                trial_info['image_set_num'].iloc[tt] = cb\n",
    "                trial_info['random_order_number'].iloc[tt] = rand\n",
    "\n",
    "                ex += 1\n",
    "                trial_info['ex_num'].iloc[tt] = ex\n",
    "\n",
    "                name_raw = image_names_use[ca][co][ex].split('.jpg')[0]\n",
    "\n",
    "                if image_type_names[typ]=='orig':\n",
    "\n",
    "                    trial_info['image_name'].iloc[tt] = os.path.join(name_raw, 'orig.png')\n",
    "                    dbxpath = '/'+os.path.join(stimuli_folder, name_raw, 'orig.png')\n",
    "\n",
    "                else:\n",
    "\n",
    "                    trial_info['image_name'].iloc[tt] = os.path.join(name_raw, \\\n",
    "                                                                     'grid5_1x1_upto_%s.png'%\\\n",
    "                                                                     (image_type_names[typ]))\n",
    "                    dbxpath = '/'+os.path.join(stimuli_folder,name_raw,\\\n",
    "                                           'grid5_1x1_upto_%s.png'%image_type_names[typ])\n",
    "\n",
    "                # print(dbxpath)\n",
    "                sys.stdout.flush()\n",
    "                if dbxpath in dbxpath_dict.keys():\n",
    "                    # don't have to re-create url, faster\n",
    "                    url = dbxpath_dict[dbxpath]\n",
    "                else:\n",
    "                    url = ''\n",
    "                    # print('creating dropbox url')\n",
    "                    # url = dropbox_utils.get_shared_url(dbxpath, dbx)\n",
    "                    dbxpath_dict[dbxpath] = url\n",
    "                # print(url)\n",
    "\n",
    "                trial_info['dropbox_url'].iloc[tt] = url\n"
   ]
  },
  {
   "cell_type": "code",
   "execution_count": 6,
   "id": "a851970d-8812-4239-a289-8232069824de",
   "metadata": {},
   "outputs": [],
   "source": [
    "# randomly deciding whether basic or super happens on odd/even runs\n",
    "odd_even = int(np.random.normal(0,1,1)>0)\n",
    "basic_run_order = np.random.permutation(len(categ_use))*2 + odd_even\n",
    "super_run_order = np.arange(n_runs)\n",
    "super_run_order = super_run_order[~np.isin(super_run_order, basic_run_order)]"
   ]
  },
  {
   "cell_type": "code",
   "execution_count": 7,
   "id": "6f18bfb8-2ba8-48a9-9913-4afb54deb1f5",
   "metadata": {},
   "outputs": [],
   "source": [
    "# now group the trials into runs based on which task is being done\n",
    "# first basic-level tasks, within each superordinate\n",
    "\n",
    "for si, sname in enumerate(categ_use):\n",
    "\n",
    "    for typ in range(n_image_types):\n",
    "     \n",
    "        trial_inds = np.array((trial_info['super_name']==sname) & \\\n",
    "                              (trial_info['cue_level']=='basic') & \\\n",
    "                              (trial_info['image_type_num']==typ))\n",
    "\n",
    "        trial_info['run_number'].iloc[trial_inds] = basic_run_order[si]\n",
    "\n",
    "        # name of actual basic-level category\n",
    "        cue_names_actual = np.array(trial_info['basic_name'].iloc[trial_inds])\n",
    "        \n",
    "        # now assign the \"distractor\" names by shuffling real names\n",
    "        distract_names = expt_utils.shuffle_nosame(cue_names_actual)\n",
    "        \n",
    "        trial_info['cue_name'].iloc[trial_inds] =  cue_names_actual\n",
    "        trial_info['distractor_name'].iloc[trial_inds] = distract_names\n",
    "        \n",
    "        # randomly assign whether left or right side is the actual cue name \n",
    "        cue_on_left = np.mod(np.random.permutation(len(cue_names_actual)),2)==0\n",
    "        left_name = copy.deepcopy(cue_names_actual)\n",
    "        right_name = copy.deepcopy(distract_names)\n",
    "        # switch half of them\n",
    "        left_name[~cue_on_left] = distract_names[~cue_on_left]\n",
    "        right_name[~cue_on_left] = cue_names_actual[~cue_on_left]\n",
    "        \n",
    "        # correct resp: 1 for left, 2 for right\n",
    "        correct_resp = np.ones_like(cue_on_left).astype(int)\n",
    "        correct_resp[~cue_on_left] = 2\n",
    "        \n",
    "        trial_info['left_name'].iloc[trial_inds] = left_name\n",
    "        trial_info['right_name'].iloc[trial_inds] = right_name\n",
    "        \n",
    "        trial_info['correct_resp'].iloc[trial_inds] = correct_resp"
   ]
  },
  {
   "cell_type": "code",
   "execution_count": 8,
   "id": "342da99f-afb2-4512-9e0b-5d7b2de1f1b1",
   "metadata": {},
   "outputs": [
    {
     "name": "stdout",
     "output_type": "stream",
     "text": [
      "100\n",
      "100\n",
      "100\n",
      "100\n",
      "100\n"
     ]
    }
   ],
   "source": [
    "# now organizing the superordinate task runs\n",
    "for typ in range(n_image_types):\n",
    "    \n",
    "    trial_inds = np.array((trial_info['cue_level']=='super') & \\\n",
    "                          (trial_info['image_type_num']==typ) \n",
    "                          )\n",
    "\n",
    "    print(np.sum(trial_inds))\n",
    "\n",
    "    cue_names_actual = np.array(trial_info['super_name'].iloc[trial_inds])\n",
    "\n",
    "    # creating the list of \"distractor\" names that are pseudorandom\n",
    "    distract_names = [np.array(categ_use)[np.array(categ_use)!=categ] for categ in categ_use]\n",
    "    distract_names = [d[np.random.permutation(len(d))] for d in distract_names]\n",
    "    extras = expt_utils.shuffle_nosame(np.array(categ_use))\n",
    "    distract_names = [list(d)+[e] for d, e in zip(distract_names, extras)]\n",
    "    distract_names = np.concatenate(distract_names, axis=0)\n",
    "\n",
    "    # check they meet all the criteria\n",
    "    un, counts = np.unique(distract_names, return_counts=True)\n",
    "    assert(np.all(counts==counts[0]))\n",
    "    assert not np.any(distract_names==cue_names_actual)\n",
    "\n",
    "    trial_info['cue_name'].iloc[trial_inds] =  cue_names_actual\n",
    "    trial_info['distractor_name'].iloc[trial_inds] = distract_names\n",
    "\n",
    "\n",
    "    # randomly assign whether left or right side is the actual cue name \n",
    "    n_each = [np.sum(cue_names_actual==categ) for categ in categ_use]\n",
    "    cue_on_left = np.concatenate([np.mod(np.random.permutation(n),2)==0 for n in n_each], \\\n",
    "                                 axis=0)\n",
    "    left_name = copy.deepcopy(cue_names_actual)\n",
    "    right_name = copy.deepcopy(distract_names)\n",
    "    # switch half of them\n",
    "    left_name[~cue_on_left] = distract_names[~cue_on_left]\n",
    "    right_name[~cue_on_left] = cue_names_actual[~cue_on_left]\n",
    "\n",
    "    # correct resp: 1 for left, 2 for right\n",
    "    correct_resp = np.ones_like(cue_on_left).astype(int)\n",
    "    correct_resp[~cue_on_left] = 2\n",
    "\n",
    "    trial_info['left_name'].iloc[trial_inds] = left_name\n",
    "    trial_info['right_name'].iloc[trial_inds] = right_name\n",
    "\n",
    "    trial_info['correct_resp'].iloc[trial_inds] = correct_resp\n",
    "\n",
    "    # break all these into equal sized runs\n",
    "    super_run_seq = np.repeat(super_run_order, int(n_trials_per_run/n_image_types))\n",
    "    super_run_seq = super_run_seq[np.random.permutation(len(super_run_seq))]\n",
    "    trial_info['run_number'].iloc[trial_inds] = super_run_seq\n"
   ]
  },
  {
   "cell_type": "code",
   "execution_count": 9,
   "id": "b62f07c4-fed1-40c3-b995-a7f13d726570",
   "metadata": {},
   "outputs": [],
   "source": [
    "# organize the trials by run number\n",
    "trial_info.sort_values(by='run_number', inplace=True)\n",
    "\n",
    "# now shuffle within each run \n",
    "for rr in np.unique(trial_info['run_number']):\n",
    "    \n",
    "    inds = np.where(np.array(trial_info['run_number']==rr))[0] \n",
    "    shuff_order = np.random.permutation(len(inds))\n",
    "    trial_info.iloc[inds] = trial_info.iloc[inds[shuff_order]]"
   ]
  },
  {
   "cell_type": "code",
   "execution_count": 10,
   "id": "5b9c7876-bc49-42ec-ba1e-20bcd8337d26",
   "metadata": {},
   "outputs": [],
   "source": [
    "# assign trial numbers \n",
    "trial_info['trial_in_run'] = np.tile(np.arange(n_trials_per_run), [n_runs,])\n",
    "trial_info['trial_num_overall'] = np.arange(n_trials_total)"
   ]
  },
  {
   "cell_type": "code",
   "execution_count": 12,
   "id": "fe5690d7-7aee-4667-a09d-ff3b26c7c9ac",
   "metadata": {},
   "outputs": [
    {
     "data": {
      "text/html": [
       "<div>\n",
       "<style scoped>\n",
       "    .dataframe tbody tr th:only-of-type {\n",
       "        vertical-align: middle;\n",
       "    }\n",
       "\n",
       "    .dataframe tbody tr th {\n",
       "        vertical-align: top;\n",
       "    }\n",
       "\n",
       "    .dataframe thead th {\n",
       "        text-align: right;\n",
       "    }\n",
       "</style>\n",
       "<table border=\"1\" class=\"dataframe\">\n",
       "  <thead>\n",
       "    <tr style=\"text-align: right;\">\n",
       "      <th></th>\n",
       "      <th>trial_num_overall</th>\n",
       "      <th>run_number</th>\n",
       "      <th>trial_in_run</th>\n",
       "      <th>image_set_num</th>\n",
       "      <th>random_order_number</th>\n",
       "      <th>categ_ind</th>\n",
       "      <th>concept_ind</th>\n",
       "      <th>super_name</th>\n",
       "      <th>basic_name</th>\n",
       "      <th>ex_num</th>\n",
       "      <th>...</th>\n",
       "      <th>image_type</th>\n",
       "      <th>image_name</th>\n",
       "      <th>dropbox_url</th>\n",
       "      <th>cue_level_num</th>\n",
       "      <th>cue_level</th>\n",
       "      <th>cue_name</th>\n",
       "      <th>distractor_name</th>\n",
       "      <th>left_name</th>\n",
       "      <th>right_name</th>\n",
       "      <th>correct_resp</th>\n",
       "    </tr>\n",
       "  </thead>\n",
       "  <tbody>\n",
       "    <tr>\n",
       "      <th>0</th>\n",
       "      <td>0</td>\n",
       "      <td>0.0</td>\n",
       "      <td>0</td>\n",
       "      <td>0.0</td>\n",
       "      <td>0.0</td>\n",
       "      <td>4.0</td>\n",
       "      <td>3.0</td>\n",
       "      <td>home_decor</td>\n",
       "      <td>candelabra</td>\n",
       "      <td>7.0</td>\n",
       "      <td>...</td>\n",
       "      <td>pool3</td>\n",
       "      <td>candelabra_08s/grid5_1x1_upto_pool3.png</td>\n",
       "      <td></td>\n",
       "      <td>1.0</td>\n",
       "      <td>super</td>\n",
       "      <td>home_decor</td>\n",
       "      <td>bird</td>\n",
       "      <td>home_decor</td>\n",
       "      <td>bird</td>\n",
       "      <td>1.0</td>\n",
       "    </tr>\n",
       "    <tr>\n",
       "      <th>1</th>\n",
       "      <td>1</td>\n",
       "      <td>0.0</td>\n",
       "      <td>1</td>\n",
       "      <td>0.0</td>\n",
       "      <td>0.0</td>\n",
       "      <td>8.0</td>\n",
       "      <td>6.0</td>\n",
       "      <td>electronic_device</td>\n",
       "      <td>remote_control</td>\n",
       "      <td>7.0</td>\n",
       "      <td>...</td>\n",
       "      <td>pool3</td>\n",
       "      <td>remote_control_08s/grid5_1x1_upto_pool3.png</td>\n",
       "      <td></td>\n",
       "      <td>1.0</td>\n",
       "      <td>super</td>\n",
       "      <td>electronic_device</td>\n",
       "      <td>weapon</td>\n",
       "      <td>weapon</td>\n",
       "      <td>electronic_device</td>\n",
       "      <td>2.0</td>\n",
       "    </tr>\n",
       "    <tr>\n",
       "      <th>2</th>\n",
       "      <td>2</td>\n",
       "      <td>0.0</td>\n",
       "      <td>2</td>\n",
       "      <td>0.0</td>\n",
       "      <td>0.0</td>\n",
       "      <td>4.0</td>\n",
       "      <td>7.0</td>\n",
       "      <td>home_decor</td>\n",
       "      <td>centerpiece</td>\n",
       "      <td>9.0</td>\n",
       "      <td>...</td>\n",
       "      <td>pool4</td>\n",
       "      <td>centerpiece_10s/grid5_1x1_upto_pool4.png</td>\n",
       "      <td></td>\n",
       "      <td>1.0</td>\n",
       "      <td>super</td>\n",
       "      <td>home_decor</td>\n",
       "      <td>weapon</td>\n",
       "      <td>weapon</td>\n",
       "      <td>home_decor</td>\n",
       "      <td>2.0</td>\n",
       "    </tr>\n",
       "    <tr>\n",
       "      <th>3</th>\n",
       "      <td>3</td>\n",
       "      <td>0.0</td>\n",
       "      <td>3</td>\n",
       "      <td>0.0</td>\n",
       "      <td>0.0</td>\n",
       "      <td>4.0</td>\n",
       "      <td>3.0</td>\n",
       "      <td>home_decor</td>\n",
       "      <td>candelabra</td>\n",
       "      <td>5.0</td>\n",
       "      <td>...</td>\n",
       "      <td>pool2</td>\n",
       "      <td>candelabra_06s/grid5_1x1_upto_pool2.png</td>\n",
       "      <td></td>\n",
       "      <td>1.0</td>\n",
       "      <td>super</td>\n",
       "      <td>home_decor</td>\n",
       "      <td>drink</td>\n",
       "      <td>home_decor</td>\n",
       "      <td>drink</td>\n",
       "      <td>1.0</td>\n",
       "    </tr>\n",
       "    <tr>\n",
       "      <th>4</th>\n",
       "      <td>4</td>\n",
       "      <td>0.0</td>\n",
       "      <td>4</td>\n",
       "      <td>0.0</td>\n",
       "      <td>0.0</td>\n",
       "      <td>4.0</td>\n",
       "      <td>5.0</td>\n",
       "      <td>home_decor</td>\n",
       "      <td>potpourri</td>\n",
       "      <td>9.0</td>\n",
       "      <td>...</td>\n",
       "      <td>pool4</td>\n",
       "      <td>potpourri_10s/grid5_1x1_upto_pool4.png</td>\n",
       "      <td></td>\n",
       "      <td>1.0</td>\n",
       "      <td>super</td>\n",
       "      <td>home_decor</td>\n",
       "      <td>fruit</td>\n",
       "      <td>home_decor</td>\n",
       "      <td>fruit</td>\n",
       "      <td>1.0</td>\n",
       "    </tr>\n",
       "    <tr>\n",
       "      <th>...</th>\n",
       "      <td>...</td>\n",
       "      <td>...</td>\n",
       "      <td>...</td>\n",
       "      <td>...</td>\n",
       "      <td>...</td>\n",
       "      <td>...</td>\n",
       "      <td>...</td>\n",
       "      <td>...</td>\n",
       "      <td>...</td>\n",
       "      <td>...</td>\n",
       "      <td>...</td>\n",
       "      <td>...</td>\n",
       "      <td>...</td>\n",
       "      <td>...</td>\n",
       "      <td>...</td>\n",
       "      <td>...</td>\n",
       "      <td>...</td>\n",
       "      <td>...</td>\n",
       "      <td>...</td>\n",
       "      <td>...</td>\n",
       "      <td>...</td>\n",
       "    </tr>\n",
       "    <tr>\n",
       "      <th>995</th>\n",
       "      <td>995</td>\n",
       "      <td>19.0</td>\n",
       "      <td>45</td>\n",
       "      <td>0.0</td>\n",
       "      <td>0.0</td>\n",
       "      <td>2.0</td>\n",
       "      <td>6.0</td>\n",
       "      <td>fruit</td>\n",
       "      <td>kiwi</td>\n",
       "      <td>6.0</td>\n",
       "      <td>...</td>\n",
       "      <td>pool3</td>\n",
       "      <td>kiwi_07s/grid5_1x1_upto_pool3.png</td>\n",
       "      <td></td>\n",
       "      <td>0.0</td>\n",
       "      <td>basic</td>\n",
       "      <td>kiwi</td>\n",
       "      <td>plum</td>\n",
       "      <td>kiwi</td>\n",
       "      <td>plum</td>\n",
       "      <td>1.0</td>\n",
       "    </tr>\n",
       "    <tr>\n",
       "      <th>996</th>\n",
       "      <td>996</td>\n",
       "      <td>19.0</td>\n",
       "      <td>46</td>\n",
       "      <td>0.0</td>\n",
       "      <td>0.0</td>\n",
       "      <td>2.0</td>\n",
       "      <td>4.0</td>\n",
       "      <td>fruit</td>\n",
       "      <td>apple</td>\n",
       "      <td>8.0</td>\n",
       "      <td>...</td>\n",
       "      <td>pool4</td>\n",
       "      <td>apple_09s/grid5_1x1_upto_pool4.png</td>\n",
       "      <td></td>\n",
       "      <td>0.0</td>\n",
       "      <td>basic</td>\n",
       "      <td>apple</td>\n",
       "      <td>cranberry</td>\n",
       "      <td>cranberry</td>\n",
       "      <td>apple</td>\n",
       "      <td>2.0</td>\n",
       "    </tr>\n",
       "    <tr>\n",
       "      <th>997</th>\n",
       "      <td>997</td>\n",
       "      <td>19.0</td>\n",
       "      <td>47</td>\n",
       "      <td>0.0</td>\n",
       "      <td>0.0</td>\n",
       "      <td>2.0</td>\n",
       "      <td>2.0</td>\n",
       "      <td>fruit</td>\n",
       "      <td>peach</td>\n",
       "      <td>4.0</td>\n",
       "      <td>...</td>\n",
       "      <td>pool2</td>\n",
       "      <td>peach_05s/grid5_1x1_upto_pool2.png</td>\n",
       "      <td></td>\n",
       "      <td>0.0</td>\n",
       "      <td>basic</td>\n",
       "      <td>peach</td>\n",
       "      <td>coconut</td>\n",
       "      <td>coconut</td>\n",
       "      <td>peach</td>\n",
       "      <td>2.0</td>\n",
       "    </tr>\n",
       "    <tr>\n",
       "      <th>998</th>\n",
       "      <td>998</td>\n",
       "      <td>19.0</td>\n",
       "      <td>48</td>\n",
       "      <td>0.0</td>\n",
       "      <td>0.0</td>\n",
       "      <td>2.0</td>\n",
       "      <td>6.0</td>\n",
       "      <td>fruit</td>\n",
       "      <td>kiwi</td>\n",
       "      <td>2.0</td>\n",
       "      <td>...</td>\n",
       "      <td>pool1</td>\n",
       "      <td>kiwi_03s/grid5_1x1_upto_pool1.png</td>\n",
       "      <td></td>\n",
       "      <td>0.0</td>\n",
       "      <td>basic</td>\n",
       "      <td>kiwi</td>\n",
       "      <td>star_fruit</td>\n",
       "      <td>star_fruit</td>\n",
       "      <td>kiwi</td>\n",
       "      <td>2.0</td>\n",
       "    </tr>\n",
       "    <tr>\n",
       "      <th>999</th>\n",
       "      <td>999</td>\n",
       "      <td>19.0</td>\n",
       "      <td>49</td>\n",
       "      <td>0.0</td>\n",
       "      <td>0.0</td>\n",
       "      <td>2.0</td>\n",
       "      <td>6.0</td>\n",
       "      <td>fruit</td>\n",
       "      <td>kiwi</td>\n",
       "      <td>4.0</td>\n",
       "      <td>...</td>\n",
       "      <td>pool2</td>\n",
       "      <td>kiwi_05s/grid5_1x1_upto_pool2.png</td>\n",
       "      <td></td>\n",
       "      <td>0.0</td>\n",
       "      <td>basic</td>\n",
       "      <td>kiwi</td>\n",
       "      <td>pineapple</td>\n",
       "      <td>kiwi</td>\n",
       "      <td>pineapple</td>\n",
       "      <td>1.0</td>\n",
       "    </tr>\n",
       "  </tbody>\n",
       "</table>\n",
       "<p>1000 rows × 21 columns</p>\n",
       "</div>"
      ],
      "text/plain": [
       "     trial_num_overall  run_number  trial_in_run  image_set_num  \\\n",
       "0                    0         0.0             0            0.0   \n",
       "1                    1         0.0             1            0.0   \n",
       "2                    2         0.0             2            0.0   \n",
       "3                    3         0.0             3            0.0   \n",
       "4                    4         0.0             4            0.0   \n",
       "..                 ...         ...           ...            ...   \n",
       "995                995        19.0            45            0.0   \n",
       "996                996        19.0            46            0.0   \n",
       "997                997        19.0            47            0.0   \n",
       "998                998        19.0            48            0.0   \n",
       "999                999        19.0            49            0.0   \n",
       "\n",
       "     random_order_number  categ_ind  concept_ind         super_name  \\\n",
       "0                    0.0        4.0          3.0         home_decor   \n",
       "1                    0.0        8.0          6.0  electronic_device   \n",
       "2                    0.0        4.0          7.0         home_decor   \n",
       "3                    0.0        4.0          3.0         home_decor   \n",
       "4                    0.0        4.0          5.0         home_decor   \n",
       "..                   ...        ...          ...                ...   \n",
       "995                  0.0        2.0          6.0              fruit   \n",
       "996                  0.0        2.0          4.0              fruit   \n",
       "997                  0.0        2.0          2.0              fruit   \n",
       "998                  0.0        2.0          6.0              fruit   \n",
       "999                  0.0        2.0          6.0              fruit   \n",
       "\n",
       "         basic_name  ex_num  ...  image_type  \\\n",
       "0        candelabra     7.0  ...       pool3   \n",
       "1    remote_control     7.0  ...       pool3   \n",
       "2       centerpiece     9.0  ...       pool4   \n",
       "3        candelabra     5.0  ...       pool2   \n",
       "4         potpourri     9.0  ...       pool4   \n",
       "..              ...     ...  ...         ...   \n",
       "995            kiwi     6.0  ...       pool3   \n",
       "996           apple     8.0  ...       pool4   \n",
       "997           peach     4.0  ...       pool2   \n",
       "998            kiwi     2.0  ...       pool1   \n",
       "999            kiwi     4.0  ...       pool2   \n",
       "\n",
       "                                      image_name dropbox_url cue_level_num  \\\n",
       "0        candelabra_08s/grid5_1x1_upto_pool3.png                       1.0   \n",
       "1    remote_control_08s/grid5_1x1_upto_pool3.png                       1.0   \n",
       "2       centerpiece_10s/grid5_1x1_upto_pool4.png                       1.0   \n",
       "3        candelabra_06s/grid5_1x1_upto_pool2.png                       1.0   \n",
       "4         potpourri_10s/grid5_1x1_upto_pool4.png                       1.0   \n",
       "..                                           ...         ...           ...   \n",
       "995            kiwi_07s/grid5_1x1_upto_pool3.png                       0.0   \n",
       "996           apple_09s/grid5_1x1_upto_pool4.png                       0.0   \n",
       "997           peach_05s/grid5_1x1_upto_pool2.png                       0.0   \n",
       "998            kiwi_03s/grid5_1x1_upto_pool1.png                       0.0   \n",
       "999            kiwi_05s/grid5_1x1_upto_pool2.png                       0.0   \n",
       "\n",
       "     cue_level           cue_name distractor_name   left_name  \\\n",
       "0        super         home_decor            bird  home_decor   \n",
       "1        super  electronic_device          weapon      weapon   \n",
       "2        super         home_decor          weapon      weapon   \n",
       "3        super         home_decor           drink  home_decor   \n",
       "4        super         home_decor           fruit  home_decor   \n",
       "..         ...                ...             ...         ...   \n",
       "995      basic               kiwi            plum        kiwi   \n",
       "996      basic              apple       cranberry   cranberry   \n",
       "997      basic              peach         coconut     coconut   \n",
       "998      basic               kiwi      star_fruit  star_fruit   \n",
       "999      basic               kiwi       pineapple        kiwi   \n",
       "\n",
       "            right_name correct_resp  \n",
       "0                 bird          1.0  \n",
       "1    electronic_device          2.0  \n",
       "2           home_decor          2.0  \n",
       "3                drink          1.0  \n",
       "4                fruit          1.0  \n",
       "..                 ...          ...  \n",
       "995               plum          1.0  \n",
       "996              apple          2.0  \n",
       "997              peach          2.0  \n",
       "998               kiwi          2.0  \n",
       "999          pineapple          1.0  \n",
       "\n",
       "[1000 rows x 21 columns]"
      ]
     },
     "execution_count": 12,
     "metadata": {},
     "output_type": "execute_result"
    }
   ],
   "source": [
    "trial_info.set_index(np.arange(n_trials_total))"
   ]
  },
  {
   "cell_type": "code",
   "execution_count": 87,
   "id": "aed356b2-649b-4752-b9ee-8da1248c336c",
   "metadata": {},
   "outputs": [],
   "source": [
    "def check_trial_info(ti):\n",
    "\n",
    "    # double checking all the trial attributes\n",
    "    \n",
    "    \n",
    "    # check that we assigned the \"correct response\" correctly\n",
    "    # 1 is left, 2 is right\n",
    "    inds_check = np.array(ti['correct_resp']==1)\n",
    "    assert(np.all(ti['cue_name'][inds_check]==ti['left_name'][inds_check]))\n",
    "    inds_check = np.array(ti['correct_resp']==2)\n",
    "    assert(np.all(ti['cue_name'][inds_check]==ti['right_name'][inds_check]))\n",
    "\n",
    "    # cue and distractor name always different\n",
    "    assert(not np.any(trial_info['cue_name']==trial_info['distractor_name']))\n",
    "\n",
    "    # check that basic and super task are assigned correctly\n",
    "    inds_check = np.array(ti['cue_level']=='basic')\n",
    "    assert(np.all(np.isin(np.array(ti['cue_name'].iloc[inds_check]), concepts_use)))\n",
    "    assert(np.all(np.isin(np.array(ti['distractor_name'].iloc[inds_check]), concepts_use)))\n",
    "\n",
    "    # for each basic run, checking that the cue and distractor names are all part of a single superord categ\n",
    "    for rr in np.unique(ti['run_number'].iloc[inds_check]):\n",
    "        inds_check_run = inds_check & (np.array(ti['run_number']==rr))\n",
    "        sname = np.array(ti['super_name'].iloc[inds_check_run])\n",
    "        assert(np.all(sname==sname[0]))\n",
    "        sind = np.where(np.array(categ_use)==sname[0])[0][0]\n",
    "        assert(np.all(np.isin(np.array(ti['distractor_name'].iloc[inds_check_run]), concepts_use[sind])))\n",
    "        assert(np.all(np.isin(np.array(ti['cue_name'].iloc[inds_check_run]), concepts_use[sind])))\n",
    "\n",
    "    # check superordinate names \n",
    "    inds_check = np.array(ti['cue_level']=='super')\n",
    "    assert(np.all(np.isin(np.array(ti['cue_name'].iloc[inds_check]), categ_use)))\n",
    "    assert(np.all(np.isin(np.array(ti['distractor_name'].iloc[inds_check]), categ_use)))\n",
    "\n",
    "    # check to make sure individual attributes are distributed evenly across trials \n",
    "    n_trials_total = ti.shape[0]\n",
    "\n",
    "    attr_check_even = ['super_name', 'basic_name', 'ex_num', 'image_type_num', \\\n",
    "                       'correct_resp', 'cue_level', 'run_number']\n",
    "    for attr in attr_check_even:\n",
    "\n",
    "        # should be an equal number of each thing \n",
    "        un, counts = np.unique(ti[attr], return_counts=True)\n",
    "        # print(un, counts)\n",
    "        assert(np.all(counts==n_trials_total/len(un)))\n",
    "\n",
    "\n",
    "    # check the counterbalancing over multiple attributes\n",
    "\n",
    "    # there should be an equal number of trials in each of the combinations of these \n",
    "    # different attribute \"levels\". for example each combination of category/image type. \n",
    "\n",
    "    attr_balanced = [ti['categ_ind'], ti['concept_ind'], ti['image_type_num'], ti['cue_level']]\n",
    "    attr_balanced_inds = np.array([np.unique(attr, return_inverse=True)[1] for attr in attr_balanced]).T\n",
    "\n",
    "    n_levels_each = [len(np.unique(attr)) for attr in attr_balanced]\n",
    "    n_combs_expected = np.prod(n_levels_each)\n",
    "    n_repeats_expected = n_trials_total/n_combs_expected\n",
    "\n",
    "    un_rows, counts = np.unique(attr_balanced_inds,axis=0, return_counts=True)\n",
    "\n",
    "    assert(un_rows.shape[0]==n_combs_expected)\n",
    "    assert(np.all(counts==n_repeats_expected))\n",
    "\n",
    "    # check evenness of stuff for super task only\n",
    "\n",
    "    inds_check = np.array(ti['cue_level']=='super')\n",
    "    n_trials_total = np.sum(inds_check)\n",
    "\n",
    "    attr_check_even = ['super_name', 'cue_name', 'image_type', 'distractor_name', 'correct_resp']\n",
    "\n",
    "    for attr in attr_check_even:\n",
    "\n",
    "        # should be an equal number of each thing \n",
    "        un, counts = np.unique(ti[attr].iloc[inds_check], return_counts=True)\n",
    "        # print(un, counts)\n",
    "        assert(np.all(counts==n_trials_total/len(un)))\n",
    "\n",
    "\n",
    "\n",
    "    # check evenness of stuff for basic task only\n",
    "\n",
    "    inds_check = np.array(ti['cue_level']=='basic')\n",
    "    n_trials_total = np.sum(inds_check)\n",
    "\n",
    "    attr_check_even = ['basic_name', 'cue_name', 'image_type', 'distractor_name', 'correct_resp']\n",
    "\n",
    "    for attr in attr_check_even:\n",
    "\n",
    "        # should be an equal number of each thing \n",
    "        un, counts = np.unique(ti[attr].iloc[inds_check], return_counts=True)\n",
    "        # print(un, counts)\n",
    "        assert(np.all(counts==n_trials_total/len(un)))\n",
    "\n"
   ]
  },
  {
   "cell_type": "code",
   "execution_count": 27,
   "id": "773eba15-4ab6-4b1a-b82a-a46a307a3232",
   "metadata": {},
   "outputs": [
    {
     "data": {
      "text/plain": [
       "5.475"
      ]
     },
     "execution_count": 27,
     "metadata": {},
     "output_type": "execute_result"
    }
   ],
   "source": [
    "run_dur_ms = \\\n",
    "    start_fix_dur_ms + n_trials*trial_dur_ms + end_fix_dur_ms\n",
    "\n",
    "run_dur_ms/1000/60"
   ]
  },
  {
   "cell_type": "code",
   "execution_count": 8,
   "id": "e5b1560b-705a-4f15-8b54-534afb88da7b",
   "metadata": {},
   "outputs": [
    {
     "data": {
      "text/plain": [
       "dict_keys(['super_names', 'super_cbinds', 'basic_names', 'basic_inds', 'super_names_long', 'super_inds_long'])"
      ]
     },
     "execution_count": 8,
     "metadata": {},
     "output_type": "execute_result"
    }
   ],
   "source": [
    "info_filename = os.path.join(project_root, 'code', 'make_expt_designs', 'expt1_categ_info.npy')\n",
    "  \n",
    "info = np.load(info_filename, allow_pickle=True).item()\n",
    "info.keys()"
   ]
  },
  {
   "cell_type": "code",
   "execution_count": 34,
   "id": "62d80647-0910-42f6-8345-c826dea9ed20",
   "metadata": {},
   "outputs": [
    {
     "data": {
      "text/plain": [
       "[array(['bird', 'body_part', 'drink', 'electronic_device', 'fruit',\n",
       "        'home_decor', 'medical_equipment', 'sports_equipment', 'vehicle',\n",
       "        'weapon'], dtype=object),\n",
       " array(['clothing', 'dessert', 'furniture', 'insect', 'kitchen_tool',\n",
       "        'office_supply', 'part_of_car', 'plant', 'toy', 'vegetable'],\n",
       "       dtype=object)]"
      ]
     },
     "execution_count": 34,
     "metadata": {},
     "output_type": "execute_result"
    }
   ],
   "source": [
    "categ_sets = [info['super_names'][info['super_cbinds']==cb] for cb in [0,1]]\n",
    "categ_sets"
   ]
  }
 ],
 "metadata": {
  "kernelspec": {
   "display_name": "Python 3 (ipykernel)",
   "language": "python",
   "name": "python3"
  },
  "language_info": {
   "codemirror_mode": {
    "name": "ipython",
    "version": 3
   },
   "file_extension": ".py",
   "mimetype": "text/x-python",
   "name": "python",
   "nbconvert_exporter": "python",
   "pygments_lexer": "ipython3",
   "version": "3.10.9"
  }
 },
 "nbformat": 4,
 "nbformat_minor": 5
}
