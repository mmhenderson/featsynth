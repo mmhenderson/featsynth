{
 "cells": [
  {
   "cell_type": "code",
   "execution_count": 8,
   "id": "11e22295-9dd1-4659-8e05-9a71cb65d9cc",
   "metadata": {},
   "outputs": [],
   "source": [
    "import numpy as np\n",
    "import scipy.stats\n",
    "\n",
    "def get_dprime(predlabs,reallabs,un=None):\n",
    "    \"\"\" \n",
    "    Calculate d' for predicted and actual values. Works for multiple classes.\n",
    "    \"\"\"\n",
    "\n",
    "    predlabs==np.squeeze(predlabs)\n",
    "    reallabs==np.squeeze(reallabs)\n",
    "    if len(predlabs)!=len(reallabs):\n",
    "        raise ValueError('real and predicted labels do not match')\n",
    "    if len(predlabs.shape)>1 or len(reallabs.shape)>1:\n",
    "        raise ValueError('need to have 1d inputs')\n",
    "    if un is None:\n",
    "        un = np.unique(reallabs)\n",
    "    if not np.all(np.isin(np.unique(predlabs), un)):\n",
    "        print('Warning: some labels in pred are not included in real labels! Will return nan')\n",
    "        return np.nan\n",
    "    \n",
    "    hrz=np.zeros((len(un),1));\n",
    "    fpz=np.zeros((len(un),1));\n",
    "\n",
    "    n_trials = len(predlabs);\n",
    "\n",
    "    #loop over class labels, get a hit rate and false pos for each (treating\n",
    "    #any other category as non-hit)\n",
    "    for ii in range(len(un)):\n",
    "\n",
    "        if np.sum(reallabs==un[ii])==0 or np.sum(reallabs!=un[ii])==0:\n",
    "\n",
    "            # if one of the categories is completely absent - this will return a\n",
    "            # nan dprime value\n",
    "            return np.nan\n",
    "\n",
    "        else:\n",
    "\n",
    "            hr = np.sum((predlabs==un[ii]) & (reallabs==un[ii]))/np.sum(reallabs==un[ii]);\n",
    "            fp = np.sum((predlabs==un[ii]) & (reallabs!=un[ii]))/np.sum(reallabs!=un[ii]);    \n",
    "\n",
    "            # make sure this never ends up infinite\n",
    "            # correction from Macmillan & Creelman, use 1-1/2N or 1/2N in place\n",
    "            # of 1 or 0 \n",
    "            if hr==0:\n",
    "                hr=1/(2*n_trials)\n",
    "            if fp==0:\n",
    "                fp=1/(2*n_trials)\n",
    "            if hr==1:\n",
    "                hr=1-1/(2*n_trials)\n",
    "            if fp==1:\n",
    "                fp=1-1/(2*n_trials);\n",
    "\n",
    "        # convert to z score (this is like percentile - so 50% hr would be zscore=0)\n",
    "        hrz[ii]=scipy.stats.norm.ppf(hr,0,1);\n",
    "        fpz[ii]=scipy.stats.norm.ppf(fp,0,1);\n",
    "\n",
    "    # dprime is the mean of individual dprimes (for two classes, they will be\n",
    "    # same value)\n",
    "    dprime = np.mean(hrz-fpz);\n",
    "\n",
    "    return dprime\n"
   ]
  },
  {
   "cell_type": "code",
   "execution_count": 24,
   "id": "f017eedf-a3ca-4b2d-8d8a-618dc0573b34",
   "metadata": {},
   "outputs": [
    {
     "name": "stdout",
     "output_type": "stream",
     "text": [
      "0.008074840324436255\n",
      "-0.2298841175792321\n",
      "0.09297184856107382\n",
      "0.3447014474164931\n",
      "0.24627332279986666\n"
     ]
    }
   ],
   "source": [
    "match_pct = 0.2\n",
    "invert_pct = 0.2\n",
    "n_pts = 100;\n",
    "\n",
    "for ii in range(5):\n",
    "        \n",
    "    reallabs = np.round(np.random.uniform(0, 1,  n_pts), 0)\n",
    "    \n",
    "    predlabs = np.round(np.random.uniform(0, 1, n_pts), 0)\n",
    "    \n",
    "    match_inds = np.arange(0, int(np.ceil(match_pct*n_pts)))\n",
    "    \n",
    "    predlabs[match_inds] = reallabs[match_inds]\n",
    "\n",
    "    invert_inds = np.arange(n_pts-1, n_pts-int(np.ceil(invert_pct*n_pts))-1, -1)\n",
    "\n",
    "    predlabs[invert_inds] = 1-reallabs[invert_inds]\n",
    "    \n",
    "    print(get_dprime(predlabs,reallabs,un=None))\n"
   ]
  },
  {
   "cell_type": "code",
   "execution_count": 18,
   "id": "655c4f0f-8032-4665-a3b5-4b2305664edf",
   "metadata": {},
   "outputs": [
    {
     "data": {
      "text/plain": [
       "array([100,  99,  98,  97,  96,  95,  94,  93,  92,  91,  90,  89,  88,\n",
       "        87,  86,  85,  84,  83,  82,  81,  80,  79,  78,  77,  76,  75,\n",
       "        74,  73,  72,  71,  70,  69,  68,  67,  66,  65,  64,  63,  62,\n",
       "        61,  60,  59,  58,  57,  56,  55,  54,  53,  52,  51,  50,  49,\n",
       "        48,  47,  46,  45,  44,  43,  42,  41,  40,  39,  38,  37,  36,\n",
       "        35,  34,  33,  32,  31,  30,  29,  28,  27,  26,  25,  24,  23,\n",
       "        22,  21,  20,  19,  18,  17,  16,  15,  14,  13,  12,  11,  10,\n",
       "         9,   8,   7,   6,   5,   4,   3,   2,   1])"
      ]
     },
     "execution_count": 18,
     "metadata": {},
     "output_type": "execute_result"
    }
   ],
   "source": [
    "invert_pct = 1\n",
    "np.arange(n_pts, n_pts-int(np.ceil(invert_pct*n_pts)), -1)\n",
    "    "
   ]
  }
 ],
 "metadata": {
  "kernelspec": {
   "display_name": "Python 3 (ipykernel)",
   "language": "python",
   "name": "python3"
  },
  "language_info": {
   "codemirror_mode": {
    "name": "ipython",
    "version": 3
   },
   "file_extension": ".py",
   "mimetype": "text/x-python",
   "name": "python",
   "nbconvert_exporter": "python",
   "pygments_lexer": "ipython3",
   "version": "3.10.9"
  }
 },
 "nbformat": 4,
 "nbformat_minor": 5
}
