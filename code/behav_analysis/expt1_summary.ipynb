{
 "cells": [
  {
   "cell_type": "code",
   "execution_count": 1,
   "metadata": {},
   "outputs": [],
   "source": [
    "import numpy as np\n",
    "import pandas as pd\n",
    "import matplotlib.pyplot as plt\n",
    "from matplotlib import cm\n",
    "import itertools\n",
    "\n",
    "import os, sys\n",
    "\n",
    "project_root = '/user_data/mmhender/featsynth/'\n",
    "# sys.path.append(os.path.join(project_root, 'code'))\n",
    "sys.path.insert(0, os.path.join(project_root, 'code'))\n",
    "from utils import stats_utils, plot_utils\n",
    "from behav_analysis import analyze_expt1"
   ]
  },
  {
   "cell_type": "code",
   "execution_count": 2,
   "metadata": {},
   "outputs": [],
   "source": [
    "super_names, super_cbinds, basic_names, basic_inds, \\\n",
    "        super_names_long, super_inds_long, n_basic, n_super, n_basic_each_super = \\\n",
    "            analyze_expt1.get_categ_info()\n",
    "\n",
    "trial_data_all, subjects, subject_cb, cue_level_names, image_type_names = analyze_expt1.load_data()\n",
    " \n",
    "n_subjects = len(subjects)\n",
    "n_cue_levels = len(cue_level_names)\n",
    "n_image_types = len(image_type_names)\n",
    "\n",
    "acc_by_condition, dprime_by_condition, propyes_by_condition, rt_by_condition = analyze_expt1.get_perf_by_cond()\n"
   ]
  },
  {
   "cell_type": "code",
   "execution_count": 7,
   "metadata": {},
   "outputs": [
    {
     "data": {
      "text/plain": [
       "array([ 0,  0,  0,  0,  0,  0,  0,  0,  0,  0,  1,  1,  1,  1,  1,  1,  1,\n",
       "        1,  1,  1,  2,  2,  2,  2,  2,  2,  2,  2,  2,  2,  3,  3,  3,  3,\n",
       "        3,  3,  3,  3,  3,  3,  4,  4,  4,  4,  4,  4,  4,  4,  4,  4,  5,\n",
       "        5,  5,  5,  5,  5,  5,  5,  5,  5,  6,  6,  6,  6,  6,  6,  6,  6,\n",
       "        6,  6,  7,  7,  7,  7,  7,  7,  7,  7,  7,  7,  8,  8,  8,  8,  8,\n",
       "        8,  8,  8,  8,  8,  9,  9,  9,  9,  9,  9,  9,  9,  9,  9, 10, 10,\n",
       "       10, 10, 10, 10, 10, 10, 10, 10, 11, 11, 11, 11, 11, 11, 11, 11, 11,\n",
       "       11, 12, 12, 12, 12, 12, 12, 12, 12, 12, 12, 13, 13, 13, 13, 13, 13,\n",
       "       13, 13, 13, 13, 14, 14, 14, 14, 14, 14, 14, 14, 14, 14, 15, 15, 15,\n",
       "       15, 15, 15, 15, 15, 15, 15, 16, 16, 16, 16, 16, 16, 16, 16, 16, 16,\n",
       "       17, 17, 17, 17, 17, 17, 17, 17, 17, 17, 18, 18, 18, 18, 18, 18, 18,\n",
       "       18, 18, 18, 19, 19, 19, 19, 19, 19, 19, 19, 19, 19])"
      ]
     },
     "execution_count": 7,
     "metadata": {},
     "output_type": "execute_result"
    }
   ],
   "source": [
    "super_inds_long"
   ]
  },
  {
   "cell_type": "markdown",
   "metadata": {},
   "source": [
    "#### Plotting params"
   ]
  },
  {
   "cell_type": "code",
   "execution_count": 4,
   "metadata": {},
   "outputs": [],
   "source": [
    "cue_level_colors = np.array([[93,192,219], [44,92,168]])/255\n",
    "point_types = ['o','x']\n",
    "markersize = 4;\n",
    "xjitters = np.array([-0.2, 0.2])\n",
    "barwidth = xjitters[1]*2"
   ]
  },
  {
   "cell_type": "markdown",
   "metadata": {},
   "source": [
    "#### d-prime values: two-way repeated measures anova, all subjects"
   ]
  },
  {
   "cell_type": "code",
   "execution_count": 4,
   "metadata": {},
   "outputs": [
    {
     "name": "stdout",
     "output_type": "stream",
     "text": [
      "\n",
      "All subjects:\n",
      "(47, 2, 5)\n",
      "                    F Value  Num DF  Den DF        Pr > F\n",
      "cond             157.527146     1.0    46.0  1.846486e-16\n",
      "image_type       318.804240     4.0   184.0  1.495658e-81\n",
      "cond:image_type    6.098708     4.0   184.0  1.248537e-04\n"
     ]
    }
   ],
   "source": [
    "vals = dprime_by_condition\n",
    "\n",
    "print('\\nAll subjects:')\n",
    "print(vals.shape)\n",
    "\n",
    "aov_table = stats_utils.rmanova_2way(vals, ['cond','image_type'])\n",
    "\n",
    "print(aov_table)"
   ]
  },
  {
   "cell_type": "markdown",
   "metadata": {},
   "source": [
    "#### t-tests comparing basic vs superordinate, within image type"
   ]
  },
  {
   "cell_type": "code",
   "execution_count": 5,
   "metadata": {},
   "outputs": [
    {
     "name": "stdout",
     "output_type": "stream",
     "text": [
      "All subjects:\n",
      "(47, 2, 5)\n"
     ]
    },
    {
     "data": {
      "text/html": [
       "<div>\n",
       "<style scoped>\n",
       "    .dataframe tbody tr th:only-of-type {\n",
       "        vertical-align: middle;\n",
       "    }\n",
       "\n",
       "    .dataframe tbody tr th {\n",
       "        vertical-align: top;\n",
       "    }\n",
       "\n",
       "    .dataframe thead th {\n",
       "        text-align: right;\n",
       "    }\n",
       "</style>\n",
       "<table border=\"1\" class=\"dataframe\">\n",
       "  <thead>\n",
       "    <tr style=\"text-align: right;\">\n",
       "      <th></th>\n",
       "      <th>t (basic-super)</th>\n",
       "      <th>p</th>\n",
       "    </tr>\n",
       "  </thead>\n",
       "  <tbody>\n",
       "    <tr>\n",
       "      <th>pool1</th>\n",
       "      <td>-3.1493</td>\n",
       "      <td>0.008</td>\n",
       "    </tr>\n",
       "    <tr>\n",
       "      <th>pool2</th>\n",
       "      <td>-8.4729</td>\n",
       "      <td>0.000</td>\n",
       "    </tr>\n",
       "    <tr>\n",
       "      <th>pool3</th>\n",
       "      <td>-7.9762</td>\n",
       "      <td>0.000</td>\n",
       "    </tr>\n",
       "    <tr>\n",
       "      <th>pool4</th>\n",
       "      <td>-8.6022</td>\n",
       "      <td>0.000</td>\n",
       "    </tr>\n",
       "    <tr>\n",
       "      <th>orig</th>\n",
       "      <td>-4.0648</td>\n",
       "      <td>0.000</td>\n",
       "    </tr>\n",
       "  </tbody>\n",
       "</table>\n",
       "</div>"
      ],
      "text/plain": [
       "       t (basic-super)      p\n",
       "pool1          -3.1493  0.008\n",
       "pool2          -8.4729  0.000\n",
       "pool3          -7.9762  0.000\n",
       "pool4          -8.6022  0.000\n",
       "orig           -4.0648  0.000"
      ]
     },
     "execution_count": 5,
     "metadata": {},
     "output_type": "execute_result"
    }
   ],
   "source": [
    "tvals = np.zeros((5,))\n",
    "pvals = np.zeros((5,))\n",
    "\n",
    "df = pd.DataFrame(index=image_type_names)\n",
    "\n",
    "vals = dprime_by_condition\n",
    "\n",
    "print('All subjects:')\n",
    "print(vals.shape)\n",
    "\n",
    "for ii in range(n_image_types):\n",
    "\n",
    "    p, t = stats_utils.paired_ttest_nonpar(vals[:,0,ii], vals[:,1,ii])\n",
    "\n",
    "    tvals[ii] = t\n",
    "    pvals[ii] = p\n",
    "\n",
    "df['t (basic-super)'] = tvals.round(4)\n",
    "\n",
    "_, pvals_fdr = stats_utils.fdr_keepshape(pvals, alpha=0.01, method='poscorr')\n",
    "df['p'] = pvals_fdr\n",
    "# df['p'] = pvals\n",
    "        \n",
    "df        \n",
    "    "
   ]
  },
  {
   "cell_type": "markdown",
   "metadata": {},
   "source": [
    "#### plot dprime, all subjects"
   ]
  },
  {
   "cell_type": "code",
   "execution_count": 6,
   "metadata": {},
   "outputs": [
    {
     "data": {
      "text/plain": [
       "Text(0.5, 1.0, 'All subjects (n=47)')"
      ]
     },
     "execution_count": 6,
     "metadata": {},
     "output_type": "execute_result"
    },
    {
     "data": {
      "image/png": "[encoded data removed]",
      "text/plain": [
       "<Figure size 600x400 with 1 Axes>"
      ]
     },
     "metadata": {},
     "output_type": "display_data"
    }
   ],
   "source": [
    "plot_utils.set_all_font_sizes(10)\n",
    "plt.figure(figsize=(6,4))\n",
    "\n",
    "vals = dprime_by_condition\n",
    "\n",
    "n_subs_plot = vals.shape[0]\n",
    "    \n",
    "meanvals = np.mean(vals, axis=0)\n",
    "semvals = np.std(vals, axis=0)/np.sqrt(n_subs_plot)\n",
    "  \n",
    "ax = plt.subplot(1,1,1)\n",
    "\n",
    "\n",
    "lh = []\n",
    "\n",
    "for ii in range(n_image_types):\n",
    "    \n",
    "    for cc, cue in enumerate(cue_level_names):\n",
    "    \n",
    "        h = plt.bar(ii+xjitters[cc], \\\n",
    "                         meanvals[cc,ii], \\\n",
    "                        color = cue_level_colors[cc,:], width=barwidth)\n",
    "        \n",
    "        plt.errorbar(ii+xjitters[cc], \\\n",
    "                         meanvals[cc,ii], \\\n",
    "                         semvals[cc,ii], \\\n",
    "                        color = 'k',\n",
    "                        linestyle='none')\n",
    "    \n",
    "        lh.append(h)\n",
    "\n",
    "    if pvals[ii]<0.01:\n",
    "        height = np.max(meanvals[:,ii]+semvals[:,ii])+0.20\n",
    "        plt.plot(ii, height, '*', color='k')\n",
    "\n",
    "    \n",
    "plt.xticks(np.arange(n_image_types), image_type_names, rotation=45)\n",
    "\n",
    "    \n",
    "    \n",
    "\n",
    "plt.axhline(0.0, color=[0.8, 0.8, 0.8], linestyle='--')\n",
    "\n",
    "ax.legend(lh, cue_level_names, loc='lower right')\n",
    "\n",
    "plt.ylabel('d-prime')\n",
    "\n",
    "plt.ylim([-2, 4.8])\n",
    "\n",
    "plt.title('All subjects (n=%d)'%(n_subs_plot))"
   ]
  },
  {
   "cell_type": "markdown",
   "metadata": {},
   "source": [
    "#### pairwise comparisons across image types"
   ]
  },
  {
   "cell_type": "code",
   "execution_count": 10,
   "metadata": {},
   "outputs": [
    {
     "data": {
      "text/html": [
       "<div>\n",
       "<style scoped>\n",
       "    .dataframe tbody tr th:only-of-type {\n",
       "        vertical-align: middle;\n",
       "    }\n",
       "\n",
       "    .dataframe tbody tr th {\n",
       "        vertical-align: top;\n",
       "    }\n",
       "\n",
       "    .dataframe thead th {\n",
       "        text-align: right;\n",
       "    }\n",
       "</style>\n",
       "<table border=\"1\" class=\"dataframe\">\n",
       "  <thead>\n",
       "    <tr style=\"text-align: right;\">\n",
       "      <th></th>\n",
       "      <th>t</th>\n",
       "      <th>p</th>\n",
       "    </tr>\n",
       "  </thead>\n",
       "  <tbody>\n",
       "    <tr>\n",
       "      <th>pool1 vs pool2</th>\n",
       "      <td>-8.7929</td>\n",
       "      <td>0.0</td>\n",
       "    </tr>\n",
       "    <tr>\n",
       "      <th>pool1 vs pool3</th>\n",
       "      <td>-16.5999</td>\n",
       "      <td>0.0</td>\n",
       "    </tr>\n",
       "    <tr>\n",
       "      <th>pool1 vs pool4</th>\n",
       "      <td>-21.3852</td>\n",
       "      <td>0.0</td>\n",
       "    </tr>\n",
       "    <tr>\n",
       "      <th>pool1 vs orig</th>\n",
       "      <td>-26.7930</td>\n",
       "      <td>0.0</td>\n",
       "    </tr>\n",
       "    <tr>\n",
       "      <th>pool2 vs pool3</th>\n",
       "      <td>-4.2456</td>\n",
       "      <td>0.0</td>\n",
       "    </tr>\n",
       "    <tr>\n",
       "      <th>pool2 vs pool4</th>\n",
       "      <td>-10.6960</td>\n",
       "      <td>0.0</td>\n",
       "    </tr>\n",
       "    <tr>\n",
       "      <th>pool2 vs orig</th>\n",
       "      <td>-20.0879</td>\n",
       "      <td>0.0</td>\n",
       "    </tr>\n",
       "    <tr>\n",
       "      <th>pool3 vs pool4</th>\n",
       "      <td>-8.0408</td>\n",
       "      <td>0.0</td>\n",
       "    </tr>\n",
       "    <tr>\n",
       "      <th>pool3 vs orig</th>\n",
       "      <td>-17.7029</td>\n",
       "      <td>0.0</td>\n",
       "    </tr>\n",
       "    <tr>\n",
       "      <th>pool4 vs orig</th>\n",
       "      <td>-15.5630</td>\n",
       "      <td>0.0</td>\n",
       "    </tr>\n",
       "  </tbody>\n",
       "</table>\n",
       "</div>"
      ],
      "text/plain": [
       "                      t    p\n",
       "pool1 vs pool2  -8.7929  0.0\n",
       "pool1 vs pool3 -16.5999  0.0\n",
       "pool1 vs pool4 -21.3852  0.0\n",
       "pool1 vs orig  -26.7930  0.0\n",
       "pool2 vs pool3  -4.2456  0.0\n",
       "pool2 vs pool4 -10.6960  0.0\n",
       "pool2 vs orig  -20.0879  0.0\n",
       "pool3 vs pool4  -8.0408  0.0\n",
       "pool3 vs orig  -17.7029  0.0\n",
       "pool4 vs orig  -15.5630  0.0"
      ]
     },
     "execution_count": 10,
     "metadata": {},
     "output_type": "execute_result"
    }
   ],
   "source": [
    "pairs_test = list(itertools.combinations(np.arange(5),2))\n",
    "n_pairs = len(pairs_test)\n",
    "pair_names = ['%s vs %s'%(image_type_names[ii], image_type_names[jj]) for ii, jj in pairs_test]\n",
    "\n",
    "tvals = np.zeros((n_pairs))\n",
    "pvals = np.zeros((n_pairs))\n",
    "\n",
    "df = pd.DataFrame(index=pair_names)\n",
    "\n",
    "# averaging across basic/super conds here\n",
    "vals = np.mean(dprime_by_condition, axis=1)\n",
    "\n",
    "for pi, pair in enumerate(pairs_test):\n",
    "\n",
    "    vals1 = vals[:,pair[0]]\n",
    "    vals2 = vals[:,pair[1]]\n",
    "\n",
    "    p, t = stats_utils.paired_ttest_nonpar(vals1, vals2)\n",
    "\n",
    "    tvals[pi] = t\n",
    "    pvals[pi] = p\n",
    "\n",
    "df['t'] = tvals.round(4)\n",
    "\n",
    "_, pvals_fdr = stats_utils.fdr_keepshape(pvals, alpha=0.01, method='poscorr')\n",
    "df['p'] = pvals_fdr\n",
    "\n",
    "df   "
   ]
  },
  {
   "cell_type": "markdown",
   "metadata": {},
   "source": [
    "#### d-prime: separate out the two image sets"
   ]
  },
  {
   "cell_type": "code",
   "execution_count": 11,
   "metadata": {},
   "outputs": [
    {
     "name": "stdout",
     "output_type": "stream",
     "text": [
      "\n",
      "Image set 1:\n",
      "(23, 2, 5)\n",
      "                    F Value  Num DF  Den DF        Pr > F\n",
      "cond              56.038358     1.0    22.0  1.746264e-07\n",
      "image_type       226.967369     4.0    88.0  1.779504e-45\n",
      "cond:image_type    4.780470     4.0    88.0  1.547922e-03\n",
      "\n",
      "Image set 2:\n",
      "(24, 2, 5)\n",
      "                    F Value  Num DF  Den DF        Pr > F\n",
      "cond             123.342781     1.0    23.0  1.019530e-10\n",
      "image_type       170.458059     4.0    92.0  1.188119e-41\n",
      "cond:image_type    7.576509     4.0    92.0  2.540961e-05\n"
     ]
    }
   ],
   "source": [
    "for cbi, cb in enumerate([1,2]):\n",
    "    \n",
    "    subjects_plot = (subject_cb==cbi) \n",
    "    n_subs_plot = np.sum(subjects_plot)\n",
    "    \n",
    "    vals = dprime_by_condition[subjects_plot,:,:]\n",
    "    \n",
    "    print('\\nImage set %d:'%cb)\n",
    "    print(vals.shape)\n",
    "    \n",
    "    aov_table = stats_utils.rmanova_2way(vals, ['cond','image_type'])\n",
    "\n",
    "    print(aov_table)"
   ]
  },
  {
   "cell_type": "markdown",
   "metadata": {},
   "source": [
    "#### t-tests comparing basic vs superordinate, within image type"
   ]
  },
  {
   "cell_type": "code",
   "execution_count": 12,
   "metadata": {},
   "outputs": [
    {
     "name": "stdout",
     "output_type": "stream",
     "text": [
      "\n",
      "Image set 1:\n",
      "(23, 2, 5)\n",
      "\n",
      "Image set 2:\n",
      "(24, 2, 5)\n"
     ]
    },
    {
     "data": {
      "text/html": [
       "<div>\n",
       "<style scoped>\n",
       "    .dataframe tbody tr th:only-of-type {\n",
       "        vertical-align: middle;\n",
       "    }\n",
       "\n",
       "    .dataframe tbody tr th {\n",
       "        vertical-align: top;\n",
       "    }\n",
       "\n",
       "    .dataframe thead th {\n",
       "        text-align: right;\n",
       "    }\n",
       "</style>\n",
       "<table border=\"1\" class=\"dataframe\">\n",
       "  <thead>\n",
       "    <tr style=\"text-align: right;\">\n",
       "      <th></th>\n",
       "      <th>Set 1: t</th>\n",
       "      <th>Set 1: p</th>\n",
       "      <th>Set 2: t</th>\n",
       "      <th>Set 2: p</th>\n",
       "    </tr>\n",
       "  </thead>\n",
       "  <tbody>\n",
       "    <tr>\n",
       "      <th>pool1</th>\n",
       "      <td>-0.9287</td>\n",
       "      <td>0.328</td>\n",
       "      <td>-4.0907</td>\n",
       "      <td>0.00</td>\n",
       "    </tr>\n",
       "    <tr>\n",
       "      <th>pool2</th>\n",
       "      <td>-6.4365</td>\n",
       "      <td>0.000</td>\n",
       "      <td>-5.7580</td>\n",
       "      <td>0.00</td>\n",
       "    </tr>\n",
       "    <tr>\n",
       "      <th>pool3</th>\n",
       "      <td>-5.4907</td>\n",
       "      <td>0.000</td>\n",
       "      <td>-6.2350</td>\n",
       "      <td>0.00</td>\n",
       "    </tr>\n",
       "    <tr>\n",
       "      <th>pool4</th>\n",
       "      <td>-5.0015</td>\n",
       "      <td>0.000</td>\n",
       "      <td>-7.4858</td>\n",
       "      <td>0.00</td>\n",
       "    </tr>\n",
       "    <tr>\n",
       "      <th>orig</th>\n",
       "      <td>-4.7103</td>\n",
       "      <td>0.000</td>\n",
       "      <td>-1.1616</td>\n",
       "      <td>0.28</td>\n",
       "    </tr>\n",
       "  </tbody>\n",
       "</table>\n",
       "</div>"
      ],
      "text/plain": [
       "       Set 1: t  Set 1: p  Set 2: t  Set 2: p\n",
       "pool1   -0.9287     0.328   -4.0907      0.00\n",
       "pool2   -6.4365     0.000   -5.7580      0.00\n",
       "pool3   -5.4907     0.000   -6.2350      0.00\n",
       "pool4   -5.0015     0.000   -7.4858      0.00\n",
       "orig    -4.7103     0.000   -1.1616      0.28"
      ]
     },
     "execution_count": 12,
     "metadata": {},
     "output_type": "execute_result"
    }
   ],
   "source": [
    "tvals = np.zeros((2,5))\n",
    "pvals = np.zeros((2,5))\n",
    "\n",
    "df = pd.DataFrame(index=image_type_names)\n",
    "\n",
    "for cbi, cb in enumerate([1,2]):\n",
    "    \n",
    "    subjects_plot = (subject_cb==cbi) \n",
    "    n_subs_plot = np.sum(subjects_plot)\n",
    "    \n",
    "    vals = dprime_by_condition[subjects_plot,:,:]\n",
    "    \n",
    "    print('\\nImage set %d:'%cb)\n",
    "    print(vals.shape)\n",
    "    \n",
    "    for ii in range(n_image_types):\n",
    "        \n",
    "        p, t = stats_utils.paired_ttest_nonpar(vals[:,0,ii], vals[:,1,ii])\n",
    "        \n",
    "        tvals[cbi, ii] = t\n",
    "        pvals[cbi, ii] = p\n",
    "        \n",
    "# fdr correcting all the values together\n",
    "_, pvals_fdr = stats_utils.fdr_keepshape(pvals, alpha=0.01, method='poscorr')\n",
    "\n",
    "for cbi, cb in enumerate([1,2]):\n",
    "    \n",
    "    df['Set %d: t'%cb] = tvals[cbi,:].round(4)\n",
    "    df['Set %d: p'%cb] = pvals_fdr[cbi,:]\n",
    "    \n",
    "\n",
    "df"
   ]
  },
  {
   "cell_type": "markdown",
   "metadata": {},
   "source": [
    "#### plot d-prime for each image set"
   ]
  },
  {
   "cell_type": "code",
   "execution_count": 13,
   "metadata": {},
   "outputs": [
    {
     "data": {
      "image/png": "[encoded data removed]",
      "text/plain": [
       "<Figure size 1200x400 with 2 Axes>"
      ]
     },
     "metadata": {},
     "output_type": "display_data"
    }
   ],
   "source": [
    "plot_utils.set_all_font_sizes(10)\n",
    "plt.figure(figsize=(12,4))\n",
    "    \n",
    "for cbi, cb in enumerate([1,2]):\n",
    "\n",
    "    ax = plt.subplot(1,2,cb)\n",
    "    \n",
    "    vals = dprime_by_condition[subject_cb==cbi,:,:]\n",
    "    \n",
    "    n_subs_plot = vals.shape[0]\n",
    "        \n",
    "    meanvals = np.mean(vals, axis=0)\n",
    "    semvals = np.std(vals, axis=0)/np.sqrt(n_subs_plot)\n",
    "    \n",
    "    lh = []\n",
    "    \n",
    "    for ii in range(n_image_types):\n",
    "        \n",
    "        for cc, cue in enumerate(cue_level_names):\n",
    "        \n",
    "            h = plt.bar(ii+xjitters[cc], \\\n",
    "                             meanvals[cc,ii], \\\n",
    "                            color = cue_level_colors[cc,:], width=barwidth)\n",
    "            \n",
    "            plt.errorbar(ii+xjitters[cc], \\\n",
    "                             meanvals[cc,ii], \\\n",
    "                             semvals[cc,ii], \\\n",
    "                            color = 'k',\n",
    "                            linestyle='none')\n",
    "        \n",
    "            lh.append(h)\n",
    "    \n",
    "        if pvals[cbi, ii]<0.01:\n",
    "            height = np.max(meanvals[:,ii]+semvals[:,ii])+0.20\n",
    "            plt.plot(ii, height, '*', color='k')\n",
    "    \n",
    "        \n",
    "    plt.xticks(np.arange(n_image_types), image_type_names, rotation=45)\n",
    "    \n",
    "        \n",
    "        \n",
    "    \n",
    "    plt.axhline(0.0, color=[0.8, 0.8, 0.8], linestyle='--')\n",
    "    \n",
    "    ax.legend(lh, cue_level_names, loc='lower right')\n",
    "    \n",
    "    plt.ylabel('d-prime')\n",
    "    \n",
    "    plt.ylim([-2, 4.8])\n",
    "    \n",
    "    plt.title('Image set %d (n=%d)'%(cb, n_subs_plot))"
   ]
  },
  {
   "cell_type": "markdown",
   "metadata": {},
   "source": [
    "#### Analyze RTs"
   ]
  },
  {
   "cell_type": "code",
   "execution_count": 22,
   "metadata": {},
   "outputs": [
    {
     "name": "stdout",
     "output_type": "stream",
     "text": [
      "\n",
      "All subjects:\n",
      "(47, 2, 5)\n",
      "                   F Value  Num DF  Den DF        Pr > F\n",
      "cond              0.506619     1.0    46.0  4.802003e-01\n",
      "image_type       20.817284     4.0   184.0  3.598866e-14\n",
      "cond:image_type   6.777234     4.0   184.0  4.133448e-05\n"
     ]
    }
   ],
   "source": [
    "vals = rt_by_condition\n",
    "\n",
    "print('\\nAll subjects:')\n",
    "print(vals.shape)\n",
    "\n",
    "aov_table = stats_utils.rmanova_2way(vals, ['cond','image_type'])\n",
    "\n",
    "print(aov_table)"
   ]
  },
  {
   "cell_type": "markdown",
   "metadata": {},
   "source": [
    "#### compare basic vs superordinate, within image type"
   ]
  },
  {
   "cell_type": "code",
   "execution_count": 15,
   "metadata": {},
   "outputs": [
    {
     "name": "stdout",
     "output_type": "stream",
     "text": [
      "All subjects:\n",
      "(47, 2, 5)\n"
     ]
    },
    {
     "data": {
      "text/html": [
       "<div>\n",
       "<style scoped>\n",
       "    .dataframe tbody tr th:only-of-type {\n",
       "        vertical-align: middle;\n",
       "    }\n",
       "\n",
       "    .dataframe tbody tr th {\n",
       "        vertical-align: top;\n",
       "    }\n",
       "\n",
       "    .dataframe thead th {\n",
       "        text-align: right;\n",
       "    }\n",
       "</style>\n",
       "<table border=\"1\" class=\"dataframe\">\n",
       "  <thead>\n",
       "    <tr style=\"text-align: right;\">\n",
       "      <th></th>\n",
       "      <th>t (basic-super)</th>\n",
       "      <th>p</th>\n",
       "    </tr>\n",
       "  </thead>\n",
       "  <tbody>\n",
       "    <tr>\n",
       "      <th>pool1</th>\n",
       "      <td>-3.1866</td>\n",
       "      <td>0.035</td>\n",
       "    </tr>\n",
       "    <tr>\n",
       "      <th>pool2</th>\n",
       "      <td>-0.5013</td>\n",
       "      <td>0.630</td>\n",
       "    </tr>\n",
       "    <tr>\n",
       "      <th>pool3</th>\n",
       "      <td>0.4856</td>\n",
       "      <td>0.630</td>\n",
       "    </tr>\n",
       "    <tr>\n",
       "      <th>pool4</th>\n",
       "      <td>2.3779</td>\n",
       "      <td>0.035</td>\n",
       "    </tr>\n",
       "    <tr>\n",
       "      <th>orig</th>\n",
       "      <td>-0.9905</td>\n",
       "      <td>0.590</td>\n",
       "    </tr>\n",
       "  </tbody>\n",
       "</table>\n",
       "</div>"
      ],
      "text/plain": [
       "       t (basic-super)      p\n",
       "pool1          -3.1866  0.035\n",
       "pool2          -0.5013  0.630\n",
       "pool3           0.4856  0.630\n",
       "pool4           2.3779  0.035\n",
       "orig           -0.9905  0.590"
      ]
     },
     "execution_count": 15,
     "metadata": {},
     "output_type": "execute_result"
    }
   ],
   "source": [
    "tvals = np.zeros((5,))\n",
    "pvals = np.zeros((5,))\n",
    "\n",
    "df = pd.DataFrame(index=image_type_names)\n",
    "\n",
    "vals = rt_by_condition\n",
    "\n",
    "print('All subjects:')\n",
    "print(vals.shape)\n",
    "\n",
    "for ii in range(n_image_types):\n",
    "\n",
    "    p, t = stats_utils.paired_ttest_nonpar(vals[:,0,ii], vals[:,1,ii])\n",
    "\n",
    "    tvals[ii] = t\n",
    "    pvals[ii] = p\n",
    "\n",
    "df['t (basic-super)'] = tvals.round(4)\n",
    "\n",
    "_, pvals_fdr = stats_utils.fdr_keepshape(pvals, alpha=0.01, method='poscorr')\n",
    "df['p'] = pvals_fdr\n",
    "        \n",
    "df        \n",
    "    "
   ]
  },
  {
   "cell_type": "markdown",
   "metadata": {},
   "source": [
    "#### plot RTs, all subjects"
   ]
  },
  {
   "cell_type": "code",
   "execution_count": 16,
   "metadata": {},
   "outputs": [
    {
     "data": {
      "text/plain": [
       "Text(0.5, 1.0, 'All subjects (n=47)')"
      ]
     },
     "execution_count": 16,
     "metadata": {},
     "output_type": "execute_result"
    },
    {
     "data": {
      "image/png": "[encoded data removed]",
      "text/plain": [
       "<Figure size 600x400 with 1 Axes>"
      ]
     },
     "metadata": {},
     "output_type": "display_data"
    }
   ],
   "source": [
    "plot_utils.set_all_font_sizes(10)\n",
    "plt.figure(figsize=(6,4))\n",
    "\n",
    "vals = rt_by_condition\n",
    "\n",
    "n_subs_plot = vals.shape[0]\n",
    "    \n",
    "meanvals = np.mean(vals, axis=0)\n",
    "semvals = np.std(vals, axis=0)/np.sqrt(n_subs_plot)\n",
    "  \n",
    "ax = plt.subplot(1,1,1)\n",
    "\n",
    "\n",
    "lh = []\n",
    "\n",
    "for ii in range(n_image_types):\n",
    "    \n",
    "    for cc, cue in enumerate(cue_level_names):\n",
    "    \n",
    "        h = plt.bar(ii+xjitters[cc], \\\n",
    "                         meanvals[cc,ii], \\\n",
    "                        color = cue_level_colors[cc,:], width=barwidth)\n",
    "        \n",
    "        plt.errorbar(ii+xjitters[cc], \\\n",
    "                         meanvals[cc,ii], \\\n",
    "                         semvals[cc,ii], \\\n",
    "                        color = 'k',\n",
    "                        linestyle='none')\n",
    "    \n",
    "        lh.append(h)\n",
    "\n",
    "    if pvals[ii]<0.01:\n",
    "        height = np.max(meanvals[:,ii]+semvals[:,ii])+100\n",
    "        plt.plot(ii, height, '*', color='k')\n",
    "\n",
    "    \n",
    "plt.xticks(np.arange(n_image_types), image_type_names, rotation=45)\n",
    "\n",
    "    \n",
    "    \n",
    "\n",
    "# plt.axhline(0.0, color=[0.8, 0.8, 0.8], linestyle='--')\n",
    "\n",
    "ax.legend(lh, cue_level_names, loc='upper right')\n",
    "\n",
    "plt.ylabel('RT (ms)')\n",
    "\n",
    "plt.ylim([0, 1200])\n",
    "\n",
    "plt.title('All subjects (n=%d)'%(n_subs_plot))"
   ]
  },
  {
   "cell_type": "markdown",
   "metadata": {},
   "source": [
    "#### pairwise comparisons across image types"
   ]
  },
  {
   "cell_type": "code",
   "execution_count": 17,
   "metadata": {},
   "outputs": [
    {
     "data": {
      "text/html": [
       "<div>\n",
       "<style scoped>\n",
       "    .dataframe tbody tr th:only-of-type {\n",
       "        vertical-align: middle;\n",
       "    }\n",
       "\n",
       "    .dataframe tbody tr th {\n",
       "        vertical-align: top;\n",
       "    }\n",
       "\n",
       "    .dataframe thead th {\n",
       "        text-align: right;\n",
       "    }\n",
       "</style>\n",
       "<table border=\"1\" class=\"dataframe\">\n",
       "  <thead>\n",
       "    <tr style=\"text-align: right;\">\n",
       "      <th></th>\n",
       "      <th>t</th>\n",
       "      <th>p</th>\n",
       "    </tr>\n",
       "  </thead>\n",
       "  <tbody>\n",
       "    <tr>\n",
       "      <th>pool1 vs pool2</th>\n",
       "      <td>-6.7693</td>\n",
       "      <td>0.000000</td>\n",
       "    </tr>\n",
       "    <tr>\n",
       "      <th>pool1 vs pool3</th>\n",
       "      <td>-6.3778</td>\n",
       "      <td>0.000000</td>\n",
       "    </tr>\n",
       "    <tr>\n",
       "      <th>pool1 vs pool4</th>\n",
       "      <td>-4.4570</td>\n",
       "      <td>0.000000</td>\n",
       "    </tr>\n",
       "    <tr>\n",
       "      <th>pool1 vs orig</th>\n",
       "      <td>0.6161</td>\n",
       "      <td>0.602222</td>\n",
       "    </tr>\n",
       "    <tr>\n",
       "      <th>pool2 vs pool3</th>\n",
       "      <td>-2.2962</td>\n",
       "      <td>0.048571</td>\n",
       "    </tr>\n",
       "    <tr>\n",
       "      <th>pool2 vs pool4</th>\n",
       "      <td>-0.2111</td>\n",
       "      <td>0.894000</td>\n",
       "    </tr>\n",
       "    <tr>\n",
       "      <th>pool2 vs orig</th>\n",
       "      <td>4.5514</td>\n",
       "      <td>0.000000</td>\n",
       "    </tr>\n",
       "    <tr>\n",
       "      <th>pool3 vs pool4</th>\n",
       "      <td>1.9079</td>\n",
       "      <td>0.052500</td>\n",
       "    </tr>\n",
       "    <tr>\n",
       "      <th>pool3 vs orig</th>\n",
       "      <td>6.0222</td>\n",
       "      <td>0.000000</td>\n",
       "    </tr>\n",
       "    <tr>\n",
       "      <th>pool4 vs orig</th>\n",
       "      <td>6.5087</td>\n",
       "      <td>0.000000</td>\n",
       "    </tr>\n",
       "  </tbody>\n",
       "</table>\n",
       "</div>"
      ],
      "text/plain": [
       "                     t         p\n",
       "pool1 vs pool2 -6.7693  0.000000\n",
       "pool1 vs pool3 -6.3778  0.000000\n",
       "pool1 vs pool4 -4.4570  0.000000\n",
       "pool1 vs orig   0.6161  0.602222\n",
       "pool2 vs pool3 -2.2962  0.048571\n",
       "pool2 vs pool4 -0.2111  0.894000\n",
       "pool2 vs orig   4.5514  0.000000\n",
       "pool3 vs pool4  1.9079  0.052500\n",
       "pool3 vs orig   6.0222  0.000000\n",
       "pool4 vs orig   6.5087  0.000000"
      ]
     },
     "execution_count": 17,
     "metadata": {},
     "output_type": "execute_result"
    }
   ],
   "source": [
    "\n",
    "pairs_test = list(itertools.combinations(np.arange(5),2))\n",
    "n_pairs = len(pairs_test)\n",
    "pair_names = ['%s vs %s'%(image_type_names[ii], image_type_names[jj]) for ii, jj in pairs_test]\n",
    "\n",
    "tvals = np.zeros((n_pairs))\n",
    "pvals = np.zeros((n_pairs))\n",
    "\n",
    "df = pd.DataFrame(index=pair_names)\n",
    "\n",
    "\n",
    "# averaging across basic/super conds here\n",
    "vals = np.mean(rt_by_condition, axis=1)\n",
    "\n",
    "for pi, pair in enumerate(pairs_test):\n",
    "\n",
    "    vals1 = vals[:,pair[0]]\n",
    "    vals2 = vals[:,pair[1]]\n",
    "\n",
    "    p, t = stats_utils.paired_ttest_nonpar(vals1, vals2)\n",
    "\n",
    "    tvals[pi] = t\n",
    "    pvals[pi] = p\n",
    "\n",
    "df['t'] = tvals.round(4)\n",
    "\n",
    "_, pvals_fdr = stats_utils.fdr_keepshape(pvals, alpha=0.01, method='poscorr')\n",
    "df['p'] = pvals_fdr\n",
    "\n",
    "\n",
    "df   "
   ]
  },
  {
   "cell_type": "markdown",
   "metadata": {},
   "source": [
    "#### RTs: separate out the two image sets"
   ]
  },
  {
   "cell_type": "code",
   "execution_count": 18,
   "metadata": {},
   "outputs": [
    {
     "name": "stdout",
     "output_type": "stream",
     "text": [
      "\n",
      "Image set 1:\n",
      "(23, 2, 5)\n",
      "                   F Value  Num DF  Den DF        Pr > F\n",
      "cond              0.661379     1.0    22.0  4.247879e-01\n",
      "image_type       10.887246     4.0    88.0  3.232715e-07\n",
      "cond:image_type   5.236051     4.0    88.0  7.872182e-04\n",
      "\n",
      "Image set 2:\n",
      "(24, 2, 5)\n",
      "                  F Value  Num DF  Den DF        Pr > F\n",
      "cond             0.033685     1.0    23.0  8.559876e-01\n",
      "image_type       9.935680     4.0    92.0  9.984449e-07\n",
      "cond:image_type  2.046934     4.0    92.0  9.425691e-02\n"
     ]
    }
   ],
   "source": [
    "for cbi, cb in enumerate([1,2]):\n",
    "    \n",
    "    subjects_plot = (subject_cb==cbi) \n",
    "    n_subs_plot = np.sum(subjects_plot)\n",
    "    \n",
    "    vals = rt_by_condition[subjects_plot,:,:]\n",
    "    \n",
    "    print('\\nImage set %d:'%cb)\n",
    "    print(vals.shape)\n",
    "    \n",
    "    aov_table = stats_utils.rmanova_2way(vals, ['cond','image_type'])\n",
    "\n",
    "    print(aov_table)"
   ]
  },
  {
   "cell_type": "code",
   "execution_count": 19,
   "metadata": {},
   "outputs": [
    {
     "name": "stdout",
     "output_type": "stream",
     "text": [
      "\n",
      "Image set 1:\n",
      "(23, 2, 5)\n",
      "\n",
      "Image set 2:\n",
      "(24, 2, 5)\n"
     ]
    },
    {
     "data": {
      "text/html": [
       "<div>\n",
       "<style scoped>\n",
       "    .dataframe tbody tr th:only-of-type {\n",
       "        vertical-align: middle;\n",
       "    }\n",
       "\n",
       "    .dataframe tbody tr th {\n",
       "        vertical-align: top;\n",
       "    }\n",
       "\n",
       "    .dataframe thead th {\n",
       "        text-align: right;\n",
       "    }\n",
       "</style>\n",
       "<table border=\"1\" class=\"dataframe\">\n",
       "  <thead>\n",
       "    <tr style=\"text-align: right;\">\n",
       "      <th></th>\n",
       "      <th>Set 1: t</th>\n",
       "      <th>Set 1: p</th>\n",
       "      <th>Set 2: t</th>\n",
       "      <th>Set 2: p</th>\n",
       "    </tr>\n",
       "  </thead>\n",
       "  <tbody>\n",
       "    <tr>\n",
       "      <th>pool1</th>\n",
       "      <td>-4.0344</td>\n",
       "      <td>0.00</td>\n",
       "      <td>-1.2467</td>\n",
       "      <td>0.565</td>\n",
       "    </tr>\n",
       "    <tr>\n",
       "      <th>pool2</th>\n",
       "      <td>-0.6326</td>\n",
       "      <td>0.77</td>\n",
       "      <td>-0.0495</td>\n",
       "      <td>0.954</td>\n",
       "    </tr>\n",
       "    <tr>\n",
       "      <th>pool3</th>\n",
       "      <td>0.4623</td>\n",
       "      <td>0.77</td>\n",
       "      <td>0.2143</td>\n",
       "      <td>0.954</td>\n",
       "    </tr>\n",
       "    <tr>\n",
       "      <th>pool4</th>\n",
       "      <td>1.5163</td>\n",
       "      <td>0.48</td>\n",
       "      <td>1.8470</td>\n",
       "      <td>0.330</td>\n",
       "    </tr>\n",
       "    <tr>\n",
       "      <th>orig</th>\n",
       "      <td>-0.5885</td>\n",
       "      <td>0.77</td>\n",
       "      <td>-0.8676</td>\n",
       "      <td>0.770</td>\n",
       "    </tr>\n",
       "  </tbody>\n",
       "</table>\n",
       "</div>"
      ],
      "text/plain": [
       "       Set 1: t  Set 1: p  Set 2: t  Set 2: p\n",
       "pool1   -4.0344      0.00   -1.2467     0.565\n",
       "pool2   -0.6326      0.77   -0.0495     0.954\n",
       "pool3    0.4623      0.77    0.2143     0.954\n",
       "pool4    1.5163      0.48    1.8470     0.330\n",
       "orig    -0.5885      0.77   -0.8676     0.770"
      ]
     },
     "execution_count": 19,
     "metadata": {},
     "output_type": "execute_result"
    }
   ],
   "source": [
    "tvals = np.zeros((2,5))\n",
    "pvals = np.zeros((2,5))\n",
    "\n",
    "df = pd.DataFrame(index=image_type_names)\n",
    "\n",
    "for cbi, cb in enumerate([1,2]):\n",
    "    \n",
    "    subjects_plot = (subject_cb==cbi) \n",
    "    n_subs_plot = np.sum(subjects_plot)\n",
    "    \n",
    "    vals = rt_by_condition[subjects_plot,:,:]\n",
    "    \n",
    "    print('\\nImage set %d:'%cb)\n",
    "    print(vals.shape)\n",
    "    \n",
    "    for ii in range(n_image_types):\n",
    "        \n",
    "        p, t = stats_utils.paired_ttest_nonpar(vals[:,0,ii], vals[:,1,ii])\n",
    "        \n",
    "        tvals[cbi, ii] = t\n",
    "        pvals[cbi, ii] = p\n",
    "        \n",
    "# fdr correcting all the values together\n",
    "_, pvals_fdr = stats_utils.fdr_keepshape(pvals, alpha=0.01, method='poscorr')\n",
    "\n",
    "for cbi, cb in enumerate([1,2]):\n",
    "    \n",
    "    df['Set %d: t'%cb] = tvals[cbi,:].round(4)\n",
    "    df['Set %d: p'%cb] = pvals_fdr[cbi,:]\n",
    "\n",
    "df"
   ]
  },
  {
   "cell_type": "code",
   "execution_count": 20,
   "metadata": {},
   "outputs": [
    {
     "data": {
      "image/png": "[encoded data removed]",
      "text/plain": [
       "<Figure size 1200x400 with 2 Axes>"
      ]
     },
     "metadata": {},
     "output_type": "display_data"
    }
   ],
   "source": [
    "plot_utils.set_all_font_sizes(10)\n",
    "plt.figure(figsize=(12,4))\n",
    "    \n",
    "for cbi, cb in enumerate([1,2]):\n",
    "\n",
    "    ax = plt.subplot(1,2,cb)\n",
    "    \n",
    "    vals = rt_by_condition[subject_cb==cbi,:,:]\n",
    "    \n",
    "    n_subs_plot = vals.shape[0]\n",
    "        \n",
    "    meanvals = np.mean(vals, axis=0)\n",
    "    semvals = np.std(vals, axis=0)/np.sqrt(n_subs_plot)\n",
    "    \n",
    "    lh = []\n",
    "    \n",
    "    for ii in range(n_image_types):\n",
    "        \n",
    "        for cc, cue in enumerate(cue_level_names):\n",
    "        \n",
    "            h = plt.bar(ii+xjitters[cc], \\\n",
    "                             meanvals[cc,ii], \\\n",
    "                            color = cue_level_colors[cc,:], width=barwidth)\n",
    "            \n",
    "            plt.errorbar(ii+xjitters[cc], \\\n",
    "                             meanvals[cc,ii], \\\n",
    "                             semvals[cc,ii], \\\n",
    "                            color = 'k',\n",
    "                            linestyle='none')\n",
    "        \n",
    "            lh.append(h)\n",
    "    \n",
    "        if pvals[cbi, ii]<0.01:\n",
    "            height = np.max(meanvals[:,ii]+semvals[:,ii])+100\n",
    "            plt.plot(ii, height, '*', color='k')\n",
    "    \n",
    "        \n",
    "    plt.xticks(np.arange(n_image_types), image_type_names, rotation=45)\n",
    "    \n",
    "        \n",
    "        \n",
    "    \n",
    "    # plt.axhline(0.0, color=[0.8, 0.8, 0.8], linestyle='--')\n",
    "    \n",
    "    ax.legend(lh, cue_level_names, loc='upper right')\n",
    "    \n",
    "    plt.ylabel('RT (ms)')\n",
    "    \n",
    "    plt.ylim([0, 1200])\n",
    "    \n",
    "    plt.title('Image set %d (n=%d)'%(cb, n_subs_plot))"
   ]
  },
  {
   "cell_type": "markdown",
   "metadata": {},
   "source": [
    "#### pairwise comparisons across image types"
   ]
  },
  {
   "cell_type": "code",
   "execution_count": 21,
   "metadata": {},
   "outputs": [
    {
     "name": "stdout",
     "output_type": "stream",
     "text": [
      "(23, 5)\n",
      "image set 1\n",
      "                     t         p\n",
      "pool1 vs pool2 -4.0162  0.003333\n",
      "pool1 vs pool3 -4.5219  0.000000\n",
      "pool1 vs pool4 -3.1931  0.003333\n",
      "pool1 vs orig   0.7416  0.504000\n",
      "pool2 vs pool3 -2.4963  0.020000\n",
      "pool2 vs pool4 -0.9804  0.387500\n",
      "pool2 vs orig   3.3451  0.003333\n",
      "pool3 vs pool4  0.7653  0.504000\n",
      "pool3 vs orig   4.2859  0.000000\n",
      "pool4 vs orig   4.7520  0.000000\n",
      "(24, 5)\n",
      "image set 2\n",
      "                     t         p\n",
      "pool1 vs pool2 -5.6738  0.000000\n",
      "pool1 vs pool3 -4.4051  0.000000\n",
      "pool1 vs pool4 -3.0512  0.000000\n",
      "pool1 vs orig   0.0842  0.970000\n",
      "pool2 vs pool3 -1.0279  0.357500\n",
      "pool2 vs pool4  0.5243  0.646667\n",
      "pool2 vs orig   3.0283  0.006667\n",
      "pool3 vs pool4  1.9473  0.100000\n",
      "pool3 vs orig   4.2231  0.000000\n",
      "pool4 vs orig   4.6755  0.000000\n"
     ]
    }
   ],
   "source": [
    "\n",
    "for cbi, cb in enumerate([1,2]):\n",
    "        \n",
    "    pairs_test = list(itertools.combinations(np.arange(5),2))\n",
    "    n_pairs = len(pairs_test)\n",
    "    pair_names = ['%s vs %s'%(image_type_names[ii], image_type_names[jj]) for ii, jj in pairs_test]\n",
    "    \n",
    "    tvals = np.zeros((n_pairs))\n",
    "    pvals = np.zeros((n_pairs))\n",
    "    \n",
    "    df = pd.DataFrame(index=pair_names)\n",
    "    \n",
    "    \n",
    "    # averaging across basic/super conds here\n",
    "    vals = np.mean(rt_by_condition[subject_cb==cbi,:,:], axis=1)\n",
    "\n",
    "    print(vals.shape)\n",
    "    for pi, pair in enumerate(pairs_test):\n",
    "    \n",
    "        vals1 = vals[:,pair[0]]\n",
    "        vals2 = vals[:,pair[1]]\n",
    "    \n",
    "        p, t = stats_utils.paired_ttest_nonpar(vals1, vals2)\n",
    "    \n",
    "        tvals[pi] = t\n",
    "        pvals[pi] = p\n",
    "    \n",
    "    df['t'] = tvals.round(4)\n",
    "    \n",
    "    _, pvals_fdr = stats_utils.fdr_keepshape(pvals, alpha=0.01, method='poscorr')\n",
    "    df['p'] = pvals_fdr\n",
    "    \n",
    "    print('image set %d'%cb)\n",
    "    print(df)   "
   ]
  },
  {
   "cell_type": "code",
   "execution_count": 7,
   "metadata": {},
   "outputs": [
    {
     "data": {
      "text/plain": [
       "Text(0.5, 1.0, 'All subjects (n=47)')"
      ]
     },
     "execution_count": 7,
     "metadata": {},
     "output_type": "execute_result"
    },
    {
     "data": {
      "image/png": "[encoded data removed]",
      "text/plain": [
       "<Figure size 600x400 with 1 Axes>"
      ]
     },
     "metadata": {},
     "output_type": "display_data"
    }
   ],
   "source": [
    "plot_utils.set_all_font_sizes(10)\n",
    "plt.figure(figsize=(6,4))\n",
    "\n",
    "vals = propyes_by_condition\n",
    "\n",
    "n_subs_plot = vals.shape[0]\n",
    "    \n",
    "meanvals = np.mean(vals, axis=0)\n",
    "semvals = np.std(vals, axis=0)/np.sqrt(n_subs_plot)\n",
    "  \n",
    "ax = plt.subplot(1,1,1)\n",
    "\n",
    "\n",
    "lh = []\n",
    "\n",
    "for ii in range(n_image_types):\n",
    "    \n",
    "    for cc, cue in enumerate(cue_level_names):\n",
    "    \n",
    "        h = plt.bar(ii+xjitters[cc], \\\n",
    "                         meanvals[cc,ii], \\\n",
    "                        color = cue_level_colors[cc,:], width=barwidth)\n",
    "        \n",
    "        plt.errorbar(ii+xjitters[cc], \\\n",
    "                         meanvals[cc,ii], \\\n",
    "                         semvals[cc,ii], \\\n",
    "                        color = 'k',\n",
    "                        linestyle='none')\n",
    "    \n",
    "        lh.append(h)\n",
    "\n",
    "    # if pvals[ii]<0.01:\n",
    "    #     height = np.max(meanvals[:,ii]+semvals[:,ii])+0.20\n",
    "    #     plt.plot(ii, height, '*', color='k')\n",
    "\n",
    "    \n",
    "plt.xticks(np.arange(n_image_types), image_type_names, rotation=45)\n",
    "\n",
    "    \n",
    "    \n",
    "\n",
    "plt.axhline(0.5, color=[0.8, 0.8, 0.8], linestyle='--')\n",
    "\n",
    "ax.legend(lh, cue_level_names, loc='upper right')\n",
    "\n",
    "plt.ylabel('prop yes')\n",
    "\n",
    "plt.ylim([0, 1.0])\n",
    "\n",
    "plt.title('All subjects (n=%d)'%(n_subs_plot))"
   ]
  }
 ],
 "metadata": {
  "kernelspec": {
   "display_name": "Python 3 (ipykernel)",
   "language": "python",
   "name": "python3"
  },
  "language_info": {
   "codemirror_mode": {
    "name": "ipython",
    "version": 3
   },
   "file_extension": ".py",
   "mimetype": "text/x-python",
   "name": "python",
   "nbconvert_exporter": "python",
   "pygments_lexer": "ipython3",
   "version": "3.10.9"
  }
 },
 "nbformat": 4,
 "nbformat_minor": 4
}
