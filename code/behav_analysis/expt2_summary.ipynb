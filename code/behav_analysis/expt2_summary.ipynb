{
 "cells": [
  {
   "cell_type": "code",
   "execution_count": 1,
   "metadata": {},
   "outputs": [],
   "source": [
    "import numpy as np\n",
    "import pandas as pd\n",
    "import matplotlib.pyplot as plt\n",
    "from matplotlib import cm\n",
    "import itertools\n",
    "\n",
    "import os, sys\n",
    "\n",
    "project_root = '/user_data/mmhender/featsynth/'\n",
    "# sys.path.append(os.path.join(project_root, 'code'))\n",
    "sys.path.insert(0, os.path.join(project_root, 'code'))\n",
    "from utils import stats_utils, plot_utils\n",
    "from behav_analysis import analyze_expt2"
   ]
  },
  {
   "cell_type": "code",
   "execution_count": 2,
   "metadata": {},
   "outputs": [],
   "source": [
    "super_names, super_cbinds, basic_names, basic_inds, \\\n",
    "        super_names_long, super_inds_long, n_basic, n_super, n_basic_each_super = \\\n",
    "            analyze_expt2.get_categ_info()\n",
    "\n",
    "trial_data_all, subjects, subject_cb, cue_level_names, image_type_names = analyze_expt2.load_data()\n",
    " \n",
    "n_subjects = len(subjects)\n",
    "n_cue_levels = len(cue_level_names)\n",
    "n_image_types = len(image_type_names)\n",
    "\n",
    "acc_by_condition, dprime_by_condition, propyes_by_condition, rt_by_condition = analyze_expt2.get_perf_by_cond()\n"
   ]
  },
  {
   "cell_type": "markdown",
   "metadata": {},
   "source": [
    "#### Plotting params"
   ]
  },
  {
   "cell_type": "code",
   "execution_count": 3,
   "metadata": {},
   "outputs": [],
   "source": [
    "cue_level_colors = np.array([[93,192,219], [44,92,168]])/255\n",
    "point_types = ['o','x']\n",
    "markersize = 4;\n",
    "xjitters = np.array([-0.2, 0.2])\n",
    "barwidth = xjitters[1]*2"
   ]
  },
  {
   "cell_type": "markdown",
   "metadata": {},
   "source": [
    "#### d-prime values: two-way repeated measures anova, all subjects"
   ]
  },
  {
   "cell_type": "code",
   "execution_count": 4,
   "metadata": {},
   "outputs": [
    {
     "name": "stdout",
     "output_type": "stream",
     "text": [
      "\n",
      "All subjects:\n",
      "(38, 2, 5)\n",
      "                    F Value  Num DF  Den DF        Pr > F\n",
      "cond              61.383496     1.0    37.0  2.256978e-09\n",
      "image_type       215.034485     4.0   148.0  1.399570e-60\n",
      "cond:image_type    8.887297     4.0   148.0  1.850483e-06\n"
     ]
    }
   ],
   "source": [
    "vals = dprime_by_condition\n",
    "\n",
    "print('\\nAll subjects:')\n",
    "print(vals.shape)\n",
    "\n",
    "aov_table = stats_utils.rmanova_2way(vals, ['cond','image_type'])\n",
    "\n",
    "print(aov_table)"
   ]
  },
  {
   "cell_type": "markdown",
   "metadata": {},
   "source": [
    "#### t-tests comparing basic vs superordinate, within image type"
   ]
  },
  {
   "cell_type": "code",
   "execution_count": 14,
   "metadata": {},
   "outputs": [
    {
     "name": "stdout",
     "output_type": "stream",
     "text": [
      "All subjects:\n",
      "(38, 2, 5)\n"
     ]
    },
    {
     "data": {
      "text/html": [
       "<div>\n",
       "<style scoped>\n",
       "    .dataframe tbody tr th:only-of-type {\n",
       "        vertical-align: middle;\n",
       "    }\n",
       "\n",
       "    .dataframe tbody tr th {\n",
       "        vertical-align: top;\n",
       "    }\n",
       "\n",
       "    .dataframe thead th {\n",
       "        text-align: right;\n",
       "    }\n",
       "</style>\n",
       "<table border=\"1\" class=\"dataframe\">\n",
       "  <thead>\n",
       "    <tr style=\"text-align: right;\">\n",
       "      <th></th>\n",
       "      <th>t (basic-super)</th>\n",
       "      <th>p</th>\n",
       "    </tr>\n",
       "  </thead>\n",
       "  <tbody>\n",
       "    <tr>\n",
       "      <th>pool1</th>\n",
       "      <td>0.1893</td>\n",
       "      <td>0.850</td>\n",
       "    </tr>\n",
       "    <tr>\n",
       "      <th>pool2</th>\n",
       "      <td>-3.3981</td>\n",
       "      <td>0.005</td>\n",
       "    </tr>\n",
       "    <tr>\n",
       "      <th>pool3</th>\n",
       "      <td>-5.7327</td>\n",
       "      <td>0.000</td>\n",
       "    </tr>\n",
       "    <tr>\n",
       "      <th>pool4</th>\n",
       "      <td>-9.3265</td>\n",
       "      <td>0.000</td>\n",
       "    </tr>\n",
       "    <tr>\n",
       "      <th>orig</th>\n",
       "      <td>-4.2325</td>\n",
       "      <td>0.000</td>\n",
       "    </tr>\n",
       "  </tbody>\n",
       "</table>\n",
       "</div>"
      ],
      "text/plain": [
       "       t (basic-super)      p\n",
       "pool1           0.1893  0.850\n",
       "pool2          -3.3981  0.005\n",
       "pool3          -5.7327  0.000\n",
       "pool4          -9.3265  0.000\n",
       "orig           -4.2325  0.000"
      ]
     },
     "execution_count": 14,
     "metadata": {},
     "output_type": "execute_result"
    }
   ],
   "source": [
    "tvals = np.zeros((5,))\n",
    "pvals = np.zeros((5,))\n",
    "\n",
    "df = pd.DataFrame(index=image_type_names)\n",
    "\n",
    "vals = dprime_by_condition\n",
    "\n",
    "print('All subjects:')\n",
    "print(vals.shape)\n",
    "\n",
    "for ii in range(n_image_types):\n",
    "\n",
    "    p, t = stats_utils.paired_ttest_nonpar(vals[:,0,ii], vals[:,1,ii])\n",
    "\n",
    "    tvals[ii] = t\n",
    "    pvals[ii] = p\n",
    "\n",
    "df['t (basic-super)'] = tvals.round(4)\n",
    "\n",
    "_, pvals_fdr = stats_utils.fdr_keepshape(pvals, alpha=0.01, method='poscorr')\n",
    "df['p'] = pvals_fdr\n",
    "# df['p'] = pvals\n",
    "        \n",
    "df        \n",
    "    "
   ]
  },
  {
   "cell_type": "markdown",
   "metadata": {},
   "source": [
    "#### plot dprime, all subjects"
   ]
  },
  {
   "cell_type": "code",
   "execution_count": 15,
   "metadata": {},
   "outputs": [
    {
     "data": {
      "text/plain": [
       "Text(0.5, 1.0, 'All subjects (n=38)')"
      ]
     },
     "execution_count": 15,
     "metadata": {},
     "output_type": "execute_result"
    },
    {
     "data": {
      "image/png": "[encoded data removed]",
      "text/plain": [
       "<Figure size 600x400 with 1 Axes>"
      ]
     },
     "metadata": {},
     "output_type": "display_data"
    }
   ],
   "source": [
    "plot_utils.set_all_font_sizes(10)\n",
    "plt.figure(figsize=(6,4))\n",
    "\n",
    "vals = dprime_by_condition\n",
    "\n",
    "n_subs_plot = vals.shape[0]\n",
    "    \n",
    "meanvals = np.mean(vals, axis=0)\n",
    "semvals = np.std(vals, axis=0)/np.sqrt(n_subs_plot)\n",
    "  \n",
    "ax = plt.subplot(1,1,1)\n",
    "\n",
    "\n",
    "lh = []\n",
    "\n",
    "for ii in range(n_image_types):\n",
    "    \n",
    "    for cc, cue in enumerate(cue_level_names):\n",
    "    \n",
    "        h = plt.bar(ii+xjitters[cc], \\\n",
    "                         meanvals[cc,ii], \\\n",
    "                        color = cue_level_colors[cc,:], width=barwidth)\n",
    "        \n",
    "        plt.errorbar(ii+xjitters[cc], \\\n",
    "                         meanvals[cc,ii], \\\n",
    "                         semvals[cc,ii], \\\n",
    "                        color = 'k',\n",
    "                        linestyle='none')\n",
    "    \n",
    "        lh.append(h)\n",
    "\n",
    "    if pvals[ii]<0.01:\n",
    "        height = np.max(meanvals[:,ii]+semvals[:,ii])+0.20\n",
    "        plt.plot(ii, height, '*', color='k')\n",
    "\n",
    "    \n",
    "plt.xticks(np.arange(n_image_types), image_type_names, rotation=45)\n",
    "\n",
    "    \n",
    "    \n",
    "\n",
    "plt.axhline(0.0, color=[0.8, 0.8, 0.8], linestyle='--')\n",
    "\n",
    "ax.legend(lh, cue_level_names, loc='lower right')\n",
    "\n",
    "plt.ylabel('d-prime')\n",
    "\n",
    "plt.ylim([-2, 4.8])\n",
    "\n",
    "plt.title('All subjects (n=%d)'%(n_subs_plot))"
   ]
  },
  {
   "cell_type": "markdown",
   "metadata": {},
   "source": [
    "#### pairwise comparisons across image types"
   ]
  },
  {
   "cell_type": "code",
   "execution_count": 16,
   "metadata": {},
   "outputs": [
    {
     "data": {
      "text/html": [
       "<div>\n",
       "<style scoped>\n",
       "    .dataframe tbody tr th:only-of-type {\n",
       "        vertical-align: middle;\n",
       "    }\n",
       "\n",
       "    .dataframe tbody tr th {\n",
       "        vertical-align: top;\n",
       "    }\n",
       "\n",
       "    .dataframe thead th {\n",
       "        text-align: right;\n",
       "    }\n",
       "</style>\n",
       "<table border=\"1\" class=\"dataframe\">\n",
       "  <thead>\n",
       "    <tr style=\"text-align: right;\">\n",
       "      <th></th>\n",
       "      <th>t</th>\n",
       "      <th>p</th>\n",
       "    </tr>\n",
       "  </thead>\n",
       "  <tbody>\n",
       "    <tr>\n",
       "      <th>pool1 vs pool2</th>\n",
       "      <td>-7.9776</td>\n",
       "      <td>0.000</td>\n",
       "    </tr>\n",
       "    <tr>\n",
       "      <th>pool1 vs pool3</th>\n",
       "      <td>-8.7294</td>\n",
       "      <td>0.000</td>\n",
       "    </tr>\n",
       "    <tr>\n",
       "      <th>pool1 vs pool4</th>\n",
       "      <td>-12.7696</td>\n",
       "      <td>0.000</td>\n",
       "    </tr>\n",
       "    <tr>\n",
       "      <th>pool1 vs orig</th>\n",
       "      <td>-22.4857</td>\n",
       "      <td>0.000</td>\n",
       "    </tr>\n",
       "    <tr>\n",
       "      <th>pool2 vs pool3</th>\n",
       "      <td>-2.7933</td>\n",
       "      <td>0.008</td>\n",
       "    </tr>\n",
       "    <tr>\n",
       "      <th>pool2 vs pool4</th>\n",
       "      <td>-7.4367</td>\n",
       "      <td>0.000</td>\n",
       "    </tr>\n",
       "    <tr>\n",
       "      <th>pool2 vs orig</th>\n",
       "      <td>-20.3998</td>\n",
       "      <td>0.000</td>\n",
       "    </tr>\n",
       "    <tr>\n",
       "      <th>pool3 vs pool4</th>\n",
       "      <td>-6.2226</td>\n",
       "      <td>0.000</td>\n",
       "    </tr>\n",
       "    <tr>\n",
       "      <th>pool3 vs orig</th>\n",
       "      <td>-18.6878</td>\n",
       "      <td>0.000</td>\n",
       "    </tr>\n",
       "    <tr>\n",
       "      <th>pool4 vs orig</th>\n",
       "      <td>-17.0847</td>\n",
       "      <td>0.000</td>\n",
       "    </tr>\n",
       "  </tbody>\n",
       "</table>\n",
       "</div>"
      ],
      "text/plain": [
       "                      t      p\n",
       "pool1 vs pool2  -7.9776  0.000\n",
       "pool1 vs pool3  -8.7294  0.000\n",
       "pool1 vs pool4 -12.7696  0.000\n",
       "pool1 vs orig  -22.4857  0.000\n",
       "pool2 vs pool3  -2.7933  0.008\n",
       "pool2 vs pool4  -7.4367  0.000\n",
       "pool2 vs orig  -20.3998  0.000\n",
       "pool3 vs pool4  -6.2226  0.000\n",
       "pool3 vs orig  -18.6878  0.000\n",
       "pool4 vs orig  -17.0847  0.000"
      ]
     },
     "execution_count": 16,
     "metadata": {},
     "output_type": "execute_result"
    }
   ],
   "source": [
    "pairs_test = list(itertools.combinations(np.arange(5),2))\n",
    "n_pairs = len(pairs_test)\n",
    "pair_names = ['%s vs %s'%(image_type_names[ii], image_type_names[jj]) for ii, jj in pairs_test]\n",
    "\n",
    "tvals = np.zeros((n_pairs))\n",
    "pvals = np.zeros((n_pairs))\n",
    "\n",
    "df = pd.DataFrame(index=pair_names)\n",
    "\n",
    "# averaging across basic/super conds here\n",
    "vals = np.mean(dprime_by_condition, axis=1)\n",
    "\n",
    "for pi, pair in enumerate(pairs_test):\n",
    "\n",
    "    vals1 = vals[:,pair[0]]\n",
    "    vals2 = vals[:,pair[1]]\n",
    "\n",
    "    p, t = stats_utils.paired_ttest_nonpar(vals1, vals2)\n",
    "\n",
    "    tvals[pi] = t\n",
    "    pvals[pi] = p\n",
    "\n",
    "df['t'] = tvals.round(4)\n",
    "\n",
    "_, pvals_fdr = stats_utils.fdr_keepshape(pvals, alpha=0.01, method='poscorr')\n",
    "df['p'] = pvals_fdr\n",
    "\n",
    "df   "
   ]
  },
  {
   "cell_type": "markdown",
   "metadata": {},
   "source": [
    "#### d-prime: separate out the two image sets"
   ]
  },
  {
   "cell_type": "code",
   "execution_count": 17,
   "metadata": {},
   "outputs": [
    {
     "name": "stdout",
     "output_type": "stream",
     "text": [
      "\n",
      "Image set 1:\n",
      "(19, 2, 5)\n",
      "                    F Value  Num DF  Den DF        Pr > F\n",
      "cond              23.947705     1.0    18.0  1.169359e-04\n",
      "image_type       136.906958     4.0    72.0  7.300518e-33\n",
      "cond:image_type    4.667564     4.0    72.0  2.090169e-03\n",
      "\n",
      "Image set 2:\n",
      "(19, 2, 5)\n",
      "                   F Value  Num DF  Den DF        Pr > F\n",
      "cond             44.257803     1.0    18.0  3.045260e-06\n",
      "image_type       84.379822     4.0    72.0  2.036177e-26\n",
      "cond:image_type   5.350606     4.0    72.0  7.891809e-04\n"
     ]
    }
   ],
   "source": [
    "for cbi, cb in enumerate([1,2]):\n",
    "    \n",
    "    subjects_plot = (subject_cb==cbi) \n",
    "    n_subs_plot = np.sum(subjects_plot)\n",
    "    \n",
    "    vals = dprime_by_condition[subjects_plot,:,:]\n",
    "    \n",
    "    print('\\nImage set %d:'%cb)\n",
    "    print(vals.shape)\n",
    "    \n",
    "    aov_table = stats_utils.rmanova_2way(vals, ['cond','image_type'])\n",
    "\n",
    "    print(aov_table)"
   ]
  },
  {
   "cell_type": "markdown",
   "metadata": {},
   "source": [
    "#### t-tests comparing basic vs superordinate, within image type"
   ]
  },
  {
   "cell_type": "code",
   "execution_count": 33,
   "metadata": {},
   "outputs": [
    {
     "name": "stdout",
     "output_type": "stream",
     "text": [
      "\n",
      "Image set 1:\n",
      "(19, 2, 5)\n",
      "\n",
      "Image set 2:\n",
      "(19, 2, 5)\n"
     ]
    },
    {
     "data": {
      "text/html": [
       "<div>\n",
       "<style scoped>\n",
       "    .dataframe tbody tr th:only-of-type {\n",
       "        vertical-align: middle;\n",
       "    }\n",
       "\n",
       "    .dataframe tbody tr th {\n",
       "        vertical-align: top;\n",
       "    }\n",
       "\n",
       "    .dataframe thead th {\n",
       "        text-align: right;\n",
       "    }\n",
       "</style>\n",
       "<table border=\"1\" class=\"dataframe\">\n",
       "  <thead>\n",
       "    <tr style=\"text-align: right;\">\n",
       "      <th></th>\n",
       "      <th>Set 1: t</th>\n",
       "      <th>Set 1: p</th>\n",
       "      <th>Set 2: t</th>\n",
       "      <th>Set 2: p</th>\n",
       "    </tr>\n",
       "  </thead>\n",
       "  <tbody>\n",
       "    <tr>\n",
       "      <th>pool1</th>\n",
       "      <td>0.4054</td>\n",
       "      <td>0.735556</td>\n",
       "      <td>-0.0733</td>\n",
       "      <td>0.968</td>\n",
       "    </tr>\n",
       "    <tr>\n",
       "      <th>pool2</th>\n",
       "      <td>-0.6455</td>\n",
       "      <td>0.680000</td>\n",
       "      <td>-4.4880</td>\n",
       "      <td>0.000</td>\n",
       "    </tr>\n",
       "    <tr>\n",
       "      <th>pool3</th>\n",
       "      <td>-3.0442</td>\n",
       "      <td>0.013333</td>\n",
       "      <td>-5.8747</td>\n",
       "      <td>0.000</td>\n",
       "    </tr>\n",
       "    <tr>\n",
       "      <th>pool4</th>\n",
       "      <td>-7.4301</td>\n",
       "      <td>0.000000</td>\n",
       "      <td>-6.4073</td>\n",
       "      <td>0.000</td>\n",
       "    </tr>\n",
       "    <tr>\n",
       "      <th>orig</th>\n",
       "      <td>-2.6067</td>\n",
       "      <td>0.037143</td>\n",
       "      <td>-3.3429</td>\n",
       "      <td>0.000</td>\n",
       "    </tr>\n",
       "  </tbody>\n",
       "</table>\n",
       "</div>"
      ],
      "text/plain": [
       "       Set 1: t  Set 1: p  Set 2: t  Set 2: p\n",
       "pool1    0.4054  0.735556   -0.0733     0.968\n",
       "pool2   -0.6455  0.680000   -4.4880     0.000\n",
       "pool3   -3.0442  0.013333   -5.8747     0.000\n",
       "pool4   -7.4301  0.000000   -6.4073     0.000\n",
       "orig    -2.6067  0.037143   -3.3429     0.000"
      ]
     },
     "execution_count": 33,
     "metadata": {},
     "output_type": "execute_result"
    }
   ],
   "source": [
    "tvals = np.zeros((2,5))\n",
    "pvals = np.zeros((2,5))\n",
    "\n",
    "df = pd.DataFrame(index=image_type_names)\n",
    "\n",
    "for cbi, cb in enumerate([1,2]):\n",
    "    \n",
    "    subjects_plot = (subject_cb==cbi) \n",
    "    n_subs_plot = np.sum(subjects_plot)\n",
    "    \n",
    "    vals = dprime_by_condition[subjects_plot,:,:]\n",
    "    \n",
    "    print('\\nImage set %d:'%cb)\n",
    "    print(vals.shape)\n",
    "    \n",
    "    for ii in range(n_image_types):\n",
    "        \n",
    "        p, t = stats_utils.paired_ttest_nonpar(vals[:,0,ii], vals[:,1,ii])\n",
    "        \n",
    "        tvals[cbi, ii] = t\n",
    "        pvals[cbi, ii] = p\n",
    "        \n",
    "# fdr correcting all the values together\n",
    "_, pvals_fdr = stats_utils.fdr_keepshape(pvals, alpha=0.01, method='poscorr')\n",
    "\n",
    "for cbi, cb in enumerate([1,2]):\n",
    "    \n",
    "    df['Set %d: t'%cb] = tvals[cbi,:].round(4)\n",
    "    df['Set %d: p'%cb] = pvals_fdr[cbi,:]\n",
    "    \n",
    "\n",
    "df"
   ]
  },
  {
   "cell_type": "markdown",
   "metadata": {},
   "source": [
    "#### plot d-prime for each image set"
   ]
  },
  {
   "cell_type": "code",
   "execution_count": 34,
   "metadata": {},
   "outputs": [
    {
     "data": {
      "image/png": "[encoded data removed]",
      "text/plain": [
       "<Figure size 1200x400 with 2 Axes>"
      ]
     },
     "metadata": {},
     "output_type": "display_data"
    }
   ],
   "source": [
    "plot_utils.set_all_font_sizes(10)\n",
    "plt.figure(figsize=(12,4))\n",
    "    \n",
    "for cbi, cb in enumerate([1,2]):\n",
    "\n",
    "    ax = plt.subplot(1,2,cb)\n",
    "    \n",
    "    vals = dprime_by_condition[subject_cb==cbi,:,:]\n",
    "    \n",
    "    n_subs_plot = vals.shape[0]\n",
    "        \n",
    "    meanvals = np.mean(vals, axis=0)\n",
    "    semvals = np.std(vals, axis=0)/np.sqrt(n_subs_plot)\n",
    "    \n",
    "    lh = []\n",
    "    \n",
    "    for ii in range(n_image_types):\n",
    "        \n",
    "        for cc, cue in enumerate(cue_level_names):\n",
    "        \n",
    "            h = plt.bar(ii+xjitters[cc], \\\n",
    "                             meanvals[cc,ii], \\\n",
    "                            color = cue_level_colors[cc,:], width=barwidth)\n",
    "            \n",
    "            plt.errorbar(ii+xjitters[cc], \\\n",
    "                             meanvals[cc,ii], \\\n",
    "                             semvals[cc,ii], \\\n",
    "                            color = 'k',\n",
    "                            linestyle='none')\n",
    "        \n",
    "            lh.append(h)\n",
    "    \n",
    "        if pvals[cbi, ii]<0.01:\n",
    "            height = np.max(meanvals[:,ii]+semvals[:,ii])+0.20\n",
    "            plt.plot(ii, height, '*', color='k')\n",
    "    \n",
    "        \n",
    "    plt.xticks(np.arange(n_image_types), image_type_names, rotation=45)\n",
    "    \n",
    "        \n",
    "        \n",
    "    \n",
    "    plt.axhline(0.0, color=[0.8, 0.8, 0.8], linestyle='--')\n",
    "    \n",
    "    ax.legend(lh, cue_level_names, loc='lower right')\n",
    "    \n",
    "    plt.ylabel('d-prime')\n",
    "    \n",
    "    plt.ylim([-2, 4.8])\n",
    "    \n",
    "    plt.title('Image set %d (n=%d)'%(cb, n_subs_plot))"
   ]
  },
  {
   "cell_type": "markdown",
   "metadata": {},
   "source": [
    "#### Analyze RTs"
   ]
  },
  {
   "cell_type": "code",
   "execution_count": 35,
   "metadata": {},
   "outputs": [
    {
     "name": "stdout",
     "output_type": "stream",
     "text": [
      "\n",
      "All subjects:\n",
      "(38, 2, 5)\n",
      "                   F Value  Num DF  Den DF        Pr > F\n",
      "cond              2.761161     1.0    37.0  1.050293e-01\n",
      "image_type       47.165243     4.0   148.0  1.641237e-25\n",
      "cond:image_type   6.324499     4.0   148.0  1.001426e-04\n"
     ]
    }
   ],
   "source": [
    "vals = rt_by_condition\n",
    "\n",
    "print('\\nAll subjects:')\n",
    "print(vals.shape)\n",
    "\n",
    "aov_table = stats_utils.rmanova_2way(vals, ['cond','image_type'])\n",
    "\n",
    "print(aov_table)"
   ]
  },
  {
   "cell_type": "markdown",
   "metadata": {},
   "source": [
    "#### compare basic vs superordinate, within image type"
   ]
  },
  {
   "cell_type": "code",
   "execution_count": 24,
   "metadata": {},
   "outputs": [
    {
     "name": "stdout",
     "output_type": "stream",
     "text": [
      "All subjects:\n",
      "(38, 2, 5)\n"
     ]
    },
    {
     "data": {
      "text/html": [
       "<div>\n",
       "<style scoped>\n",
       "    .dataframe tbody tr th:only-of-type {\n",
       "        vertical-align: middle;\n",
       "    }\n",
       "\n",
       "    .dataframe tbody tr th {\n",
       "        vertical-align: top;\n",
       "    }\n",
       "\n",
       "    .dataframe thead th {\n",
       "        text-align: right;\n",
       "    }\n",
       "</style>\n",
       "<table border=\"1\" class=\"dataframe\">\n",
       "  <thead>\n",
       "    <tr style=\"text-align: right;\">\n",
       "      <th></th>\n",
       "      <th>t (basic-super)</th>\n",
       "      <th>p</th>\n",
       "    </tr>\n",
       "  </thead>\n",
       "  <tbody>\n",
       "    <tr>\n",
       "      <th>pool1</th>\n",
       "      <td>-2.3117</td>\n",
       "      <td>0.065000</td>\n",
       "    </tr>\n",
       "    <tr>\n",
       "      <th>pool2</th>\n",
       "      <td>0.6855</td>\n",
       "      <td>0.692500</td>\n",
       "    </tr>\n",
       "    <tr>\n",
       "      <th>pool3</th>\n",
       "      <td>0.0313</td>\n",
       "      <td>0.928000</td>\n",
       "    </tr>\n",
       "    <tr>\n",
       "      <th>pool4</th>\n",
       "      <td>1.2759</td>\n",
       "      <td>0.343333</td>\n",
       "    </tr>\n",
       "    <tr>\n",
       "      <th>orig</th>\n",
       "      <td>-3.2948</td>\n",
       "      <td>0.020000</td>\n",
       "    </tr>\n",
       "  </tbody>\n",
       "</table>\n",
       "</div>"
      ],
      "text/plain": [
       "       t (basic-super)         p\n",
       "pool1          -2.3117  0.065000\n",
       "pool2           0.6855  0.692500\n",
       "pool3           0.0313  0.928000\n",
       "pool4           1.2759  0.343333\n",
       "orig           -3.2948  0.020000"
      ]
     },
     "execution_count": 24,
     "metadata": {},
     "output_type": "execute_result"
    }
   ],
   "source": [
    "tvals = np.zeros((5,))\n",
    "pvals = np.zeros((5,))\n",
    "\n",
    "df = pd.DataFrame(index=image_type_names)\n",
    "\n",
    "vals = rt_by_condition\n",
    "\n",
    "print('All subjects:')\n",
    "print(vals.shape)\n",
    "\n",
    "for ii in range(n_image_types):\n",
    "\n",
    "    p, t = stats_utils.paired_ttest_nonpar(vals[:,0,ii], vals[:,1,ii])\n",
    "\n",
    "    tvals[ii] = t\n",
    "    pvals[ii] = p\n",
    "\n",
    "df['t (basic-super)'] = tvals.round(4)\n",
    "\n",
    "_, pvals_fdr = stats_utils.fdr_keepshape(pvals, alpha=0.01, method='poscorr')\n",
    "df['p'] = pvals_fdr\n",
    "        \n",
    "df        \n",
    "    "
   ]
  },
  {
   "cell_type": "markdown",
   "metadata": {},
   "source": [
    "#### plot RTs, all subjects"
   ]
  },
  {
   "cell_type": "code",
   "execution_count": 25,
   "metadata": {},
   "outputs": [
    {
     "data": {
      "text/plain": [
       "Text(0.5, 1.0, 'All subjects (n=38)')"
      ]
     },
     "execution_count": 25,
     "metadata": {},
     "output_type": "execute_result"
    },
    {
     "data": {
      "image/png": "[encoded data removed]",
      "text/plain": [
       "<Figure size 600x400 with 1 Axes>"
      ]
     },
     "metadata": {},
     "output_type": "display_data"
    }
   ],
   "source": [
    "plot_utils.set_all_font_sizes(10)\n",
    "plt.figure(figsize=(6,4))\n",
    "\n",
    "vals = rt_by_condition\n",
    "\n",
    "n_subs_plot = vals.shape[0]\n",
    "    \n",
    "meanvals = np.mean(vals, axis=0)\n",
    "semvals = np.std(vals, axis=0)/np.sqrt(n_subs_plot)\n",
    "  \n",
    "ax = plt.subplot(1,1,1)\n",
    "\n",
    "\n",
    "lh = []\n",
    "\n",
    "for ii in range(n_image_types):\n",
    "    \n",
    "    for cc, cue in enumerate(cue_level_names):\n",
    "    \n",
    "        h = plt.bar(ii+xjitters[cc], \\\n",
    "                         meanvals[cc,ii], \\\n",
    "                        color = cue_level_colors[cc,:], width=barwidth)\n",
    "        \n",
    "        plt.errorbar(ii+xjitters[cc], \\\n",
    "                         meanvals[cc,ii], \\\n",
    "                         semvals[cc,ii], \\\n",
    "                        color = 'k',\n",
    "                        linestyle='none')\n",
    "    \n",
    "        lh.append(h)\n",
    "\n",
    "    if pvals[ii]<0.01:\n",
    "        height = np.max(meanvals[:,ii]+semvals[:,ii])+100\n",
    "        plt.plot(ii, height, '*', color='k')\n",
    "\n",
    "    \n",
    "plt.xticks(np.arange(n_image_types), image_type_names, rotation=45)\n",
    "\n",
    "    \n",
    "    \n",
    "\n",
    "# plt.axhline(0.0, color=[0.8, 0.8, 0.8], linestyle='--')\n",
    "\n",
    "ax.legend(lh, cue_level_names, loc='upper right')\n",
    "\n",
    "plt.ylabel('RT (ms)')\n",
    "\n",
    "plt.ylim([0, 1200])\n",
    "\n",
    "plt.title('All subjects (n=%d)'%(n_subs_plot))"
   ]
  },
  {
   "cell_type": "markdown",
   "metadata": {},
   "source": [
    "#### pairwise comparisons across image types"
   ]
  },
  {
   "cell_type": "code",
   "execution_count": 32,
   "metadata": {},
   "outputs": [
    {
     "data": {
      "text/html": [
       "<div>\n",
       "<style scoped>\n",
       "    .dataframe tbody tr th:only-of-type {\n",
       "        vertical-align: middle;\n",
       "    }\n",
       "\n",
       "    .dataframe tbody tr th {\n",
       "        vertical-align: top;\n",
       "    }\n",
       "\n",
       "    .dataframe thead th {\n",
       "        text-align: right;\n",
       "    }\n",
       "</style>\n",
       "<table border=\"1\" class=\"dataframe\">\n",
       "  <thead>\n",
       "    <tr style=\"text-align: right;\">\n",
       "      <th></th>\n",
       "      <th>t</th>\n",
       "      <th>p</th>\n",
       "    </tr>\n",
       "  </thead>\n",
       "  <tbody>\n",
       "    <tr>\n",
       "      <th>pool1 vs pool2</th>\n",
       "      <td>-10.0289</td>\n",
       "      <td>0.000000</td>\n",
       "    </tr>\n",
       "    <tr>\n",
       "      <th>pool1 vs pool3</th>\n",
       "      <td>-10.2817</td>\n",
       "      <td>0.000000</td>\n",
       "    </tr>\n",
       "    <tr>\n",
       "      <th>pool1 vs pool4</th>\n",
       "      <td>-10.3908</td>\n",
       "      <td>0.000000</td>\n",
       "    </tr>\n",
       "    <tr>\n",
       "      <th>pool1 vs orig</th>\n",
       "      <td>-6.9227</td>\n",
       "      <td>0.000000</td>\n",
       "    </tr>\n",
       "    <tr>\n",
       "      <th>pool2 vs pool3</th>\n",
       "      <td>-7.0772</td>\n",
       "      <td>0.000000</td>\n",
       "    </tr>\n",
       "    <tr>\n",
       "      <th>pool2 vs pool4</th>\n",
       "      <td>-7.1837</td>\n",
       "      <td>0.000000</td>\n",
       "    </tr>\n",
       "    <tr>\n",
       "      <th>pool2 vs orig</th>\n",
       "      <td>-2.9730</td>\n",
       "      <td>0.010000</td>\n",
       "    </tr>\n",
       "    <tr>\n",
       "      <th>pool3 vs pool4</th>\n",
       "      <td>-3.7482</td>\n",
       "      <td>0.000000</td>\n",
       "    </tr>\n",
       "    <tr>\n",
       "      <th>pool3 vs orig</th>\n",
       "      <td>0.1531</td>\n",
       "      <td>0.878000</td>\n",
       "    </tr>\n",
       "    <tr>\n",
       "      <th>pool4 vs orig</th>\n",
       "      <td>2.2761</td>\n",
       "      <td>0.033333</td>\n",
       "    </tr>\n",
       "  </tbody>\n",
       "</table>\n",
       "</div>"
      ],
      "text/plain": [
       "                      t         p\n",
       "pool1 vs pool2 -10.0289  0.000000\n",
       "pool1 vs pool3 -10.2817  0.000000\n",
       "pool1 vs pool4 -10.3908  0.000000\n",
       "pool1 vs orig   -6.9227  0.000000\n",
       "pool2 vs pool3  -7.0772  0.000000\n",
       "pool2 vs pool4  -7.1837  0.000000\n",
       "pool2 vs orig   -2.9730  0.010000\n",
       "pool3 vs pool4  -3.7482  0.000000\n",
       "pool3 vs orig    0.1531  0.878000\n",
       "pool4 vs orig    2.2761  0.033333"
      ]
     },
     "execution_count": 32,
     "metadata": {},
     "output_type": "execute_result"
    }
   ],
   "source": [
    "\n",
    "pairs_test = list(itertools.combinations(np.arange(5),2))\n",
    "n_pairs = len(pairs_test)\n",
    "pair_names = ['%s vs %s'%(image_type_names[ii], image_type_names[jj]) for ii, jj in pairs_test]\n",
    "\n",
    "tvals = np.zeros((n_pairs))\n",
    "pvals = np.zeros((n_pairs))\n",
    "\n",
    "df = pd.DataFrame(index=pair_names)\n",
    "\n",
    "\n",
    "# averaging across basic/super conds here\n",
    "vals = np.mean(rt_by_condition, axis=1)\n",
    "\n",
    "for pi, pair in enumerate(pairs_test):\n",
    "\n",
    "    vals1 = vals[:,pair[0]]\n",
    "    vals2 = vals[:,pair[1]]\n",
    "\n",
    "    p, t = stats_utils.paired_ttest_nonpar(vals1, vals2)\n",
    "\n",
    "    tvals[pi] = t\n",
    "    pvals[pi] = p\n",
    "\n",
    "df['t'] = tvals.round(4)\n",
    "\n",
    "_, pvals_fdr = stats_utils.fdr_keepshape(pvals, alpha=0.01, method='poscorr')\n",
    "df['p'] = pvals_fdr\n",
    "\n",
    "\n",
    "df   "
   ]
  },
  {
   "cell_type": "markdown",
   "metadata": {},
   "source": [
    "#### RTs: separate out the two image sets"
   ]
  },
  {
   "cell_type": "code",
   "execution_count": 28,
   "metadata": {},
   "outputs": [
    {
     "name": "stdout",
     "output_type": "stream",
     "text": [
      "\n",
      "Image set 1:\n",
      "(19, 2, 5)\n",
      "                   F Value  Num DF  Den DF        Pr > F\n",
      "cond              3.217396     1.0    18.0  8.967680e-02\n",
      "image_type       29.716363     4.0    72.0  1.340814e-14\n",
      "cond:image_type   6.620543     4.0    72.0  1.354216e-04\n",
      "\n",
      "Image set 2:\n",
      "(19, 2, 5)\n",
      "                   F Value  Num DF  Den DF        Pr > F\n",
      "cond              0.342259     1.0    18.0  5.657904e-01\n",
      "image_type       18.873891     4.0    72.0  1.192131e-10\n",
      "cond:image_type   1.514706     4.0    72.0  2.069694e-01\n"
     ]
    }
   ],
   "source": [
    "for cbi, cb in enumerate([1,2]):\n",
    "    \n",
    "    subjects_plot = (subject_cb==cbi) \n",
    "    n_subs_plot = np.sum(subjects_plot)\n",
    "    \n",
    "    vals = rt_by_condition[subjects_plot,:,:]\n",
    "    \n",
    "    print('\\nImage set %d:'%cb)\n",
    "    print(vals.shape)\n",
    "    \n",
    "    aov_table = stats_utils.rmanova_2way(vals, ['cond','image_type'])\n",
    "\n",
    "    print(aov_table)"
   ]
  },
  {
   "cell_type": "code",
   "execution_count": 29,
   "metadata": {},
   "outputs": [
    {
     "name": "stdout",
     "output_type": "stream",
     "text": [
      "\n",
      "Image set 1:\n",
      "(19, 2, 5)\n",
      "\n",
      "Image set 2:\n",
      "(19, 2, 5)\n"
     ]
    },
    {
     "data": {
      "text/html": [
       "<div>\n",
       "<style scoped>\n",
       "    .dataframe tbody tr th:only-of-type {\n",
       "        vertical-align: middle;\n",
       "    }\n",
       "\n",
       "    .dataframe tbody tr th {\n",
       "        vertical-align: top;\n",
       "    }\n",
       "\n",
       "    .dataframe thead th {\n",
       "        text-align: right;\n",
       "    }\n",
       "</style>\n",
       "<table border=\"1\" class=\"dataframe\">\n",
       "  <thead>\n",
       "    <tr style=\"text-align: right;\">\n",
       "      <th></th>\n",
       "      <th>Set 1: t</th>\n",
       "      <th>Set 1: p</th>\n",
       "      <th>Set 2: t</th>\n",
       "      <th>Set 2: p</th>\n",
       "    </tr>\n",
       "  </thead>\n",
       "  <tbody>\n",
       "    <tr>\n",
       "      <th>pool1</th>\n",
       "      <td>-2.0015</td>\n",
       "      <td>0.240000</td>\n",
       "      <td>-1.3089</td>\n",
       "      <td>0.566667</td>\n",
       "    </tr>\n",
       "    <tr>\n",
       "      <th>pool2</th>\n",
       "      <td>0.8170</td>\n",
       "      <td>0.566667</td>\n",
       "      <td>0.0209</td>\n",
       "      <td>0.940000</td>\n",
       "    </tr>\n",
       "    <tr>\n",
       "      <th>pool3</th>\n",
       "      <td>-0.6517</td>\n",
       "      <td>0.566667</td>\n",
       "      <td>0.7580</td>\n",
       "      <td>0.566667</td>\n",
       "    </tr>\n",
       "    <tr>\n",
       "      <th>pool4</th>\n",
       "      <td>1.0249</td>\n",
       "      <td>0.566667</td>\n",
       "      <td>0.8152</td>\n",
       "      <td>0.566667</td>\n",
       "    </tr>\n",
       "    <tr>\n",
       "      <th>orig</th>\n",
       "      <td>-4.0604</td>\n",
       "      <td>0.000000</td>\n",
       "      <td>-1.2323</td>\n",
       "      <td>0.566667</td>\n",
       "    </tr>\n",
       "  </tbody>\n",
       "</table>\n",
       "</div>"
      ],
      "text/plain": [
       "       Set 1: t  Set 1: p  Set 2: t  Set 2: p\n",
       "pool1   -2.0015  0.240000   -1.3089  0.566667\n",
       "pool2    0.8170  0.566667    0.0209  0.940000\n",
       "pool3   -0.6517  0.566667    0.7580  0.566667\n",
       "pool4    1.0249  0.566667    0.8152  0.566667\n",
       "orig    -4.0604  0.000000   -1.2323  0.566667"
      ]
     },
     "execution_count": 29,
     "metadata": {},
     "output_type": "execute_result"
    }
   ],
   "source": [
    "tvals = np.zeros((2,5))\n",
    "pvals = np.zeros((2,5))\n",
    "\n",
    "df = pd.DataFrame(index=image_type_names)\n",
    "\n",
    "for cbi, cb in enumerate([1,2]):\n",
    "    \n",
    "    subjects_plot = (subject_cb==cbi) \n",
    "    n_subs_plot = np.sum(subjects_plot)\n",
    "    \n",
    "    vals = rt_by_condition[subjects_plot,:,:]\n",
    "    \n",
    "    print('\\nImage set %d:'%cb)\n",
    "    print(vals.shape)\n",
    "    \n",
    "    for ii in range(n_image_types):\n",
    "        \n",
    "        p, t = stats_utils.paired_ttest_nonpar(vals[:,0,ii], vals[:,1,ii])\n",
    "        \n",
    "        tvals[cbi, ii] = t\n",
    "        pvals[cbi, ii] = p\n",
    "        \n",
    "# fdr correcting all the values together\n",
    "_, pvals_fdr = stats_utils.fdr_keepshape(pvals, alpha=0.01, method='poscorr')\n",
    "\n",
    "for cbi, cb in enumerate([1,2]):\n",
    "    \n",
    "    df['Set %d: t'%cb] = tvals[cbi,:].round(4)\n",
    "    df['Set %d: p'%cb] = pvals_fdr[cbi,:]\n",
    "\n",
    "df"
   ]
  },
  {
   "cell_type": "code",
   "execution_count": 36,
   "metadata": {},
   "outputs": [
    {
     "data": {
      "image/png": "[encoded data removed]",
      "text/plain": [
       "<Figure size 1200x400 with 2 Axes>"
      ]
     },
     "metadata": {},
     "output_type": "display_data"
    }
   ],
   "source": [
    "plot_utils.set_all_font_sizes(10)\n",
    "plt.figure(figsize=(12,4))\n",
    "    \n",
    "for cbi, cb in enumerate([1,2]):\n",
    "\n",
    "    ax = plt.subplot(1,2,cb)\n",
    "    \n",
    "    vals = rt_by_condition[subject_cb==cbi,:,:]\n",
    "    \n",
    "    n_subs_plot = vals.shape[0]\n",
    "        \n",
    "    meanvals = np.mean(vals, axis=0)\n",
    "    semvals = np.std(vals, axis=0)/np.sqrt(n_subs_plot)\n",
    "    \n",
    "    lh = []\n",
    "    \n",
    "    for ii in range(n_image_types):\n",
    "        \n",
    "        for cc, cue in enumerate(cue_level_names):\n",
    "        \n",
    "            h = plt.bar(ii+xjitters[cc], \\\n",
    "                             meanvals[cc,ii], \\\n",
    "                            color = cue_level_colors[cc,:], width=barwidth)\n",
    "            \n",
    "            plt.errorbar(ii+xjitters[cc], \\\n",
    "                             meanvals[cc,ii], \\\n",
    "                             semvals[cc,ii], \\\n",
    "                            color = 'k',\n",
    "                            linestyle='none')\n",
    "        \n",
    "            lh.append(h)\n",
    "    \n",
    "        if pvals[cbi, ii]<0.01:\n",
    "            height = np.max(meanvals[:,ii]+semvals[:,ii])+100\n",
    "            plt.plot(ii, height, '*', color='k')\n",
    "    \n",
    "        \n",
    "    plt.xticks(np.arange(n_image_types), image_type_names, rotation=45)\n",
    "    \n",
    "        \n",
    "        \n",
    "    \n",
    "    # plt.axhline(0.0, color=[0.8, 0.8, 0.8], linestyle='--')\n",
    "    \n",
    "    ax.legend(lh, cue_level_names, loc='upper right')\n",
    "    \n",
    "    plt.ylabel('RT (ms)')\n",
    "    \n",
    "    plt.ylim([0, 1200])\n",
    "    \n",
    "    plt.title('Image set %d (n=%d)'%(cb, n_subs_plot))"
   ]
  },
  {
   "cell_type": "markdown",
   "metadata": {},
   "source": [
    "#### pairwise comparisons across image types"
   ]
  },
  {
   "cell_type": "code",
   "execution_count": 31,
   "metadata": {},
   "outputs": [
    {
     "name": "stdout",
     "output_type": "stream",
     "text": [
      "(19, 5)\n",
      "image set 1\n",
      "                     t      p\n",
      "pool1 vs pool2 -7.3341  0.000\n",
      "pool1 vs pool3 -7.5617  0.000\n",
      "pool1 vs pool4 -7.7940  0.000\n",
      "pool1 vs orig  -5.9465  0.000\n",
      "pool2 vs pool3 -4.7590  0.000\n",
      "pool2 vs pool4 -5.1586  0.000\n",
      "pool2 vs orig  -2.9899  0.004\n",
      "pool3 vs pool4 -3.2599  0.000\n",
      "pool3 vs orig  -0.7129  0.452\n",
      "pool4 vs orig   1.1196  0.312\n",
      "(19, 5)\n",
      "image set 2\n",
      "                     t      p\n",
      "pool1 vs pool2 -6.7293  0.000\n",
      "pool1 vs pool3 -6.8217  0.000\n",
      "pool1 vs pool4 -6.7719  0.000\n",
      "pool1 vs orig  -3.9783  0.000\n",
      "pool2 vs pool3 -5.2974  0.000\n",
      "pool2 vs pool4 -4.9431  0.000\n",
      "pool2 vs orig  -1.2682  0.206\n",
      "pool3 vs pool4 -2.0907  0.046\n",
      "pool3 vs orig   0.7222  0.490\n",
      "pool4 vs orig   1.9971  0.072\n"
     ]
    }
   ],
   "source": [
    "\n",
    "for cbi, cb in enumerate([1,2]):\n",
    "        \n",
    "    pairs_test = list(itertools.combinations(np.arange(5),2))\n",
    "    n_pairs = len(pairs_test)\n",
    "    pair_names = ['%s vs %s'%(image_type_names[ii], image_type_names[jj]) for ii, jj in pairs_test]\n",
    "    \n",
    "    tvals = np.zeros((n_pairs))\n",
    "    pvals = np.zeros((n_pairs))\n",
    "    \n",
    "    df = pd.DataFrame(index=pair_names)\n",
    "    \n",
    "    \n",
    "    # averaging across basic/super conds here\n",
    "    vals = np.mean(rt_by_condition[subject_cb==cbi,:,:], axis=1)\n",
    "\n",
    "    print(vals.shape)\n",
    "    for pi, pair in enumerate(pairs_test):\n",
    "    \n",
    "        vals1 = vals[:,pair[0]]\n",
    "        vals2 = vals[:,pair[1]]\n",
    "    \n",
    "        p, t = stats_utils.paired_ttest_nonpar(vals1, vals2)\n",
    "    \n",
    "        tvals[pi] = t\n",
    "        pvals[pi] = p\n",
    "    \n",
    "    df['t'] = tvals.round(4)\n",
    "    \n",
    "    _, pvals_fdr = stats_utils.fdr_keepshape(pvals, alpha=0.01, method='poscorr')\n",
    "    df['p'] = pvals_fdr\n",
    "    \n",
    "    print('image set %d'%cb)\n",
    "    print(df)   "
   ]
  }
 ],
 "metadata": {
  "kernelspec": {
   "display_name": "Python 3 (ipykernel)",
   "language": "python",
   "name": "python3"
  },
  "language_info": {
   "codemirror_mode": {
    "name": "ipython",
    "version": 3
   },
   "file_extension": ".py",
   "mimetype": "text/x-python",
   "name": "python",
   "nbconvert_exporter": "python",
   "pygments_lexer": "ipython3",
   "version": "3.10.9"
  }
 },
 "nbformat": 4,
 "nbformat_minor": 4
}
