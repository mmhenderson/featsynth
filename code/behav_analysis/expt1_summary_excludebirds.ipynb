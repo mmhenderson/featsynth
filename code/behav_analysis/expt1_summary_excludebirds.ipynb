{
 "cells": [
  {
   "cell_type": "code",
   "execution_count": 1,
   "metadata": {},
   "outputs": [],
   "source": [
    "import numpy as np\n",
    "import pandas as pd\n",
    "import matplotlib.pyplot as plt\n",
    "from matplotlib import cm\n",
    "import itertools\n",
    "\n",
    "import os, sys\n",
    "\n",
    "project_root = '/user_data/mmhender/featsynth/'\n",
    "# sys.path.append(os.path.join(project_root, 'code'))\n",
    "sys.path.insert(0, os.path.join(project_root, 'code'))\n",
    "from utils import stats_utils, plot_utils\n",
    "from behav_analysis import analyze_expt1"
   ]
  },
  {
   "cell_type": "code",
   "execution_count": 2,
   "metadata": {},
   "outputs": [],
   "source": [
    "super_names, super_cbinds, basic_names, basic_inds, \\\n",
    "        super_names_long, super_inds_long, n_basic, n_super, n_basic_each_super = \\\n",
    "            analyze_expt1.get_categ_info()\n",
    "\n",
    "trial_data_all, subjects, subject_cb, cue_level_names, image_type_names = analyze_expt1.load_data()\n",
    " \n",
    "n_subjects = len(subjects)\n",
    "n_cue_levels = len(cue_level_names)\n",
    "n_image_types = len(image_type_names)\n",
    "\n",
    "acc_by_condition, dprime_by_condition, propyes_by_condition, rt_by_condition = \\\n",
    "    analyze_expt1.get_perf_by_cond_excludebirds()\n"
   ]
  },
  {
   "cell_type": "markdown",
   "metadata": {},
   "source": [
    "#### Plotting params"
   ]
  },
  {
   "cell_type": "code",
   "execution_count": 3,
   "metadata": {},
   "outputs": [],
   "source": [
    "cue_level_colors = np.array([[93,192,219], [44,92,168]])/255\n",
    "point_types = ['o','x']\n",
    "markersize = 4;\n",
    "xjitters = np.array([-0.2, 0.2])\n",
    "barwidth = xjitters[1]*2"
   ]
  },
  {
   "cell_type": "markdown",
   "metadata": {},
   "source": [
    "#### d-prime values: two-way repeated measures anova, all subjects"
   ]
  },
  {
   "cell_type": "code",
   "execution_count": 4,
   "metadata": {},
   "outputs": [
    {
     "name": "stdout",
     "output_type": "stream",
     "text": [
      "\n",
      "All subjects:\n",
      "(47, 2, 5)\n",
      "                    F Value  Num DF  Den DF        Pr > F\n",
      "cond             148.797260     1.0    46.0  5.092890e-16\n",
      "image_type       302.896233     4.0   184.0  8.983631e-80\n",
      "cond:image_type    5.102535     4.0   184.0  6.382988e-04\n"
     ]
    }
   ],
   "source": [
    "vals = dprime_by_condition\n",
    "\n",
    "print('\\nAll subjects:')\n",
    "print(vals.shape)\n",
    "\n",
    "aov_table = stats_utils.rmanova_2way(vals, ['cond','image_type'])\n",
    "\n",
    "print(aov_table)"
   ]
  },
  {
   "cell_type": "markdown",
   "metadata": {},
   "source": [
    "#### t-tests comparing basic vs superordinate, within image type"
   ]
  },
  {
   "cell_type": "code",
   "execution_count": 5,
   "metadata": {},
   "outputs": [
    {
     "name": "stdout",
     "output_type": "stream",
     "text": [
      "All subjects:\n",
      "(47, 2, 5)\n"
     ]
    },
    {
     "data": {
      "text/html": [
       "<div>\n",
       "<style scoped>\n",
       "    .dataframe tbody tr th:only-of-type {\n",
       "        vertical-align: middle;\n",
       "    }\n",
       "\n",
       "    .dataframe tbody tr th {\n",
       "        vertical-align: top;\n",
       "    }\n",
       "\n",
       "    .dataframe thead th {\n",
       "        text-align: right;\n",
       "    }\n",
       "</style>\n",
       "<table border=\"1\" class=\"dataframe\">\n",
       "  <thead>\n",
       "    <tr style=\"text-align: right;\">\n",
       "      <th></th>\n",
       "      <th>t (basic-super)</th>\n",
       "      <th>p</th>\n",
       "    </tr>\n",
       "  </thead>\n",
       "  <tbody>\n",
       "    <tr>\n",
       "      <th>pool1</th>\n",
       "      <td>-3.6649</td>\n",
       "      <td>0.000</td>\n",
       "    </tr>\n",
       "    <tr>\n",
       "      <th>pool2</th>\n",
       "      <td>-8.2387</td>\n",
       "      <td>0.000</td>\n",
       "    </tr>\n",
       "    <tr>\n",
       "      <th>pool3</th>\n",
       "      <td>-6.9855</td>\n",
       "      <td>0.000</td>\n",
       "    </tr>\n",
       "    <tr>\n",
       "      <th>pool4</th>\n",
       "      <td>-8.4211</td>\n",
       "      <td>0.000</td>\n",
       "    </tr>\n",
       "    <tr>\n",
       "      <th>orig</th>\n",
       "      <td>-3.7380</td>\n",
       "      <td>0.002</td>\n",
       "    </tr>\n",
       "  </tbody>\n",
       "</table>\n",
       "</div>"
      ],
      "text/plain": [
       "       t (basic-super)      p\n",
       "pool1          -3.6649  0.000\n",
       "pool2          -8.2387  0.000\n",
       "pool3          -6.9855  0.000\n",
       "pool4          -8.4211  0.000\n",
       "orig           -3.7380  0.002"
      ]
     },
     "execution_count": 5,
     "metadata": {},
     "output_type": "execute_result"
    }
   ],
   "source": [
    "tvals = np.zeros((5,))\n",
    "pvals = np.zeros((5,))\n",
    "\n",
    "df = pd.DataFrame(index=image_type_names)\n",
    "\n",
    "vals = dprime_by_condition\n",
    "\n",
    "print('All subjects:')\n",
    "print(vals.shape)\n",
    "\n",
    "for ii in range(n_image_types):\n",
    "\n",
    "    p, t = stats_utils.paired_ttest_nonpar(vals[:,0,ii], vals[:,1,ii])\n",
    "\n",
    "    tvals[ii] = t\n",
    "    pvals[ii] = p\n",
    "\n",
    "df['t (basic-super)'] = tvals.round(4)\n",
    "\n",
    "_, pvals_fdr = stats_utils.fdr_keepshape(pvals, alpha=0.01, method='poscorr')\n",
    "df['p'] = pvals_fdr\n",
    "# df['p'] = pvals\n",
    "        \n",
    "df        \n",
    "    "
   ]
  },
  {
   "cell_type": "markdown",
   "metadata": {},
   "source": [
    "#### plot dprime, all subjects"
   ]
  },
  {
   "cell_type": "code",
   "execution_count": 6,
   "metadata": {},
   "outputs": [
    {
     "data": {
      "text/plain": [
       "Text(0.5, 1.0, 'All subjects (n=47)')"
      ]
     },
     "execution_count": 6,
     "metadata": {},
     "output_type": "execute_result"
    },
    {
     "data": {
      "image/png": "[encoded data removed]",
      "text/plain": [
       "<Figure size 600x400 with 1 Axes>"
      ]
     },
     "metadata": {},
     "output_type": "display_data"
    }
   ],
   "source": [
    "plot_utils.set_all_font_sizes(10)\n",
    "plt.figure(figsize=(6,4))\n",
    "\n",
    "vals = dprime_by_condition\n",
    "\n",
    "n_subs_plot = vals.shape[0]\n",
    "    \n",
    "meanvals = np.mean(vals, axis=0)\n",
    "semvals = np.std(vals, axis=0)/np.sqrt(n_subs_plot)\n",
    "  \n",
    "ax = plt.subplot(1,1,1)\n",
    "\n",
    "\n",
    "lh = []\n",
    "\n",
    "for ii in range(n_image_types):\n",
    "    \n",
    "    for cc, cue in enumerate(cue_level_names):\n",
    "    \n",
    "        h = plt.bar(ii+xjitters[cc], \\\n",
    "                         meanvals[cc,ii], \\\n",
    "                        color = cue_level_colors[cc,:], width=barwidth)\n",
    "        \n",
    "        plt.errorbar(ii+xjitters[cc], \\\n",
    "                         meanvals[cc,ii], \\\n",
    "                         semvals[cc,ii], \\\n",
    "                        color = 'k',\n",
    "                        linestyle='none')\n",
    "    \n",
    "        lh.append(h)\n",
    "\n",
    "    if pvals[ii]<0.01:\n",
    "        height = np.max(meanvals[:,ii]+semvals[:,ii])+0.20\n",
    "        plt.plot(ii, height, '*', color='k')\n",
    "\n",
    "    \n",
    "plt.xticks(np.arange(n_image_types), image_type_names, rotation=45)\n",
    "\n",
    "    \n",
    "    \n",
    "\n",
    "plt.axhline(0.0, color=[0.8, 0.8, 0.8], linestyle='--')\n",
    "\n",
    "ax.legend(lh, cue_level_names, loc='lower right')\n",
    "\n",
    "plt.ylabel('d-prime')\n",
    "\n",
    "plt.ylim([-2, 4.8])\n",
    "\n",
    "plt.title('All subjects (n=%d)'%(n_subs_plot))"
   ]
  },
  {
   "cell_type": "markdown",
   "metadata": {},
   "source": [
    "#### pairwise comparisons across image types"
   ]
  },
  {
   "cell_type": "code",
   "execution_count": 7,
   "metadata": {},
   "outputs": [
    {
     "data": {
      "text/html": [
       "<div>\n",
       "<style scoped>\n",
       "    .dataframe tbody tr th:only-of-type {\n",
       "        vertical-align: middle;\n",
       "    }\n",
       "\n",
       "    .dataframe tbody tr th {\n",
       "        vertical-align: top;\n",
       "    }\n",
       "\n",
       "    .dataframe thead th {\n",
       "        text-align: right;\n",
       "    }\n",
       "</style>\n",
       "<table border=\"1\" class=\"dataframe\">\n",
       "  <thead>\n",
       "    <tr style=\"text-align: right;\">\n",
       "      <th></th>\n",
       "      <th>t</th>\n",
       "      <th>p</th>\n",
       "    </tr>\n",
       "  </thead>\n",
       "  <tbody>\n",
       "    <tr>\n",
       "      <th>pool1 vs pool2</th>\n",
       "      <td>-8.5907</td>\n",
       "      <td>0.0</td>\n",
       "    </tr>\n",
       "    <tr>\n",
       "      <th>pool1 vs pool3</th>\n",
       "      <td>-15.0396</td>\n",
       "      <td>0.0</td>\n",
       "    </tr>\n",
       "    <tr>\n",
       "      <th>pool1 vs pool4</th>\n",
       "      <td>-21.0784</td>\n",
       "      <td>0.0</td>\n",
       "    </tr>\n",
       "    <tr>\n",
       "      <th>pool1 vs orig</th>\n",
       "      <td>-25.9134</td>\n",
       "      <td>0.0</td>\n",
       "    </tr>\n",
       "    <tr>\n",
       "      <th>pool2 vs pool3</th>\n",
       "      <td>-3.6601</td>\n",
       "      <td>0.0</td>\n",
       "    </tr>\n",
       "    <tr>\n",
       "      <th>pool2 vs pool4</th>\n",
       "      <td>-10.2997</td>\n",
       "      <td>0.0</td>\n",
       "    </tr>\n",
       "    <tr>\n",
       "      <th>pool2 vs orig</th>\n",
       "      <td>-20.1643</td>\n",
       "      <td>0.0</td>\n",
       "    </tr>\n",
       "    <tr>\n",
       "      <th>pool3 vs pool4</th>\n",
       "      <td>-8.4845</td>\n",
       "      <td>0.0</td>\n",
       "    </tr>\n",
       "    <tr>\n",
       "      <th>pool3 vs orig</th>\n",
       "      <td>-17.6417</td>\n",
       "      <td>0.0</td>\n",
       "    </tr>\n",
       "    <tr>\n",
       "      <th>pool4 vs orig</th>\n",
       "      <td>-14.9995</td>\n",
       "      <td>0.0</td>\n",
       "    </tr>\n",
       "  </tbody>\n",
       "</table>\n",
       "</div>"
      ],
      "text/plain": [
       "                      t    p\n",
       "pool1 vs pool2  -8.5907  0.0\n",
       "pool1 vs pool3 -15.0396  0.0\n",
       "pool1 vs pool4 -21.0784  0.0\n",
       "pool1 vs orig  -25.9134  0.0\n",
       "pool2 vs pool3  -3.6601  0.0\n",
       "pool2 vs pool4 -10.2997  0.0\n",
       "pool2 vs orig  -20.1643  0.0\n",
       "pool3 vs pool4  -8.4845  0.0\n",
       "pool3 vs orig  -17.6417  0.0\n",
       "pool4 vs orig  -14.9995  0.0"
      ]
     },
     "execution_count": 7,
     "metadata": {},
     "output_type": "execute_result"
    }
   ],
   "source": [
    "pairs_test = list(itertools.combinations(np.arange(5),2))\n",
    "n_pairs = len(pairs_test)\n",
    "pair_names = ['%s vs %s'%(image_type_names[ii], image_type_names[jj]) for ii, jj in pairs_test]\n",
    "\n",
    "tvals = np.zeros((n_pairs))\n",
    "pvals = np.zeros((n_pairs))\n",
    "\n",
    "df = pd.DataFrame(index=pair_names)\n",
    "\n",
    "# averaging across basic/super conds here\n",
    "vals = np.mean(dprime_by_condition, axis=1)\n",
    "\n",
    "for pi, pair in enumerate(pairs_test):\n",
    "\n",
    "    vals1 = vals[:,pair[0]]\n",
    "    vals2 = vals[:,pair[1]]\n",
    "\n",
    "    p, t = stats_utils.paired_ttest_nonpar(vals1, vals2)\n",
    "\n",
    "    tvals[pi] = t\n",
    "    pvals[pi] = p\n",
    "\n",
    "df['t'] = tvals.round(4)\n",
    "\n",
    "_, pvals_fdr = stats_utils.fdr_keepshape(pvals, alpha=0.01, method='poscorr')\n",
    "df['p'] = pvals_fdr\n",
    "\n",
    "df   "
   ]
  },
  {
   "cell_type": "markdown",
   "metadata": {},
   "source": [
    "#### d-prime: separate out the two image sets"
   ]
  },
  {
   "cell_type": "code",
   "execution_count": 8,
   "metadata": {},
   "outputs": [
    {
     "name": "stdout",
     "output_type": "stream",
     "text": [
      "\n",
      "Image set 1:\n",
      "(23, 2, 5)\n",
      "                    F Value  Num DF  Den DF        Pr > F\n",
      "cond              50.657567     1.0    22.0  3.882537e-07\n",
      "image_type       202.264471     4.0    88.0  1.748063e-43\n",
      "cond:image_type    4.174836     4.0    88.0  3.834995e-03\n",
      "\n",
      "Image set 2:\n",
      "(24, 2, 5)\n",
      "                    F Value  Num DF  Den DF        Pr > F\n",
      "cond             123.342781     1.0    23.0  1.019530e-10\n",
      "image_type       170.458059     4.0    92.0  1.188119e-41\n",
      "cond:image_type    7.576509     4.0    92.0  2.540961e-05\n"
     ]
    }
   ],
   "source": [
    "for cbi, cb in enumerate([1,2]):\n",
    "    \n",
    "    subjects_plot = (subject_cb==cbi) \n",
    "    n_subs_plot = np.sum(subjects_plot)\n",
    "    \n",
    "    vals = dprime_by_condition[subjects_plot,:,:]\n",
    "    \n",
    "    print('\\nImage set %d:'%cb)\n",
    "    print(vals.shape)\n",
    "    \n",
    "    aov_table = stats_utils.rmanova_2way(vals, ['cond','image_type'])\n",
    "\n",
    "    print(aov_table)"
   ]
  },
  {
   "cell_type": "markdown",
   "metadata": {},
   "source": [
    "#### t-tests comparing basic vs superordinate, within image type"
   ]
  },
  {
   "cell_type": "code",
   "execution_count": 9,
   "metadata": {},
   "outputs": [
    {
     "name": "stdout",
     "output_type": "stream",
     "text": [
      "\n",
      "Image set 1:\n",
      "(23, 2, 5)\n",
      "\n",
      "Image set 2:\n",
      "(24, 2, 5)\n"
     ]
    },
    {
     "data": {
      "text/html": [
       "<div>\n",
       "<style scoped>\n",
       "    .dataframe tbody tr th:only-of-type {\n",
       "        vertical-align: middle;\n",
       "    }\n",
       "\n",
       "    .dataframe tbody tr th {\n",
       "        vertical-align: top;\n",
       "    }\n",
       "\n",
       "    .dataframe thead th {\n",
       "        text-align: right;\n",
       "    }\n",
       "</style>\n",
       "<table border=\"1\" class=\"dataframe\">\n",
       "  <thead>\n",
       "    <tr style=\"text-align: right;\">\n",
       "      <th></th>\n",
       "      <th>Set 1: t</th>\n",
       "      <th>Set 1: p</th>\n",
       "      <th>Set 2: t</th>\n",
       "      <th>Set 2: p</th>\n",
       "    </tr>\n",
       "  </thead>\n",
       "  <tbody>\n",
       "    <tr>\n",
       "      <th>pool1</th>\n",
       "      <td>-1.4812</td>\n",
       "      <td>0.133333</td>\n",
       "      <td>-4.0907</td>\n",
       "      <td>0.0025</td>\n",
       "    </tr>\n",
       "    <tr>\n",
       "      <th>pool2</th>\n",
       "      <td>-6.3627</td>\n",
       "      <td>0.000000</td>\n",
       "      <td>-5.7580</td>\n",
       "      <td>0.0000</td>\n",
       "    </tr>\n",
       "    <tr>\n",
       "      <th>pool3</th>\n",
       "      <td>-4.0773</td>\n",
       "      <td>0.000000</td>\n",
       "      <td>-6.2350</td>\n",
       "      <td>0.0000</td>\n",
       "    </tr>\n",
       "    <tr>\n",
       "      <th>pool4</th>\n",
       "      <td>-4.7870</td>\n",
       "      <td>0.000000</td>\n",
       "      <td>-7.4858</td>\n",
       "      <td>0.0000</td>\n",
       "    </tr>\n",
       "    <tr>\n",
       "      <th>orig</th>\n",
       "      <td>-4.1088</td>\n",
       "      <td>0.000000</td>\n",
       "      <td>-1.1616</td>\n",
       "      <td>0.2720</td>\n",
       "    </tr>\n",
       "  </tbody>\n",
       "</table>\n",
       "</div>"
      ],
      "text/plain": [
       "       Set 1: t  Set 1: p  Set 2: t  Set 2: p\n",
       "pool1   -1.4812  0.133333   -4.0907    0.0025\n",
       "pool2   -6.3627  0.000000   -5.7580    0.0000\n",
       "pool3   -4.0773  0.000000   -6.2350    0.0000\n",
       "pool4   -4.7870  0.000000   -7.4858    0.0000\n",
       "orig    -4.1088  0.000000   -1.1616    0.2720"
      ]
     },
     "execution_count": 9,
     "metadata": {},
     "output_type": "execute_result"
    }
   ],
   "source": [
    "tvals = np.zeros((2,5))\n",
    "pvals = np.zeros((2,5))\n",
    "\n",
    "df = pd.DataFrame(index=image_type_names)\n",
    "\n",
    "for cbi, cb in enumerate([1,2]):\n",
    "    \n",
    "    subjects_plot = (subject_cb==cbi) \n",
    "    n_subs_plot = np.sum(subjects_plot)\n",
    "    \n",
    "    vals = dprime_by_condition[subjects_plot,:,:]\n",
    "    \n",
    "    print('\\nImage set %d:'%cb)\n",
    "    print(vals.shape)\n",
    "    \n",
    "    for ii in range(n_image_types):\n",
    "        \n",
    "        p, t = stats_utils.paired_ttest_nonpar(vals[:,0,ii], vals[:,1,ii])\n",
    "        \n",
    "        tvals[cbi, ii] = t\n",
    "        pvals[cbi, ii] = p\n",
    "        \n",
    "# fdr correcting all the values together\n",
    "_, pvals_fdr = stats_utils.fdr_keepshape(pvals, alpha=0.01, method='poscorr')\n",
    "\n",
    "for cbi, cb in enumerate([1,2]):\n",
    "    \n",
    "    df['Set %d: t'%cb] = tvals[cbi,:].round(4)\n",
    "    df['Set %d: p'%cb] = pvals_fdr[cbi,:]\n",
    "    \n",
    "\n",
    "df"
   ]
  },
  {
   "cell_type": "markdown",
   "metadata": {},
   "source": [
    "#### plot d-prime for each image set"
   ]
  },
  {
   "cell_type": "code",
   "execution_count": 10,
   "metadata": {},
   "outputs": [
    {
     "data": {
      "image/png": "[encoded data removed]",
      "text/plain": [
       "<Figure size 1200x400 with 2 Axes>"
      ]
     },
     "metadata": {},
     "output_type": "display_data"
    }
   ],
   "source": [
    "plot_utils.set_all_font_sizes(10)\n",
    "plt.figure(figsize=(12,4))\n",
    "    \n",
    "for cbi, cb in enumerate([1,2]):\n",
    "\n",
    "    ax = plt.subplot(1,2,cb)\n",
    "    \n",
    "    vals = dprime_by_condition[subject_cb==cbi,:,:]\n",
    "    \n",
    "    n_subs_plot = vals.shape[0]\n",
    "        \n",
    "    meanvals = np.mean(vals, axis=0)\n",
    "    semvals = np.std(vals, axis=0)/np.sqrt(n_subs_plot)\n",
    "    \n",
    "    lh = []\n",
    "    \n",
    "    for ii in range(n_image_types):\n",
    "        \n",
    "        for cc, cue in enumerate(cue_level_names):\n",
    "        \n",
    "            h = plt.bar(ii+xjitters[cc], \\\n",
    "                             meanvals[cc,ii], \\\n",
    "                            color = cue_level_colors[cc,:], width=barwidth)\n",
    "            \n",
    "            plt.errorbar(ii+xjitters[cc], \\\n",
    "                             meanvals[cc,ii], \\\n",
    "                             semvals[cc,ii], \\\n",
    "                            color = 'k',\n",
    "                            linestyle='none')\n",
    "        \n",
    "            lh.append(h)\n",
    "    \n",
    "        if pvals[cbi, ii]<0.01:\n",
    "            height = np.max(meanvals[:,ii]+semvals[:,ii])+0.20\n",
    "            plt.plot(ii, height, '*', color='k')\n",
    "    \n",
    "        \n",
    "    plt.xticks(np.arange(n_image_types), image_type_names, rotation=45)\n",
    "    \n",
    "        \n",
    "        \n",
    "    \n",
    "    plt.axhline(0.0, color=[0.8, 0.8, 0.8], linestyle='--')\n",
    "    \n",
    "    ax.legend(lh, cue_level_names, loc='lower right')\n",
    "    \n",
    "    plt.ylabel('d-prime')\n",
    "    \n",
    "    plt.ylim([-2, 4.8])\n",
    "    \n",
    "    plt.title('Image set %d (n=%d)'%(cb, n_subs_plot))"
   ]
  },
  {
   "cell_type": "markdown",
   "metadata": {},
   "source": [
    "#### Analyze RTs"
   ]
  },
  {
   "cell_type": "code",
   "execution_count": 11,
   "metadata": {},
   "outputs": [
    {
     "name": "stdout",
     "output_type": "stream",
     "text": [
      "\n",
      "All subjects:\n",
      "(47, 2, 5)\n",
      "                   F Value  Num DF  Den DF        Pr > F\n",
      "cond              1.617543     1.0    46.0  2.098273e-01\n",
      "image_type       20.431559     4.0   184.0  6.054387e-14\n",
      "cond:image_type   4.342309     4.0   184.0  2.223271e-03\n"
     ]
    }
   ],
   "source": [
    "vals = rt_by_condition\n",
    "\n",
    "print('\\nAll subjects:')\n",
    "print(vals.shape)\n",
    "\n",
    "aov_table = stats_utils.rmanova_2way(vals, ['cond','image_type'])\n",
    "\n",
    "print(aov_table)"
   ]
  },
  {
   "cell_type": "markdown",
   "metadata": {},
   "source": [
    "#### compare basic vs superordinate, within image type"
   ]
  },
  {
   "cell_type": "code",
   "execution_count": 12,
   "metadata": {},
   "outputs": [
    {
     "name": "stdout",
     "output_type": "stream",
     "text": [
      "All subjects:\n",
      "(47, 2, 5)\n"
     ]
    },
    {
     "data": {
      "text/html": [
       "<div>\n",
       "<style scoped>\n",
       "    .dataframe tbody tr th:only-of-type {\n",
       "        vertical-align: middle;\n",
       "    }\n",
       "\n",
       "    .dataframe tbody tr th {\n",
       "        vertical-align: top;\n",
       "    }\n",
       "\n",
       "    .dataframe thead th {\n",
       "        text-align: right;\n",
       "    }\n",
       "</style>\n",
       "<table border=\"1\" class=\"dataframe\">\n",
       "  <thead>\n",
       "    <tr style=\"text-align: right;\">\n",
       "      <th></th>\n",
       "      <th>t (basic-super)</th>\n",
       "      <th>p</th>\n",
       "    </tr>\n",
       "  </thead>\n",
       "  <tbody>\n",
       "    <tr>\n",
       "      <th>pool1</th>\n",
       "      <td>-2.9131</td>\n",
       "      <td>0.040000</td>\n",
       "    </tr>\n",
       "    <tr>\n",
       "      <th>pool2</th>\n",
       "      <td>-0.6290</td>\n",
       "      <td>0.690000</td>\n",
       "    </tr>\n",
       "    <tr>\n",
       "      <th>pool3</th>\n",
       "      <td>-0.3196</td>\n",
       "      <td>0.706000</td>\n",
       "    </tr>\n",
       "    <tr>\n",
       "      <th>pool4</th>\n",
       "      <td>1.5483</td>\n",
       "      <td>0.216667</td>\n",
       "    </tr>\n",
       "    <tr>\n",
       "      <th>orig</th>\n",
       "      <td>-1.6212</td>\n",
       "      <td>0.216667</td>\n",
       "    </tr>\n",
       "  </tbody>\n",
       "</table>\n",
       "</div>"
      ],
      "text/plain": [
       "       t (basic-super)         p\n",
       "pool1          -2.9131  0.040000\n",
       "pool2          -0.6290  0.690000\n",
       "pool3          -0.3196  0.706000\n",
       "pool4           1.5483  0.216667\n",
       "orig           -1.6212  0.216667"
      ]
     },
     "execution_count": 12,
     "metadata": {},
     "output_type": "execute_result"
    }
   ],
   "source": [
    "tvals = np.zeros((5,))\n",
    "pvals = np.zeros((5,))\n",
    "\n",
    "df = pd.DataFrame(index=image_type_names)\n",
    "\n",
    "vals = rt_by_condition\n",
    "\n",
    "print('All subjects:')\n",
    "print(vals.shape)\n",
    "\n",
    "for ii in range(n_image_types):\n",
    "\n",
    "    p, t = stats_utils.paired_ttest_nonpar(vals[:,0,ii], vals[:,1,ii])\n",
    "\n",
    "    tvals[ii] = t\n",
    "    pvals[ii] = p\n",
    "\n",
    "df['t (basic-super)'] = tvals.round(4)\n",
    "\n",
    "_, pvals_fdr = stats_utils.fdr_keepshape(pvals, alpha=0.01, method='poscorr')\n",
    "df['p'] = pvals_fdr\n",
    "        \n",
    "df        \n",
    "    "
   ]
  },
  {
   "cell_type": "markdown",
   "metadata": {},
   "source": [
    "#### plot RTs, all subjects"
   ]
  },
  {
   "cell_type": "code",
   "execution_count": 13,
   "metadata": {},
   "outputs": [
    {
     "data": {
      "text/plain": [
       "Text(0.5, 1.0, 'All subjects (n=47)')"
      ]
     },
     "execution_count": 13,
     "metadata": {},
     "output_type": "execute_result"
    },
    {
     "data": {
      "image/png": "[encoded data removed]",
      "text/plain": [
       "<Figure size 600x400 with 1 Axes>"
      ]
     },
     "metadata": {},
     "output_type": "display_data"
    }
   ],
   "source": [
    "plot_utils.set_all_font_sizes(10)\n",
    "plt.figure(figsize=(6,4))\n",
    "\n",
    "vals = rt_by_condition\n",
    "\n",
    "n_subs_plot = vals.shape[0]\n",
    "    \n",
    "meanvals = np.mean(vals, axis=0)\n",
    "semvals = np.std(vals, axis=0)/np.sqrt(n_subs_plot)\n",
    "  \n",
    "ax = plt.subplot(1,1,1)\n",
    "\n",
    "\n",
    "lh = []\n",
    "\n",
    "for ii in range(n_image_types):\n",
    "    \n",
    "    for cc, cue in enumerate(cue_level_names):\n",
    "    \n",
    "        h = plt.bar(ii+xjitters[cc], \\\n",
    "                         meanvals[cc,ii], \\\n",
    "                        color = cue_level_colors[cc,:], width=barwidth)\n",
    "        \n",
    "        plt.errorbar(ii+xjitters[cc], \\\n",
    "                         meanvals[cc,ii], \\\n",
    "                         semvals[cc,ii], \\\n",
    "                        color = 'k',\n",
    "                        linestyle='none')\n",
    "    \n",
    "        lh.append(h)\n",
    "\n",
    "    if pvals[ii]<0.01:\n",
    "        height = np.max(meanvals[:,ii]+semvals[:,ii])+100\n",
    "        plt.plot(ii, height, '*', color='k')\n",
    "\n",
    "    \n",
    "plt.xticks(np.arange(n_image_types), image_type_names, rotation=45)\n",
    "\n",
    "    \n",
    "    \n",
    "\n",
    "# plt.axhline(0.0, color=[0.8, 0.8, 0.8], linestyle='--')\n",
    "\n",
    "ax.legend(lh, cue_level_names, loc='upper right')\n",
    "\n",
    "plt.ylabel('RT (ms)')\n",
    "\n",
    "plt.ylim([0, 1200])\n",
    "\n",
    "plt.title('All subjects (n=%d)'%(n_subs_plot))"
   ]
  },
  {
   "cell_type": "markdown",
   "metadata": {},
   "source": [
    "#### pairwise comparisons across image types"
   ]
  },
  {
   "cell_type": "code",
   "execution_count": 14,
   "metadata": {},
   "outputs": [
    {
     "data": {
      "text/html": [
       "<div>\n",
       "<style scoped>\n",
       "    .dataframe tbody tr th:only-of-type {\n",
       "        vertical-align: middle;\n",
       "    }\n",
       "\n",
       "    .dataframe tbody tr th {\n",
       "        vertical-align: top;\n",
       "    }\n",
       "\n",
       "    .dataframe thead th {\n",
       "        text-align: right;\n",
       "    }\n",
       "</style>\n",
       "<table border=\"1\" class=\"dataframe\">\n",
       "  <thead>\n",
       "    <tr style=\"text-align: right;\">\n",
       "      <th></th>\n",
       "      <th>t</th>\n",
       "      <th>p</th>\n",
       "    </tr>\n",
       "  </thead>\n",
       "  <tbody>\n",
       "    <tr>\n",
       "      <th>pool1 vs pool2</th>\n",
       "      <td>-7.0801</td>\n",
       "      <td>0.000000</td>\n",
       "    </tr>\n",
       "    <tr>\n",
       "      <th>pool1 vs pool3</th>\n",
       "      <td>-6.4979</td>\n",
       "      <td>0.000000</td>\n",
       "    </tr>\n",
       "    <tr>\n",
       "      <th>pool1 vs pool4</th>\n",
       "      <td>-4.7433</td>\n",
       "      <td>0.000000</td>\n",
       "    </tr>\n",
       "    <tr>\n",
       "      <th>pool1 vs orig</th>\n",
       "      <td>0.1378</td>\n",
       "      <td>0.924000</td>\n",
       "    </tr>\n",
       "    <tr>\n",
       "      <th>pool2 vs pool3</th>\n",
       "      <td>-2.0964</td>\n",
       "      <td>0.042857</td>\n",
       "    </tr>\n",
       "    <tr>\n",
       "      <th>pool2 vs pool4</th>\n",
       "      <td>-0.0988</td>\n",
       "      <td>0.924000</td>\n",
       "    </tr>\n",
       "    <tr>\n",
       "      <th>pool2 vs orig</th>\n",
       "      <td>4.3338</td>\n",
       "      <td>0.000000</td>\n",
       "    </tr>\n",
       "    <tr>\n",
       "      <th>pool3 vs pool4</th>\n",
       "      <td>1.9911</td>\n",
       "      <td>0.072500</td>\n",
       "    </tr>\n",
       "    <tr>\n",
       "      <th>pool3 vs orig</th>\n",
       "      <td>5.6665</td>\n",
       "      <td>0.000000</td>\n",
       "    </tr>\n",
       "    <tr>\n",
       "      <th>pool4 vs orig</th>\n",
       "      <td>6.0275</td>\n",
       "      <td>0.000000</td>\n",
       "    </tr>\n",
       "  </tbody>\n",
       "</table>\n",
       "</div>"
      ],
      "text/plain": [
       "                     t         p\n",
       "pool1 vs pool2 -7.0801  0.000000\n",
       "pool1 vs pool3 -6.4979  0.000000\n",
       "pool1 vs pool4 -4.7433  0.000000\n",
       "pool1 vs orig   0.1378  0.924000\n",
       "pool2 vs pool3 -2.0964  0.042857\n",
       "pool2 vs pool4 -0.0988  0.924000\n",
       "pool2 vs orig   4.3338  0.000000\n",
       "pool3 vs pool4  1.9911  0.072500\n",
       "pool3 vs orig   5.6665  0.000000\n",
       "pool4 vs orig   6.0275  0.000000"
      ]
     },
     "execution_count": 14,
     "metadata": {},
     "output_type": "execute_result"
    }
   ],
   "source": [
    "\n",
    "pairs_test = list(itertools.combinations(np.arange(5),2))\n",
    "n_pairs = len(pairs_test)\n",
    "pair_names = ['%s vs %s'%(image_type_names[ii], image_type_names[jj]) for ii, jj in pairs_test]\n",
    "\n",
    "tvals = np.zeros((n_pairs))\n",
    "pvals = np.zeros((n_pairs))\n",
    "\n",
    "df = pd.DataFrame(index=pair_names)\n",
    "\n",
    "\n",
    "# averaging across basic/super conds here\n",
    "vals = np.mean(rt_by_condition, axis=1)\n",
    "\n",
    "for pi, pair in enumerate(pairs_test):\n",
    "\n",
    "    vals1 = vals[:,pair[0]]\n",
    "    vals2 = vals[:,pair[1]]\n",
    "\n",
    "    p, t = stats_utils.paired_ttest_nonpar(vals1, vals2)\n",
    "\n",
    "    tvals[pi] = t\n",
    "    pvals[pi] = p\n",
    "\n",
    "df['t'] = tvals.round(4)\n",
    "\n",
    "_, pvals_fdr = stats_utils.fdr_keepshape(pvals, alpha=0.01, method='poscorr')\n",
    "df['p'] = pvals_fdr\n",
    "\n",
    "\n",
    "df   "
   ]
  },
  {
   "cell_type": "markdown",
   "metadata": {},
   "source": [
    "#### RTs: separate out the two image sets"
   ]
  },
  {
   "cell_type": "code",
   "execution_count": 15,
   "metadata": {},
   "outputs": [
    {
     "name": "stdout",
     "output_type": "stream",
     "text": [
      "\n",
      "Image set 1:\n",
      "(23, 2, 5)\n",
      "                   F Value  Num DF  Den DF        Pr > F\n",
      "cond              2.568479     1.0    22.0  1.232744e-01\n",
      "image_type       10.289050     4.0    88.0  6.996152e-07\n",
      "cond:image_type   2.243203     4.0    88.0  7.075475e-02\n",
      "\n",
      "Image set 2:\n",
      "(24, 2, 5)\n",
      "                  F Value  Num DF  Den DF        Pr > F\n",
      "cond             0.033685     1.0    23.0  8.559876e-01\n",
      "image_type       9.935680     4.0    92.0  9.984449e-07\n",
      "cond:image_type  2.046934     4.0    92.0  9.425691e-02\n"
     ]
    }
   ],
   "source": [
    "for cbi, cb in enumerate([1,2]):\n",
    "    \n",
    "    subjects_plot = (subject_cb==cbi) \n",
    "    n_subs_plot = np.sum(subjects_plot)\n",
    "    \n",
    "    vals = rt_by_condition[subjects_plot,:,:]\n",
    "    \n",
    "    print('\\nImage set %d:'%cb)\n",
    "    print(vals.shape)\n",
    "    \n",
    "    aov_table = stats_utils.rmanova_2way(vals, ['cond','image_type'])\n",
    "\n",
    "    print(aov_table)"
   ]
  },
  {
   "cell_type": "code",
   "execution_count": 16,
   "metadata": {},
   "outputs": [
    {
     "name": "stdout",
     "output_type": "stream",
     "text": [
      "\n",
      "Image set 1:\n",
      "(23, 2, 5)\n",
      "\n",
      "Image set 2:\n",
      "(24, 2, 5)\n"
     ]
    },
    {
     "data": {
      "text/html": [
       "<div>\n",
       "<style scoped>\n",
       "    .dataframe tbody tr th:only-of-type {\n",
       "        vertical-align: middle;\n",
       "    }\n",
       "\n",
       "    .dataframe tbody tr th {\n",
       "        vertical-align: top;\n",
       "    }\n",
       "\n",
       "    .dataframe thead th {\n",
       "        text-align: right;\n",
       "    }\n",
       "</style>\n",
       "<table border=\"1\" class=\"dataframe\">\n",
       "  <thead>\n",
       "    <tr style=\"text-align: right;\">\n",
       "      <th></th>\n",
       "      <th>Set 1: t</th>\n",
       "      <th>Set 1: p</th>\n",
       "      <th>Set 2: t</th>\n",
       "      <th>Set 2: p</th>\n",
       "    </tr>\n",
       "  </thead>\n",
       "  <tbody>\n",
       "    <tr>\n",
       "      <th>pool1</th>\n",
       "      <td>-3.3353</td>\n",
       "      <td>0.000000</td>\n",
       "      <td>-1.2467</td>\n",
       "      <td>0.635000</td>\n",
       "    </tr>\n",
       "    <tr>\n",
       "      <th>pool2</th>\n",
       "      <td>-0.7874</td>\n",
       "      <td>0.762500</td>\n",
       "      <td>-0.0495</td>\n",
       "      <td>0.998000</td>\n",
       "    </tr>\n",
       "    <tr>\n",
       "      <th>pool3</th>\n",
       "      <td>-0.6137</td>\n",
       "      <td>0.762500</td>\n",
       "      <td>0.2143</td>\n",
       "      <td>0.964444</td>\n",
       "    </tr>\n",
       "    <tr>\n",
       "      <th>pool4</th>\n",
       "      <td>0.4779</td>\n",
       "      <td>0.762500</td>\n",
       "      <td>1.8470</td>\n",
       "      <td>0.410000</td>\n",
       "    </tr>\n",
       "    <tr>\n",
       "      <th>orig</th>\n",
       "      <td>-1.3597</td>\n",
       "      <td>0.573333</td>\n",
       "      <td>-0.8676</td>\n",
       "      <td>0.762500</td>\n",
       "    </tr>\n",
       "  </tbody>\n",
       "</table>\n",
       "</div>"
      ],
      "text/plain": [
       "       Set 1: t  Set 1: p  Set 2: t  Set 2: p\n",
       "pool1   -3.3353  0.000000   -1.2467  0.635000\n",
       "pool2   -0.7874  0.762500   -0.0495  0.998000\n",
       "pool3   -0.6137  0.762500    0.2143  0.964444\n",
       "pool4    0.4779  0.762500    1.8470  0.410000\n",
       "orig    -1.3597  0.573333   -0.8676  0.762500"
      ]
     },
     "execution_count": 16,
     "metadata": {},
     "output_type": "execute_result"
    }
   ],
   "source": [
    "tvals = np.zeros((2,5))\n",
    "pvals = np.zeros((2,5))\n",
    "\n",
    "df = pd.DataFrame(index=image_type_names)\n",
    "\n",
    "for cbi, cb in enumerate([1,2]):\n",
    "    \n",
    "    subjects_plot = (subject_cb==cbi) \n",
    "    n_subs_plot = np.sum(subjects_plot)\n",
    "    \n",
    "    vals = rt_by_condition[subjects_plot,:,:]\n",
    "    \n",
    "    print('\\nImage set %d:'%cb)\n",
    "    print(vals.shape)\n",
    "    \n",
    "    for ii in range(n_image_types):\n",
    "        \n",
    "        p, t = stats_utils.paired_ttest_nonpar(vals[:,0,ii], vals[:,1,ii])\n",
    "        \n",
    "        tvals[cbi, ii] = t\n",
    "        pvals[cbi, ii] = p\n",
    "        \n",
    "# fdr correcting all the values together\n",
    "_, pvals_fdr = stats_utils.fdr_keepshape(pvals, alpha=0.01, method='poscorr')\n",
    "\n",
    "for cbi, cb in enumerate([1,2]):\n",
    "    \n",
    "    df['Set %d: t'%cb] = tvals[cbi,:].round(4)\n",
    "    df['Set %d: p'%cb] = pvals_fdr[cbi,:]\n",
    "\n",
    "df"
   ]
  },
  {
   "cell_type": "code",
   "execution_count": 17,
   "metadata": {},
   "outputs": [
    {
     "data": {
      "image/png": "[encoded data removed]",
      "text/plain": [
       "<Figure size 1200x400 with 2 Axes>"
      ]
     },
     "metadata": {},
     "output_type": "display_data"
    }
   ],
   "source": [
    "plot_utils.set_all_font_sizes(10)\n",
    "plt.figure(figsize=(12,4))\n",
    "    \n",
    "for cbi, cb in enumerate([1,2]):\n",
    "\n",
    "    ax = plt.subplot(1,2,cb)\n",
    "    \n",
    "    vals = rt_by_condition[subject_cb==cbi,:,:]\n",
    "    \n",
    "    n_subs_plot = vals.shape[0]\n",
    "        \n",
    "    meanvals = np.mean(vals, axis=0)\n",
    "    semvals = np.std(vals, axis=0)/np.sqrt(n_subs_plot)\n",
    "    \n",
    "    lh = []\n",
    "    \n",
    "    for ii in range(n_image_types):\n",
    "        \n",
    "        for cc, cue in enumerate(cue_level_names):\n",
    "        \n",
    "            h = plt.bar(ii+xjitters[cc], \\\n",
    "                             meanvals[cc,ii], \\\n",
    "                            color = cue_level_colors[cc,:], width=barwidth)\n",
    "            \n",
    "            plt.errorbar(ii+xjitters[cc], \\\n",
    "                             meanvals[cc,ii], \\\n",
    "                             semvals[cc,ii], \\\n",
    "                            color = 'k',\n",
    "                            linestyle='none')\n",
    "        \n",
    "            lh.append(h)\n",
    "    \n",
    "        if pvals[cbi, ii]<0.01:\n",
    "            height = np.max(meanvals[:,ii]+semvals[:,ii])+100\n",
    "            plt.plot(ii, height, '*', color='k')\n",
    "    \n",
    "        \n",
    "    plt.xticks(np.arange(n_image_types), image_type_names, rotation=45)\n",
    "    \n",
    "        \n",
    "        \n",
    "    \n",
    "    # plt.axhline(0.0, color=[0.8, 0.8, 0.8], linestyle='--')\n",
    "    \n",
    "    ax.legend(lh, cue_level_names, loc='upper right')\n",
    "    \n",
    "    plt.ylabel('RT (ms)')\n",
    "    \n",
    "    plt.ylim([0, 1200])\n",
    "    \n",
    "    plt.title('Image set %d (n=%d)'%(cb, n_subs_plot))"
   ]
  },
  {
   "cell_type": "markdown",
   "metadata": {},
   "source": [
    "#### pairwise comparisons across image types"
   ]
  },
  {
   "cell_type": "code",
   "execution_count": 18,
   "metadata": {},
   "outputs": [
    {
     "name": "stdout",
     "output_type": "stream",
     "text": [
      "(23, 5)\n",
      "image set 1\n",
      "                     t         p\n",
      "pool1 vs pool2 -4.4717  0.005000\n",
      "pool1 vs pool3 -4.6993  0.000000\n",
      "pool1 vs pool4 -3.6009  0.008000\n",
      "pool1 vs orig   0.1075  0.912000\n",
      "pool2 vs pool3 -2.0614  0.082857\n",
      "pool2 vs pool4 -0.8775  0.424444\n",
      "pool2 vs orig   3.0361  0.010000\n",
      "pool3 vs pool4  0.8519  0.424444\n",
      "pool3 vs orig   3.8008  0.005000\n",
      "pool4 vs orig   4.0959  0.005000\n",
      "(24, 5)\n",
      "image set 2\n",
      "                     t         p\n",
      "pool1 vs pool2 -5.6738  0.000000\n",
      "pool1 vs pool3 -4.4051  0.000000\n",
      "pool1 vs pool4 -3.0512  0.004000\n",
      "pool1 vs orig   0.0842  0.902000\n",
      "pool2 vs pool3 -1.0279  0.385000\n",
      "pool2 vs pool4  0.5243  0.682222\n",
      "pool2 vs orig   3.0283  0.013333\n",
      "pool3 vs pool4  1.9473  0.108571\n",
      "pool3 vs orig   4.2231  0.000000\n",
      "pool4 vs orig   4.6755  0.000000\n"
     ]
    }
   ],
   "source": [
    "\n",
    "for cbi, cb in enumerate([1,2]):\n",
    "        \n",
    "    pairs_test = list(itertools.combinations(np.arange(5),2))\n",
    "    n_pairs = len(pairs_test)\n",
    "    pair_names = ['%s vs %s'%(image_type_names[ii], image_type_names[jj]) for ii, jj in pairs_test]\n",
    "    \n",
    "    tvals = np.zeros((n_pairs))\n",
    "    pvals = np.zeros((n_pairs))\n",
    "    \n",
    "    df = pd.DataFrame(index=pair_names)\n",
    "    \n",
    "    \n",
    "    # averaging across basic/super conds here\n",
    "    vals = np.mean(rt_by_condition[subject_cb==cbi,:,:], axis=1)\n",
    "\n",
    "    print(vals.shape)\n",
    "    for pi, pair in enumerate(pairs_test):\n",
    "    \n",
    "        vals1 = vals[:,pair[0]]\n",
    "        vals2 = vals[:,pair[1]]\n",
    "    \n",
    "        p, t = stats_utils.paired_ttest_nonpar(vals1, vals2)\n",
    "    \n",
    "        tvals[pi] = t\n",
    "        pvals[pi] = p\n",
    "    \n",
    "    df['t'] = tvals.round(4)\n",
    "    \n",
    "    _, pvals_fdr = stats_utils.fdr_keepshape(pvals, alpha=0.01, method='poscorr')\n",
    "    df['p'] = pvals_fdr\n",
    "    \n",
    "    print('image set %d'%cb)\n",
    "    print(df)   "
   ]
  }
 ],
 "metadata": {
  "kernelspec": {
   "display_name": "Python 3 (ipykernel)",
   "language": "python",
   "name": "python3"
  },
  "language_info": {
   "codemirror_mode": {
    "name": "ipython",
    "version": 3
   },
   "file_extension": ".py",
   "mimetype": "text/x-python",
   "name": "python",
   "nbconvert_exporter": "python",
   "pygments_lexer": "ipython3",
   "version": "3.10.9"
  }
 },
 "nbformat": 4,
 "nbformat_minor": 4
}
