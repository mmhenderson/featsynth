{
 "cells": [
  {
   "cell_type": "code",
   "execution_count": 9,
   "id": "66bb0c67-b720-4be9-89df-4f323840757a",
   "metadata": {},
   "outputs": [],
   "source": [
    "import sys, os\n",
    "import numpy as np\n",
    "import pandas as pd\n",
    "\n",
    "\n",
    "import PIL.Image\n",
    "\n",
    "import matplotlib.pyplot as plt\n",
    "\n",
    "project_root = '/user_data/mmhender/featsynth/'\n",
    "image_path = '/user_data/mmhender/stimuli/featsynth/images_comb64_orig/'\n",
    "ecoset_info_path = '/user_data/mmhender/stimuli/ecoset_info/'\n",
    "\n",
    "sys.path.append('/user_data/mmhender/featsynth/texture_synthesis/code/')\n",
    "import utilities"
   ]
  },
  {
   "cell_type": "code",
   "execution_count": 19,
   "id": "dacf5272-789f-46a4-b9a0-d9c6fc3749df",
   "metadata": {},
   "outputs": [
    {
     "data": {
      "text/html": [
       "<div>\n",
       "<style scoped>\n",
       "    .dataframe tbody tr th:only-of-type {\n",
       "        vertical-align: middle;\n",
       "    }\n",
       "\n",
       "    .dataframe tbody tr th {\n",
       "        vertical-align: top;\n",
       "    }\n",
       "\n",
       "    .dataframe thead th {\n",
       "        text-align: right;\n",
       "    }\n",
       "</style>\n",
       "<table border=\"1\" class=\"dataframe\">\n",
       "  <thead>\n",
       "    <tr style=\"text-align: right;\">\n",
       "      <th></th>\n",
       "      <th>super_name</th>\n",
       "      <th>super_index</th>\n",
       "      <th>basic_name</th>\n",
       "      <th>basic_index</th>\n",
       "      <th>image_type</th>\n",
       "      <th>exemplar_number</th>\n",
       "      <th>image_filename</th>\n",
       "    </tr>\n",
       "  </thead>\n",
       "  <tbody>\n",
       "    <tr>\n",
       "      <th>0</th>\n",
       "      <td>insect</td>\n",
       "      <td>0</td>\n",
       "      <td>beetle</td>\n",
       "      <td>0</td>\n",
       "      <td>orig</td>\n",
       "      <td>0</td>\n",
       "      <td>/user_data/mmhender/stimuli/things/Images/beet...</td>\n",
       "    </tr>\n",
       "    <tr>\n",
       "      <th>1</th>\n",
       "      <td>insect</td>\n",
       "      <td>0</td>\n",
       "      <td>beetle</td>\n",
       "      <td>0</td>\n",
       "      <td>orig</td>\n",
       "      <td>1</td>\n",
       "      <td>/user_data/mmhender/stimuli/things/Images/beet...</td>\n",
       "    </tr>\n",
       "    <tr>\n",
       "      <th>2</th>\n",
       "      <td>insect</td>\n",
       "      <td>0</td>\n",
       "      <td>beetle</td>\n",
       "      <td>0</td>\n",
       "      <td>orig</td>\n",
       "      <td>2</td>\n",
       "      <td>/user_data/mmhender/stimuli/things/Images/beet...</td>\n",
       "    </tr>\n",
       "    <tr>\n",
       "      <th>3</th>\n",
       "      <td>insect</td>\n",
       "      <td>0</td>\n",
       "      <td>beetle</td>\n",
       "      <td>0</td>\n",
       "      <td>orig</td>\n",
       "      <td>3</td>\n",
       "      <td>/user_data/mmhender/stimuli/things/Images/beet...</td>\n",
       "    </tr>\n",
       "    <tr>\n",
       "      <th>4</th>\n",
       "      <td>insect</td>\n",
       "      <td>0</td>\n",
       "      <td>beetle</td>\n",
       "      <td>0</td>\n",
       "      <td>orig</td>\n",
       "      <td>4</td>\n",
       "      <td>/user_data/mmhender/stimuli/things/Images/beet...</td>\n",
       "    </tr>\n",
       "    <tr>\n",
       "      <th>...</th>\n",
       "      <td>...</td>\n",
       "      <td>...</td>\n",
       "      <td>...</td>\n",
       "      <td>...</td>\n",
       "      <td>...</td>\n",
       "      <td>...</td>\n",
       "      <td>...</td>\n",
       "    </tr>\n",
       "    <tr>\n",
       "      <th>763</th>\n",
       "      <td>vehicle</td>\n",
       "      <td>7</td>\n",
       "      <td>canoe</td>\n",
       "      <td>63</td>\n",
       "      <td>orig</td>\n",
       "      <td>7</td>\n",
       "      <td>/user_data/mmhender/stimuli/things/Images/cano...</td>\n",
       "    </tr>\n",
       "    <tr>\n",
       "      <th>764</th>\n",
       "      <td>vehicle</td>\n",
       "      <td>7</td>\n",
       "      <td>canoe</td>\n",
       "      <td>63</td>\n",
       "      <td>orig</td>\n",
       "      <td>8</td>\n",
       "      <td>/user_data/mmhender/stimuli/things/Images/cano...</td>\n",
       "    </tr>\n",
       "    <tr>\n",
       "      <th>765</th>\n",
       "      <td>vehicle</td>\n",
       "      <td>7</td>\n",
       "      <td>canoe</td>\n",
       "      <td>63</td>\n",
       "      <td>orig</td>\n",
       "      <td>9</td>\n",
       "      <td>/user_data/mmhender/stimuli/things/Images/cano...</td>\n",
       "    </tr>\n",
       "    <tr>\n",
       "      <th>766</th>\n",
       "      <td>vehicle</td>\n",
       "      <td>7</td>\n",
       "      <td>canoe</td>\n",
       "      <td>63</td>\n",
       "      <td>orig</td>\n",
       "      <td>10</td>\n",
       "      <td>/user_data/mmhender/stimuli/things/Images/cano...</td>\n",
       "    </tr>\n",
       "    <tr>\n",
       "      <th>767</th>\n",
       "      <td>vehicle</td>\n",
       "      <td>7</td>\n",
       "      <td>canoe</td>\n",
       "      <td>63</td>\n",
       "      <td>orig</td>\n",
       "      <td>11</td>\n",
       "      <td>/user_data/mmhender/stimuli/things/Images/cano...</td>\n",
       "    </tr>\n",
       "  </tbody>\n",
       "</table>\n",
       "<p>768 rows × 7 columns</p>\n",
       "</div>"
      ],
      "text/plain": [
       "    super_name  super_index basic_name  basic_index image_type  \\\n",
       "0       insect            0     beetle            0       orig   \n",
       "1       insect            0     beetle            0       orig   \n",
       "2       insect            0     beetle            0       orig   \n",
       "3       insect            0     beetle            0       orig   \n",
       "4       insect            0     beetle            0       orig   \n",
       "..         ...          ...        ...          ...        ...   \n",
       "763    vehicle            7      canoe           63       orig   \n",
       "764    vehicle            7      canoe           63       orig   \n",
       "765    vehicle            7      canoe           63       orig   \n",
       "766    vehicle            7      canoe           63       orig   \n",
       "767    vehicle            7      canoe           63       orig   \n",
       "\n",
       "     exemplar_number                                     image_filename  \n",
       "0                  0  /user_data/mmhender/stimuli/things/Images/beet...  \n",
       "1                  1  /user_data/mmhender/stimuli/things/Images/beet...  \n",
       "2                  2  /user_data/mmhender/stimuli/things/Images/beet...  \n",
       "3                  3  /user_data/mmhender/stimuli/things/Images/beet...  \n",
       "4                  4  /user_data/mmhender/stimuli/things/Images/beet...  \n",
       "..               ...                                                ...  \n",
       "763                7  /user_data/mmhender/stimuli/things/Images/cano...  \n",
       "764                8  /user_data/mmhender/stimuli/things/Images/cano...  \n",
       "765                9  /user_data/mmhender/stimuli/things/Images/cano...  \n",
       "766               10  /user_data/mmhender/stimuli/things/Images/cano...  \n",
       "767               11  /user_data/mmhender/stimuli/things/Images/cano...  \n",
       "\n",
       "[768 rows x 7 columns]"
      ]
     },
     "execution_count": 19,
     "metadata": {},
     "output_type": "execute_result"
    }
   ],
   "source": [
    "image_set_name = 'images_things64'\n",
    "\n",
    "folder_save = os.path.join(project_root, 'features','raw')\n",
    "image_list_filename = os.path.join(folder_save, '%s_list.csv'%(image_set_name))\n",
    "\n",
    "df = pd.read_csv(image_list_filename, index_col=0)\n",
    "df"
   ]
  },
  {
   "cell_type": "code",
   "execution_count": 20,
   "id": "ff395412-0e1d-4aae-911e-c79f2648ae74",
   "metadata": {},
   "outputs": [
    {
     "data": {
      "text/plain": [
       "'/user_data/mmhender/featsynth/features/raw/images_things64_list.csv'"
      ]
     },
     "execution_count": 20,
     "metadata": {},
     "output_type": "execute_result"
    }
   ],
   "source": [
    "image_list_filename"
   ]
  },
  {
   "cell_type": "code",
   "execution_count": 21,
   "id": "7616297a-b64d-45cf-91ba-cfc0dd12b2b3",
   "metadata": {},
   "outputs": [
    {
     "data": {
      "text/plain": [
       "array(['fruit', 'furniture', 'insect', 'mammal', 'musical instrument',\n",
       "       'tool', 'vegetable', 'vehicle'], dtype=object)"
      ]
     },
     "execution_count": 21,
     "metadata": {},
     "output_type": "execute_result"
    }
   ],
   "source": [
    "np.unique(df['super_name'])"
   ]
  },
  {
   "cell_type": "code",
   "execution_count": 22,
   "id": "938011cc-c1f4-4c23-988b-3bae2b3b082f",
   "metadata": {},
   "outputs": [
    {
     "data": {
      "text/plain": [
       "12.0"
      ]
     },
     "execution_count": 22,
     "metadata": {},
     "output_type": "execute_result"
    }
   ],
   "source": [
    "768 / 64"
   ]
  },
  {
   "cell_type": "code",
   "execution_count": 23,
   "id": "c3e5c4ab-3fe8-4cdb-aff2-a230599afa45",
   "metadata": {},
   "outputs": [],
   "source": [
    "# info about categories\n",
    "fn = os.path.join(ecoset_info_path, 'categ_use_ecoset.npy')\n",
    "info = np.load(fn, allow_pickle=True).item()\n",
    "bnames = list(info['binfo'].keys())\n",
    "snames = list(info['sinfo'].keys())"
   ]
  },
  {
   "cell_type": "code",
   "execution_count": 24,
   "id": "6b48420b-69dc-430f-a2ac-52fedfcd2e03",
   "metadata": {},
   "outputs": [
    {
     "data": {
      "text/plain": [
       "64"
      ]
     },
     "execution_count": 24,
     "metadata": {},
     "output_type": "execute_result"
    }
   ],
   "source": [
    "len(bnames)"
   ]
  },
  {
   "cell_type": "code",
   "execution_count": 29,
   "id": "a615e39b-948d-4e04-b51d-9c0472e87cfd",
   "metadata": {},
   "outputs": [
    {
     "name": "stdout",
     "output_type": "stream",
     "text": [
      "insect\n",
      "['beetle', 'bee', 'butterfly', 'grasshopper', 'caterpillar', 'ant', 'moth', 'mosquito']\n",
      "mammal\n",
      "['dog', 'lion', 'horse', 'squirrel', 'elephant', 'cow', 'pig', 'rabbit']\n",
      "vegetable\n",
      "['pea', 'corn', 'pumpkin', 'onion', 'cabbage', 'lettuce', 'beet', 'asparagus']\n",
      "fruit\n",
      "['grape', 'cherry', 'raspberry', 'apple', 'pear', 'banana', 'pomegranate', 'coconut']\n",
      "tool\n",
      "['pencil', 'knife', 'axe', 'broom', 'hammer', 'shovel', 'spoon', 'scissors']\n",
      "musical instrument\n",
      "['bell', 'guitar', 'piano', 'drum', 'violin', 'trumpet', 'clarinet', 'cymbal']\n",
      "furniture\n",
      "['table', 'bench', 'couch', 'television', 'bed', 'chair', 'refrigerator', 'lamp']\n",
      "vehicle\n",
      "['ship', 'train', 'airplane', 'truck', 'car', 'bus', 'motorcycle', 'canoe']\n"
     ]
    }
   ],
   "source": [
    "for s in snames:\n",
    "    print(s)\n",
    "    print(info['sinfo'][s]['basic_names'])"
   ]
  },
  {
   "cell_type": "code",
   "execution_count": 43,
   "id": "39eb9a7e-6857-4453-a852-2674b76e55ac",
   "metadata": {},
   "outputs": [],
   "source": [
    "image_root = '/user_data/mmhender/stimuli/featsynth/images_comb64'\n",
    "folders = os.listdir(image_root)\n",
    "bnames_check = np.unique([f.split('_')[0] for f in folders if '.npy' not in f])"
   ]
  },
  {
   "cell_type": "code",
   "execution_count": 45,
   "id": "bdf31085-4a13-45fb-a4b1-389e21e8d485",
   "metadata": {},
   "outputs": [
    {
     "data": {
      "text/plain": [
       "True"
      ]
     },
     "execution_count": 45,
     "metadata": {},
     "output_type": "execute_result"
    }
   ],
   "source": [
    "np.all(np.unique(bnames)==np.unique(bnames_check))"
   ]
  },
  {
   "cell_type": "code",
   "execution_count": 13,
   "id": "a0fb45eb-1c27-48aa-b813-d23d2435eba6",
   "metadata": {},
   "outputs": [
    {
     "data": {
      "text/plain": [
       "'/user_data/mmhender/stimuli/ecoset_info/categ_use_ecoset.npy'"
      ]
     },
     "execution_count": 13,
     "metadata": {},
     "output_type": "execute_result"
    }
   ],
   "source": [
    "fn"
   ]
  },
  {
   "cell_type": "code",
   "execution_count": 9,
   "id": "a5315097-5ffc-4582-a7f8-01dfe3634294",
   "metadata": {},
   "outputs": [
    {
     "data": {
      "text/plain": [
       "array(['insect', 'vegetable', 'fruit', 'dessert', 'tool',\n",
       "       'musical instrument', 'furniture', 'vehicle'], dtype='<U18')"
      ]
     },
     "execution_count": 9,
     "metadata": {},
     "output_type": "execute_result"
    }
   ],
   "source": [
    "np.array(snames)"
   ]
  },
  {
   "cell_type": "code",
   "execution_count": 30,
   "id": "17cf573f-1dcd-41c3-8c9c-45d89040c209",
   "metadata": {},
   "outputs": [],
   "source": [
    "# info about categories\n",
    "fn = os.path.join(ecoset_info_path, 'categ_use_ecoset_OLDVERSION.npy')\n",
    "info = np.load(fn, allow_pickle=True).item()\n",
    "bnames = list(info['binfo'].keys())\n",
    "snames = list(info['sinfo'].keys())"
   ]
  },
  {
   "cell_type": "code",
   "execution_count": 31,
   "id": "9f7b235c-5ba5-49ad-b4f5-07db5367e35a",
   "metadata": {},
   "outputs": [
    {
     "name": "stdout",
     "output_type": "stream",
     "text": [
      "insect\n",
      "['beetle' 'bee' 'butterfly' 'grasshopper' 'caterpillar' 'ant' 'moth'\n",
      " 'mosquito']\n",
      "vegetable\n",
      "['pea' 'corn' 'pumpkin' 'onion' 'cabbage' 'lettuce' 'beet' 'asparagus']\n",
      "fruit\n",
      "['grape' 'cherry' 'raspberry' 'apple' 'pear' 'banana' 'pomegranate'\n",
      " 'coconut']\n",
      "dessert\n",
      "['candy' 'muffin' 'pastry' 'cupcake' 'cookie' 'pie' 'milkshake' 'brownie']\n",
      "tool\n",
      "['pencil' 'knife' 'axe' 'broom' 'hammer' 'shovel' 'spoon' 'scissors']\n",
      "musical instrument\n",
      "['bell' 'guitar' 'piano' 'drum' 'violin' 'mandolin' 'clarinet' 'ukulele']\n",
      "furniture\n",
      "['table' 'bench' 'couch' 'television' 'bed' 'chair' 'refrigerator' 'lamp']\n",
      "vehicle\n",
      "['ship' 'train' 'airplane' 'truck' 'car' 'bus' 'motorcycle' 'canoe']\n"
     ]
    }
   ],
   "source": [
    "for s in snames:\n",
    "    print(s)\n",
    "    print(info['sinfo'][s]['basic_names'])"
   ]
  },
  {
   "cell_type": "code",
   "execution_count": 11,
   "id": "effdc223-016b-4e22-a530-cbb5d928831b",
   "metadata": {},
   "outputs": [
    {
     "data": {
      "text/plain": [
       "'/user_data/mmhender/stimuli/ecoset_info/categ_use_ecoset_OLDVERSION.npy'"
      ]
     },
     "execution_count": 11,
     "metadata": {},
     "output_type": "execute_result"
    }
   ],
   "source": [
    "fn"
   ]
  },
  {
   "cell_type": "code",
   "execution_count": 10,
   "id": "ee3ea9c3-3f40-4576-a3cb-7de16e7666ce",
   "metadata": {},
   "outputs": [
    {
     "data": {
      "text/plain": [
       "dict_keys(['insect', 'vegetable', 'fruit', 'dessert', 'tool', 'musical instrument', 'furniture', 'vehicle'])"
      ]
     },
     "execution_count": 10,
     "metadata": {},
     "output_type": "execute_result"
    }
   ],
   "source": [
    "info['sinfo'].keys()"
   ]
  },
  {
   "cell_type": "code",
   "execution_count": 30,
   "id": "a79fa616-0d74-4d6d-9a7c-68e1c33e6e76",
   "metadata": {},
   "outputs": [],
   "source": [
    "image_root = '/user_data/mmhender/stimuli/featsynth/images_v3'\n",
    "folders = os.listdir(image_root)\n",
    "bnames_check = np.unique([f.split('_')[0] for f in folders])"
   ]
  },
  {
   "cell_type": "code",
   "execution_count": 31,
   "id": "02808765-cf6a-4b12-bb8b-f05f91b4b0b0",
   "metadata": {},
   "outputs": [
    {
     "data": {
      "text/plain": [
       "True"
      ]
     },
     "execution_count": 31,
     "metadata": {},
     "output_type": "execute_result"
    }
   ],
   "source": [
    "np.all(np.unique(bnames)==np.unique(bnames_check))"
   ]
  },
  {
   "cell_type": "code",
   "execution_count": 66,
   "id": "3ca335c9-baf8-477c-9ed8-2eac36130684",
   "metadata": {},
   "outputs": [],
   "source": [
    "# info about categories\n",
    "fn = os.path.join(ecoset_info_path, 'categ_use_ecoset.npy')\n",
    "info = np.load(fn, allow_pickle=True).item()\n",
    "bnames = np.array(list(info['binfo'].keys()))\n",
    "snames = list(info['sinfo'].keys())"
   ]
  },
  {
   "cell_type": "code",
   "execution_count": 67,
   "id": "085e135c-bc01-431f-85f3-b77ef1640e90",
   "metadata": {},
   "outputs": [],
   "source": [
    "image_root = '/user_data/mmhender/stimuli/featsynth/images_comb64_orig'\n",
    "folders = os.listdir(image_root)\n",
    "bnames_check = np.unique([f.split('_')[0] for f in folders if ('.npy' not in f and '.csv' not in f)])"
   ]
  },
  {
   "cell_type": "code",
   "execution_count": 68,
   "id": "eed4802c-c6fa-47ff-9dd7-7f1a1bed38a2",
   "metadata": {},
   "outputs": [
    {
     "data": {
      "text/plain": [
       "True"
      ]
     },
     "execution_count": 68,
     "metadata": {},
     "output_type": "execute_result"
    }
   ],
   "source": [
    "np.all(bnames_check==np.unique(bnames))"
   ]
  },
  {
   "cell_type": "code",
   "execution_count": 62,
   "id": "d3a5173e-0879-411d-80f2-0d371f97d809",
   "metadata": {},
   "outputs": [
    {
     "data": {
      "text/plain": [
       "array([], dtype='<U12')"
      ]
     },
     "execution_count": 62,
     "metadata": {},
     "output_type": "execute_result"
    }
   ],
   "source": [
    "bnames_check[~np.isin(bnames_check, bnames)]"
   ]
  },
  {
   "cell_type": "code",
   "execution_count": 63,
   "id": "c8054329-98a2-49a8-9a9e-6c6c4ba0161f",
   "metadata": {},
   "outputs": [
    {
     "data": {
      "text/plain": [
       "array([], dtype='<U12')"
      ]
     },
     "execution_count": 63,
     "metadata": {},
     "output_type": "execute_result"
    }
   ],
   "source": [
    "bnames[~np.isin(bnames, bnames_check)]"
   ]
  },
  {
   "cell_type": "code",
   "execution_count": 32,
   "id": "baa21f75-7a3f-496c-a0ad-6e770b596f99",
   "metadata": {},
   "outputs": [],
   "source": [
    "things_stim_path = '/user_data/mmhender/stimuli/things/'\n",
    "save_stim_path = '/user_data/mmhender/stimuli/featsynth/images_v1'\n",
    "texture_synth_root = os.path.dirname(os.getcwd())\n",
    "\n",
    "concepts_filename = os.path.join(things_stim_path, 'concepts_use.npy')\n",
    "concepts_use = np.load(concepts_filename,allow_pickle=True).item()\n",
    "categ_names = concepts_use['categ_names']\n",
    "concept_names_subsample = concepts_use['concept_names_subsample']\n",
    "image_names = concepts_use['image_names']\n",
    "concept_ids_subsample = concepts_use['concept_ids_subsample']\n",
    "n_categ = len(categ_names)\n",
    "n_conc_each = len(concept_names_subsample[0])"
   ]
  },
  {
   "cell_type": "code",
   "execution_count": 33,
   "id": "dcf51aa2-78f8-4963-9a42-69d7ddc0a9e1",
   "metadata": {},
   "outputs": [
    {
     "data": {
      "text/plain": [
       "'/user_data/mmhender/stimuli/things/concepts_use.npy'"
      ]
     },
     "execution_count": 33,
     "metadata": {},
     "output_type": "execute_result"
    }
   ],
   "source": [
    "concepts_filename"
   ]
  },
  {
   "cell_type": "code",
   "execution_count": 34,
   "id": "61e56292-7cf2-4763-b476-1011bffdc823",
   "metadata": {},
   "outputs": [
    {
     "data": {
      "text/plain": [
       "[array(['toucan', 'ostrich', 'chick', 'pigeon', 'turkey', 'duck', 'eagle',\n",
       "        'parrot', 'vulture', 'seagull', 'pelican', 'peacock'], dtype='<U18'),\n",
       " array(['thumb', 'leg', 'skin', 'arm', 'wrist', 'elbow', 'ear', 'tongue',\n",
       "        'shoulder', 'hair', 'eye', 'mouth'], dtype='<U18'),\n",
       " array(['jumpsuit', 'blazer', 'shorts', 'pantyhose', 'jersey',\n",
       "        'fishnet_stockings', 'underwear', 'cape', 'turtleneck', 'pantsuit',\n",
       "        'sweatsuit', 'cardigan'], dtype='<U18'),\n",
       " array(['souffle', 'popsicle', 'birthday_cake', 'donut', 'tiramisu',\n",
       "        'baklava', 'brownie', 'whipped_cream', 'creme_brulee', 'chocolate',\n",
       "        'mousse', 'pudding'], dtype='<U18'),\n",
       " array(['espresso', 'tea', 'milk', 'eggnog', 'hot_chocolate', 'smoothie',\n",
       "        'lemonade', 'juice', 'latte', 'wine', 'soda', 'champagne'],\n",
       "       dtype='<U18'),\n",
       " array(['stereo', 'television', 'tablet', 'computer_screen', 'radio',\n",
       "        'remote_control', 'modem', 'cellphone', 'tape_recorder',\n",
       "        'projector', 'cd_player', 'metal_detector'], dtype='<U18'),\n",
       " array(['peach', 'prune', 'banana', 'lemon', 'star_fruit', 'cranberry',\n",
       "        'plum', 'coconut', 'raspberry', 'apple', 'pineapple', 'kiwi'],\n",
       "       dtype='<U18'),\n",
       " array(['workbench', 'ottoman', 'beanbag', 'dresser', 'sofa_bed',\n",
       "        'rocking_chair', 'coffee_table', 'bench', 'recliner', 'desk',\n",
       "        'nightstand', 'step_stool'], dtype='<U18'),\n",
       " array(['frame', 'terrarium', 'centerpiece', 'tapestry', 'vase',\n",
       "        'candelabra', 'pillow', 'lampshade', 'wreath', 'potpourri',\n",
       "        'curtain', 'wallpaper'], dtype='<U18'),\n",
       " array(['lightning_bug', 'earwig', 'grasshopper', 'beetle', 'ant', 'moth',\n",
       "        'praying_mantis', 'bee', 'fly', 'dragonfly', 'ladybug',\n",
       "        'butterfly'], dtype='<U18'),\n",
       " array(['bottle_opener', 'skewer', 'tongs', 'measuring_cup', 'nutcracker',\n",
       "        'ladle', 'sifter', 'grater', 'eggbeater', 'strainer', 'cleaver',\n",
       "        'whisk'], dtype='<U18'),\n",
       " array(['gurney', 'wheelchair', 'syringe', 'bedpan', 'first-aid_kit',\n",
       "        'cane', 'stretcher', 'plaster_cast', 'brace', 'sling',\n",
       "        'stethoscope', 'crutch'], dtype='<U18'),\n",
       " array(['trumpet', 'ukulele', 'violin', 'flute', 'mandolin', 'cymbal',\n",
       "        'harmonica', 'kazoo', 'recorder', 'bongo', 'xylophone', 'guitar'],\n",
       "       dtype='<U18'),\n",
       " array(['eraser', 'penholder', 'stapler', 'paperweight', 'paper', 'ink',\n",
       "        'scissors', 'staple', 'paperclip', 'envelope', 'thumbtack',\n",
       "        'pencil_sharpener'], dtype='<U18'),\n",
       " array(['bumper', 'car_door', 'windshield_wiper', 'filter', 'headrest',\n",
       "        'sunroof', 'car_seat', 'headlight', 'airbag', 'engine',\n",
       "        'gearshift', 'handbrake'], dtype='<U18'),\n",
       " array(['moss', 'grapevine', 'bamboo', 'cactus', 'seaweed', 'fern',\n",
       "        'marijuana', 'weed', 'bonsai', 'hedge', 'bush', 'aloe'],\n",
       "       dtype='<U18'),\n",
       " array(['dartboard', 'trampoline', 'racket', 'rollerblade',\n",
       "        'boxing_gloves', 'iceskate', 'bobsled', 'cleat', 'soccer_ball',\n",
       "        'ski_pole', 'rollerskate', 'hockey_stick'], dtype='<U18'),\n",
       " array(['lego', 'rocking_horse', 'pinwheel', 'kite', 'doll', 'rattle',\n",
       "        'dollhouse', 'puppet', 'hula_hoop', 'pogo_stick',\n",
       "        'whoopee_cushion', 'marble'], dtype='<U18'),\n",
       " array(['sweet_potato', 'carrot', 'arugula', 'garlic', 'bok_choy',\n",
       "        'spinach', 'rhubarb', 'kale', 'squash', 'sprouts', 'pumpkin',\n",
       "        'beet'], dtype='<U18'),\n",
       " array(['buggy', 'carriage', 'subway', 'camper', 'snowmobile', 'airplane',\n",
       "        'snowplow', 'garbage_truck', 'trolley', 'jeep', 'golf_cart',\n",
       "        'motorcycle'], dtype='<U18'),\n",
       " array(['missile', 'cannon', 'dagger', 'brass_knuckles', 'landmine',\n",
       "        'machine_gun', 'spear', 'rifle', 'whip', 'arrow', 'catapult',\n",
       "        'crossbow'], dtype='<U18')]"
      ]
     },
     "execution_count": 34,
     "metadata": {},
     "output_type": "execute_result"
    }
   ],
   "source": [
    "concept_names_subsample"
   ]
  },
  {
   "cell_type": "code",
   "execution_count": 35,
   "id": "dd89e472-6ff5-4406-945d-195e8adb58fe",
   "metadata": {},
   "outputs": [],
   "source": [
    "import os\n",
    "sys.path.append('/user_data/mmhender/featsynth/code')\n",
    "from prep_images import prep_images_v1"
   ]
  },
  {
   "cell_type": "code",
   "execution_count": 56,
   "id": "173d1279-fb0a-4fee-9995-3df551ac653d",
   "metadata": {},
   "outputs": [],
   "source": [
    "stims_root = '/user_data/mmhender/stimuli/featsynth/images_v1';\n",
    "expt_name = 'expt1'\n",
    "\n",
    "super_names_all = []\n",
    "basic_names_all = []\n",
    "\n",
    "for cb in [1,2]:\n",
    "    design_file = os.path.join(project_root, 'expt_design', expt_name, \\\n",
    "                               'trial_info_counterbal%d_randorder0.csv'%cb)\n",
    "    design = pd.read_csv(design_file)\n",
    "    super_names = np.unique(np.array(design['super_name']))\n",
    "    super_names_all += [super_names]\n",
    "    basic_names = []\n",
    "    for sname in super_names:\n",
    "        bnames = np.unique(np.array(design['basic_name'][design['super_name']==sname]))\n",
    "        basic_names += [bnames]\n",
    "    basic_names_all += [basic_names]\n",
    "\n",
    "# prep_images_v1.make_image_list(stims_root, expt_name)"
   ]
  },
  {
   "cell_type": "code",
   "execution_count": 57,
   "id": "c7c140df-ada9-4aa6-a8da-84a62b394b8f",
   "metadata": {},
   "outputs": [
    {
     "data": {
      "text/plain": [
       "[array(['bird', 'body_part', 'drink', 'electronic_device', 'fruit',\n",
       "        'home_decor', 'medical_equipment', 'sports_equipment', 'vehicle',\n",
       "        'weapon'], dtype=object),\n",
       " array(['clothing', 'dessert', 'furniture', 'insect', 'kitchen_tool',\n",
       "        'office_supply', 'part_of_car', 'plant', 'toy', 'vegetable'],\n",
       "       dtype=object)]"
      ]
     },
     "execution_count": 57,
     "metadata": {},
     "output_type": "execute_result"
    }
   ],
   "source": [
    "super_names_all"
   ]
  },
  {
   "cell_type": "code",
   "execution_count": 72,
   "id": "94ad584a-42d3-4816-9227-7263e197d1b5",
   "metadata": {},
   "outputs": [
    {
     "data": {
      "text/plain": [
       "array(['clothing', 'dessert', 'furniture', 'insect', 'kitchen_tool',\n",
       "       'office_supply', 'part_of_car', 'plant', 'toy', 'vegetable'],\n",
       "      dtype=object)"
      ]
     },
     "execution_count": 72,
     "metadata": {},
     "output_type": "execute_result"
    }
   ],
   "source": [
    "super_names_all[ii]"
   ]
  },
  {
   "cell_type": "code",
   "execution_count": 80,
   "id": "2ea74123-f0ca-4769-9afd-499685536dae",
   "metadata": {},
   "outputs": [
    {
     "name": "stdout",
     "output_type": "stream",
     "text": [
      "True\n",
      "True\n",
      "True\n",
      "True\n",
      "True\n",
      "True\n",
      "True\n",
      "True\n",
      "True\n",
      "True\n",
      "True\n",
      "True\n",
      "True\n",
      "True\n",
      "True\n",
      "True\n",
      "True\n",
      "True\n",
      "True\n",
      "True\n",
      "True\n",
      "True\n"
     ]
    }
   ],
   "source": [
    "# ii = 0;\n",
    "for ii in range(2):\n",
    "    print(np.all(np.unique(super_names_all[ii])==np.unique(snames[ii])))\n",
    "\n",
    "    for si in range(10):\n",
    "        ind1 = si;\n",
    "        ind2 = np.where(np.array(snames[ii])==super_names_all[ii][si])[0][0]\n",
    "        print(np.all(np.unique(basic_names_all[ii][ind1])==np.unique(bnames[ii][ind2])))\n",
    "        "
   ]
  },
  {
   "cell_type": "code",
   "execution_count": 78,
   "id": "6c6378f4-093c-416e-b1a3-237f0836ea38",
   "metadata": {},
   "outputs": [
    {
     "data": {
      "text/plain": [
       "['bird',\n",
       " 'drink',\n",
       " 'fruit',\n",
       " 'body_part',\n",
       " 'home_decor',\n",
       " 'medical_equipment',\n",
       " 'weapon',\n",
       " 'vehicle',\n",
       " 'electronic_device',\n",
       " 'sports_equipment']"
      ]
     },
     "execution_count": 78,
     "metadata": {},
     "output_type": "execute_result"
    }
   ],
   "source": [
    "snames[ii]"
   ]
  },
  {
   "cell_type": "code",
   "execution_count": 79,
   "id": "ef43beff-e648-4092-99d8-badb91f49d10",
   "metadata": {},
   "outputs": [
    {
     "data": {
      "text/plain": [
       "array([0])"
      ]
     },
     "execution_count": 79,
     "metadata": {},
     "output_type": "execute_result"
    }
   ],
   "source": [
    "ind2"
   ]
  },
  {
   "cell_type": "code",
   "execution_count": 70,
   "id": "350d3470-de8b-41bc-8951-4809ec5f66c3",
   "metadata": {},
   "outputs": [
    {
     "data": {
      "text/plain": [
       "array(['arugula', 'beet', 'bok_choy', 'garlic', 'kale', 'rhubarb',\n",
       "       'spinach', 'sprouts', 'squash', 'sweet_potato'], dtype=object)"
      ]
     },
     "execution_count": 70,
     "metadata": {},
     "output_type": "execute_result"
    }
   ],
   "source": [
    "basic_names_all[ii][si]"
   ]
  },
  {
   "cell_type": "code",
   "execution_count": 71,
   "id": "dfe56449-3097-4554-b663-e84e3d01934f",
   "metadata": {},
   "outputs": [
    {
     "data": {
      "text/plain": [
       "array(['cleaver', 'whisk', 'skewer', 'bottle_opener', 'tongs', 'grater',\n",
       "       'nutcracker', 'strainer', 'sifter', 'ladle'], dtype='<U18')"
      ]
     },
     "execution_count": 71,
     "metadata": {},
     "output_type": "execute_result"
    }
   ],
   "source": [
    "bnames[ii][si]"
   ]
  },
  {
   "cell_type": "code",
   "execution_count": 67,
   "id": "3738c718-b44a-4dd9-906a-46a7f8314919",
   "metadata": {},
   "outputs": [
    {
     "data": {
      "text/plain": [
       "array(['peacock', 'eagle', 'pelican', 'duck', 'ostrich', 'toucan',\n",
       "       'chick', 'vulture', 'parrot', 'pigeon'], dtype='<U18')"
      ]
     },
     "execution_count": 67,
     "metadata": {},
     "output_type": "execute_result"
    }
   ],
   "source": [
    "bnames[0][0]"
   ]
  },
  {
   "cell_type": "code",
   "execution_count": 59,
   "id": "fa25ec91-030e-4edb-8491-19451f9c45e4",
   "metadata": {},
   "outputs": [],
   "source": [
    "import sys\n",
    "sys.path.insert(0,'/user_data/mmhender/featsynth/code/')\n",
    "from make_expt_designs import make_expt1\n",
    "info = make_expt1.choose_image_subsets()"
   ]
  },
  {
   "cell_type": "code",
   "execution_count": 60,
   "id": "cb3fb244-b828-4dc8-ad06-544f45b64e1d",
   "metadata": {},
   "outputs": [],
   "source": [
    "snames = info[0]\n",
    "bnames = info[1]"
   ]
  },
  {
   "cell_type": "code",
   "execution_count": 55,
   "id": "24230b7a-dbdc-4a83-85b4-ba68032d43f5",
   "metadata": {},
   "outputs": [
    {
     "name": "stdout",
     "output_type": "stream",
     "text": [
      "set 0\n",
      "bird\n",
      "['peacock' 'eagle' 'pelican' 'duck' 'ostrich' 'toucan' 'chick' 'vulture'\n",
      " 'parrot' 'pigeon']\n",
      "drink\n",
      "['tea' 'juice' 'smoothie' 'soda' 'latte' 'milk' 'champagne' 'espresso'\n",
      " 'wine' 'hot_chocolate']\n",
      "fruit\n",
      "['coconut' 'cranberry' 'peach' 'raspberry' 'apple' 'pineapple' 'kiwi'\n",
      " 'prune' 'star_fruit' 'plum']\n",
      "body_part\n",
      "['mouth' 'arm' 'tongue' 'elbow' 'eye' 'leg' 'wrist' 'ear' 'skin' 'hair']\n",
      "home_decor\n",
      "['tapestry' 'wallpaper' 'lampshade' 'candelabra' 'frame' 'potpourri'\n",
      " 'terrarium' 'centerpiece' 'curtain' 'vase']\n",
      "medical_equipment\n",
      "['bedpan' 'sling' 'brace' 'stretcher' 'cane' 'wheelchair' 'plaster_cast'\n",
      " 'syringe' 'stethoscope' 'gurney']\n",
      "weapon\n",
      "['arrow' 'dagger' 'spear' 'brass_knuckles' 'crossbow' 'catapult'\n",
      " 'landmine' 'cannon' 'whip' 'rifle']\n",
      "vehicle\n",
      "['snowmobile' 'golf_cart' 'carriage' 'motorcycle' 'jeep' 'buggy'\n",
      " 'airplane' 'camper' 'garbage_truck' 'snowplow']\n",
      "electronic_device\n",
      "['modem' 'tablet' 'projector' 'stereo' 'cd_player' 'television'\n",
      " 'remote_control' 'cellphone' 'tape_recorder' 'computer_screen']\n",
      "sports_equipment\n",
      "['rollerskate' 'hockey_stick' 'iceskate' 'cleat' 'racket' 'dartboard'\n",
      " 'rollerblade' 'boxing_gloves' 'bobsled' 'trampoline']\n",
      "set 1\n",
      "insect\n",
      "['praying_mantis' 'earwig' 'beetle' 'bee' 'butterfly' 'lightning_bug'\n",
      " 'fly' 'dragonfly' 'ladybug' 'moth']\n",
      "dessert\n",
      "['creme_brulee' 'brownie' 'mousse' 'popsicle' 'whipped_cream'\n",
      " 'birthday_cake' 'souffle' 'chocolate' 'donut' 'baklava']\n",
      "vegetable\n",
      "['sweet_potato' 'beet' 'garlic' 'squash' 'bok_choy' 'rhubarb' 'arugula'\n",
      " 'spinach' 'kale' 'sprouts']\n",
      "clothing\n",
      "['fishnet_stockings' 'jersey' 'cardigan' 'cape' 'sweatsuit' 'blazer'\n",
      " 'jumpsuit' 'shorts' 'pantyhose' 'pantsuit']\n",
      "plant\n",
      "['bonsai' 'fern' 'seaweed' 'bush' 'cactus' 'bamboo' 'hedge' 'weed' 'moss'\n",
      " 'aloe']\n",
      "office_supply\n",
      "['eraser' 'thumbtack' 'stapler' 'staple' 'paperweight' 'ink' 'scissors'\n",
      " 'penholder' 'paper' 'pencil_sharpener']\n",
      "furniture\n",
      "['step_stool' 'recliner' 'ottoman' 'rocking_chair' 'desk' 'beanbag'\n",
      " 'dresser' 'sofa_bed' 'nightstand' 'coffee_table']\n",
      "part_of_car\n",
      "['gearshift' 'airbag' 'car_door' 'handbrake' 'headrest' 'sunroof'\n",
      " 'headlight' 'windshield_wiper' 'car_seat' 'filter']\n",
      "toy\n",
      "['rattle' 'puppet' 'kite' 'marble' 'pinwheel' 'hula_hoop' 'pogo_stick'\n",
      " 'lego' 'whoopee_cushion' 'rocking_horse']\n",
      "kitchen_tool\n",
      "['cleaver' 'whisk' 'skewer' 'bottle_opener' 'tongs' 'grater' 'nutcracker'\n",
      " 'strainer' 'sifter' 'ladle']\n"
     ]
    }
   ],
   "source": [
    "for ii in [0,1]:\n",
    "\n",
    "    print('set %d'%ii)\n",
    "    for s, b in zip(snames[ii], bnames[ii]):\n",
    "\n",
    "        print(s)\n",
    "        print(b)"
   ]
  }
 ],
 "metadata": {
  "kernelspec": {
   "display_name": "Python 3 (ipykernel)",
   "language": "python",
   "name": "python3"
  },
  "language_info": {
   "codemirror_mode": {
    "name": "ipython",
    "version": 3
   },
   "file_extension": ".py",
   "mimetype": "text/x-python",
   "name": "python",
   "nbconvert_exporter": "python",
   "pygments_lexer": "ipython3",
   "version": "3.10.9"
  }
 },
 "nbformat": 4,
 "nbformat_minor": 5
}
