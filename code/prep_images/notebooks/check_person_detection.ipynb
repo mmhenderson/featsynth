{
 "cells": [
  {
   "cell_type": "code",
   "execution_count": 1,
   "id": "a3bf4c84-f7f6-4379-87f9-326f29306f50",
   "metadata": {},
   "outputs": [
    {
     "name": "stderr",
     "output_type": "stream",
     "text": [
      "/home/mmhender/imstat_env/lib/python3.7/site-packages/tqdm/auto.py:21: TqdmWarning: IProgress not found. Please update jupyter and ipywidgets. See https://ipywidgets.readthedocs.io/en/stable/user_install.html\n",
      "  from .autonotebook import tqdm as notebook_tqdm\n"
     ]
    }
   ],
   "source": [
    "import argparse\n",
    "import os\n",
    "import sys\n",
    "import numpy as np\n",
    "\n",
    "import torch\n",
    "import matplotlib.pyplot as plt     # type: ignore\n",
    "\n",
    "things_stim_path = '/user_data/mmhender/stimuli/things/'\n",
    "save_stim_path1 = '/user_data/mmhender/stimuli/featsynth/images_v2'\n",
    "save_stim_path2 = '/user_data/mmhender/stimuli/featsynth/images_v2_basic_prototypes'\n",
    "\n",
    "sys.path.append('/user_data/mmhender/featsynth/texture_synthesis/code/')\n",
    "import utilities"
   ]
  },
  {
   "cell_type": "code",
   "execution_count": 2,
   "id": "cd694874-fc42-453e-a790-a4599746089c",
   "metadata": {},
   "outputs": [],
   "source": [
    "ecoset_path = '/lab_data/tarrlab/common/datasets/Ecoset/'\n",
    "ecoset_info_path = '/user_data/mmhender/stimuli/ecoset_info/'\n",
    "fn = os.path.join(ecoset_info_path, 'categ_use_ecoset.npy')\n",
    "info = np.load(fn, allow_pickle=True).item()\n",
    "basic_names = list(info['binfo'].keys())"
   ]
  },
  {
   "cell_type": "code",
   "execution_count": 3,
   "id": "3db43c58-4cd5-46df-a9da-48377ff35885",
   "metadata": {},
   "outputs": [],
   "source": [
    "# list of all files in each category\n",
    "fn = os.path.join(ecoset_info_path, 'ecoset_file_info.npy')\n",
    "efiles = np.load(fn, allow_pickle=True).item()"
   ]
  },
  {
   "cell_type": "code",
   "execution_count": 4,
   "id": "cdb18b57-b21c-45e6-935d-33b938e84b52",
   "metadata": {},
   "outputs": [],
   "source": [
    "pix_thresh = 256\n",
    "    "
   ]
  },
  {
   "cell_type": "code",
   "execution_count": 5,
   "id": "ccf5ea1e-4aad-41ee-859f-59c423c85bd6",
   "metadata": {},
   "outputs": [],
   "source": [
    "fn = os.path.join(ecoset_info_path, 'ecoset_files_detect_person.npy')\n",
    "has_person = np.load(fn, allow_pickle=True).item()\n",
    "f = has_person"
   ]
  },
  {
   "cell_type": "code",
   "execution_count": 7,
   "id": "88e0f36f-5fbf-4759-9ab0-2de1d9d064c4",
   "metadata": {},
   "outputs": [
    {
     "name": "stdout",
     "output_type": "stream",
     "text": [
      "mandolin not tested yet\n",
      "television not tested yet\n",
      "refrigerator not tested yet\n",
      "lamp not tested yet\n"
     ]
    }
   ],
   "source": [
    "for bname in basic_names:\n",
    "    \n",
    "    if bname in f.keys():\n",
    "        \n",
    "        vals = list(f[bname].values())\n",
    "\n",
    "        un, (no_person, has_person, untested) = np.unique(vals, return_counts=True)\n",
    "\n",
    "        if no_person<500:\n",
    "            print(bname)\n",
    "            print(no_person, has_person, untested)\n",
    "    else:\n",
    "        print('%s not tested yet'%bname)\n",
    "    # print(len(vals))\n",
    "    # print(np.sum(~np.isnan(vals)), np.sum(vals==1.0), np.sum(vals==0.0))"
   ]
  },
  {
   "cell_type": "code",
   "execution_count": null,
   "id": "0a9bb2f7-c968-4eaf-816c-e50e9f211066",
   "metadata": {},
   "outputs": [],
   "source": [
    "\n",
    "# for bname in basic_names[0:10]:\n",
    "# for bname in basic_names[20:40]:\n",
    "for bname in basic_names[40:50]:\n",
    "\n",
    "    if bname not in f.keys():\n",
    "        continue\n",
    "            \n",
    "    has_person_files = [k for k in f[bname].keys() if f[bname][k]==1.0]\n",
    "    no_person_files = [k for k in f[bname].keys() if f[bname][k]==0.0]\n",
    "\n",
    "    len(has_person_files), len(no_person_files)\n",
    "\n",
    "\n",
    "    folder = os.path.join(ecoset_path, 'train', info['binfo'][bname]['ecoset_folder'])\n",
    "\n",
    "\n",
    "    for files, label_name in zip([has_person_files, no_person_files], \\\n",
    "                                 ['has person', 'no person']):\n",
    "\n",
    "        ims_use = np.random.choice(files, 10, replace=False)\n",
    "\n",
    "        import PIL.Image\n",
    "\n",
    "        plt.figure(figsize=(12,4))\n",
    "\n",
    "        for ii, im in enumerate(ims_use):\n",
    "\n",
    "            target_image_filename = os.path.join(folder, im)\n",
    "\n",
    "            im = utilities.preprocess_image_tosave(\n",
    "                    utilities.load_image(target_image_filename)\n",
    "                )\n",
    "            # im = PIL.Image.open(target_image_filename)\n",
    "\n",
    "            plt.subplot(2, 5, ii+1)\n",
    "\n",
    "            plt.imshow(im)\n",
    "            plt.axis('off')\n",
    "\n",
    "            # print(target_image_filename)\n",
    "\n",
    "        plt.suptitle('%s, %s'%(bname, label_name));\n",
    "\n"
   ]
  }
 ],
 "metadata": {
  "kernelspec": {
   "display_name": "Python 3 (ipykernel)",
   "language": "python",
   "name": "python3"
  },
  "language_info": {
   "codemirror_mode": {
    "name": "ipython",
    "version": 3
   },
   "file_extension": ".py",
   "mimetype": "text/x-python",
   "name": "python",
   "nbconvert_exporter": "python",
   "pygments_lexer": "ipython3",
   "version": "3.10.9"
  }
 },
 "nbformat": 4,
 "nbformat_minor": 5
}
