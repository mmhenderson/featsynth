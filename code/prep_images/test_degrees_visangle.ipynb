{
 "cells": [
  {
   "cell_type": "code",
   "execution_count": 5,
   "id": "36b49eb6-a8f3-4bbc-bcc6-7878352895f9",
   "metadata": {},
   "outputs": [],
   "source": [
    "import numpy as np"
   ]
  },
  {
   "cell_type": "code",
   "execution_count": 6,
   "id": "1bc8ed69-8516-46f4-94dc-bf3ab2d69fec",
   "metadata": {},
   "outputs": [],
   "source": [
    "# bigger screen\n",
    "pixels_actual_view = np.array([1920, 1058])"
   ]
  },
  {
   "cell_type": "code",
   "execution_count": 7,
   "id": "022eb144-8735-4433-aa1c-e9e4d5e08a55",
   "metadata": {},
   "outputs": [],
   "source": [
    "# pix_per_deg on bigger screen est at 35 (this is under)\n",
    "pix_per_deg = 35\n",
    "stim_size_pix = pix_per_deg*5"
   ]
  },
  {
   "cell_type": "code",
   "execution_count": 8,
   "id": "8d97af1c-fca1-4078-8f6b-118a5e3326d7",
   "metadata": {},
   "outputs": [
    {
     "data": {
      "text/plain": [
       "array([0.09114583, 0.16540643])"
      ]
     },
     "execution_count": 8,
     "metadata": {},
     "output_type": "execute_result"
    }
   ],
   "source": [
    "stim_prop = stim_size_pix/pixels_actual_view\n",
    "stim_prop"
   ]
  },
  {
   "cell_type": "code",
   "execution_count": 9,
   "id": "977ec5bc-2d00-46f5-9039-82524bffc6c6",
   "metadata": {},
   "outputs": [
    {
     "data": {
      "text/plain": [
       "array([50.45614035, 54.4       ])"
      ]
     },
     "execution_count": 9,
     "metadata": {},
     "output_type": "execute_result"
    }
   ],
   "source": [
    "# smaller screen\n",
    "\n",
    "pixels_actual_view = np.array([1438, 680])\n",
    "cm_actual_view = np.array([28.5, 12.5])\n",
    "pixels_actual_view / cm_actual_view"
   ]
  },
  {
   "cell_type": "code",
   "execution_count": 10,
   "id": "c4580529-d27b-4be7-80f9-4c6589388e89",
   "metadata": {},
   "outputs": [],
   "source": [
    "# pix_per_deg on smaller screen est at 50 (this is about right)\n",
    "pix_per_deg = 50\n",
    "stim_size_pix = pix_per_deg*5"
   ]
  },
  {
   "cell_type": "code",
   "execution_count": 11,
   "id": "a0630497-785d-4218-9ac7-add43b21265b",
   "metadata": {},
   "outputs": [
    {
     "data": {
      "text/plain": [
       "array([0.17385257, 0.36764706])"
      ]
     },
     "execution_count": 11,
     "metadata": {},
     "output_type": "execute_result"
    }
   ],
   "source": [
    "stim_prop = stim_size_pix/pixels_actual_view\n",
    "stim_prop"
   ]
  }
 ],
 "metadata": {
  "kernelspec": {
   "display_name": "Python 3 (ipykernel)",
   "language": "python",
   "name": "python3"
  },
  "language_info": {
   "codemirror_mode": {
    "name": "ipython",
    "version": 3
   },
   "file_extension": ".py",
   "mimetype": "text/x-python",
   "name": "python",
   "nbconvert_exporter": "python",
   "pygments_lexer": "ipython3",
   "version": "3.7.1"
  }
 },
 "nbformat": 4,
 "nbformat_minor": 5
}
