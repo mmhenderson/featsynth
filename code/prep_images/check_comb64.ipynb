{
 "cells": [
  {
   "cell_type": "code",
   "execution_count": 49,
   "id": "e25bcb6c-2b5d-419c-b9fa-2ef22bf47bef",
   "metadata": {},
   "outputs": [],
   "source": [
    "import sys, os\n",
    "import numpy as np\n",
    "import pandas as pd\n",
    "\n",
    "import PIL.Image\n",
    "\n",
    "import matplotlib.pyplot as plt\n",
    "\n",
    "project_root = '/user_data/mmhender/featsynth/'\n",
    "image_path = '/user_data/mmhender/stimuli/featsynth/images_comb64_orig/'\n",
    "ecoset_info_path = '/user_data/mmhender/stimuli/ecoset_info/'\n"
   ]
  },
  {
   "cell_type": "code",
   "execution_count": 50,
   "id": "7fc726eb-1faf-489d-86d3-c4dea6da7569",
   "metadata": {},
   "outputs": [],
   "source": [
    "# info about ecoset categories\n",
    "fn = os.path.join(ecoset_info_path, 'categ_use_ecoset.npy')\n",
    "info = np.load(fn, allow_pickle=True).item()\n",
    "bnames = list(info['binfo'].keys())\n",
    "\n",
    "fn = '/user_data/mmhender/featsynth/features/raw/images_comb64_list.csv'\n",
    "\n",
    "labels_all = pd.read_csv(fn)"
   ]
  }
 ],
 "metadata": {
  "kernelspec": {
   "display_name": "Python 3 (ipykernel)",
   "language": "python",
   "name": "python3"
  },
  "language_info": {
   "codemirror_mode": {
    "name": "ipython",
    "version": 3
   },
   "file_extension": ".py",
   "mimetype": "text/x-python",
   "name": "python",
   "nbconvert_exporter": "python",
   "pygments_lexer": "ipython3",
   "version": "3.10.9"
  }
 },
 "nbformat": 4,
 "nbformat_minor": 5
}
