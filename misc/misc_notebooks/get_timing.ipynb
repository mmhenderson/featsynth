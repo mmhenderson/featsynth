{
 "cells": [
  {
   "cell_type": "code",
   "execution_count": 59,
   "id": "3d9a1e87-7299-4402-8889-fedc0bea6765",
   "metadata": {
    "tags": []
   },
   "outputs": [
    {
     "data": {
      "text/plain": [
       "4.391666666666666"
      ]
     },
     "execution_count": 59,
     "metadata": {},
     "output_type": "execute_result"
    }
   ],
   "source": [
    "## cue_time = 1.0;\n",
    "# stim_time = 0.50;\n",
    "# iti_time = 2\n",
    "\n",
    "cue_time = .750\n",
    "stim_time = .500;\n",
    "iti_time = 2.00;\n",
    "\n",
    "\n",
    "# cue_time = .600;\n",
    "# stim_time = .300;\n",
    "# iti_time = 1.700;\n",
    "\n",
    "trial_time_total = cue_time + stim_time + iti_time\n",
    "# n_trials = 72\n",
    "n_trials = 100\n",
    "\n",
    "start_run_time = 2.000;\n",
    "end_run_time = 1.500;\n",
    "\n",
    "total_run_time = trial_time_total * n_trials + start_run_time + end_run_time\n",
    "total_run_time/60"
   ]
  },
  {
   "cell_type": "code",
   "execution_count": 60,
   "id": "a9c9b726-fcb9-49e8-8097-4889269f1699",
   "metadata": {},
   "outputs": [
    {
     "data": {
      "text/plain": [
       "46.41666666666666"
      ]
     },
     "execution_count": 60,
     "metadata": {},
     "output_type": "execute_result"
    }
   ],
   "source": [
    "n_runs = 10\n",
    "\n",
    "between_run_time = 15\n",
    "\n",
    "total_exp_time = total_run_time * n_runs + between_run_time * n_runs\n",
    "total_exp_time/60"
   ]
  },
  {
   "cell_type": "code",
   "execution_count": 48,
   "id": "2249218b-e396-4d30-88e2-87e5193ef810",
   "metadata": {},
   "outputs": [
    {
     "data": {
      "text/plain": [
       "1600"
      ]
     },
     "execution_count": 48,
     "metadata": {},
     "output_type": "execute_result"
    }
   ],
   "source": [
    "n_trials_total = n_trials * n_runs\n",
    "n_trials_total"
   ]
  },
  {
   "cell_type": "code",
   "execution_count": 29,
   "id": "52882483-323f-4480-a8b7-7d131d7c24ed",
   "metadata": {},
   "outputs": [
    {
     "data": {
      "text/plain": [
       "100.0"
      ]
     },
     "execution_count": 29,
     "metadata": {},
     "output_type": "execute_result"
    }
   ],
   "source": [
    "n_trials_total / 10"
   ]
  },
  {
   "cell_type": "code",
   "execution_count": 30,
   "id": "cce9911f-9722-4c99-8088-2cb94f8bfbc5",
   "metadata": {},
   "outputs": [
    {
     "data": {
      "text/plain": [
       "20"
      ]
     },
     "execution_count": 30,
     "metadata": {},
     "output_type": "execute_result"
    }
   ],
   "source": [
    "n_image_types = 5;\n",
    "n_cue_types = 2;\n",
    "n_resp_exp = 2;\n",
    "\n",
    "n_image_types * n_cue_types * n_resp_exp"
   ]
  },
  {
   "cell_type": "code",
   "execution_count": 9,
   "id": "ee9b3de3-58d3-411d-9048-39771081e6ca",
   "metadata": {},
   "outputs": [
    {
     "data": {
      "text/plain": [
       "36.0"
      ]
     },
     "execution_count": 9,
     "metadata": {},
     "output_type": "execute_result"
    }
   ],
   "source": [
    "720/20"
   ]
  },
  {
   "cell_type": "code",
   "execution_count": 34,
   "id": "d1d334a3-8980-4677-8910-c428373d61a6",
   "metadata": {},
   "outputs": [
    {
     "data": {
      "text/plain": [
       "15.625"
      ]
     },
     "execution_count": 34,
     "metadata": {},
     "output_type": "execute_result"
    }
   ],
   "source": [
    "1000/64"
   ]
  },
  {
   "cell_type": "code",
   "execution_count": 39,
   "id": "ae12b6ea-27b7-45bc-8e75-93aafbab1e7d",
   "metadata": {},
   "outputs": [
    {
     "data": {
      "text/plain": [
       "800"
      ]
     },
     "execution_count": 39,
     "metadata": {},
     "output_type": "execute_result"
    }
   ],
   "source": [
    "8*100"
   ]
  },
  {
   "cell_type": "code",
   "execution_count": 43,
   "id": "8c4923ee-1c75-4340-838b-433f1f8165c5",
   "metadata": {},
   "outputs": [
    {
     "data": {
      "text/plain": [
       "1600"
      ]
     },
     "execution_count": 43,
     "metadata": {},
     "output_type": "execute_result"
    }
   ],
   "source": [
    "16*100"
   ]
  },
  {
   "cell_type": "code",
   "execution_count": 52,
   "id": "1e0c7034-4c3c-4ffb-ba70-b26eb3e99139",
   "metadata": {},
   "outputs": [
    {
     "data": {
      "text/plain": [
       "1280"
      ]
     },
     "execution_count": 52,
     "metadata": {},
     "output_type": "execute_result"
    }
   ],
   "source": [
    "8*8*20"
   ]
  },
  {
   "cell_type": "code",
   "execution_count": null,
   "id": "3bd6381a-311a-4a6f-9429-64fbe09ddc55",
   "metadata": {},
   "outputs": [],
   "source": []
  }
 ],
 "metadata": {
  "kernelspec": {
   "display_name": "Python 3",
   "language": "python",
   "name": "python3"
  },
  "language_info": {
   "codemirror_mode": {
    "name": "ipython",
    "version": 3
   },
   "file_extension": ".py",
   "mimetype": "text/x-python",
   "name": "python",
   "nbconvert_exporter": "python",
   "pygments_lexer": "ipython3",
   "version": "3.7.1"
  }
 },
 "nbformat": 4,
 "nbformat_minor": 5
}
