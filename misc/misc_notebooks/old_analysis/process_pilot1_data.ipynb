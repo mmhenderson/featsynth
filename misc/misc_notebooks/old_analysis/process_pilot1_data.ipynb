{
 "cells": [
  {
   "cell_type": "code",
   "execution_count": 1,
   "id": "641093e9-6961-4a88-a1c3-b7af2689afee",
   "metadata": {},
   "outputs": [],
   "source": [
    "import numpy as np\n",
    "import pandas as pd\n",
    "import matplotlib.pyplot as plt\n",
    "import os, sys"
   ]
  },
  {
   "cell_type": "code",
   "execution_count": 2,
   "id": "aec70cbd-a7bb-40ad-879a-900b7838a661",
   "metadata": {},
   "outputs": [],
   "source": [
    "project_root = '/user_data/mmhender/featsynth/'"
   ]
  },
  {
   "cell_type": "code",
   "execution_count": 3,
   "id": "d13cda0d-6cce-4ce6-b30e-95fd4520a513",
   "metadata": {},
   "outputs": [],
   "source": [
    "expt_name = 'pilot1'\n",
    "\n",
    "data_folder = os.path.join(project_root, 'online_data', expt_name)\n",
    "expt_design_folder = os.path.join(project_root, 'expt_design', expt_name)"
   ]
  },
  {
   "cell_type": "code",
   "execution_count": 4,
   "id": "1751ad7b-5ca7-4630-a4cf-2f126be05b71",
   "metadata": {},
   "outputs": [
    {
     "data": {
      "text/plain": [
       "['data_exp_104845-v9', 'data_exp_104845-v11']"
      ]
     },
     "execution_count": 4,
     "metadata": {},
     "output_type": "execute_result"
    }
   ],
   "source": [
    "folders = os.listdir(data_folder)\n",
    "folders = [f for f in folders if os.path.isdir(os.path.join(data_folder,f))]\n",
    "folders = [f for f in folders if 'data' in f]\n",
    "# folders = [folders[1]]\n",
    "folders"
   ]
  },
  {
   "cell_type": "code",
   "execution_count": 5,
   "id": "df8ccd14-d87d-48c4-bb1e-b0ea3c8ff67d",
   "metadata": {},
   "outputs": [
    {
     "name": "stdout",
     "output_type": "stream",
     "text": [
      "/user_data/mmhender/featsynth/online_data/pilot1/data_exp_104845-v9/data_exp_104845-v9_task-sq8b.csv\n",
      "/user_data/mmhender/featsynth/online_data/pilot1/data_exp_104845-v11/data_exp_104845-v11_task-sq8b.csv\n"
     ]
    }
   ],
   "source": [
    "raw_data = []\n",
    "\n",
    "for ff in range(len(folders)):\n",
    "        \n",
    "    subfolder = os.path.join(data_folder, folders[ff])\n",
    "    files = os.listdir(subfolder)\n",
    "    files = [f for f in files if 'task' in f and '.csv' in f]\n",
    "    task_filename = os.path.join(subfolder,files[0])\n",
    "    print(task_filename)\n",
    "\n",
    "    r = pd.read_csv(task_filename)\n",
    "    \n",
    "    raw_data += [r]\n",
    "    \n",
    "raw_data = pd.concat(raw_data, axis=0)"
   ]
  },
  {
   "cell_type": "code",
   "execution_count": 6,
   "id": "35d99187-a659-424f-849b-05dfd2a7935c",
   "metadata": {},
   "outputs": [
    {
     "data": {
      "text/plain": [
       "(array([ 9., 11., nan]), array([14., nan]))"
      ]
     },
     "execution_count": 6,
     "metadata": {},
     "output_type": "execute_result"
    }
   ],
   "source": [
    "task_version = raw_data['Task Version']\n",
    "experiment_version = raw_data['Experiment Version']\n",
    "np.unique(np.array(experiment_version)), np.unique(np.array(task_version))"
   ]
  },
  {
   "cell_type": "code",
   "execution_count": 7,
   "id": "05b6fbdc-4d72-4d03-b286-dddb204e435b",
   "metadata": {},
   "outputs": [
    {
     "name": "stdout",
     "output_type": "stream",
     "text": [
      "[7494803. 7519817. 7519877. 7519886. 7519925. 7520275. 7594572. 7594906.\n",
      " 7594960. 7595246.      nan] ['' '0yt4ywmv' '2yrs98lj' '4cntwgpn' '4qlnnzsd' '5ploo1az' '76bhcm4d'\n",
      " '7povpisi' 'bw0mm82w' 'jkjn531f' 'msadf654'] [ 2004.  7999. 20482. 23174. 46863. 52631. 58937. 87104. 91697. 99091.\n",
      "    nan]\n"
     ]
    }
   ],
   "source": [
    "private_ids = np.array(raw_data['Participant Private ID'])\n",
    "public_ids = np.array(raw_data['Participant Public ID'])\n",
    "my_ids = np.array(raw_data['subject_id_rnd'])\n",
    "public_ids = [p if isinstance(p,str) else '' for p in public_ids]\n",
    "\n",
    "print(np.unique(private_ids), np.unique(public_ids), np.unique(my_ids))\n",
    "\n",
    "subject_ids = np.unique(private_ids)\n",
    "subject_ids = subject_ids[~np.isnan(subject_ids)]\n",
    "n_subjects = len(subject_ids)"
   ]
  },
  {
   "cell_type": "code",
   "execution_count": 8,
   "id": "9de602ac-4d2a-4223-8d0d-612d9964b088",
   "metadata": {},
   "outputs": [
    {
     "data": {
      "text/plain": [
       "10"
      ]
     },
     "execution_count": 8,
     "metadata": {},
     "output_type": "execute_result"
    }
   ],
   "source": [
    "n_subjects"
   ]
  },
  {
   "cell_type": "code",
   "execution_count": 9,
   "id": "cb541387-7da1-4674-85c9-853751b9b758",
   "metadata": {},
   "outputs": [
    {
     "data": {
      "text/plain": [
       "(6, 6)"
      ]
     },
     "execution_count": 9,
     "metadata": {},
     "output_type": "execute_result"
    }
   ],
   "source": [
    "super_names_eachset = []\n",
    "basic_names_eachset = []\n",
    "\n",
    "for which_cb in [1,2]:\n",
    "    info_filename = os.path.join(expt_design_folder, 'trial_info_counterbal%d.csv'%which_cb)\n",
    "    info = pd.read_csv(info_filename)\n",
    "    \n",
    "    super_names = np.unique(info['super_name'])\n",
    "    basic_names = []\n",
    "    for sup in super_names:\n",
    "        basic = np.unique(np.array(info['basic_name'][info['super_name']==sup]))\n",
    "        basic_names += [basic]\n",
    "        \n",
    "    super_names_eachset += [super_names]    \n",
    "    basic_names_eachset += [basic_names]\n",
    "    \n",
    "n_supcat = len(super_names_eachset[0])\n",
    "n_bascat = len(basic_names_eachset[0][0])\n",
    "n_supcat, n_bascat"
   ]
  },
  {
   "cell_type": "code",
   "execution_count": 14,
   "id": "d6baeb28-f8ce-40ea-9c03-485ad2ce3afd",
   "metadata": {},
   "outputs": [],
   "source": [
    "intact_cond = ['orig' in name for name in list(info['image_name'])]"
   ]
  },
  {
   "cell_type": "code",
   "execution_count": 10,
   "id": "7115832a-6479-403e-a21b-0dc50c9e3293",
   "metadata": {},
   "outputs": [],
   "source": [
    "def preproc_data(data):\n",
    "    \n",
    "    start_run_inds = np.where(~np.isnan(data['subject_id_rnd']))[0][0::2]\n",
    "    stop_run_inds = np.where(~np.isnan(data['subject_id_rnd']))[0][1::2]\n",
    "    finish_inds = stop_run_inds+1\n",
    "\n",
    "    # print(data.shape)\n",
    "    # print(finish_inds)\n",
    "    run_acc = np.array(data['total_acc'])[finish_inds]\n",
    "    run_avg_rts = np.array(data['average_rt'])[finish_inds]\n",
    "    print('run accuracies, avg RTs:')\n",
    "    print(run_acc, run_avg_rts)\n",
    "\n",
    "    which_cb = int(np.array(data['which_counterbal'])[start_run_inds[0]])\n",
    "    # which_cb = 1\n",
    "    print(which_cb)\n",
    "    \n",
    "    info_filename = os.path.join(expt_design_folder, 'trial_info_counterbal%d.csv'%which_cb)\n",
    "    info = pd.read_csv(info_filename)\n",
    "\n",
    "    n_trials = np.sum(data['is_stim'])\n",
    "    assert(info.shape[0]==n_trials)\n",
    "\n",
    "    trial_data = pd.DataFrame()\n",
    "    rts = np.array(data['Reaction Time'])\n",
    "    stim_rts = rts[data['is_stim']==True]\n",
    "    iti_rts = rts[data['is_iti']==True]\n",
    "\n",
    "    stimulus_dur_ms = 500\n",
    "\n",
    "    rts = stim_rts\n",
    "    rts[np.isnan(stim_rts)] = iti_rts[np.isnan(stim_rts)] + stimulus_dur_ms\n",
    "\n",
    "    trial_data['rt'] = rts\n",
    "\n",
    "    resp = np.array(proc_resp_strs(data['Response']))\n",
    "\n",
    "    stim_resp = resp[data['is_stim']==True]\n",
    "    iti_resp = resp[data['is_iti']==True]\n",
    "    resp = stim_resp\n",
    "    resp[np.isnan(stim_resp)] = iti_resp[np.isnan(stim_resp)]\n",
    "\n",
    "    trial_data['resp'] = resp.astype(int)\n",
    "\n",
    "    correct_resp = np.array(data['correct_response'])\n",
    "    correct_resp = correct_resp[data['is_stim']==True].astype(int)\n",
    "\n",
    "    # double check that trial sequence is correct between data and trial info csv\n",
    "    correct_resp_check = 2-info['target_present'].astype(int)\n",
    "    # print(correct_resp_check, correct_resp)\n",
    "    # print(correct_resp_check==correct_resp)\n",
    "    # print(np.where(~(correct_resp_check==correct_resp)))\n",
    "    assert(np.all(correct_resp_check==correct_resp))\n",
    "\n",
    "    trial_data['correct_resp'] = correct_resp\n",
    "\n",
    "    trial_data['correct'] = trial_data['correct_resp']==trial_data['resp']\n",
    "    \n",
    "    return trial_data, info\n",
    "\n",
    "def proc_resp_strs(resp, poss_resp = ['1','2']):\n",
    "\n",
    "    resp = [r if isinstance(r, str) else str(r) for r in resp]\n",
    "    proc_resp = np.array([int(r) if r in poss_resp else np.nan for r in resp])\n",
    "\n",
    "    return proc_resp"
   ]
  },
  {
   "cell_type": "code",
   "execution_count": 78,
   "id": "80ecf4c2-b59e-4ae5-a344-0fa4e2f641a8",
   "metadata": {},
   "outputs": [
    {
     "data": {
      "text/plain": [
       "4.0"
      ]
     },
     "execution_count": 78,
     "metadata": {},
     "output_type": "execute_result"
    }
   ],
   "source": [
    "288/72"
   ]
  },
  {
   "cell_type": "code",
   "execution_count": 11,
   "id": "857dff1f-f1ca-41eb-9db5-7005a735438e",
   "metadata": {},
   "outputs": [
    {
     "name": "stdout",
     "output_type": "stream",
     "text": [
      "\n",
      "subject 0, id: 0yt4ywmv\n",
      "counterbalance cond: 1\n",
      "run accuracies, avg RTs:\n",
      "[78. 86. 78. 86. 83. 90. 92. 79. 89. 89.] [722. 713. 681. 740. 743. 700. 796. 696. 670. 717.]\n",
      "1\n",
      "\n",
      "subject 1, id: jkjn531f\n",
      "counterbalance cond: 1\n",
      "run accuracies, avg RTs:\n",
      "[78. 83. 72. 79. 85. 81. 86. 83. 81. 82.] [765. 677. 621. 576. 636. 687. 646. 638. 623. 599.]\n",
      "1\n",
      "\n",
      "subject 2, id: msadf654\n",
      "counterbalance cond: 2\n",
      "run accuracies, avg RTs:\n",
      "[83. 83. 89. 92. 89. 88. 92. 90. 88. 92.] [632. 542. 534. 535. 555. 535. 557. 486. 557. 527.]\n",
      "2\n",
      "\n",
      "subject 3, id: 76bhcm4d\n",
      "counterbalance cond: 2\n",
      "run accuracies, avg RTs:\n",
      "[63. 79. 76. 79. 76. 78. 81. 76. 74. 81.] [665. 681. 614. 630. 595. 633. 590. 592. 644. 610.]\n",
      "2\n",
      "\n",
      "subject 4, id: 4qlnnzsd\n",
      "counterbalance cond: 1\n",
      "run accuracies, avg RTs:\n",
      "[35. 51. 36. 50. 40. 28. 35. 49. 46. 36.] [399. 284. 156. 240. 228. 342. 122. 248. 307. 372.]\n",
      "1\n",
      "\n",
      "subject 5, id: 2yrs98lj\n",
      "counterbalance cond: 1\n",
      "run accuracies, avg RTs:\n",
      "[11. 15. 19. 31. 22. 26. 25. 15. 31. 33.] [ 574.  757.  814.  866.  770.  825.  903.  795. 1120. 1167.]\n",
      "1\n",
      "\n",
      "subject 6, id: 5ploo1az\n",
      "counterbalance cond: 2\n",
      "run accuracies, avg RTs:\n",
      "[ 6. 35. 54. 43. 57. 47. 57. 38. 44. 58.] [528. 490. 681. 596. 580. 847. 855. 611. 555. 701.]\n",
      "2\n",
      "\n",
      "subject 7, id: 7povpisi\n",
      "counterbalance cond: 2\n",
      "run accuracies, avg RTs:\n",
      "[86. 81. 89. 86. 82. 86. 93. 94. 94. 90.] [1062.  847.  844.  829.  809.  807.  776.  728.  754.  743.]\n",
      "2\n",
      "\n",
      "subject 8, id: 4cntwgpn\n",
      "counterbalance cond: 2\n",
      "run accuracies, avg RTs:\n",
      "[10. 13. 36. 22. 17.  0. 51. 11.  0. 10.] [508. 523. 452. 299. 436. 500. 307. 477. 500. 466.]\n",
      "2\n",
      "\n",
      "subject 9, id: bw0mm82w\n",
      "counterbalance cond: 2\n",
      "run accuracies, avg RTs:\n",
      "[ 8. 35. 47. 21. 50. 28. 60. 47. 71. 35.] [536. 380. 283. 442. 287. 301. 177. 357. 271. 323.]\n",
      "2\n"
     ]
    }
   ],
   "source": [
    "subject_data = []\n",
    "subject_info = []\n",
    "subject_cb = np.zeros((n_subjects,))\n",
    "\n",
    "# for si in [6]:\n",
    "    # ss = subject_ids[si]\n",
    "for si, ss in enumerate(subject_ids):\n",
    "    \n",
    "   \n",
    "    d = raw_data.iloc[private_ids==ss]\n",
    "    \n",
    "    # sort by time. sometimes they are out of order, sometimes not...\n",
    "    t = d['Local Timestamp']\n",
    "    \n",
    "    d = d.iloc[np.argsort(t)]\n",
    "    \n",
    "    which_cb = np.array(d['which_counterbal'])\n",
    "    which_cb = int(which_cb[~np.isnan(which_cb)][0])\n",
    "#     \n",
    "    # which_cb = 1\n",
    "    \n",
    "    subject_cb[si] = which_cb\n",
    "    \n",
    "    pub_id = np.array(d['Participant Public ID'])[0]\n",
    "    print('\\nsubject %d, id: %s'%(si, pub_id))\n",
    "    print('counterbalance cond: %d'%which_cb)\n",
    "    # print(d.shape)\n",
    "#     \n",
    "    trial_data, info = preproc_data(d)\n",
    "    \n",
    "    subject_data += [trial_data]\n",
    "    subject_info += [info]\n",
    "   "
   ]
  },
  {
   "cell_type": "code",
   "execution_count": 12,
   "id": "f8603b45-cc8d-4d22-8bd3-696414869a89",
   "metadata": {},
   "outputs": [],
   "source": [
    "info = subject_info[0]\n",
    "\n",
    "cue_level_vals = np.unique(info['cue_level'])\n",
    "n_cue_levels = len(cue_level_vals)\n",
    "\n",
    "image_type_vals = np.unique(info['image_type_num'])\n",
    "n_image_types = len(image_type_vals)\n",
    "\n",
    "acc_by_condition = np.zeros((n_subjects, n_cue_levels, n_image_types))\n",
    "propyes_by_condition = np.zeros((n_subjects, n_cue_levels, n_image_types))\n",
    "overall_acc = np.zeros((n_subjects,))\n",
    "\n",
    "acc_by_supcat = [np.zeros((np.sum(subject_cb==cb), n_cue_levels, n_image_types, n_supcat)) \\\n",
    "                 for cb in [1,2]]\n",
    "cb_sub_count = [0,0]\n",
    "\n",
    "for si in range(n_subjects):\n",
    "    \n",
    "    info = subject_info[si]\n",
    "    trial_data = subject_data[si]\n",
    "    \n",
    "    overall_acc[si] = np.mean(trial_data['correct'])\n",
    "\n",
    "    if subject_cb[si]==1:\n",
    "        cbi=0;\n",
    "    else:\n",
    "        cbi=1;\n",
    "\n",
    "    supnames = super_names_eachset[cbi]\n",
    "      \n",
    "    for cc, cue in enumerate(cue_level_vals):\n",
    "\n",
    "        for ii, imtype in enumerate(image_type_vals):\n",
    "\n",
    "            inds = (info['cue_level']==cue) & (info['image_type_num']==imtype)\n",
    "\n",
    "            acc_by_condition[si, cc,ii] = np.mean(trial_data['correct'][inds])\n",
    "\n",
    "            propyes_by_condition[si, cc,ii] = np.mean(trial_data['resp'][inds]==1)\n",
    "            \n",
    "            for sc, supcat in enumerate(supnames):\n",
    "                \n",
    "                inds = (info['cue_level']==cue) & \\\n",
    "                        (info['image_type_num']==imtype) & \\\n",
    "                        (info['super_name']==supcat)\n",
    "                \n",
    "                acc_by_supcat[cbi][cb_sub_count[cbi],cc,ii,sc] = np.mean(trial_data['correct'][inds])\n",
    "\n",
    "    cb_sub_count[cbi]+=1\n",
    "     "
   ]
  },
  {
   "cell_type": "code",
   "execution_count": 14,
   "id": "eafdc39f-dfc0-40c3-91b1-90d7a3143231",
   "metadata": {},
   "outputs": [
    {
     "data": {
      "text/plain": [
       "array([ True,  True,  True,  True, False, False, False,  True, False,\n",
       "       False])"
      ]
     },
     "execution_count": 14,
     "metadata": {},
     "output_type": "execute_result"
    }
   ],
   "source": [
    "# as quality control, check accuracy on the intact condition. subjects\n",
    "# should all be above 0.50 on this since it's easy.\n",
    "intact_acc = np.mean(acc_by_condition[:,:,0], axis=1)\n",
    "subjects_use = intact_acc>0.50\n",
    "subjects_use"
   ]
  },
  {
   "cell_type": "code",
   "execution_count": 16,
   "id": "01dc6c2f-4d29-46a7-8490-76be34d6f1d9",
   "metadata": {},
   "outputs": [],
   "source": [
    "image_type_names = np.array(['intact', 'match pool1', 'match pool2', 'match pool3', 'match pool4'])\n",
    "cue_level_names = ['cue basic', 'cue superordinate']\n",
    "\n",
    "type_order_plot = [1,2,3,4,0]"
   ]
  },
  {
   "cell_type": "code",
   "execution_count": 17,
   "id": "94dac067-42d2-45a1-9a0a-930daf4e1a1a",
   "metadata": {},
   "outputs": [
    {
     "data": {
      "image/png": "[encoded data removed]",
      "text/plain": [
       "<Figure size 432x288 with 1 Axes>"
      ]
     },
     "metadata": {
      "needs_background": "light"
     },
     "output_type": "display_data"
    },
    {
     "data": {
      "image/png": "[encoded data removed]",
      "text/plain": [
       "<Figure size 432x288 with 1 Axes>"
      ]
     },
     "metadata": {
      "needs_background": "light"
     },
     "output_type": "display_data"
    }
   ],
   "source": [
    "cc = 0; # basic\n",
    "ii = 1; # pool1 (hardest)\n",
    "\n",
    "for cbi, cb in enumerate([1,2]):\n",
    "\n",
    "    vals = acc_by_supcat[cbi][subjects_use[subject_cb==cb],:,:,:]\n",
    "\n",
    "    supnames = super_names_eachset[cbi]\n",
    "\n",
    "    plot_vals = vals[:,cc,ii,:]\n",
    "    meanvals = np.mean(plot_vals, axis=0)\n",
    "    semvals = np.std(plot_vals, axis=0)/np.sqrt(plot_vals.shape[0])\n",
    "    plt.figure()\n",
    "    plt.bar(np.arange(len(meanvals)), meanvals)\n",
    "    plt.errorbar(np.arange(len(meanvals)), meanvals, semvals, linestyle='none', color='k')\n",
    "    plt.axhline(0.50, color=[0.8, 0.8, 0.8], linestyle='--')\n",
    "    plt.xticks(np.arange(len(meanvals)), supnames, rotation=45)\n",
    "    plt.ylim([0.2, 1.0])\n",
    "\n",
    "    plt.title('%s, %s'%(image_type_names[ii], cue_level_names[cc]))"
   ]
  },
  {
   "cell_type": "code",
   "execution_count": 18,
   "id": "b4d7c410-83fa-4da7-957d-829df2374cd7",
   "metadata": {},
   "outputs": [
    {
     "data": {
      "text/plain": [
       "[array(['bird', 'body_part', 'drink', 'fruit', 'kitchen_tool', 'plant'],\n",
       "       dtype=object),\n",
       " array(['clothing', 'dessert', 'insect', 'office_supply',\n",
       "        'sports_equipment', 'vegetable'], dtype=object)]"
      ]
     },
     "execution_count": 18,
     "metadata": {},
     "output_type": "execute_result"
    }
   ],
   "source": [
    "super_names_eachset"
   ]
  },
  {
   "cell_type": "code",
   "execution_count": 19,
   "id": "79f2039e-c015-46ce-a073-b2aa6b3ee5c8",
   "metadata": {},
   "outputs": [
    {
     "data": {
      "text/plain": [
       "([array(['bird', 'body_part', 'fruit', 'plant'], dtype=object),\n",
       "  array(['insect', 'vegetable'], dtype=object)],\n",
       " [array(['drink', 'kitchen_tool'], dtype=object),\n",
       "  array(['clothing', 'dessert', 'office_supply', 'sports_equipment'],\n",
       "        dtype=object)])"
      ]
     },
     "execution_count": 19,
     "metadata": {},
     "output_type": "execute_result"
    }
   ],
   "source": [
    "is_natural = [np.array([1,1,0,1,0,1]).astype(bool), \\\n",
    "              np.array([0,0,1,0,0,1]).astype(bool)]\n",
    "[super_names_eachset[cbi][is_natural[cbi]] for cbi in [0,1]], \\\n",
    "[super_names_eachset[cbi][~is_natural[cbi]] for cbi in [0,1]]"
   ]
  },
  {
   "cell_type": "code",
   "execution_count": 20,
   "id": "f7a4d8a0-3151-4031-bf47-1df38ad5d3fd",
   "metadata": {},
   "outputs": [
    {
     "data": {
      "image/png": "[encoded data removed]",
      "text/plain": [
       "<Figure size 432x288 with 1 Axes>"
      ]
     },
     "metadata": {
      "needs_background": "light"
     },
     "output_type": "display_data"
    },
    {
     "data": {
      "image/png": "[encoded data removed]",
      "text/plain": [
       "<Figure size 432x288 with 1 Axes>"
      ]
     },
     "metadata": {
      "needs_background": "light"
     },
     "output_type": "display_data"
    }
   ],
   "source": [
    "cc = 0; # basic\n",
    "ii = 1; # pool1 (hardest)\n",
    "\n",
    "for cbi, cb in enumerate([1,2]):\n",
    "\n",
    "    vals = acc_by_supcat[cbi][subjects_use[subject_cb==cb],:,:,:]\n",
    "\n",
    "    supnames = super_names_eachset[cbi]\n",
    "\n",
    "    plot_vals = vals[:,cc,ii,:]\n",
    "    \n",
    "    # average over natural and artificial superordinate categories\n",
    "    plot_vals = np.concatenate([np.mean(plot_vals[:,is_natural[cbi]==nn], axis=1, keepdims=True) \\\n",
    "                 for nn in [True, False]], axis=1)\n",
    "    kind_names = ['Natural','Artificial']\n",
    "   \n",
    "    \n",
    "    meanvals = np.mean(plot_vals, axis=0)\n",
    "    semvals = np.std(plot_vals, axis=0)/np.sqrt(plot_vals.shape[0])\n",
    "    plt.figure()\n",
    "    plt.bar(np.arange(len(meanvals)), meanvals)\n",
    "    plt.errorbar(np.arange(len(meanvals)), meanvals, semvals, linestyle='none', color='k')\n",
    "    plt.axhline(0.50, color=[0.8, 0.8, 0.8], linestyle='--')\n",
    "    plt.xticks(np.arange(len(meanvals)), kind_names, rotation=45)\n",
    "    plt.ylim([0.2, 1.0])\n",
    "\n",
    "    plt.title('%s, %s'%(image_type_names[ii], cue_level_names[cc]))"
   ]
  },
  {
   "cell_type": "code",
   "execution_count": null,
   "id": "16931062-5d61-4ac6-9dbe-91cb17cf986a",
   "metadata": {},
   "outputs": [],
   "source": [
    " "
   ]
  },
  {
   "cell_type": "code",
   "execution_count": 132,
   "id": "7529de3c-300d-48e6-a7a3-1dd062202957",
   "metadata": {},
   "outputs": [
    {
     "data": {
      "text/plain": [
       "array([0.75      , 0.58333333, 0.83333333, 0.54166667, 0.58333333,\n",
       "       0.58333333])"
      ]
     },
     "execution_count": 132,
     "metadata": {},
     "output_type": "execute_result"
    }
   ],
   "source": [
    "meanvals"
   ]
  },
  {
   "cell_type": "code",
   "execution_count": 95,
   "id": "c42d8b4f-cb1d-46bf-8809-b6e7b775b3c4",
   "metadata": {},
   "outputs": [
    {
     "data": {
      "text/plain": [
       "array(['bird', 'body_part', 'drink', 'fruit', 'kitchen_tool', 'plant'],\n",
       "      dtype=object)"
      ]
     },
     "execution_count": 95,
     "metadata": {},
     "output_type": "execute_result"
    }
   ],
   "source": [
    "np.unique(np.array(info['super_name'])[inds])"
   ]
  },
  {
   "cell_type": "code",
   "execution_count": 70,
   "id": "71bd8dad-e7ca-4780-8275-08eb75c6b4b4",
   "metadata": {},
   "outputs": [],
   "source": [
    "super_intact_acc = acc_by_condition[:,1,0]"
   ]
  },
  {
   "cell_type": "code",
   "execution_count": 71,
   "id": "85c6d544-67ed-41f6-af7b-b4a35d53b85b",
   "metadata": {},
   "outputs": [
    {
     "data": {
      "text/plain": [
       "(array(['basic', 'super'], dtype=object), array([0., 1., 2., 3., 4.]))"
      ]
     },
     "execution_count": 71,
     "metadata": {},
     "output_type": "execute_result"
    }
   ],
   "source": [
    "cue_level_vals, image_type_vals"
   ]
  },
  {
   "cell_type": "code",
   "execution_count": 106,
   "id": "a13f9972-3177-47ac-bb64-e490fe5ce2b2",
   "metadata": {},
   "outputs": [
    {
     "data": {
      "text/plain": [
       "array([1., 1., 2., 2., 2.])"
      ]
     },
     "execution_count": 106,
     "metadata": {},
     "output_type": "execute_result"
    }
   ],
   "source": [
    "subject_cb[subjects_use]"
   ]
  },
  {
   "cell_type": "code",
   "execution_count": 108,
   "id": "58e9857a-ac53-4dc8-a9c3-1a7e9fe65b53",
   "metadata": {},
   "outputs": [
    {
     "data": {
      "image/png": "[encoded data removed]",
      "text/plain": [
       "<Figure size 432x288 with 1 Axes>"
      ]
     },
     "metadata": {
      "needs_background": "light"
     },
     "output_type": "display_data"
    },
    {
     "data": {
      "image/png": "[encoded data removed]",
      "text/plain": [
       "<Figure size 432x288 with 1 Axes>"
      ]
     },
     "metadata": {
      "needs_background": "light"
     },
     "output_type": "display_data"
    }
   ],
   "source": [
    "for cb in [1,2]:\n",
    "\n",
    "    subjects_plot = (subject_cb==cb) & subjects_use\n",
    "    n_subs_plot = np.sum(subjects_plot)\n",
    "    \n",
    "    plt.figure()\n",
    "    ax = plt.subplot(1,1,1)\n",
    "\n",
    "    lh = []\n",
    "    for cc, cue in enumerate(cue_level_vals):\n",
    "\n",
    "        vals = acc_by_condition[subjects_plot,cc,:]\n",
    "\n",
    "        meanvals = np.mean(vals, axis=0)\n",
    "        semvals = np.std(vals, axis=0)/np.sqrt(n_subs_plot)\n",
    "\n",
    "        h = plt.errorbar(np.arange(n_image_types), meanvals[type_order_plot], semvals[type_order_plot])\n",
    "        # h, = plt.plot(vals[type_order_plot], '.-')\n",
    "        plt.xticks(np.arange(n_image_types), image_type_names[type_order_plot])\n",
    "        lh.append(h)\n",
    "\n",
    "    plt.axhline(0.50, color=[0.8, 0.8, 0.8], linestyle='--')\n",
    "\n",
    "    ax.legend(lh, cue_level_vals)\n",
    "\n",
    "    plt.ylabel('accuracy')\n",
    "\n",
    "    plt.ylim([0.2, 1.0])\n",
    "    \n",
    "    plt.title('image set %d (n=%d)'%(cb,n_subs_plot))"
   ]
  },
  {
   "cell_type": "code",
   "execution_count": 109,
   "id": "719c9224-1c14-46ab-9c3a-c1e39ae3b1c5",
   "metadata": {},
   "outputs": [
    {
     "data": {
      "image/png": "[encoded data removed]",
      "text/plain": [
       "<Figure size 432x288 with 1 Axes>"
      ]
     },
     "metadata": {
      "needs_background": "light"
     },
     "output_type": "display_data"
    },
    {
     "data": {
      "image/png": "[encoded data removed]",
      "text/plain": [
       "<Figure size 432x288 with 1 Axes>"
      ]
     },
     "metadata": {
      "needs_background": "light"
     },
     "output_type": "display_data"
    }
   ],
   "source": [
    "for cb in [1,2]:\n",
    "\n",
    "    subjects_plot = (subject_cb==cb) & subjects_use\n",
    "    n_subs_plot = np.sum(subjects_plot)\n",
    "\n",
    "    plt.figure()\n",
    "    ax = plt.subplot(1,1,1)\n",
    "\n",
    "    lh = []\n",
    "    for cc, cue in enumerate(cue_level_vals):\n",
    "\n",
    "        vals = propyes_by_condition[subjects_plot,cc,:]\n",
    "\n",
    "        meanvals = np.mean(vals, axis=0)\n",
    "        semvals = np.std(vals, axis=0)/np.sqrt(n_subs_plot)\n",
    "\n",
    "        h = plt.errorbar(np.arange(n_image_types), meanvals[type_order_plot], semvals[type_order_plot])\n",
    "\n",
    "        plt.xticks(np.arange(n_image_types), image_type_names[type_order_plot])\n",
    "        lh.append(h)\n",
    "\n",
    "    plt.axhline(0.50, color=[0.8, 0.8, 0.8], linestyle='--')\n",
    "\n",
    "    ax.legend(lh, cue_level_vals)\n",
    "\n",
    "    plt.ylabel('prop resp target present')\n",
    "\n",
    "    plt.ylim([0.2, 1.0])\n",
    "    \n",
    "    plt.title('image set %d (n=%d)'%(cb,n_subs_plot))"
   ]
  },
  {
   "cell_type": "code",
   "execution_count": 111,
   "id": "3be542da-8372-4ea1-859f-1f4cdbb45ee1",
   "metadata": {},
   "outputs": [
    {
     "data": {
      "image/png": "[encoded data removed]",
      "text/plain": [
       "<Figure size 864x864 with 10 Axes>"
      ]
     },
     "metadata": {
      "needs_background": "light"
     },
     "output_type": "display_data"
    }
   ],
   "source": [
    "plt.figure(figsize=(12,12))\n",
    "npy = int(np.ceil(np.sqrt(n_subjects)))\n",
    "npx = int(np.ceil(n_subjects/npy))\n",
    "xlims = [0, 2500]\n",
    "\n",
    "\n",
    "for si in range(n_subjects):\n",
    "\n",
    "    plt.subplot(npx, npy, si+1)\n",
    "    \n",
    "    rts = subject_data[si]['rt']\n",
    "    \n",
    "    if subjects_use[si]:\n",
    "        plt.hist(rts,100, color=[0.4, 0.4, 0.4]);\n",
    "    else:\n",
    "        plt.hist(rts,100, color=[0.8, 0.8, 0.8]);\n",
    "    plt.title('subject %d'%si)\n",
    "    \n",
    "    plt.xlim(xlims)"
   ]
  }
 ],
 "metadata": {
  "kernelspec": {
   "display_name": "Python 3 (ipykernel)",
   "language": "python",
   "name": "python3"
  },
  "language_info": {
   "codemirror_mode": {
    "name": "ipython",
    "version": 3
   },
   "file_extension": ".py",
   "mimetype": "text/x-python",
   "name": "python",
   "nbconvert_exporter": "python",
   "pygments_lexer": "ipython3",
   "version": "3.7.1"
  }
 },
 "nbformat": 4,
 "nbformat_minor": 5
}
