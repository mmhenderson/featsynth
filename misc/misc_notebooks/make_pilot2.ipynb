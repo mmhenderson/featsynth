{
 "cells": [
  {
   "cell_type": "code",
   "execution_count": 1,
   "id": "bad11b62-3e40-4712-b077-a2557096ea1d",
   "metadata": {},
   "outputs": [],
   "source": [
    "import os, sys\n",
    "import numpy as np\n",
    "import pandas as pd\n",
    "\n",
    "things_root = '/user_data/mmhender/stimuli/things/'\n",
    "project_root = '/user_data/mmhender/featsynth/'\n",
    "\n",
    "sys.path.append(project_root)\n",
    "\n",
    "from code_utils import dropbox_utils, expt_utils\n",
    "token_path = os.path.join(project_root, 'tokens/dbx_token.txt')\n",
    "dbx = dropbox_utils.init_dropbox(token_path)\n",
    "\n",
    "expt_name = 'pilot2'"
   ]
  },
  {
   "cell_type": "code",
   "execution_count": 3,
   "id": "48d9f872-5153-4f7e-8299-da9c1a09918d",
   "metadata": {},
   "outputs": [],
   "source": [
    "# dbx.files_list_folder('/images_v1/')\n",
    "# dbx.files_list_folder('/images/')"
   ]
  },
  {
   "cell_type": "code",
   "execution_count": 5,
   "id": "03cc6f16-c1b7-4ad5-8781-e72528f243b2",
   "metadata": {},
   "outputs": [
    {
     "data": {
      "text/plain": [
       "'https://dl.dropboxusercontent.com/s/99f3fzzwis4ca43/orig.png?dl=0'"
      ]
     },
     "execution_count": 5,
     "metadata": {},
     "output_type": "execute_result"
    }
   ],
   "source": [
    "dbxpath = '/images_v1/arugula_08s/orig.png'\n",
    "# dbxpath = '/images/airbag_01b/orig.png'\n",
    "dropbox_utils.get_shared_url(dbxpath, dbx)"
   ]
  },
  {
   "cell_type": "code",
   "execution_count": 6,
   "id": "fa8cec07-ddef-42a9-b7fc-799b79888968",
   "metadata": {},
   "outputs": [
    {
     "ename": "ApiError",
     "evalue": "ApiError('d9edde977bf148e88271ad00d44c8230', ListFolderError('path', LookupError('not_found', None)))",
     "output_type": "error",
     "traceback": [
      "\u001b[0;31m---------------------------------------------------------------------------\u001b[0m",
      "\u001b[0;31mApiError\u001b[0m                                  Traceback (most recent call last)",
      "\u001b[0;32m<ipython-input-6-3a5cd5b5336a>\u001b[0m in \u001b[0;36m<module>\u001b[0;34m\u001b[0m\n\u001b[0;32m----> 1\u001b[0;31m \u001b[0mdbx\u001b[0m\u001b[0;34m.\u001b[0m\u001b[0mfiles_list_folder\u001b[0m\u001b[0;34m(\u001b[0m\u001b[0;34m'/data/'\u001b[0m\u001b[0;34m)\u001b[0m\u001b[0;34m\u001b[0m\u001b[0;34m\u001b[0m\u001b[0m\n\u001b[0m",
      "\u001b[0;32m~/myenv/lib/python3.7/site-packages/dropbox/base.py\u001b[0m in \u001b[0;36mfiles_list_folder\u001b[0;34m(self, path, recursive, include_media_info, include_deleted, include_has_explicit_shared_members, include_mounted_folders, limit, shared_link, include_property_groups, include_non_downloadable_files)\u001b[0m\n\u001b[1;32m   2147\u001b[0m             \u001b[0;34m'files'\u001b[0m\u001b[0;34m,\u001b[0m\u001b[0;34m\u001b[0m\u001b[0;34m\u001b[0m\u001b[0m\n\u001b[1;32m   2148\u001b[0m             \u001b[0marg\u001b[0m\u001b[0;34m,\u001b[0m\u001b[0;34m\u001b[0m\u001b[0;34m\u001b[0m\u001b[0m\n\u001b[0;32m-> 2149\u001b[0;31m             \u001b[0;32mNone\u001b[0m\u001b[0;34m,\u001b[0m\u001b[0;34m\u001b[0m\u001b[0;34m\u001b[0m\u001b[0m\n\u001b[0m\u001b[1;32m   2150\u001b[0m         )\n\u001b[1;32m   2151\u001b[0m         \u001b[0;32mreturn\u001b[0m \u001b[0mr\u001b[0m\u001b[0;34m\u001b[0m\u001b[0;34m\u001b[0m\u001b[0m\n",
      "\u001b[0;32m~/myenv/lib/python3.7/site-packages/dropbox/dropbox_client.py\u001b[0m in \u001b[0;36mrequest\u001b[0;34m(self, route, namespace, request_arg, request_binary, timeout)\u001b[0m\n\u001b[1;32m    352\u001b[0m                            \u001b[0mdeserialized_result\u001b[0m\u001b[0;34m,\u001b[0m\u001b[0;34m\u001b[0m\u001b[0;34m\u001b[0m\u001b[0m\n\u001b[1;32m    353\u001b[0m                            \u001b[0muser_message_text\u001b[0m\u001b[0;34m,\u001b[0m\u001b[0;34m\u001b[0m\u001b[0;34m\u001b[0m\u001b[0m\n\u001b[0;32m--> 354\u001b[0;31m                            user_message_locale)\n\u001b[0m\u001b[1;32m    355\u001b[0m         \u001b[0;32melif\u001b[0m \u001b[0mroute_style\u001b[0m \u001b[0;34m==\u001b[0m \u001b[0mself\u001b[0m\u001b[0;34m.\u001b[0m\u001b[0m_ROUTE_STYLE_DOWNLOAD\u001b[0m\u001b[0;34m:\u001b[0m\u001b[0;34m\u001b[0m\u001b[0;34m\u001b[0m\u001b[0m\n\u001b[1;32m    356\u001b[0m             \u001b[0;32mreturn\u001b[0m \u001b[0;34m(\u001b[0m\u001b[0mdeserialized_result\u001b[0m\u001b[0;34m,\u001b[0m \u001b[0mres\u001b[0m\u001b[0;34m.\u001b[0m\u001b[0mhttp_resp\u001b[0m\u001b[0;34m)\u001b[0m\u001b[0;34m\u001b[0m\u001b[0;34m\u001b[0m\u001b[0m\n",
      "\u001b[0;31mApiError\u001b[0m: ApiError('d9edde977bf148e88271ad00d44c8230', ListFolderError('path', LookupError('not_found', None)))"
     ]
    }
   ],
   "source": [
    "dbx.files_list_folder('/data/')"
   ]
  },
  {
   "cell_type": "code",
   "execution_count": 6,
   "id": "7f991bbc-7ad9-4b42-ab84-8dcfeddb8455",
   "metadata": {},
   "outputs": [],
   "source": [
    "from make_expt_designs import make_pilot2"
   ]
  },
  {
   "cell_type": "code",
   "execution_count": 7,
   "id": "342252ae-200e-455c-88a4-ad05510bc4b2",
   "metadata": {},
   "outputs": [
    {
     "name": "stdout",
     "output_type": "stream",
     "text": [
      "making trial info for counterbalance cond 0 of 2\n",
      "['bird', 'drink', 'fruit', 'body_part', 'home_decor', 'medical_equipment', 'weapon', 'vehicle', 'electronic_device', 'sports_equipment']\n",
      "proc trial 0 of 1000\n",
      "/images_v1/peacock_01b/orig.png\n",
      "/images_v1/peacock_02s/orig.png\n",
      "/images_v1/peacock_03s/grid5_1x1_upto_pool1.png\n",
      "/images_v1/peacock_04s/grid5_1x1_upto_pool1.png\n",
      "/images_v1/peacock_05s/grid5_1x1_upto_pool2.png\n",
      "/images_v1/peacock_06s/grid5_1x1_upto_pool2.png\n",
      "/images_v1/peacock_07s/grid5_1x1_upto_pool3.png\n"
     ]
    },
    {
     "ename": "KeyboardInterrupt",
     "evalue": "",
     "output_type": "error",
     "traceback": [
      "\u001b[0;31m---------------------------------------------------------------------------\u001b[0m",
      "\u001b[0;31mKeyboardInterrupt\u001b[0m                         Traceback (most recent call last)",
      "\u001b[0;32m<ipython-input-7-30daa8fa47b3>\u001b[0m in \u001b[0;36m<module>\u001b[0;34m\u001b[0m\n\u001b[0;32m----> 1\u001b[0;31m \u001b[0mmake_pilot2\u001b[0m\u001b[0;34m.\u001b[0m\u001b[0mmake_trial_info\u001b[0m\u001b[0;34m(\u001b[0m\u001b[0;34m)\u001b[0m\u001b[0;34m\u001b[0m\u001b[0;34m\u001b[0m\u001b[0m\n\u001b[0m",
      "\u001b[0;32m/user_data/mmhender/featsynth/make_expt_designs/make_pilot2.py\u001b[0m in \u001b[0;36mmake_trial_info\u001b[0;34m(rndseed)\u001b[0m\n\u001b[1;32m    116\u001b[0m \u001b[0;34m\u001b[0m\u001b[0m\n\u001b[1;32m    117\u001b[0m                         \u001b[0mprint\u001b[0m\u001b[0;34m(\u001b[0m\u001b[0mdbxpath\u001b[0m\u001b[0;34m)\u001b[0m\u001b[0;34m\u001b[0m\u001b[0;34m\u001b[0m\u001b[0m\n\u001b[0;32m--> 118\u001b[0;31m                         \u001b[0mtrial_info\u001b[0m\u001b[0;34m[\u001b[0m\u001b[0;34m'dropbox_url'\u001b[0m\u001b[0;34m]\u001b[0m\u001b[0;34m.\u001b[0m\u001b[0miloc\u001b[0m\u001b[0;34m[\u001b[0m\u001b[0mtt\u001b[0m\u001b[0;34m]\u001b[0m \u001b[0;34m=\u001b[0m \u001b[0mdropbox_utils\u001b[0m\u001b[0;34m.\u001b[0m\u001b[0mget_shared_url\u001b[0m\u001b[0;34m(\u001b[0m\u001b[0mdbxpath\u001b[0m\u001b[0;34m,\u001b[0m \u001b[0mdbx\u001b[0m\u001b[0;34m)\u001b[0m\u001b[0;34m\u001b[0m\u001b[0;34m\u001b[0m\u001b[0m\n\u001b[0m\u001b[1;32m    119\u001b[0m \u001b[0;34m\u001b[0m\u001b[0m\n\u001b[1;32m    120\u001b[0m                         \u001b[0mxx\u001b[0m \u001b[0;34m+=\u001b[0m \u001b[0;36m1\u001b[0m\u001b[0;34m;\u001b[0m\u001b[0;34m\u001b[0m\u001b[0;34m\u001b[0m\u001b[0m\n",
      "\u001b[0;32m/user_data/mmhender/featsynth/code_utils/dropbox_utils.py\u001b[0m in \u001b[0;36mget_shared_url\u001b[0;34m(path, dbx)\u001b[0m\n\u001b[1;32m     15\u001b[0m     \u001b[0;32mif\u001b[0m \u001b[0mlen\u001b[0m\u001b[0;34m(\u001b[0m\u001b[0mresult\u001b[0m\u001b[0;34m.\u001b[0m\u001b[0mlinks\u001b[0m\u001b[0;34m)\u001b[0m\u001b[0;34m==\u001b[0m\u001b[0;36m0\u001b[0m\u001b[0;34m:\u001b[0m\u001b[0;34m\u001b[0m\u001b[0;34m\u001b[0m\u001b[0m\n\u001b[1;32m     16\u001b[0m         \u001b[0mmeta\u001b[0m \u001b[0;34m=\u001b[0m \u001b[0mdbx\u001b[0m\u001b[0;34m.\u001b[0m\u001b[0msharing_create_shared_link_with_settings\u001b[0m\u001b[0;34m(\u001b[0m\u001b[0mpath\u001b[0m\u001b[0;34m)\u001b[0m\u001b[0;34m\u001b[0m\u001b[0;34m\u001b[0m\u001b[0m\n\u001b[0;32m---> 17\u001b[0;31m         \u001b[0mresult\u001b[0m \u001b[0;34m=\u001b[0m \u001b[0mdbx\u001b[0m\u001b[0;34m.\u001b[0m\u001b[0msharing_get_shared_links\u001b[0m\u001b[0;34m(\u001b[0m\u001b[0mpath\u001b[0m\u001b[0;34m)\u001b[0m\u001b[0;34m\u001b[0m\u001b[0;34m\u001b[0m\u001b[0m\n\u001b[0m\u001b[1;32m     18\u001b[0m     \u001b[0murl\u001b[0m \u001b[0;34m=\u001b[0m \u001b[0mresult\u001b[0m\u001b[0;34m.\u001b[0m\u001b[0mlinks\u001b[0m\u001b[0;34m[\u001b[0m\u001b[0;36m0\u001b[0m\u001b[0;34m]\u001b[0m\u001b[0;34m.\u001b[0m\u001b[0murl\u001b[0m\u001b[0;34m\u001b[0m\u001b[0;34m\u001b[0m\u001b[0m\n\u001b[1;32m     19\u001b[0m     \u001b[0murl\u001b[0m \u001b[0;34m=\u001b[0m \u001b[0murl\u001b[0m\u001b[0;34m.\u001b[0m\u001b[0mreplace\u001b[0m\u001b[0;34m(\u001b[0m\u001b[0;34m'www.dropbox'\u001b[0m\u001b[0;34m,\u001b[0m \u001b[0;34m'dl.dropboxusercontent'\u001b[0m\u001b[0;34m)\u001b[0m\u001b[0;34m\u001b[0m\u001b[0;34m\u001b[0m\u001b[0m\n",
      "\u001b[0;32m~/myenv/lib/python3.7/site-packages/dropbox/base.py\u001b[0m in \u001b[0;36msharing_get_shared_links\u001b[0;34m(self, path)\u001b[0m\n\u001b[1;32m   4822\u001b[0m             \u001b[0;34m'sharing'\u001b[0m\u001b[0;34m,\u001b[0m\u001b[0;34m\u001b[0m\u001b[0;34m\u001b[0m\u001b[0m\n\u001b[1;32m   4823\u001b[0m             \u001b[0marg\u001b[0m\u001b[0;34m,\u001b[0m\u001b[0;34m\u001b[0m\u001b[0;34m\u001b[0m\u001b[0m\n\u001b[0;32m-> 4824\u001b[0;31m             \u001b[0;32mNone\u001b[0m\u001b[0;34m,\u001b[0m\u001b[0;34m\u001b[0m\u001b[0;34m\u001b[0m\u001b[0m\n\u001b[0m\u001b[1;32m   4825\u001b[0m         )\n\u001b[1;32m   4826\u001b[0m         \u001b[0;32mreturn\u001b[0m \u001b[0mr\u001b[0m\u001b[0;34m\u001b[0m\u001b[0;34m\u001b[0m\u001b[0m\n",
      "\u001b[0;32m~/myenv/lib/python3.7/site-packages/dropbox/dropbox_client.py\u001b[0m in \u001b[0;36mrequest\u001b[0;34m(self, route, namespace, request_arg, request_binary, timeout)\u001b[0m\n\u001b[1;32m    330\u001b[0m                                                   \u001b[0mauth_type\u001b[0m\u001b[0;34m,\u001b[0m\u001b[0;34m\u001b[0m\u001b[0;34m\u001b[0m\u001b[0m\n\u001b[1;32m    331\u001b[0m                                                   \u001b[0mrequest_binary\u001b[0m\u001b[0;34m,\u001b[0m\u001b[0;34m\u001b[0m\u001b[0;34m\u001b[0m\u001b[0m\n\u001b[0;32m--> 332\u001b[0;31m                                                   timeout=timeout)\n\u001b[0m\u001b[1;32m    333\u001b[0m         \u001b[0mdecoded_obj_result\u001b[0m \u001b[0;34m=\u001b[0m \u001b[0mjson\u001b[0m\u001b[0;34m.\u001b[0m\u001b[0mloads\u001b[0m\u001b[0;34m(\u001b[0m\u001b[0mres\u001b[0m\u001b[0;34m.\u001b[0m\u001b[0mobj_result\u001b[0m\u001b[0;34m)\u001b[0m\u001b[0;34m\u001b[0m\u001b[0;34m\u001b[0m\u001b[0m\n\u001b[1;32m    334\u001b[0m         \u001b[0;32mif\u001b[0m \u001b[0misinstance\u001b[0m\u001b[0;34m(\u001b[0m\u001b[0mres\u001b[0m\u001b[0;34m,\u001b[0m \u001b[0mRouteResult\u001b[0m\u001b[0;34m)\u001b[0m\u001b[0;34m:\u001b[0m\u001b[0;34m\u001b[0m\u001b[0;34m\u001b[0m\u001b[0m\n",
      "\u001b[0;32m~/myenv/lib/python3.7/site-packages/dropbox/dropbox_client.py\u001b[0m in \u001b[0;36mrequest_json_string_with_retry\u001b[0;34m(self, host, route_name, route_style, request_json_arg, auth_type, request_binary, timeout)\u001b[0m\n\u001b[1;32m    480\u001b[0m                                                 \u001b[0mauth_type\u001b[0m\u001b[0;34m,\u001b[0m\u001b[0;34m\u001b[0m\u001b[0;34m\u001b[0m\u001b[0m\n\u001b[1;32m    481\u001b[0m                                                 \u001b[0mrequest_binary\u001b[0m\u001b[0;34m,\u001b[0m\u001b[0;34m\u001b[0m\u001b[0;34m\u001b[0m\u001b[0m\n\u001b[0;32m--> 482\u001b[0;31m                                                 timeout=timeout)\n\u001b[0m\u001b[1;32m    483\u001b[0m             \u001b[0;32mexcept\u001b[0m \u001b[0mAuthError\u001b[0m \u001b[0;32mas\u001b[0m \u001b[0me\u001b[0m\u001b[0;34m:\u001b[0m\u001b[0;34m\u001b[0m\u001b[0;34m\u001b[0m\u001b[0m\n\u001b[1;32m    484\u001b[0m                 \u001b[0;32mif\u001b[0m \u001b[0me\u001b[0m\u001b[0;34m.\u001b[0m\u001b[0merror\u001b[0m \u001b[0;32mand\u001b[0m \u001b[0me\u001b[0m\u001b[0;34m.\u001b[0m\u001b[0merror\u001b[0m\u001b[0;34m.\u001b[0m\u001b[0mis_expired_access_token\u001b[0m\u001b[0;34m(\u001b[0m\u001b[0;34m)\u001b[0m\u001b[0;34m:\u001b[0m\u001b[0;34m\u001b[0m\u001b[0;34m\u001b[0m\u001b[0m\n",
      "\u001b[0;32m~/myenv/lib/python3.7/site-packages/dropbox/dropbox_client.py\u001b[0m in \u001b[0;36mrequest_json_string\u001b[0;34m(self, host, func_name, route_style, request_json_arg, auth_type, request_binary, timeout)\u001b[0m\n\u001b[1;32m    592\u001b[0m                                \u001b[0mstream\u001b[0m\u001b[0;34m=\u001b[0m\u001b[0mstream\u001b[0m\u001b[0;34m,\u001b[0m\u001b[0;34m\u001b[0m\u001b[0;34m\u001b[0m\u001b[0m\n\u001b[1;32m    593\u001b[0m                                \u001b[0mverify\u001b[0m\u001b[0;34m=\u001b[0m\u001b[0;32mTrue\u001b[0m\u001b[0;34m,\u001b[0m\u001b[0;34m\u001b[0m\u001b[0;34m\u001b[0m\u001b[0m\n\u001b[0;32m--> 594\u001b[0;31m                                \u001b[0mtimeout\u001b[0m\u001b[0;34m=\u001b[0m\u001b[0mtimeout\u001b[0m\u001b[0;34m,\u001b[0m\u001b[0;34m\u001b[0m\u001b[0;34m\u001b[0m\u001b[0m\n\u001b[0m\u001b[1;32m    595\u001b[0m                                )\n\u001b[1;32m    596\u001b[0m         \u001b[0mself\u001b[0m\u001b[0;34m.\u001b[0m\u001b[0mraise_dropbox_error_for_resp\u001b[0m\u001b[0;34m(\u001b[0m\u001b[0mr\u001b[0m\u001b[0;34m)\u001b[0m\u001b[0;34m\u001b[0m\u001b[0;34m\u001b[0m\u001b[0m\n",
      "\u001b[0;32m~/myenv/lib/python3.7/site-packages/requests/sessions.py\u001b[0m in \u001b[0;36mpost\u001b[0;34m(self, url, data, json, **kwargs)\u001b[0m\n\u001b[1;32m    588\u001b[0m         \"\"\"\n\u001b[1;32m    589\u001b[0m \u001b[0;34m\u001b[0m\u001b[0m\n\u001b[0;32m--> 590\u001b[0;31m         \u001b[0;32mreturn\u001b[0m \u001b[0mself\u001b[0m\u001b[0;34m.\u001b[0m\u001b[0mrequest\u001b[0m\u001b[0;34m(\u001b[0m\u001b[0;34m'POST'\u001b[0m\u001b[0;34m,\u001b[0m \u001b[0murl\u001b[0m\u001b[0;34m,\u001b[0m \u001b[0mdata\u001b[0m\u001b[0;34m=\u001b[0m\u001b[0mdata\u001b[0m\u001b[0;34m,\u001b[0m \u001b[0mjson\u001b[0m\u001b[0;34m=\u001b[0m\u001b[0mjson\u001b[0m\u001b[0;34m,\u001b[0m \u001b[0;34m**\u001b[0m\u001b[0mkwargs\u001b[0m\u001b[0;34m)\u001b[0m\u001b[0;34m\u001b[0m\u001b[0;34m\u001b[0m\u001b[0m\n\u001b[0m\u001b[1;32m    591\u001b[0m \u001b[0;34m\u001b[0m\u001b[0m\n\u001b[1;32m    592\u001b[0m     \u001b[0;32mdef\u001b[0m \u001b[0mput\u001b[0m\u001b[0;34m(\u001b[0m\u001b[0mself\u001b[0m\u001b[0;34m,\u001b[0m \u001b[0murl\u001b[0m\u001b[0;34m,\u001b[0m \u001b[0mdata\u001b[0m\u001b[0;34m=\u001b[0m\u001b[0;32mNone\u001b[0m\u001b[0;34m,\u001b[0m \u001b[0;34m**\u001b[0m\u001b[0mkwargs\u001b[0m\u001b[0;34m)\u001b[0m\u001b[0;34m:\u001b[0m\u001b[0;34m\u001b[0m\u001b[0;34m\u001b[0m\u001b[0m\n",
      "\u001b[0;32m~/myenv/lib/python3.7/site-packages/requests/sessions.py\u001b[0m in \u001b[0;36mrequest\u001b[0;34m(self, method, url, params, data, headers, cookies, files, auth, timeout, allow_redirects, proxies, hooks, stream, verify, cert, json)\u001b[0m\n\u001b[1;32m    540\u001b[0m         }\n\u001b[1;32m    541\u001b[0m         \u001b[0msend_kwargs\u001b[0m\u001b[0;34m.\u001b[0m\u001b[0mupdate\u001b[0m\u001b[0;34m(\u001b[0m\u001b[0msettings\u001b[0m\u001b[0;34m)\u001b[0m\u001b[0;34m\u001b[0m\u001b[0;34m\u001b[0m\u001b[0m\n\u001b[0;32m--> 542\u001b[0;31m         \u001b[0mresp\u001b[0m \u001b[0;34m=\u001b[0m \u001b[0mself\u001b[0m\u001b[0;34m.\u001b[0m\u001b[0msend\u001b[0m\u001b[0;34m(\u001b[0m\u001b[0mprep\u001b[0m\u001b[0;34m,\u001b[0m \u001b[0;34m**\u001b[0m\u001b[0msend_kwargs\u001b[0m\u001b[0;34m)\u001b[0m\u001b[0;34m\u001b[0m\u001b[0;34m\u001b[0m\u001b[0m\n\u001b[0m\u001b[1;32m    543\u001b[0m \u001b[0;34m\u001b[0m\u001b[0m\n\u001b[1;32m    544\u001b[0m         \u001b[0;32mreturn\u001b[0m \u001b[0mresp\u001b[0m\u001b[0;34m\u001b[0m\u001b[0;34m\u001b[0m\u001b[0m\n",
      "\u001b[0;32m~/myenv/lib/python3.7/site-packages/requests/sessions.py\u001b[0m in \u001b[0;36msend\u001b[0;34m(self, request, **kwargs)\u001b[0m\n\u001b[1;32m    653\u001b[0m \u001b[0;34m\u001b[0m\u001b[0m\n\u001b[1;32m    654\u001b[0m         \u001b[0;31m# Send the request\u001b[0m\u001b[0;34m\u001b[0m\u001b[0;34m\u001b[0m\u001b[0;34m\u001b[0m\u001b[0m\n\u001b[0;32m--> 655\u001b[0;31m         \u001b[0mr\u001b[0m \u001b[0;34m=\u001b[0m \u001b[0madapter\u001b[0m\u001b[0;34m.\u001b[0m\u001b[0msend\u001b[0m\u001b[0;34m(\u001b[0m\u001b[0mrequest\u001b[0m\u001b[0;34m,\u001b[0m \u001b[0;34m**\u001b[0m\u001b[0mkwargs\u001b[0m\u001b[0;34m)\u001b[0m\u001b[0;34m\u001b[0m\u001b[0;34m\u001b[0m\u001b[0m\n\u001b[0m\u001b[1;32m    656\u001b[0m \u001b[0;34m\u001b[0m\u001b[0m\n\u001b[1;32m    657\u001b[0m         \u001b[0;31m# Total elapsed time of the request (approximately)\u001b[0m\u001b[0;34m\u001b[0m\u001b[0;34m\u001b[0m\u001b[0;34m\u001b[0m\u001b[0m\n",
      "\u001b[0;32m~/myenv/lib/python3.7/site-packages/requests/adapters.py\u001b[0m in \u001b[0;36msend\u001b[0;34m(self, request, stream, timeout, verify, cert, proxies)\u001b[0m\n\u001b[1;32m    531\u001b[0m                 \u001b[0;32mraise\u001b[0m\u001b[0;34m\u001b[0m\u001b[0;34m\u001b[0m\u001b[0m\n\u001b[1;32m    532\u001b[0m \u001b[0;34m\u001b[0m\u001b[0m\n\u001b[0;32m--> 533\u001b[0;31m         \u001b[0;32mreturn\u001b[0m \u001b[0mself\u001b[0m\u001b[0;34m.\u001b[0m\u001b[0mbuild_response\u001b[0m\u001b[0;34m(\u001b[0m\u001b[0mrequest\u001b[0m\u001b[0;34m,\u001b[0m \u001b[0mresp\u001b[0m\u001b[0;34m)\u001b[0m\u001b[0;34m\u001b[0m\u001b[0;34m\u001b[0m\u001b[0m\n\u001b[0m",
      "\u001b[0;32m~/myenv/lib/python3.7/site-packages/requests/adapters.py\u001b[0m in \u001b[0;36mbuild_response\u001b[0;34m(self, req, resp)\u001b[0m\n\u001b[1;32m    282\u001b[0m \u001b[0;34m\u001b[0m\u001b[0m\n\u001b[1;32m    283\u001b[0m         \u001b[0;31m# Add new cookies from the server.\u001b[0m\u001b[0;34m\u001b[0m\u001b[0;34m\u001b[0m\u001b[0;34m\u001b[0m\u001b[0m\n\u001b[0;32m--> 284\u001b[0;31m         \u001b[0mextract_cookies_to_jar\u001b[0m\u001b[0;34m(\u001b[0m\u001b[0mresponse\u001b[0m\u001b[0;34m.\u001b[0m\u001b[0mcookies\u001b[0m\u001b[0;34m,\u001b[0m \u001b[0mreq\u001b[0m\u001b[0;34m,\u001b[0m \u001b[0mresp\u001b[0m\u001b[0;34m)\u001b[0m\u001b[0;34m\u001b[0m\u001b[0;34m\u001b[0m\u001b[0m\n\u001b[0m\u001b[1;32m    285\u001b[0m \u001b[0;34m\u001b[0m\u001b[0m\n\u001b[1;32m    286\u001b[0m         \u001b[0;31m# Give the Response some context.\u001b[0m\u001b[0;34m\u001b[0m\u001b[0;34m\u001b[0m\u001b[0;34m\u001b[0m\u001b[0m\n",
      "\u001b[0;32m~/myenv/lib/python3.7/site-packages/requests/cookies.py\u001b[0m in \u001b[0;36mextract_cookies_to_jar\u001b[0;34m(jar, request, response)\u001b[0m\n\u001b[1;32m    129\u001b[0m     \u001b[0mreq\u001b[0m \u001b[0;34m=\u001b[0m \u001b[0mMockRequest\u001b[0m\u001b[0;34m(\u001b[0m\u001b[0mrequest\u001b[0m\u001b[0;34m)\u001b[0m\u001b[0;34m\u001b[0m\u001b[0;34m\u001b[0m\u001b[0m\n\u001b[1;32m    130\u001b[0m     \u001b[0;31m# pull out the HTTPMessage with the headers and put it in the mock:\u001b[0m\u001b[0;34m\u001b[0m\u001b[0;34m\u001b[0m\u001b[0;34m\u001b[0m\u001b[0m\n\u001b[0;32m--> 131\u001b[0;31m     \u001b[0mres\u001b[0m \u001b[0;34m=\u001b[0m \u001b[0mMockResponse\u001b[0m\u001b[0;34m(\u001b[0m\u001b[0mresponse\u001b[0m\u001b[0;34m.\u001b[0m\u001b[0m_original_response\u001b[0m\u001b[0;34m.\u001b[0m\u001b[0mmsg\u001b[0m\u001b[0;34m)\u001b[0m\u001b[0;34m\u001b[0m\u001b[0;34m\u001b[0m\u001b[0m\n\u001b[0m\u001b[1;32m    132\u001b[0m     \u001b[0mjar\u001b[0m\u001b[0;34m.\u001b[0m\u001b[0mextract_cookies\u001b[0m\u001b[0;34m(\u001b[0m\u001b[0mres\u001b[0m\u001b[0;34m,\u001b[0m \u001b[0mreq\u001b[0m\u001b[0;34m)\u001b[0m\u001b[0;34m\u001b[0m\u001b[0;34m\u001b[0m\u001b[0m\n\u001b[1;32m    133\u001b[0m \u001b[0;34m\u001b[0m\u001b[0m\n",
      "\u001b[0;32m~/myenv/lib/python3.7/site-packages/requests/cookies.py\u001b[0m in \u001b[0;36m__init__\u001b[0;34m(self, headers)\u001b[0m\n\u001b[1;32m    102\u001b[0m     \"\"\"\n\u001b[1;32m    103\u001b[0m \u001b[0;34m\u001b[0m\u001b[0m\n\u001b[0;32m--> 104\u001b[0;31m     \u001b[0;32mdef\u001b[0m \u001b[0m__init__\u001b[0m\u001b[0;34m(\u001b[0m\u001b[0mself\u001b[0m\u001b[0;34m,\u001b[0m \u001b[0mheaders\u001b[0m\u001b[0;34m)\u001b[0m\u001b[0;34m:\u001b[0m\u001b[0;34m\u001b[0m\u001b[0;34m\u001b[0m\u001b[0m\n\u001b[0m\u001b[1;32m    105\u001b[0m         \"\"\"Make a MockResponse for `cookielib` to read.\n\u001b[1;32m    106\u001b[0m \u001b[0;34m\u001b[0m\u001b[0m\n",
      "\u001b[0;31mKeyboardInterrupt\u001b[0m: "
     ]
    }
   ],
   "source": [
    "make_pilot2.make_trial_info()"
   ]
  },
  {
   "cell_type": "code",
   "execution_count": 7,
   "id": "380ff4a6-d370-417c-be24-07df5238ef2a",
   "metadata": {},
   "outputs": [],
   "source": [
    "ti = pd.read_csv('/user_data/mmhender/featsynth/expt_design/pilot2/trial_info_counterbal2.csv')"
   ]
  },
  {
   "cell_type": "code",
   "execution_count": 8,
   "id": "3247eedf-7e7f-47bf-802d-a76431dab637",
   "metadata": {},
   "outputs": [
    {
     "data": {
      "text/html": [
       "<div>\n",
       "<style scoped>\n",
       "    .dataframe tbody tr th:only-of-type {\n",
       "        vertical-align: middle;\n",
       "    }\n",
       "\n",
       "    .dataframe tbody tr th {\n",
       "        vertical-align: top;\n",
       "    }\n",
       "\n",
       "    .dataframe thead th {\n",
       "        text-align: right;\n",
       "    }\n",
       "</style>\n",
       "<table border=\"1\" class=\"dataframe\">\n",
       "  <thead>\n",
       "    <tr style=\"text-align: right;\">\n",
       "      <th></th>\n",
       "      <th>trial_num_overall</th>\n",
       "      <th>categ_ind</th>\n",
       "      <th>concept_ind</th>\n",
       "      <th>super_name</th>\n",
       "      <th>basic_name</th>\n",
       "      <th>ex_num</th>\n",
       "      <th>image_type_num</th>\n",
       "      <th>image_type</th>\n",
       "      <th>image_name</th>\n",
       "      <th>dropbox_url</th>\n",
       "      <th>target_present</th>\n",
       "      <th>cue_level_num</th>\n",
       "      <th>cue_level</th>\n",
       "      <th>cue_name</th>\n",
       "      <th>run_number</th>\n",
       "      <th>trial_in_run</th>\n",
       "    </tr>\n",
       "  </thead>\n",
       "  <tbody>\n",
       "    <tr>\n",
       "      <th>0</th>\n",
       "      <td>651.0</td>\n",
       "      <td>6.0</td>\n",
       "      <td>5.0</td>\n",
       "      <td>furniture</td>\n",
       "      <td>beanbag</td>\n",
       "      <td>1.0</td>\n",
       "      <td>0.0</td>\n",
       "      <td>orig</td>\n",
       "      <td>beanbag_02s/orig.png</td>\n",
       "      <td>0.0</td>\n",
       "      <td>True</td>\n",
       "      <td>1.0</td>\n",
       "      <td>super</td>\n",
       "      <td>furniture</td>\n",
       "      <td>1</td>\n",
       "      <td>1</td>\n",
       "    </tr>\n",
       "    <tr>\n",
       "      <th>1</th>\n",
       "      <td>452.0</td>\n",
       "      <td>4.0</td>\n",
       "      <td>5.0</td>\n",
       "      <td>plant</td>\n",
       "      <td>bamboo</td>\n",
       "      <td>2.0</td>\n",
       "      <td>1.0</td>\n",
       "      <td>pool1</td>\n",
       "      <td>bamboo_03s/grid5_1x1_upto_pool1.png</td>\n",
       "      <td>0.0</td>\n",
       "      <td>True</td>\n",
       "      <td>0.0</td>\n",
       "      <td>basic</td>\n",
       "      <td>bamboo</td>\n",
       "      <td>1</td>\n",
       "      <td>2</td>\n",
       "    </tr>\n",
       "    <tr>\n",
       "      <th>2</th>\n",
       "      <td>149.0</td>\n",
       "      <td>1.0</td>\n",
       "      <td>4.0</td>\n",
       "      <td>dessert</td>\n",
       "      <td>whipped_cream</td>\n",
       "      <td>9.0</td>\n",
       "      <td>4.0</td>\n",
       "      <td>pool4</td>\n",
       "      <td>whipped_cream_10s/grid5_1x1_upto_pool4.png</td>\n",
       "      <td>0.0</td>\n",
       "      <td>False</td>\n",
       "      <td>1.0</td>\n",
       "      <td>super</td>\n",
       "      <td>toy</td>\n",
       "      <td>1</td>\n",
       "      <td>3</td>\n",
       "    </tr>\n",
       "    <tr>\n",
       "      <th>3</th>\n",
       "      <td>425.0</td>\n",
       "      <td>4.0</td>\n",
       "      <td>2.0</td>\n",
       "      <td>plant</td>\n",
       "      <td>seaweed</td>\n",
       "      <td>5.0</td>\n",
       "      <td>2.0</td>\n",
       "      <td>pool2</td>\n",
       "      <td>seaweed_06s/grid5_1x1_upto_pool2.png</td>\n",
       "      <td>0.0</td>\n",
       "      <td>False</td>\n",
       "      <td>1.0</td>\n",
       "      <td>super</td>\n",
       "      <td>dessert</td>\n",
       "      <td>1</td>\n",
       "      <td>4</td>\n",
       "    </tr>\n",
       "    <tr>\n",
       "      <th>4</th>\n",
       "      <td>870.0</td>\n",
       "      <td>8.0</td>\n",
       "      <td>7.0</td>\n",
       "      <td>toy</td>\n",
       "      <td>lego</td>\n",
       "      <td>0.0</td>\n",
       "      <td>0.0</td>\n",
       "      <td>orig</td>\n",
       "      <td>lego_01b/orig.png</td>\n",
       "      <td>0.0</td>\n",
       "      <td>False</td>\n",
       "      <td>0.0</td>\n",
       "      <td>basic</td>\n",
       "      <td>rocking_horse</td>\n",
       "      <td>1</td>\n",
       "      <td>5</td>\n",
       "    </tr>\n",
       "    <tr>\n",
       "      <th>...</th>\n",
       "      <td>...</td>\n",
       "      <td>...</td>\n",
       "      <td>...</td>\n",
       "      <td>...</td>\n",
       "      <td>...</td>\n",
       "      <td>...</td>\n",
       "      <td>...</td>\n",
       "      <td>...</td>\n",
       "      <td>...</td>\n",
       "      <td>...</td>\n",
       "      <td>...</td>\n",
       "      <td>...</td>\n",
       "      <td>...</td>\n",
       "      <td>...</td>\n",
       "      <td>...</td>\n",
       "      <td>...</td>\n",
       "    </tr>\n",
       "    <tr>\n",
       "      <th>995</th>\n",
       "      <td>71.0</td>\n",
       "      <td>0.0</td>\n",
       "      <td>7.0</td>\n",
       "      <td>insect</td>\n",
       "      <td>dragonfly</td>\n",
       "      <td>1.0</td>\n",
       "      <td>0.0</td>\n",
       "      <td>orig</td>\n",
       "      <td>dragonfly_02s/orig.png</td>\n",
       "      <td>0.0</td>\n",
       "      <td>True</td>\n",
       "      <td>1.0</td>\n",
       "      <td>super</td>\n",
       "      <td>insect</td>\n",
       "      <td>10</td>\n",
       "      <td>96</td>\n",
       "    </tr>\n",
       "    <tr>\n",
       "      <th>996</th>\n",
       "      <td>411.0</td>\n",
       "      <td>4.0</td>\n",
       "      <td>1.0</td>\n",
       "      <td>plant</td>\n",
       "      <td>fern</td>\n",
       "      <td>1.0</td>\n",
       "      <td>0.0</td>\n",
       "      <td>orig</td>\n",
       "      <td>fern_02n/orig.png</td>\n",
       "      <td>0.0</td>\n",
       "      <td>True</td>\n",
       "      <td>1.0</td>\n",
       "      <td>super</td>\n",
       "      <td>plant</td>\n",
       "      <td>10</td>\n",
       "      <td>97</td>\n",
       "    </tr>\n",
       "    <tr>\n",
       "      <th>997</th>\n",
       "      <td>673.0</td>\n",
       "      <td>6.0</td>\n",
       "      <td>7.0</td>\n",
       "      <td>furniture</td>\n",
       "      <td>sofa_bed</td>\n",
       "      <td>3.0</td>\n",
       "      <td>1.0</td>\n",
       "      <td>pool1</td>\n",
       "      <td>sofa_bed_04s/grid5_1x1_upto_pool1.png</td>\n",
       "      <td>0.0</td>\n",
       "      <td>False</td>\n",
       "      <td>1.0</td>\n",
       "      <td>super</td>\n",
       "      <td>vegetable</td>\n",
       "      <td>10</td>\n",
       "      <td>98</td>\n",
       "    </tr>\n",
       "    <tr>\n",
       "      <th>998</th>\n",
       "      <td>943.0</td>\n",
       "      <td>9.0</td>\n",
       "      <td>4.0</td>\n",
       "      <td>kitchen_tool</td>\n",
       "      <td>tongs</td>\n",
       "      <td>3.0</td>\n",
       "      <td>1.0</td>\n",
       "      <td>pool1</td>\n",
       "      <td>tongs_04s/grid5_1x1_upto_pool1.png</td>\n",
       "      <td>0.0</td>\n",
       "      <td>True</td>\n",
       "      <td>1.0</td>\n",
       "      <td>super</td>\n",
       "      <td>kitchen_tool</td>\n",
       "      <td>10</td>\n",
       "      <td>99</td>\n",
       "    </tr>\n",
       "    <tr>\n",
       "      <th>999</th>\n",
       "      <td>174.0</td>\n",
       "      <td>1.0</td>\n",
       "      <td>7.0</td>\n",
       "      <td>dessert</td>\n",
       "      <td>chocolate</td>\n",
       "      <td>4.0</td>\n",
       "      <td>2.0</td>\n",
       "      <td>pool2</td>\n",
       "      <td>chocolate_05s/grid5_1x1_upto_pool2.png</td>\n",
       "      <td>0.0</td>\n",
       "      <td>False</td>\n",
       "      <td>0.0</td>\n",
       "      <td>basic</td>\n",
       "      <td>donut</td>\n",
       "      <td>10</td>\n",
       "      <td>100</td>\n",
       "    </tr>\n",
       "  </tbody>\n",
       "</table>\n",
       "<p>1000 rows × 16 columns</p>\n",
       "</div>"
      ],
      "text/plain": [
       "     trial_num_overall  categ_ind  concept_ind    super_name     basic_name  \\\n",
       "0                651.0        6.0          5.0     furniture        beanbag   \n",
       "1                452.0        4.0          5.0         plant         bamboo   \n",
       "2                149.0        1.0          4.0       dessert  whipped_cream   \n",
       "3                425.0        4.0          2.0         plant        seaweed   \n",
       "4                870.0        8.0          7.0           toy           lego   \n",
       "..                 ...        ...          ...           ...            ...   \n",
       "995               71.0        0.0          7.0        insect      dragonfly   \n",
       "996              411.0        4.0          1.0         plant           fern   \n",
       "997              673.0        6.0          7.0     furniture       sofa_bed   \n",
       "998              943.0        9.0          4.0  kitchen_tool          tongs   \n",
       "999              174.0        1.0          7.0       dessert      chocolate   \n",
       "\n",
       "     ex_num  image_type_num image_type  \\\n",
       "0       1.0             0.0       orig   \n",
       "1       2.0             1.0      pool1   \n",
       "2       9.0             4.0      pool4   \n",
       "3       5.0             2.0      pool2   \n",
       "4       0.0             0.0       orig   \n",
       "..      ...             ...        ...   \n",
       "995     1.0             0.0       orig   \n",
       "996     1.0             0.0       orig   \n",
       "997     3.0             1.0      pool1   \n",
       "998     3.0             1.0      pool1   \n",
       "999     4.0             2.0      pool2   \n",
       "\n",
       "                                     image_name  dropbox_url  target_present  \\\n",
       "0                          beanbag_02s/orig.png          0.0            True   \n",
       "1           bamboo_03s/grid5_1x1_upto_pool1.png          0.0            True   \n",
       "2    whipped_cream_10s/grid5_1x1_upto_pool4.png          0.0           False   \n",
       "3          seaweed_06s/grid5_1x1_upto_pool2.png          0.0           False   \n",
       "4                             lego_01b/orig.png          0.0           False   \n",
       "..                                          ...          ...             ...   \n",
       "995                      dragonfly_02s/orig.png          0.0            True   \n",
       "996                           fern_02n/orig.png          0.0            True   \n",
       "997       sofa_bed_04s/grid5_1x1_upto_pool1.png          0.0           False   \n",
       "998          tongs_04s/grid5_1x1_upto_pool1.png          0.0            True   \n",
       "999      chocolate_05s/grid5_1x1_upto_pool2.png          0.0           False   \n",
       "\n",
       "     cue_level_num cue_level       cue_name  run_number  trial_in_run  \n",
       "0              1.0     super      furniture           1             1  \n",
       "1              0.0     basic         bamboo           1             2  \n",
       "2              1.0     super            toy           1             3  \n",
       "3              1.0     super        dessert           1             4  \n",
       "4              0.0     basic  rocking_horse           1             5  \n",
       "..             ...       ...            ...         ...           ...  \n",
       "995            1.0     super         insect          10            96  \n",
       "996            1.0     super          plant          10            97  \n",
       "997            1.0     super      vegetable          10            98  \n",
       "998            1.0     super   kitchen_tool          10            99  \n",
       "999            0.0     basic          donut          10           100  \n",
       "\n",
       "[1000 rows x 16 columns]"
      ]
     },
     "execution_count": 8,
     "metadata": {},
     "output_type": "execute_result"
    }
   ],
   "source": [
    "ti"
   ]
  },
  {
   "cell_type": "code",
   "execution_count": 156,
   "id": "33c80afb-70c4-4424-934f-ad5eeda08a32",
   "metadata": {},
   "outputs": [],
   "source": [
    "def choose_image_subsets():\n",
    "    \n",
    "    concepts_filename = os.path.join(things_root, 'concepts_use.npy')\n",
    "    concepts_use = np.load(concepts_filename,allow_pickle=True).item()\n",
    "    categ_names = concepts_use['categ_names']\n",
    "    concept_names = concepts_use['concept_names_subsample']\n",
    "    image_names = concepts_use['image_names']\n",
    "    \n",
    "    concepts_all = np.concatenate(concept_names)\n",
    "    categ_all = np.repeat(categ_names, [len(cc) for cc in concept_names])\n",
    "\n",
    "    n_categ_use_each = 10;\n",
    "    n_concepts_use_each = 10;\n",
    "\n",
    "    n_ex_use = 10;\n",
    "    assert(np.mod(n_ex_use,10)==0)\n",
    "\n",
    "    # randomly selecting the subset of categories and concepts that will be used here\n",
    "    rndseed = 676788\n",
    "    np.random.seed(rndseed)\n",
    "\n",
    "    # i am manually assigning the categories that are animals, food/drink, \n",
    "    # or human-related, so that they are balanced in the two sets\n",
    "    categ_set1 = ['bird', 'drink', 'fruit', 'body_part']\n",
    "    categ_set2 = ['insect','dessert', 'vegetable', 'clothing']\n",
    "    # then randomly assign the remaining categories\n",
    "    categ_shuffled = np.array(categ_names)[np.random.permutation(len(categ_names))]\n",
    "    categ_shuffled = [c for c in categ_shuffled if (c not in categ_set1 and c not in categ_set2)]\n",
    "    n_append = n_categ_use_each - len(categ_set1)\n",
    "    categ_set1 += categ_shuffled[0:n_append]\n",
    "    categ_set2 += categ_shuffled[n_append:2*n_append]\n",
    "\n",
    "    categ_sets = [categ_set1, categ_set2]\n",
    "    concept_sets = []\n",
    "    image_name_sets = []\n",
    "\n",
    "    for categ_use in categ_sets:\n",
    "\n",
    "        categ_inds_use = [np.where(np.array(categ_names)==c)[0][0] for c in categ_use]\n",
    "\n",
    "        # randomly select which individual concepts and which exemplars to use here\n",
    "        concepts_use = [np.random.choice(concept_names[ca], n_concepts_use_each, replace=False) for ca in categ_inds_use]\n",
    "\n",
    "        # always use the first 10 exemplars, since these are the ones we have made synths for.\n",
    "        image_names_use = [[image_names[co][0:n_ex_use] for co in conc] \\\n",
    "                           for conc in concepts_use]\n",
    "\n",
    "        concept_sets += [concepts_use]\n",
    "        image_name_sets += [image_names_use]\n",
    "\n",
    "    return categ_sets, concept_sets, image_name_sets"
   ]
  },
  {
   "cell_type": "code",
   "execution_count": 67,
   "id": "fae5c80e-50c1-4fad-9050-9b92963b3cf2",
   "metadata": {},
   "outputs": [],
   "source": [
    "rndseed = None\n",
    "\n",
    "# def make_trial_info(rndseed = None):\n",
    "\n",
    "# decide which images we will use\n",
    "categ_sets, concept_sets, image_name_sets = choose_image_subsets()\n",
    "n_counterbalance_conds = len(categ_sets)\n",
    "\n",
    "# figure out trial conditions/counts\n",
    "n_categ_use = len(categ_sets[0])\n",
    "n_concepts_use = len(concept_sets[0][0])\n",
    "n_ex_use = len(image_name_sets[0][0][0])\n",
    "\n",
    "# image types are original or \"synth\" from different DNN layers\n",
    "n_layers=4\n",
    "n_image_types = n_layers+1 \n",
    "\n",
    "cue_levels = ['basic', 'super']\n",
    "n_cue_levels = len(cue_levels); # basic or superordinate\n",
    "\n",
    "n_trials_per_concept = n_image_types * n_cue_levels\n",
    "assert(n_trials_per_concept==n_ex_use)\n",
    "\n",
    "n_trials_total = n_categ_use * n_concepts_use * n_trials_per_concept\n",
    "\n",
    "n_runs = 10;\n",
    "assert(np.mod(n_trials_total, n_runs)==0)\n",
    "n_trials_per_run = int(n_trials_total/n_runs);"
   ]
  },
  {
   "cell_type": "code",
   "execution_count": 131,
   "id": "cabcfc9e-23d2-46fa-9fff-8340a716fea9",
   "metadata": {},
   "outputs": [
    {
     "data": {
      "text/plain": [
       "10"
      ]
     },
     "execution_count": 131,
     "metadata": {},
     "output_type": "execute_result"
    }
   ],
   "source": [
    "len(concept_sets[0])"
   ]
  },
  {
   "cell_type": "code",
   "execution_count": 30,
   "id": "36e3e4c2-f6a6-40d7-a244-87d2562f17eb",
   "metadata": {},
   "outputs": [],
   "source": [
    "stimuli_folder = 'images_v1'\n"
   ]
  },
  {
   "cell_type": "code",
   "execution_count": 31,
   "id": "1aabf99d-daad-4981-a69c-da445bfaf123",
   "metadata": {},
   "outputs": [
    {
     "name": "stdout",
     "output_type": "stream",
     "text": [
      "making trial info for counterbalance cond 0 of 2\n",
      "['bird', 'drink', 'fruit', 'body_part', 'home_decor', 'medical_equipment', 'weapon', 'vehicle', 'electronic_device', 'sports_equipment']\n",
      "proc trial 0 of 1000\n",
      "proc trial 100 of 1000\n",
      "proc trial 200 of 1000\n",
      "proc trial 300 of 1000\n",
      "proc trial 400 of 1000\n",
      "proc trial 500 of 1000\n",
      "proc trial 600 of 1000\n",
      "proc trial 700 of 1000\n",
      "proc trial 800 of 1000\n",
      "proc trial 900 of 1000\n"
     ]
    }
   ],
   "source": [
    "rndseed = 567677\n",
    "np.random.seed(rndseed)\n",
    "\n",
    "cb = 0;\n",
    "\n",
    "# for cb in range(n_counterbalance_conds):\n",
    "\n",
    "print('making trial info for counterbalance cond %d of %d'%(cb, n_counterbalance_conds))\n",
    "\n",
    "categ_use = categ_sets[cb]\n",
    "print(categ_use)\n",
    "concepts_use = concept_sets[cb]\n",
    "image_names_use = image_name_sets[cb]\n",
    "\n",
    "trial_info = pd.DataFrame({'trial_num_overall': np.zeros((n_trials_total,)), \n",
    "                           'categ_ind': np.zeros((n_trials_total,)),\n",
    "                          'concept_ind': np.zeros((n_trials_total,)),\n",
    "                          'super_name': np.zeros((n_trials_total,)),\n",
    "                          'basic_name': np.zeros((n_trials_total,)),\n",
    "                          'ex_num': np.zeros((n_trials_total,)),\n",
    "                          'image_type_num': np.zeros((n_trials_total,)),\n",
    "                          'image_type': np.zeros((n_trials_total,)),\n",
    "                          'image_name': np.zeros((n_trials_total,)),\n",
    "                          'dropbox_url': np.zeros((n_trials_total,)),\n",
    "                          'target_present': np.zeros((n_trials_total,)),\n",
    "                          'cue_level_num': np.zeros((n_trials_total,)),\n",
    "                          'cue_level': np.zeros((n_trials_total,)),\n",
    "                          'cue_name': np.zeros((n_trials_total,)),\n",
    "                          })\n",
    "\n",
    "image_type_names = ['orig', 'pool1','pool2','pool3','pool4']\n",
    "\n",
    "tt=-1\n",
    "for ca in range(n_categ_use):\n",
    "    \n",
    "    xx = -1\n",
    "    \n",
    "    for co in range(n_concepts_use):\n",
    "\n",
    "        ex = -1\n",
    "        \n",
    "        for typ in range(n_image_types):\n",
    "            for cue in range(n_cue_levels):\n",
    "\n",
    "                tt+=1\n",
    "                if np.mod(tt,100)==0:\n",
    "                    print('proc trial %d of %d'%(tt, n_trials_total))\n",
    "\n",
    "                trial_info['trial_num_overall'].iloc[tt] = tt\n",
    "                trial_info['categ_ind'].iloc[tt] = ca\n",
    "                trial_info['concept_ind'].iloc[tt] = co\n",
    "                trial_info['super_name'].iloc[tt] = categ_use[ca]\n",
    "                trial_info['basic_name'].iloc[tt] = concepts_use[ca][co]\n",
    "\n",
    "                trial_info['image_type_num'].iloc[tt] = typ\n",
    "                trial_info['image_type'].iloc[tt] = image_type_names[typ]\n",
    "                trial_info['cue_level_num'].iloc[tt] = cue\n",
    "                trial_info['cue_level'].iloc[tt] = cue_levels[cue]\n",
    "\n",
    "                ex += 1\n",
    "                trial_info['ex_num'].iloc[tt] = ex\n",
    "\n",
    "                name_raw = image_names_use[ca][co][ex].split('.jpg')[0]\n",
    "\n",
    "                if image_type_names[typ]=='orig':\n",
    "\n",
    "                    trial_info['image_name'].iloc[tt] = os.path.join(name_raw, 'orig.png')\n",
    "                    dbxpath = os.path.join(stimuli_folder, name_raw, 'orig.png')\n",
    "\n",
    "                else:\n",
    "\n",
    "                    trial_info['image_name'].iloc[tt] = os.path.join(name_raw, \\\n",
    "                                                                     'grid5_1x1_upto_%s.png'%\\\n",
    "                                                                     (image_type_names[typ]))\n",
    "                    dbxpath = os.path.join(stimuli_folder,name_raw,\\\n",
    "                                           'grid5_1x1_upto_%s.png'%image_type_names[typ])\n",
    "\n",
    "                # print(dbxpath)\n",
    "                # trial_info['dropbox_url'].iloc[tt] = dropbox_utils.get_shared_url(dbxpath, dbx)\n",
    "                \n",
    "                xx += 1;\n",
    "                # print(ex, xx, np.floor(xx/2))\n",
    "                   \n",
    "                # determining the target present-absent based on which concept it is\n",
    "                # (this is not perfectly counter-balanced, but is balanced across all concepts)\n",
    "                # if np.mod(co,2)==0:\n",
    "                if np.mod(np.floor(xx/2),2)==0:\n",
    "                    trial_info['target_present'].iloc[tt] = (cue==0)\n",
    "                else:\n",
    "                    trial_info['target_present'].iloc[tt] = (cue==1)\n",
    "                    \n",
    "        if np.mod(co,2)==1:\n",
    "            xx = -1     \n",
    "            "
   ]
  },
  {
   "cell_type": "code",
   "execution_count": 124,
   "id": "87a02375-6159-4f24-bf4c-f6b9c9ffdcaf",
   "metadata": {},
   "outputs": [],
   "source": [
    "from itertools import permutations\n",
    "\n",
    "def shuffle_nosame(sequence, rndseed = None):\n",
    "    \n",
    "    \"\"\"\n",
    "    Shuffle a list pseudo-randomly, making sure that no element has the same \n",
    "    value in the new and old list.\n",
    "    All list values must be unique.\n",
    "    \"\"\"\n",
    "    \n",
    "    unique_vals, uncounts = np.unique(sequence, return_counts=True)\n",
    "    assert(len(unique_vals)==len(sequence))\n",
    "    n_vals = len(sequence)\n",
    "    \n",
    "    if rndseed is not None:\n",
    "        np.random.seed(rndseed)\n",
    "        \n",
    "    if np.mod(n_vals, 2)==0:\n",
    "        # for even number, can use this algorithm\n",
    "        new_sequence = swap_rand_pairs(sequence)\n",
    "    elif n_vals<=7:\n",
    "        n_total = len(sequence)\n",
    "        # list all the ways to randomly permute groups of elements without having any in \n",
    "        # their original position.\n",
    "        all_perms = list(permutations(np.arange(n_vals)))\n",
    "        good_perms = [perm for perm in all_perms if np.all(np.array(perm)!=(np.arange(n_vals)))]\n",
    "        # pick at random one of the orders that works\n",
    "        perm_order = np.array(good_perms[np.random.choice(np.arange(len(good_perms)))])\n",
    "        new_sequence = sequence[perm_order]\n",
    "    else:\n",
    "        # split in half and recurse\n",
    "        rand_order = np.random.permutation(n_vals)\n",
    "        groups = (rand_order<np.floor(n_vals/2)).astype(int)\n",
    "        new_sequence = np.zeros(np.shape(sequence), sequence.dtype)\n",
    "        for gg in [0,1]:\n",
    "            inds = groups==gg\n",
    "            new_sequence[inds] = shuffle_nosame(sequence[inds])\n",
    "     \n",
    "    assert(not np.any(sequence==new_sequence))\n",
    "    assert(np.all(np.unique(sequence)==np.unique(new_sequence)))\n",
    "    \n",
    "    return new_sequence\n",
    "    "
   ]
  },
  {
   "cell_type": "code",
   "execution_count": 150,
   "id": "81b31b43-c7ee-4a2e-aa01-70b224a42552",
   "metadata": {
    "tags": []
   },
   "outputs": [
    {
     "name": "stdout",
     "output_type": "stream",
     "text": [
      "prepping cue names\n"
     ]
    }
   ],
   "source": [
    "import warnings\n",
    "warnings.filterwarnings('ignore')\n",
    "\n",
    "print('prepping cue names')\n",
    "# decide what name to use to \"cue\" each trial, based on which level they are being cued at\n",
    "# (these are all \"correct names\"; some of them get changed to incorrect in the next step)\n",
    "trial_info['cue_name'] = trial_info['super_name']\n",
    "trial_info['cue_name'][trial_info['cue_level']=='basic'] = \\\n",
    "    trial_info['basic_name'][trial_info['cue_level']=='basic']\n",
    "\n",
    "# Assign incorrect names to all the basic-level target-absent trials\n",
    "# always swapping basic-level names across trials with same superordinate \n",
    "# level name, and same in all other attributes\n",
    "lev = 'basic'\n",
    "\n",
    "for ca in range(n_categ_use):\n",
    "    for typ in range(n_image_types):\n",
    "\n",
    "        group = (trial_info['target_present']==False) & \\\n",
    "            (trial_info['categ_ind']==ca) & \\\n",
    "            (trial_info['cue_level']==lev) \n",
    "        \n",
    "        basic_name_list = np.array(concepts_use[ca])\n",
    "        \n",
    "        actual_basic_inds = np.array(trial_info['concept_ind'][group])\n",
    "        actual_basic_names = np.array(trial_info['basic_name'][group])\n",
    "        \n",
    "        # print(actual_basic_names)\n",
    "        \n",
    "        sequence = actual_basic_inds\n",
    "        unique_vals, uncounts = np.unique(sequence, return_counts=True)\n",
    "\n",
    "        subgroups = [[] for ii in range(np.max(uncounts))]\n",
    "        for vi, vv in enumerate(unique_vals):\n",
    "            inds = np.where(sequence==vv)[0]\n",
    "            assert(len(inds)==uncounts[vi])\n",
    "            for ii, ind in enumerate(inds):\n",
    "                subgroups[ii] += [ind]\n",
    "\n",
    "        incorrect_basic_inds = np.zeros(np.shape(actual_basic_inds))\n",
    "        incorrect_basic_names = np.zeros(np.shape(actual_basic_names))\n",
    "        \n",
    "        for subgroup in subgroups:\n",
    "            \n",
    "            inds_real = actual_basic_inds[subgroup]\n",
    "            \n",
    "            # print(actual_basic_names[subgroup])\n",
    "            # print(inds_real)\n",
    "            \n",
    "            shuff_basic_inds = shuffle_nosame(inds_real)\n",
    "\n",
    "            # print(shuff_basic_inds)\n",
    "            incorrect_basic_inds[subgroup] = shuff_basic_inds\n",
    "\n",
    "    \n",
    "        # print(basic_name_list[incorrect_basic_inds.astype(int)])\n",
    "        trial_info['cue_name'].iloc[group] = basic_name_list[incorrect_basic_inds.astype(int)]"
   ]
  },
  {
   "cell_type": "code",
   "execution_count": 152,
   "id": "5e4f3ecc-cea9-41e7-8ad8-57ada77cc2c1",
   "metadata": {},
   "outputs": [],
   "source": [
    "# Assign incorrect names to all the superord-level target-absent trials\n",
    "lev = 'super'\n",
    "\n",
    "for co in range(n_concepts_use):\n",
    "    for typ in range(n_image_types):\n",
    "        for ex in range(n_ex_use):\n",
    "\n",
    "            group = (trial_info['target_present']==False) & \\\n",
    "                    (trial_info['concept_ind']==co) & \\\n",
    "                    (trial_info['cue_level']==lev)\n",
    "                   \n",
    "            super_name_list = np.array(categ_use)\n",
    "            actual_super_inds = np.array(trial_info['categ_ind'][group])\n",
    "            actual_super_names = np.array(trial_info['super_name'][group])\n",
    "\n",
    "            # print(actual_super_names)\n",
    "\n",
    "            sequence = actual_super_inds\n",
    "            unique_vals, uncounts = np.unique(sequence, return_counts=True)\n",
    "\n",
    "            subgroups = [[] for ii in range(np.max(uncounts))]\n",
    "            for vi, vv in enumerate(unique_vals):\n",
    "                inds = np.where(sequence==vv)[0]\n",
    "                assert(len(inds)==uncounts[vi])\n",
    "                for ii, ind in enumerate(inds):\n",
    "                    subgroups[ii] += [ind]\n",
    "\n",
    "            incorrect_super_inds = np.zeros(np.shape(actual_super_inds))\n",
    "            incorrect_super_names = np.zeros(np.shape(actual_super_names))\n",
    "\n",
    "            for subgroup in subgroups:\n",
    "\n",
    "                inds_real = actual_super_inds[subgroup]\n",
    "\n",
    "                # print(actual_super_names[subgroup])\n",
    "                # print(inds_real)\n",
    "\n",
    "                shuff_super_inds = shuffle_nosame(inds_real)\n",
    "\n",
    "                # print(shuff_super_inds)\n",
    "                incorrect_super_inds[subgroup] = shuff_super_inds\n",
    "\n",
    "\n",
    "            # print(super_name_list[incorrect_super_inds.astype(int)])\n",
    "            trial_info['cue_name'].iloc[group] = super_name_list[incorrect_super_inds.astype(int)]"
   ]
  },
  {
   "cell_type": "code",
   "execution_count": 174,
   "id": "012c7054-a0eb-422d-a7e0-824f7ce91356",
   "metadata": {},
   "outputs": [],
   "source": [
    "def check_trial_info(ti):\n",
    "\n",
    "    # make sure that the target present/target absent trials line up correctly\n",
    "    # (cue name should match actual name for target present, and should \n",
    "    # always mismatch for target absent)\n",
    "\n",
    "    inds_check = (ti['cue_level']=='basic') & (ti['target_present']==True)\n",
    "    assert(np.all(ti['cue_name'][inds_check]==ti['basic_name'][inds_check]))\n",
    "    inds_check = (ti['cue_level']=='basic') & (ti['target_present']==False)\n",
    "    assert(np.all(ti['cue_name'][inds_check]!=ti['basic_name'][inds_check]))\n",
    "\n",
    "    inds_check = (ti['cue_level']=='super') & (ti['target_present']==True)\n",
    "    assert(np.all(ti['cue_name'][inds_check]==ti['super_name'][inds_check]))\n",
    "    inds_check = (ti['cue_level']=='super') & (ti['target_present']==False)\n",
    "    assert(np.all(ti['cue_name'][inds_check]!=ti['super_name'][inds_check]))\n",
    "\n",
    "    # check to make sure individual attributes are distributed evenly across trials \n",
    "    n_trials_total = ti.shape[0]\n",
    "\n",
    "    attr_check_even = ['super_name', 'basic_name', 'ex_num', 'image_type_num', 'target_present', 'cue_level']\n",
    "    for attr in attr_check_even:\n",
    "\n",
    "        # should be an equal number of each thing \n",
    "        un, counts = np.unique(ti[attr], return_counts=True)\n",
    "        assert(np.all(counts==n_trials_total/len(un)))\n",
    "\n",
    "    # check the counterbalancing over multiple attributes\n",
    "\n",
    "    # there should be an equal number of trials in each of the combinations of these \n",
    "    # different attribute \"levels\". for example each combination of category/image type. \n",
    "\n",
    "    attr_balanced = [ti['categ_ind'], ti['concept_ind'], ti['image_type_num'], ti['cue_level']]\n",
    "    attr_balanced_inds = np.array([np.unique(attr, return_inverse=True)[1] for attr in attr_balanced]).T\n",
    "\n",
    "    n_levels_each = [len(np.unique(attr)) for attr in attr_balanced]\n",
    "    n_combs_expected = np.prod(n_levels_each)\n",
    "    n_repeats_expected = n_trials_total/n_combs_expected\n",
    "\n",
    "    un_rows, counts = np.unique(attr_balanced_inds,axis=0, return_counts=True)\n",
    "\n",
    "    assert(un_rows.shape[0]==n_combs_expected)\n",
    "    assert(np.all(counts==n_repeats_expected))\n",
    "    \n",
    "    attr_balanced = [ti['categ_ind'], ti['image_type_num'], ti['cue_level'], ti['target_present']]\n",
    "    attr_balanced_inds = np.array([np.unique(attr, return_inverse=True)[1] for attr in attr_balanced]).T\n",
    "\n",
    "    n_levels_each = [len(np.unique(attr)) for attr in attr_balanced]\n",
    "    n_combs_expected = np.prod(n_levels_each)\n",
    "    n_repeats_expected = n_trials_total/n_combs_expected\n",
    "\n",
    "    un_rows, counts = np.unique(attr_balanced_inds,axis=0, return_counts=True)\n",
    "\n",
    "    assert(un_rows.shape[0]==n_combs_expected)\n",
    "    assert(np.all(counts==n_repeats_expected))\n",
    "    \n",
    "    attr_balanced = [ti['categ_ind'], ti['concept_ind'], ti['image_type_num'], ti['target_present']]\n",
    "    attr_balanced_inds = np.array([np.unique(attr, return_inverse=True)[1] for attr in attr_balanced]).T\n",
    "\n",
    "    n_levels_each = [len(np.unique(attr)) for attr in attr_balanced]\n",
    "    n_combs_expected = np.prod(n_levels_each)\n",
    "    n_repeats_expected = n_trials_total/n_combs_expected\n",
    "\n",
    "    un_rows, counts = np.unique(attr_balanced_inds,axis=0, return_counts=True)\n",
    "\n",
    "    assert(un_rows.shape[0]==n_combs_expected)\n",
    "    assert(np.all(counts==n_repeats_expected))"
   ]
  },
  {
   "cell_type": "code",
   "execution_count": 176,
   "id": "29a493ee-0450-40f2-beeb-f177b4aaad96",
   "metadata": {},
   "outputs": [
    {
     "name": "stdout",
     "output_type": "stream",
     "text": [
      "checking trial info\n"
     ]
    }
   ],
   "source": [
    "# shuffle the order of everything together.\n",
    "shuff_order = np.random.permutation(np.arange(n_trials_total))\n",
    "trial_info = trial_info.iloc[shuff_order]\n",
    "\n",
    "# finally, assign the run numbers for each trial (these are the only non-shuffled columns).\n",
    "trial_info['run_number'] = np.repeat(np.arange(n_runs), n_trials_per_run) + 1\n",
    "trial_info['trial_in_run'] = np.tile(np.arange(n_trials_per_run), [n_runs,]) + 1\n",
    "\n",
    "# double check everything\n",
    "print('checking trial info')\n",
    "check_trial_info(trial_info)\n"
   ]
  },
  {
   "cell_type": "code",
   "execution_count": 173,
   "id": "d7a48011-2457-4d83-b99d-bb2672bb2f25",
   "metadata": {},
   "outputs": [
    {
     "data": {
      "text/plain": [
       "5"
      ]
     },
     "execution_count": 173,
     "metadata": {},
     "output_type": "execute_result"
    }
   ],
   "source": [
    "np.sum((trial_info['basic_name']=='peacock') & (trial_info['target_present']==True))"
   ]
  },
  {
   "cell_type": "code",
   "execution_count": 154,
   "id": "e3b48833-f6e9-4ba6-8195-6aecbabef287",
   "metadata": {},
   "outputs": [
    {
     "data": {
      "text/html": [
       "<div>\n",
       "<style scoped>\n",
       "    .dataframe tbody tr th:only-of-type {\n",
       "        vertical-align: middle;\n",
       "    }\n",
       "\n",
       "    .dataframe tbody tr th {\n",
       "        vertical-align: top;\n",
       "    }\n",
       "\n",
       "    .dataframe thead th {\n",
       "        text-align: right;\n",
       "    }\n",
       "</style>\n",
       "<table border=\"1\" class=\"dataframe\">\n",
       "  <thead>\n",
       "    <tr style=\"text-align: right;\">\n",
       "      <th></th>\n",
       "      <th>trial_num_overall</th>\n",
       "      <th>categ_ind</th>\n",
       "      <th>concept_ind</th>\n",
       "      <th>super_name</th>\n",
       "      <th>basic_name</th>\n",
       "      <th>ex_num</th>\n",
       "      <th>image_type_num</th>\n",
       "      <th>image_type</th>\n",
       "      <th>image_name</th>\n",
       "      <th>dropbox_url</th>\n",
       "      <th>target_present</th>\n",
       "      <th>cue_level_num</th>\n",
       "      <th>cue_level</th>\n",
       "      <th>cue_name</th>\n",
       "    </tr>\n",
       "  </thead>\n",
       "  <tbody>\n",
       "    <tr>\n",
       "      <th>0</th>\n",
       "      <td>0.0</td>\n",
       "      <td>0.0</td>\n",
       "      <td>0.0</td>\n",
       "      <td>bird</td>\n",
       "      <td>peacock</td>\n",
       "      <td>0.0</td>\n",
       "      <td>0.0</td>\n",
       "      <td>orig</td>\n",
       "      <td>peacock_01b/orig.png</td>\n",
       "      <td>0.0</td>\n",
       "      <td>True</td>\n",
       "      <td>0.0</td>\n",
       "      <td>basic</td>\n",
       "      <td>peacock</td>\n",
       "    </tr>\n",
       "    <tr>\n",
       "      <th>1</th>\n",
       "      <td>1.0</td>\n",
       "      <td>0.0</td>\n",
       "      <td>0.0</td>\n",
       "      <td>bird</td>\n",
       "      <td>peacock</td>\n",
       "      <td>1.0</td>\n",
       "      <td>0.0</td>\n",
       "      <td>orig</td>\n",
       "      <td>peacock_02s/orig.png</td>\n",
       "      <td>0.0</td>\n",
       "      <td>False</td>\n",
       "      <td>1.0</td>\n",
       "      <td>super</td>\n",
       "      <td>vehicle</td>\n",
       "    </tr>\n",
       "    <tr>\n",
       "      <th>2</th>\n",
       "      <td>2.0</td>\n",
       "      <td>0.0</td>\n",
       "      <td>0.0</td>\n",
       "      <td>bird</td>\n",
       "      <td>peacock</td>\n",
       "      <td>2.0</td>\n",
       "      <td>1.0</td>\n",
       "      <td>pool1</td>\n",
       "      <td>peacock_03s/grid5_1x1_upto_pool1.png</td>\n",
       "      <td>0.0</td>\n",
       "      <td>False</td>\n",
       "      <td>0.0</td>\n",
       "      <td>basic</td>\n",
       "      <td>eagle</td>\n",
       "    </tr>\n",
       "    <tr>\n",
       "      <th>3</th>\n",
       "      <td>3.0</td>\n",
       "      <td>0.0</td>\n",
       "      <td>0.0</td>\n",
       "      <td>bird</td>\n",
       "      <td>peacock</td>\n",
       "      <td>3.0</td>\n",
       "      <td>1.0</td>\n",
       "      <td>pool1</td>\n",
       "      <td>peacock_04s/grid5_1x1_upto_pool1.png</td>\n",
       "      <td>0.0</td>\n",
       "      <td>True</td>\n",
       "      <td>1.0</td>\n",
       "      <td>super</td>\n",
       "      <td>bird</td>\n",
       "    </tr>\n",
       "    <tr>\n",
       "      <th>4</th>\n",
       "      <td>4.0</td>\n",
       "      <td>0.0</td>\n",
       "      <td>0.0</td>\n",
       "      <td>bird</td>\n",
       "      <td>peacock</td>\n",
       "      <td>4.0</td>\n",
       "      <td>2.0</td>\n",
       "      <td>pool2</td>\n",
       "      <td>peacock_05s/grid5_1x1_upto_pool2.png</td>\n",
       "      <td>0.0</td>\n",
       "      <td>True</td>\n",
       "      <td>0.0</td>\n",
       "      <td>basic</td>\n",
       "      <td>peacock</td>\n",
       "    </tr>\n",
       "    <tr>\n",
       "      <th>...</th>\n",
       "      <td>...</td>\n",
       "      <td>...</td>\n",
       "      <td>...</td>\n",
       "      <td>...</td>\n",
       "      <td>...</td>\n",
       "      <td>...</td>\n",
       "      <td>...</td>\n",
       "      <td>...</td>\n",
       "      <td>...</td>\n",
       "      <td>...</td>\n",
       "      <td>...</td>\n",
       "      <td>...</td>\n",
       "      <td>...</td>\n",
       "      <td>...</td>\n",
       "    </tr>\n",
       "    <tr>\n",
       "      <th>995</th>\n",
       "      <td>995.0</td>\n",
       "      <td>9.0</td>\n",
       "      <td>9.0</td>\n",
       "      <td>sports_equipment</td>\n",
       "      <td>trampoline</td>\n",
       "      <td>5.0</td>\n",
       "      <td>2.0</td>\n",
       "      <td>pool2</td>\n",
       "      <td>trampoline_06s/grid5_1x1_upto_pool2.png</td>\n",
       "      <td>0.0</td>\n",
       "      <td>True</td>\n",
       "      <td>1.0</td>\n",
       "      <td>super</td>\n",
       "      <td>sports_equipment</td>\n",
       "    </tr>\n",
       "    <tr>\n",
       "      <th>996</th>\n",
       "      <td>996.0</td>\n",
       "      <td>9.0</td>\n",
       "      <td>9.0</td>\n",
       "      <td>sports_equipment</td>\n",
       "      <td>trampoline</td>\n",
       "      <td>6.0</td>\n",
       "      <td>3.0</td>\n",
       "      <td>pool3</td>\n",
       "      <td>trampoline_07s/grid5_1x1_upto_pool3.png</td>\n",
       "      <td>0.0</td>\n",
       "      <td>True</td>\n",
       "      <td>0.0</td>\n",
       "      <td>basic</td>\n",
       "      <td>trampoline</td>\n",
       "    </tr>\n",
       "    <tr>\n",
       "      <th>997</th>\n",
       "      <td>997.0</td>\n",
       "      <td>9.0</td>\n",
       "      <td>9.0</td>\n",
       "      <td>sports_equipment</td>\n",
       "      <td>trampoline</td>\n",
       "      <td>7.0</td>\n",
       "      <td>3.0</td>\n",
       "      <td>pool3</td>\n",
       "      <td>trampoline_08s/grid5_1x1_upto_pool3.png</td>\n",
       "      <td>0.0</td>\n",
       "      <td>False</td>\n",
       "      <td>1.0</td>\n",
       "      <td>super</td>\n",
       "      <td>vehicle</td>\n",
       "    </tr>\n",
       "    <tr>\n",
       "      <th>998</th>\n",
       "      <td>998.0</td>\n",
       "      <td>9.0</td>\n",
       "      <td>9.0</td>\n",
       "      <td>sports_equipment</td>\n",
       "      <td>trampoline</td>\n",
       "      <td>8.0</td>\n",
       "      <td>4.0</td>\n",
       "      <td>pool4</td>\n",
       "      <td>trampoline_09s/grid5_1x1_upto_pool4.png</td>\n",
       "      <td>0.0</td>\n",
       "      <td>False</td>\n",
       "      <td>0.0</td>\n",
       "      <td>basic</td>\n",
       "      <td>hockey_stick</td>\n",
       "    </tr>\n",
       "    <tr>\n",
       "      <th>999</th>\n",
       "      <td>999.0</td>\n",
       "      <td>9.0</td>\n",
       "      <td>9.0</td>\n",
       "      <td>sports_equipment</td>\n",
       "      <td>trampoline</td>\n",
       "      <td>9.0</td>\n",
       "      <td>4.0</td>\n",
       "      <td>pool4</td>\n",
       "      <td>trampoline_10s/grid5_1x1_upto_pool4.png</td>\n",
       "      <td>0.0</td>\n",
       "      <td>True</td>\n",
       "      <td>1.0</td>\n",
       "      <td>super</td>\n",
       "      <td>sports_equipment</td>\n",
       "    </tr>\n",
       "  </tbody>\n",
       "</table>\n",
       "<p>1000 rows × 14 columns</p>\n",
       "</div>"
      ],
      "text/plain": [
       "     trial_num_overall  categ_ind  concept_ind        super_name  basic_name  \\\n",
       "0                  0.0        0.0          0.0              bird     peacock   \n",
       "1                  1.0        0.0          0.0              bird     peacock   \n",
       "2                  2.0        0.0          0.0              bird     peacock   \n",
       "3                  3.0        0.0          0.0              bird     peacock   \n",
       "4                  4.0        0.0          0.0              bird     peacock   \n",
       "..                 ...        ...          ...               ...         ...   \n",
       "995              995.0        9.0          9.0  sports_equipment  trampoline   \n",
       "996              996.0        9.0          9.0  sports_equipment  trampoline   \n",
       "997              997.0        9.0          9.0  sports_equipment  trampoline   \n",
       "998              998.0        9.0          9.0  sports_equipment  trampoline   \n",
       "999              999.0        9.0          9.0  sports_equipment  trampoline   \n",
       "\n",
       "     ex_num  image_type_num image_type  \\\n",
       "0       0.0             0.0       orig   \n",
       "1       1.0             0.0       orig   \n",
       "2       2.0             1.0      pool1   \n",
       "3       3.0             1.0      pool1   \n",
       "4       4.0             2.0      pool2   \n",
       "..      ...             ...        ...   \n",
       "995     5.0             2.0      pool2   \n",
       "996     6.0             3.0      pool3   \n",
       "997     7.0             3.0      pool3   \n",
       "998     8.0             4.0      pool4   \n",
       "999     9.0             4.0      pool4   \n",
       "\n",
       "                                  image_name  dropbox_url target_present  \\\n",
       "0                       peacock_01b/orig.png          0.0           True   \n",
       "1                       peacock_02s/orig.png          0.0          False   \n",
       "2       peacock_03s/grid5_1x1_upto_pool1.png          0.0          False   \n",
       "3       peacock_04s/grid5_1x1_upto_pool1.png          0.0           True   \n",
       "4       peacock_05s/grid5_1x1_upto_pool2.png          0.0           True   \n",
       "..                                       ...          ...            ...   \n",
       "995  trampoline_06s/grid5_1x1_upto_pool2.png          0.0           True   \n",
       "996  trampoline_07s/grid5_1x1_upto_pool3.png          0.0           True   \n",
       "997  trampoline_08s/grid5_1x1_upto_pool3.png          0.0          False   \n",
       "998  trampoline_09s/grid5_1x1_upto_pool4.png          0.0          False   \n",
       "999  trampoline_10s/grid5_1x1_upto_pool4.png          0.0           True   \n",
       "\n",
       "     cue_level_num cue_level          cue_name  \n",
       "0              0.0     basic           peacock  \n",
       "1              1.0     super           vehicle  \n",
       "2              0.0     basic             eagle  \n",
       "3              1.0     super              bird  \n",
       "4              0.0     basic           peacock  \n",
       "..             ...       ...               ...  \n",
       "995            1.0     super  sports_equipment  \n",
       "996            0.0     basic        trampoline  \n",
       "997            1.0     super           vehicle  \n",
       "998            0.0     basic      hockey_stick  \n",
       "999            1.0     super  sports_equipment  \n",
       "\n",
       "[1000 rows x 14 columns]"
      ]
     },
     "execution_count": 154,
     "metadata": {},
     "output_type": "execute_result"
    }
   ],
   "source": [
    "trial_info"
   ]
  },
  {
   "cell_type": "code",
   "execution_count": 143,
   "id": "c2bc5fde-8ef7-41ac-ba46-991ad5cfe8c1",
   "metadata": {},
   "outputs": [
    {
     "data": {
      "text/plain": [
       "array([9, 7, 6, 4, 5, 8, 6, 7, 8, 7, 5, 1, 4, 9, 3, 1, 2, 3, 0, 9, 2, 3,\n",
       "       0, 5, 1])"
      ]
     },
     "execution_count": 143,
     "metadata": {},
     "output_type": "execute_result"
    }
   ],
   "source": [
    "incorrect_basic_inds.astype(int)"
   ]
  },
  {
   "cell_type": "code",
   "execution_count": 139,
   "id": "65c7544e-9506-40be-9d72-616b99957a0b",
   "metadata": {},
   "outputs": [
    {
     "data": {
      "text/plain": [
       "array([3, 2, 9, 6, 7, 8, 0, 0, 9, 5, 5, 8, 4, 7, 9, 7, 1, 6, 5, 1, 2, 4,\n",
       "       1, 3, 3])"
      ]
     },
     "execution_count": 140,
     "metadata": {},
     "output_type": "execute_result"
    }
   ],
   "source": [
    "basic_name_list[incorrect_basic_inds.astype(int)]"
   ]
  },
  {
   "cell_type": "code",
   "execution_count": 138,
   "id": "31c1662f-92c5-43f0-a333-538ddbb387bf",
   "metadata": {},
   "outputs": [
    {
     "data": {
      "text/plain": [
       "array([3, 2, 9, 6, 7, 8, 0, 0, 9, 5, 5, 8, 4, 7, 9, 7, 1, 6, 5, 1, 2, 4,\n",
       "       1, 3, 3])"
      ]
     },
     "execution_count": 138,
     "metadata": {},
     "output_type": "execute_result"
    }
   ],
   "source": [
    "incorrect_basic_inds.astype(int)"
   ]
  },
  {
   "cell_type": "code",
   "execution_count": 137,
   "id": "5d726196-6fb0-4add-b466-7a1baf2686cb",
   "metadata": {},
   "outputs": [
    {
     "data": {
      "text/plain": [
       "0      False\n",
       "1      False\n",
       "2       True\n",
       "3      False\n",
       "4      False\n",
       "       ...  \n",
       "995    False\n",
       "996    False\n",
       "997    False\n",
       "998    False\n",
       "999    False\n",
       "Length: 1000, dtype: bool"
      ]
     },
     "execution_count": 137,
     "metadata": {},
     "output_type": "execute_result"
    }
   ],
   "source": [
    "group"
   ]
  },
  {
   "cell_type": "code",
   "execution_count": 133,
   "id": "07a4e43e-5123-4bbc-807c-3c1add0bfccb",
   "metadata": {},
   "outputs": [
    {
     "data": {
      "text/plain": [
       "array([3., 9., 9., 5., 3., 4., 7., 0., 4., 7., 2., 3., 7., 1., 9., 8., 8.,\n",
       "       5., 2., 5., 6., 6., 1., 0., 1.])"
      ]
     },
     "execution_count": 133,
     "metadata": {},
     "output_type": "execute_result"
    }
   ],
   "source": [
    "incorrect_basic_inds"
   ]
  },
  {
   "cell_type": "code",
   "execution_count": 127,
   "id": "b1ec4d3e-ea09-4ad9-98b5-506bf2e97e3c",
   "metadata": {},
   "outputs": [
    {
     "data": {
      "text/plain": [
       "array([0., 0., 1., 1., 1., 2., 2., 3., 3., 3., 4., 4., 5., 5., 5., 6., 6.,\n",
       "       7., 7., 7., 8., 8., 9., 9., 9.])"
      ]
     },
     "execution_count": 127,
     "metadata": {},
     "output_type": "execute_result"
    }
   ],
   "source": [
    "actual_basic_inds"
   ]
  },
  {
   "cell_type": "code",
   "execution_count": 128,
   "id": "6daa6011-46d1-495c-a5d8-f7c2aa871af7",
   "metadata": {},
   "outputs": [
    {
     "data": {
      "text/plain": [
       "array(['rollerskate', 'rollerskate', 'hockey_stick', 'hockey_stick',\n",
       "       'hockey_stick', 'iceskate', 'iceskate', 'cleat', 'cleat', 'cleat',\n",
       "       'racket', 'racket', 'dartboard', 'dartboard', 'dartboard',\n",
       "       'rollerblade', 'rollerblade', 'boxing_gloves', 'boxing_gloves',\n",
       "       'boxing_gloves', 'bobsled', 'bobsled', 'trampoline', 'trampoline',\n",
       "       'trampoline'], dtype=object)"
      ]
     },
     "execution_count": 128,
     "metadata": {},
     "output_type": "execute_result"
    }
   ],
   "source": [
    "actual_basic_names"
   ]
  },
  {
   "cell_type": "code",
   "execution_count": 77,
   "id": "b571c967-01f9-429e-b61e-b432f206b604",
   "metadata": {},
   "outputs": [
    {
     "data": {
      "text/plain": [
       "array([0., 1., 2., 3., 4., 5., 6., 7., 8., 9.])"
      ]
     },
     "execution_count": 77,
     "metadata": {},
     "output_type": "execute_result"
    }
   ],
   "source": [
    "sequence = actual_basic_inds[subgroup]\n",
    "sequence"
   ]
  },
  {
   "cell_type": "code",
   "execution_count": 81,
   "id": "6e08484c-327a-4599-8482-5539a7f14a3d",
   "metadata": {},
   "outputs": [
    {
     "data": {
      "text/plain": [
       "array([False, False, False, False, False, False, False, False, False,\n",
       "       False])"
      ]
     },
     "execution_count": 81,
     "metadata": {},
     "output_type": "execute_result"
    }
   ],
   "source": [
    "sequence == swap_rand_pairs(sequence)"
   ]
  },
  {
   "cell_type": "code",
   "execution_count": 68,
   "id": "644f9064-d02e-49db-a548-cd3fac4fa14a",
   "metadata": {},
   "outputs": [
    {
     "data": {
      "text/plain": [
       "array(['peacock', 'peacock', 'eagle', 'eagle', 'eagle', 'pelican',\n",
       "       'pelican', 'duck', 'duck', 'duck', 'ostrich', 'ostrich', 'toucan',\n",
       "       'toucan', 'toucan', 'chick', 'chick', 'vulture', 'vulture',\n",
       "       'vulture', 'parrot', 'parrot', 'pigeon', 'pigeon', 'pigeon'],\n",
       "      dtype=object)"
      ]
     },
     "execution_count": 68,
     "metadata": {},
     "output_type": "execute_result"
    }
   ],
   "source": [
    "actual_basic_names"
   ]
  },
  {
   "cell_type": "code",
   "execution_count": 56,
   "id": "bf3fbdb2-9638-4727-8bc6-5bd8f5ad21ce",
   "metadata": {},
   "outputs": [],
   "source": [
    "sequence = actual_basic_inds\n",
    "\n",
    "\n",
    "n_vals = len(unique_vals)\n",
    "# assert(np.all(uncounts==n_each))\n",
    "\n",
    "n_total = len(sequence)"
   ]
  },
  {
   "cell_type": "code",
   "execution_count": 58,
   "id": "445b0cbd-a478-40bf-b030-8903ae1278f4",
   "metadata": {},
   "outputs": [
    {
     "data": {
      "text/plain": [
       "array([2, 3, 2, 3, 2, 3, 2, 3, 2, 3])"
      ]
     },
     "execution_count": 58,
     "metadata": {},
     "output_type": "execute_result"
    }
   ],
   "source": [
    "uncounts"
   ]
  },
  {
   "cell_type": "code",
   "execution_count": 61,
   "id": "b29e7a57-ad55-4852-83cf-2511b471fd01",
   "metadata": {},
   "outputs": [],
   "source": [
    "\n",
    "        "
   ]
  },
  {
   "cell_type": "code",
   "execution_count": 64,
   "id": "9a6a148f-b4fd-4730-b43f-e783e98a6445",
   "metadata": {},
   "outputs": [
    {
     "data": {
      "text/plain": [
       "[array([0., 1., 2., 3., 4., 5., 6., 7., 8., 9.]),\n",
       " array([0., 1., 2., 3., 4., 5., 6., 7., 8., 9.]),\n",
       " array([1., 3., 5., 7., 9.])]"
      ]
     },
     "execution_count": 64,
     "metadata": {},
     "output_type": "execute_result"
    }
   ],
   "source": [
    "[sequence[gg] for gg in groups]"
   ]
  },
  {
   "cell_type": "code",
   "execution_count": 54,
   "id": "37536106-f5b5-4c85-9e92-43d095ee43d9",
   "metadata": {},
   "outputs": [
    {
     "data": {
      "text/plain": [
       "array([0., 0., 1., 1., 1., 2., 2., 3., 3., 3., 4., 4., 5., 5., 5., 6., 6.,\n",
       "       7., 7., 7., 8., 8., 9., 9., 9.])"
      ]
     },
     "execution_count": 54,
     "metadata": {},
     "output_type": "execute_result"
    }
   ],
   "source": [
    "# list all the ways to randomly permute groups of elements without having any in \n",
    "# their original position.\n",
    "all_perms = list(permutations(np.arange(n_vals)))\n",
    "good_perms = [perm for perm in all_perms if np.all(np.array(perm)!=(np.arange(n_vals)))]\n",
    "\n",
    "# sort to make it easy to find the common groups\n",
    "order2sort, order2reverse = invertible_sort(sequence)\n",
    "sorted_sequence = sequence[order2sort]\n",
    "\n",
    "new_sequence = np.zeros(np.shape(sorted_sequence),dtype=sorted_sequence.dtype)\n",
    "\n",
    "n_groups = n_each\n",
    "for gg in range(n_groups):\n",
    "\n",
    "    # gather N elements at a time, one of each value. \n",
    "    inds = gg+np.arange(0,n_total,n_each)\n",
    "    vals = sorted_sequence[inds]\n",
    "    assert(np.all(vals==unique_vals))\n",
    "\n",
    "    # pick at random one of the orders that works\n",
    "    perm_order = np.array(good_perms[np.random.choice(np.arange(len(good_perms)))])\n",
    "    new_sequence[inds] = vals[perm_order]\n",
    "\n",
    "new_sequence_unsorted = new_sequence[order2reverse]"
   ]
  },
  {
   "cell_type": "code",
   "execution_count": 41,
   "id": "e6bd5f0d-fa70-47f5-a244-3c08c945337c",
   "metadata": {},
   "outputs": [
    {
     "data": {
      "text/plain": [
       "array([1., 3., 5., 7., 9.])"
      ]
     },
     "execution_count": 41,
     "metadata": {},
     "output_type": "execute_result"
    }
   ],
   "source": [
    "actual_basic_inds"
   ]
  },
  {
   "cell_type": "code",
   "execution_count": 32,
   "id": "2d4ad908-2c36-4cd7-9944-1679e1790cda",
   "metadata": {},
   "outputs": [
    {
     "data": {
      "text/html": [
       "<div>\n",
       "<style scoped>\n",
       "    .dataframe tbody tr th:only-of-type {\n",
       "        vertical-align: middle;\n",
       "    }\n",
       "\n",
       "    .dataframe tbody tr th {\n",
       "        vertical-align: top;\n",
       "    }\n",
       "\n",
       "    .dataframe thead th {\n",
       "        text-align: right;\n",
       "    }\n",
       "</style>\n",
       "<table border=\"1\" class=\"dataframe\">\n",
       "  <thead>\n",
       "    <tr style=\"text-align: right;\">\n",
       "      <th></th>\n",
       "      <th>trial_num_overall</th>\n",
       "      <th>categ_ind</th>\n",
       "      <th>concept_ind</th>\n",
       "      <th>super_name</th>\n",
       "      <th>basic_name</th>\n",
       "      <th>ex_num</th>\n",
       "      <th>image_type_num</th>\n",
       "      <th>image_type</th>\n",
       "      <th>image_name</th>\n",
       "      <th>dropbox_url</th>\n",
       "      <th>target_present</th>\n",
       "      <th>cue_level_num</th>\n",
       "      <th>cue_level</th>\n",
       "      <th>cue_name</th>\n",
       "    </tr>\n",
       "  </thead>\n",
       "  <tbody>\n",
       "    <tr>\n",
       "      <th>900</th>\n",
       "      <td>900.0</td>\n",
       "      <td>9.0</td>\n",
       "      <td>0.0</td>\n",
       "      <td>sports_equipment</td>\n",
       "      <td>rollerskate</td>\n",
       "      <td>0.0</td>\n",
       "      <td>0.0</td>\n",
       "      <td>orig</td>\n",
       "      <td>rollerskate_01b/orig.png</td>\n",
       "      <td>0.0</td>\n",
       "      <td>True</td>\n",
       "      <td>0.0</td>\n",
       "      <td>basic</td>\n",
       "      <td>0.0</td>\n",
       "    </tr>\n",
       "    <tr>\n",
       "      <th>901</th>\n",
       "      <td>901.0</td>\n",
       "      <td>9.0</td>\n",
       "      <td>0.0</td>\n",
       "      <td>sports_equipment</td>\n",
       "      <td>rollerskate</td>\n",
       "      <td>1.0</td>\n",
       "      <td>0.0</td>\n",
       "      <td>orig</td>\n",
       "      <td>rollerskate_02s/orig.png</td>\n",
       "      <td>0.0</td>\n",
       "      <td>False</td>\n",
       "      <td>1.0</td>\n",
       "      <td>super</td>\n",
       "      <td>0.0</td>\n",
       "    </tr>\n",
       "    <tr>\n",
       "      <th>902</th>\n",
       "      <td>902.0</td>\n",
       "      <td>9.0</td>\n",
       "      <td>0.0</td>\n",
       "      <td>sports_equipment</td>\n",
       "      <td>rollerskate</td>\n",
       "      <td>2.0</td>\n",
       "      <td>1.0</td>\n",
       "      <td>pool1</td>\n",
       "      <td>rollerskate_03s/grid5_1x1_upto_pool1.png</td>\n",
       "      <td>0.0</td>\n",
       "      <td>False</td>\n",
       "      <td>0.0</td>\n",
       "      <td>basic</td>\n",
       "      <td>0.0</td>\n",
       "    </tr>\n",
       "    <tr>\n",
       "      <th>903</th>\n",
       "      <td>903.0</td>\n",
       "      <td>9.0</td>\n",
       "      <td>0.0</td>\n",
       "      <td>sports_equipment</td>\n",
       "      <td>rollerskate</td>\n",
       "      <td>3.0</td>\n",
       "      <td>1.0</td>\n",
       "      <td>pool1</td>\n",
       "      <td>rollerskate_04s/grid5_1x1_upto_pool1.png</td>\n",
       "      <td>0.0</td>\n",
       "      <td>True</td>\n",
       "      <td>1.0</td>\n",
       "      <td>super</td>\n",
       "      <td>0.0</td>\n",
       "    </tr>\n",
       "    <tr>\n",
       "      <th>904</th>\n",
       "      <td>904.0</td>\n",
       "      <td>9.0</td>\n",
       "      <td>0.0</td>\n",
       "      <td>sports_equipment</td>\n",
       "      <td>rollerskate</td>\n",
       "      <td>4.0</td>\n",
       "      <td>2.0</td>\n",
       "      <td>pool2</td>\n",
       "      <td>rollerskate_05s/grid5_1x1_upto_pool2.png</td>\n",
       "      <td>0.0</td>\n",
       "      <td>True</td>\n",
       "      <td>0.0</td>\n",
       "      <td>basic</td>\n",
       "      <td>0.0</td>\n",
       "    </tr>\n",
       "    <tr>\n",
       "      <th>905</th>\n",
       "      <td>905.0</td>\n",
       "      <td>9.0</td>\n",
       "      <td>0.0</td>\n",
       "      <td>sports_equipment</td>\n",
       "      <td>rollerskate</td>\n",
       "      <td>5.0</td>\n",
       "      <td>2.0</td>\n",
       "      <td>pool2</td>\n",
       "      <td>rollerskate_06s/grid5_1x1_upto_pool2.png</td>\n",
       "      <td>0.0</td>\n",
       "      <td>False</td>\n",
       "      <td>1.0</td>\n",
       "      <td>super</td>\n",
       "      <td>0.0</td>\n",
       "    </tr>\n",
       "    <tr>\n",
       "      <th>906</th>\n",
       "      <td>906.0</td>\n",
       "      <td>9.0</td>\n",
       "      <td>0.0</td>\n",
       "      <td>sports_equipment</td>\n",
       "      <td>rollerskate</td>\n",
       "      <td>6.0</td>\n",
       "      <td>3.0</td>\n",
       "      <td>pool3</td>\n",
       "      <td>rollerskate_07s/grid5_1x1_upto_pool3.png</td>\n",
       "      <td>0.0</td>\n",
       "      <td>False</td>\n",
       "      <td>0.0</td>\n",
       "      <td>basic</td>\n",
       "      <td>0.0</td>\n",
       "    </tr>\n",
       "    <tr>\n",
       "      <th>907</th>\n",
       "      <td>907.0</td>\n",
       "      <td>9.0</td>\n",
       "      <td>0.0</td>\n",
       "      <td>sports_equipment</td>\n",
       "      <td>rollerskate</td>\n",
       "      <td>7.0</td>\n",
       "      <td>3.0</td>\n",
       "      <td>pool3</td>\n",
       "      <td>rollerskate_08s/grid5_1x1_upto_pool3.png</td>\n",
       "      <td>0.0</td>\n",
       "      <td>True</td>\n",
       "      <td>1.0</td>\n",
       "      <td>super</td>\n",
       "      <td>0.0</td>\n",
       "    </tr>\n",
       "    <tr>\n",
       "      <th>908</th>\n",
       "      <td>908.0</td>\n",
       "      <td>9.0</td>\n",
       "      <td>0.0</td>\n",
       "      <td>sports_equipment</td>\n",
       "      <td>rollerskate</td>\n",
       "      <td>8.0</td>\n",
       "      <td>4.0</td>\n",
       "      <td>pool4</td>\n",
       "      <td>rollerskate_09s/grid5_1x1_upto_pool4.png</td>\n",
       "      <td>0.0</td>\n",
       "      <td>True</td>\n",
       "      <td>0.0</td>\n",
       "      <td>basic</td>\n",
       "      <td>0.0</td>\n",
       "    </tr>\n",
       "    <tr>\n",
       "      <th>909</th>\n",
       "      <td>909.0</td>\n",
       "      <td>9.0</td>\n",
       "      <td>0.0</td>\n",
       "      <td>sports_equipment</td>\n",
       "      <td>rollerskate</td>\n",
       "      <td>9.0</td>\n",
       "      <td>4.0</td>\n",
       "      <td>pool4</td>\n",
       "      <td>rollerskate_10s/grid5_1x1_upto_pool4.png</td>\n",
       "      <td>0.0</td>\n",
       "      <td>False</td>\n",
       "      <td>1.0</td>\n",
       "      <td>super</td>\n",
       "      <td>0.0</td>\n",
       "    </tr>\n",
       "    <tr>\n",
       "      <th>910</th>\n",
       "      <td>910.0</td>\n",
       "      <td>9.0</td>\n",
       "      <td>1.0</td>\n",
       "      <td>sports_equipment</td>\n",
       "      <td>hockey_stick</td>\n",
       "      <td>0.0</td>\n",
       "      <td>0.0</td>\n",
       "      <td>orig</td>\n",
       "      <td>hockey_stick_01b/orig.png</td>\n",
       "      <td>0.0</td>\n",
       "      <td>False</td>\n",
       "      <td>0.0</td>\n",
       "      <td>basic</td>\n",
       "      <td>0.0</td>\n",
       "    </tr>\n",
       "    <tr>\n",
       "      <th>911</th>\n",
       "      <td>911.0</td>\n",
       "      <td>9.0</td>\n",
       "      <td>1.0</td>\n",
       "      <td>sports_equipment</td>\n",
       "      <td>hockey_stick</td>\n",
       "      <td>1.0</td>\n",
       "      <td>0.0</td>\n",
       "      <td>orig</td>\n",
       "      <td>hockey_stick_02s/orig.png</td>\n",
       "      <td>0.0</td>\n",
       "      <td>True</td>\n",
       "      <td>1.0</td>\n",
       "      <td>super</td>\n",
       "      <td>0.0</td>\n",
       "    </tr>\n",
       "    <tr>\n",
       "      <th>912</th>\n",
       "      <td>912.0</td>\n",
       "      <td>9.0</td>\n",
       "      <td>1.0</td>\n",
       "      <td>sports_equipment</td>\n",
       "      <td>hockey_stick</td>\n",
       "      <td>2.0</td>\n",
       "      <td>1.0</td>\n",
       "      <td>pool1</td>\n",
       "      <td>hockey_stick_03s/grid5_1x1_upto_pool1.png</td>\n",
       "      <td>0.0</td>\n",
       "      <td>True</td>\n",
       "      <td>0.0</td>\n",
       "      <td>basic</td>\n",
       "      <td>0.0</td>\n",
       "    </tr>\n",
       "    <tr>\n",
       "      <th>913</th>\n",
       "      <td>913.0</td>\n",
       "      <td>9.0</td>\n",
       "      <td>1.0</td>\n",
       "      <td>sports_equipment</td>\n",
       "      <td>hockey_stick</td>\n",
       "      <td>3.0</td>\n",
       "      <td>1.0</td>\n",
       "      <td>pool1</td>\n",
       "      <td>hockey_stick_04s/grid5_1x1_upto_pool1.png</td>\n",
       "      <td>0.0</td>\n",
       "      <td>False</td>\n",
       "      <td>1.0</td>\n",
       "      <td>super</td>\n",
       "      <td>0.0</td>\n",
       "    </tr>\n",
       "    <tr>\n",
       "      <th>914</th>\n",
       "      <td>914.0</td>\n",
       "      <td>9.0</td>\n",
       "      <td>1.0</td>\n",
       "      <td>sports_equipment</td>\n",
       "      <td>hockey_stick</td>\n",
       "      <td>4.0</td>\n",
       "      <td>2.0</td>\n",
       "      <td>pool2</td>\n",
       "      <td>hockey_stick_05s/grid5_1x1_upto_pool2.png</td>\n",
       "      <td>0.0</td>\n",
       "      <td>False</td>\n",
       "      <td>0.0</td>\n",
       "      <td>basic</td>\n",
       "      <td>0.0</td>\n",
       "    </tr>\n",
       "    <tr>\n",
       "      <th>915</th>\n",
       "      <td>915.0</td>\n",
       "      <td>9.0</td>\n",
       "      <td>1.0</td>\n",
       "      <td>sports_equipment</td>\n",
       "      <td>hockey_stick</td>\n",
       "      <td>5.0</td>\n",
       "      <td>2.0</td>\n",
       "      <td>pool2</td>\n",
       "      <td>hockey_stick_06s/grid5_1x1_upto_pool2.png</td>\n",
       "      <td>0.0</td>\n",
       "      <td>True</td>\n",
       "      <td>1.0</td>\n",
       "      <td>super</td>\n",
       "      <td>0.0</td>\n",
       "    </tr>\n",
       "    <tr>\n",
       "      <th>916</th>\n",
       "      <td>916.0</td>\n",
       "      <td>9.0</td>\n",
       "      <td>1.0</td>\n",
       "      <td>sports_equipment</td>\n",
       "      <td>hockey_stick</td>\n",
       "      <td>6.0</td>\n",
       "      <td>3.0</td>\n",
       "      <td>pool3</td>\n",
       "      <td>hockey_stick_07s/grid5_1x1_upto_pool3.png</td>\n",
       "      <td>0.0</td>\n",
       "      <td>True</td>\n",
       "      <td>0.0</td>\n",
       "      <td>basic</td>\n",
       "      <td>0.0</td>\n",
       "    </tr>\n",
       "    <tr>\n",
       "      <th>917</th>\n",
       "      <td>917.0</td>\n",
       "      <td>9.0</td>\n",
       "      <td>1.0</td>\n",
       "      <td>sports_equipment</td>\n",
       "      <td>hockey_stick</td>\n",
       "      <td>7.0</td>\n",
       "      <td>3.0</td>\n",
       "      <td>pool3</td>\n",
       "      <td>hockey_stick_08s/grid5_1x1_upto_pool3.png</td>\n",
       "      <td>0.0</td>\n",
       "      <td>False</td>\n",
       "      <td>1.0</td>\n",
       "      <td>super</td>\n",
       "      <td>0.0</td>\n",
       "    </tr>\n",
       "    <tr>\n",
       "      <th>918</th>\n",
       "      <td>918.0</td>\n",
       "      <td>9.0</td>\n",
       "      <td>1.0</td>\n",
       "      <td>sports_equipment</td>\n",
       "      <td>hockey_stick</td>\n",
       "      <td>8.0</td>\n",
       "      <td>4.0</td>\n",
       "      <td>pool4</td>\n",
       "      <td>hockey_stick_09s/grid5_1x1_upto_pool4.png</td>\n",
       "      <td>0.0</td>\n",
       "      <td>False</td>\n",
       "      <td>0.0</td>\n",
       "      <td>basic</td>\n",
       "      <td>0.0</td>\n",
       "    </tr>\n",
       "    <tr>\n",
       "      <th>919</th>\n",
       "      <td>919.0</td>\n",
       "      <td>9.0</td>\n",
       "      <td>1.0</td>\n",
       "      <td>sports_equipment</td>\n",
       "      <td>hockey_stick</td>\n",
       "      <td>9.0</td>\n",
       "      <td>4.0</td>\n",
       "      <td>pool4</td>\n",
       "      <td>hockey_stick_10s/grid5_1x1_upto_pool4.png</td>\n",
       "      <td>0.0</td>\n",
       "      <td>True</td>\n",
       "      <td>1.0</td>\n",
       "      <td>super</td>\n",
       "      <td>0.0</td>\n",
       "    </tr>\n",
       "  </tbody>\n",
       "</table>\n",
       "</div>"
      ],
      "text/plain": [
       "     trial_num_overall  categ_ind  concept_ind        super_name  \\\n",
       "900              900.0        9.0          0.0  sports_equipment   \n",
       "901              901.0        9.0          0.0  sports_equipment   \n",
       "902              902.0        9.0          0.0  sports_equipment   \n",
       "903              903.0        9.0          0.0  sports_equipment   \n",
       "904              904.0        9.0          0.0  sports_equipment   \n",
       "905              905.0        9.0          0.0  sports_equipment   \n",
       "906              906.0        9.0          0.0  sports_equipment   \n",
       "907              907.0        9.0          0.0  sports_equipment   \n",
       "908              908.0        9.0          0.0  sports_equipment   \n",
       "909              909.0        9.0          0.0  sports_equipment   \n",
       "910              910.0        9.0          1.0  sports_equipment   \n",
       "911              911.0        9.0          1.0  sports_equipment   \n",
       "912              912.0        9.0          1.0  sports_equipment   \n",
       "913              913.0        9.0          1.0  sports_equipment   \n",
       "914              914.0        9.0          1.0  sports_equipment   \n",
       "915              915.0        9.0          1.0  sports_equipment   \n",
       "916              916.0        9.0          1.0  sports_equipment   \n",
       "917              917.0        9.0          1.0  sports_equipment   \n",
       "918              918.0        9.0          1.0  sports_equipment   \n",
       "919              919.0        9.0          1.0  sports_equipment   \n",
       "\n",
       "       basic_name  ex_num  image_type_num image_type  \\\n",
       "900   rollerskate     0.0             0.0       orig   \n",
       "901   rollerskate     1.0             0.0       orig   \n",
       "902   rollerskate     2.0             1.0      pool1   \n",
       "903   rollerskate     3.0             1.0      pool1   \n",
       "904   rollerskate     4.0             2.0      pool2   \n",
       "905   rollerskate     5.0             2.0      pool2   \n",
       "906   rollerskate     6.0             3.0      pool3   \n",
       "907   rollerskate     7.0             3.0      pool3   \n",
       "908   rollerskate     8.0             4.0      pool4   \n",
       "909   rollerskate     9.0             4.0      pool4   \n",
       "910  hockey_stick     0.0             0.0       orig   \n",
       "911  hockey_stick     1.0             0.0       orig   \n",
       "912  hockey_stick     2.0             1.0      pool1   \n",
       "913  hockey_stick     3.0             1.0      pool1   \n",
       "914  hockey_stick     4.0             2.0      pool2   \n",
       "915  hockey_stick     5.0             2.0      pool2   \n",
       "916  hockey_stick     6.0             3.0      pool3   \n",
       "917  hockey_stick     7.0             3.0      pool3   \n",
       "918  hockey_stick     8.0             4.0      pool4   \n",
       "919  hockey_stick     9.0             4.0      pool4   \n",
       "\n",
       "                                    image_name  dropbox_url target_present  \\\n",
       "900                   rollerskate_01b/orig.png          0.0           True   \n",
       "901                   rollerskate_02s/orig.png          0.0          False   \n",
       "902   rollerskate_03s/grid5_1x1_upto_pool1.png          0.0          False   \n",
       "903   rollerskate_04s/grid5_1x1_upto_pool1.png          0.0           True   \n",
       "904   rollerskate_05s/grid5_1x1_upto_pool2.png          0.0           True   \n",
       "905   rollerskate_06s/grid5_1x1_upto_pool2.png          0.0          False   \n",
       "906   rollerskate_07s/grid5_1x1_upto_pool3.png          0.0          False   \n",
       "907   rollerskate_08s/grid5_1x1_upto_pool3.png          0.0           True   \n",
       "908   rollerskate_09s/grid5_1x1_upto_pool4.png          0.0           True   \n",
       "909   rollerskate_10s/grid5_1x1_upto_pool4.png          0.0          False   \n",
       "910                  hockey_stick_01b/orig.png          0.0          False   \n",
       "911                  hockey_stick_02s/orig.png          0.0           True   \n",
       "912  hockey_stick_03s/grid5_1x1_upto_pool1.png          0.0           True   \n",
       "913  hockey_stick_04s/grid5_1x1_upto_pool1.png          0.0          False   \n",
       "914  hockey_stick_05s/grid5_1x1_upto_pool2.png          0.0          False   \n",
       "915  hockey_stick_06s/grid5_1x1_upto_pool2.png          0.0           True   \n",
       "916  hockey_stick_07s/grid5_1x1_upto_pool3.png          0.0           True   \n",
       "917  hockey_stick_08s/grid5_1x1_upto_pool3.png          0.0          False   \n",
       "918  hockey_stick_09s/grid5_1x1_upto_pool4.png          0.0          False   \n",
       "919  hockey_stick_10s/grid5_1x1_upto_pool4.png          0.0           True   \n",
       "\n",
       "     cue_level_num cue_level  cue_name  \n",
       "900            0.0     basic       0.0  \n",
       "901            1.0     super       0.0  \n",
       "902            0.0     basic       0.0  \n",
       "903            1.0     super       0.0  \n",
       "904            0.0     basic       0.0  \n",
       "905            1.0     super       0.0  \n",
       "906            0.0     basic       0.0  \n",
       "907            1.0     super       0.0  \n",
       "908            0.0     basic       0.0  \n",
       "909            1.0     super       0.0  \n",
       "910            0.0     basic       0.0  \n",
       "911            1.0     super       0.0  \n",
       "912            0.0     basic       0.0  \n",
       "913            1.0     super       0.0  \n",
       "914            0.0     basic       0.0  \n",
       "915            1.0     super       0.0  \n",
       "916            0.0     basic       0.0  \n",
       "917            1.0     super       0.0  \n",
       "918            0.0     basic       0.0  \n",
       "919            1.0     super       0.0  "
      ]
     },
     "execution_count": 32,
     "metadata": {},
     "output_type": "execute_result"
    }
   ],
   "source": [
    "inds = (trial_info['super_name']=='sports_equipment') & \\\n",
    "        ((trial_info['basic_name']=='rollerskate') | (trial_info['basic_name']=='hockey_stick')) \n",
    "\n",
    "# inds = (trial_info['super_name']=='sports_equipment') & \\\n",
    "#         (trial_info['cue_level']=='basic') & \\\n",
    "#         (trial_info['image_type']=='orig')\n",
    "\n",
    "trial_info[inds]"
   ]
  },
  {
   "cell_type": "code",
   "execution_count": 16,
   "id": "c3f55928-7a78-4728-b465-6649d2188296",
   "metadata": {},
   "outputs": [],
   "source": [
    "n_concepts_use = 10;\n",
    "n_trials_per_concept = 20;\n",
    "n_trials_each_categ = n_concepts_use*n_trials_per_concept\n",
    "\n",
    "n_image_types = 5;\n",
    "n_resp_types = 4;\n",
    "\n",
    "n_trials_per_resp_type = int(n_trials_each_categ/n_resp_types)\n",
    "n_trials_per_image_type = int(n_trials_each_categ/n_image_types)"
   ]
  },
  {
   "cell_type": "code",
   "execution_count": 8,
   "id": "0fa2bbb4-e89d-4fd0-8eee-5a169f6ba703",
   "metadata": {},
   "outputs": [
    {
     "data": {
      "text/plain": [
       "20"
      ]
     },
     "execution_count": 8,
     "metadata": {},
     "output_type": "execute_result"
    }
   ],
   "source": [
    "5*4"
   ]
  },
  {
   "cell_type": "code",
   "execution_count": 276,
   "id": "935ffe68-0b8c-47d3-8ff7-32acc6e0f86d",
   "metadata": {},
   "outputs": [
    {
     "data": {
      "text/plain": [
       "20"
      ]
     },
     "execution_count": 276,
     "metadata": {},
     "output_type": "execute_result"
    }
   ],
   "source": [
    "n_trials_per_resp_type"
   ]
  },
  {
   "cell_type": "code",
   "execution_count": 248,
   "id": "dc496c89-b8e1-4652-866c-f4c11501708e",
   "metadata": {},
   "outputs": [
    {
     "data": {
      "text/plain": [
       "80"
      ]
     },
     "execution_count": 248,
     "metadata": {},
     "output_type": "execute_result"
    }
   ],
   "source": [
    "n_trials"
   ]
  },
  {
   "cell_type": "code",
   "execution_count": 17,
   "id": "95911ef3-644d-4d3f-9a1c-b7e3a10915c1",
   "metadata": {},
   "outputs": [
    {
     "data": {
      "text/plain": [
       "(200, 3)"
      ]
     },
     "execution_count": 17,
     "metadata": {},
     "output_type": "execute_result"
    }
   ],
   "source": [
    "conc_inds = np.tile(np.arange(n_concepts_use), n_trials_per_concept)[:,None]\n",
    "resp_type_inds = np.repeat(np.arange(n_resp_types), n_trials_per_resp_type)[:,None]\n",
    "image_type_inds = np.repeat(np.arange(n_image_types), n_trials_per_image_type)[:,None]\n",
    "\n",
    "seq = np.concatenate([conc_inds, resp_type_inds, image_type_inds], axis=1)\n",
    "seq.shape"
   ]
  },
  {
   "cell_type": "code",
   "execution_count": 18,
   "id": "d0674a1e-c736-440d-9530-78381b9d47cf",
   "metadata": {},
   "outputs": [
    {
     "data": {
      "text/plain": [
       "(40, 2)"
      ]
     },
     "execution_count": 18,
     "metadata": {},
     "output_type": "execute_result"
    }
   ],
   "source": [
    "np.unique(seq[:,0:2], axis=0).shape"
   ]
  },
  {
   "cell_type": "code",
   "execution_count": 19,
   "id": "a8c386bb-ea32-4636-8e8e-10e1e08f1b9d",
   "metadata": {},
   "outputs": [
    {
     "data": {
      "text/plain": [
       "array([5, 5, 5, 5, 5, 5, 5, 5, 5, 5, 5, 5, 5, 5, 5, 5, 5, 5, 5, 5, 5, 5,\n",
       "       5, 5, 5, 5, 5, 5, 5, 5, 5, 5, 5, 5, 5, 5, 5, 5, 5, 5])"
      ]
     },
     "execution_count": 19,
     "metadata": {},
     "output_type": "execute_result"
    }
   ],
   "source": [
    "un, counts = np.unique(seq[:,0:2], axis=0, return_counts=True)\n",
    "counts"
   ]
  },
  {
   "cell_type": "code",
   "execution_count": 20,
   "id": "5d918f5c-40d0-46e8-9532-03e3a9001836",
   "metadata": {},
   "outputs": [
    {
     "data": {
      "text/plain": [
       "array([40, 10, 30, 20, 20, 30, 10, 40])"
      ]
     },
     "execution_count": 20,
     "metadata": {},
     "output_type": "execute_result"
    }
   ],
   "source": [
    "un, counts = np.unique(seq[:,1:], axis=0, return_counts=True)\n",
    "counts"
   ]
  },
  {
   "cell_type": "code",
   "execution_count": 21,
   "id": "e78dfa4b-fc79-401b-8193-848be46847ef",
   "metadata": {},
   "outputs": [
    {
     "data": {
      "text/plain": [
       "array([[0, 0],\n",
       "       [0, 1],\n",
       "       [1, 1],\n",
       "       [1, 2],\n",
       "       [2, 2],\n",
       "       [2, 3],\n",
       "       [3, 3],\n",
       "       [3, 4]])"
      ]
     },
     "execution_count": 21,
     "metadata": {},
     "output_type": "execute_result"
    }
   ],
   "source": [
    "un"
   ]
  },
  {
   "cell_type": "code",
   "execution_count": 251,
   "id": "d417745a-186c-4159-bdcc-be0dbb286766",
   "metadata": {},
   "outputs": [
    {
     "data": {
      "text/plain": [
       "array([0, 1, 2, 3, 4, 0, 1, 2, 3, 4, 0, 1, 2, 3, 4, 0, 1, 2, 3, 4])"
      ]
     },
     "execution_count": 251,
     "metadata": {},
     "output_type": "execute_result"
    }
   ],
   "source": [
    "np.tile(np.arange(n_image_types), n_resp_types)"
   ]
  },
  {
   "cell_type": "code",
   "execution_count": 254,
   "id": "e3fe3dbe-ae3a-4f69-b589-f22c3fca5934",
   "metadata": {},
   "outputs": [
    {
     "data": {
      "text/plain": [
       "(80, 3)"
      ]
     },
     "execution_count": 254,
     "metadata": {},
     "output_type": "execute_result"
    }
   ],
   "source": [
    "np.shape(np.unique(seq, axis=1))"
   ]
  },
  {
   "cell_type": "code",
   "execution_count": 272,
   "id": "dfe3b062-1f39-4503-86d8-c115a2ce5e62",
   "metadata": {},
   "outputs": [
    {
     "data": {
      "text/plain": [
       "array([[9, 0, 0],\n",
       "       [9, 0, 1],\n",
       "       [9, 1, 1],\n",
       "       [9, 1, 2],\n",
       "       [9, 2, 3],\n",
       "       [9, 2, 3],\n",
       "       [9, 3, 4],\n",
       "       [9, 3, 4]])"
      ]
     },
     "execution_count": 272,
     "metadata": {},
     "output_type": "execute_result"
    }
   ],
   "source": [
    "seq[seq[:,0]==9,:]"
   ]
  },
  {
   "cell_type": "code",
   "execution_count": 222,
   "id": "67963c0e-4484-4c3d-a9e2-fa7ed7ce25db",
   "metadata": {},
   "outputs": [
    {
     "data": {
      "text/html": [
       "<div>\n",
       "<style scoped>\n",
       "    .dataframe tbody tr th:only-of-type {\n",
       "        vertical-align: middle;\n",
       "    }\n",
       "\n",
       "    .dataframe tbody tr th {\n",
       "        vertical-align: top;\n",
       "    }\n",
       "\n",
       "    .dataframe thead th {\n",
       "        text-align: right;\n",
       "    }\n",
       "</style>\n",
       "<table border=\"1\" class=\"dataframe\">\n",
       "  <thead>\n",
       "    <tr style=\"text-align: right;\">\n",
       "      <th></th>\n",
       "      <th>trial_num_overall</th>\n",
       "      <th>categ_ind</th>\n",
       "      <th>concept_ind</th>\n",
       "      <th>super_name</th>\n",
       "      <th>basic_name</th>\n",
       "      <th>ex_num</th>\n",
       "      <th>image_type_num</th>\n",
       "      <th>image_type</th>\n",
       "      <th>image_name</th>\n",
       "      <th>dropbox_url</th>\n",
       "      <th>target_present</th>\n",
       "      <th>cue_level_num</th>\n",
       "      <th>cue_level</th>\n",
       "      <th>cue_name</th>\n",
       "    </tr>\n",
       "  </thead>\n",
       "  <tbody>\n",
       "    <tr>\n",
       "      <th>902</th>\n",
       "      <td>902.0</td>\n",
       "      <td>9.0</td>\n",
       "      <td>0.0</td>\n",
       "      <td>sports_equipment</td>\n",
       "      <td>rollerskate</td>\n",
       "      <td>2.0</td>\n",
       "      <td>1.0</td>\n",
       "      <td>pool1</td>\n",
       "      <td>rollerskate_03s/grid5_1x1_upto_pool1.png</td>\n",
       "      <td>0.0</td>\n",
       "      <td>False</td>\n",
       "      <td>0.0</td>\n",
       "      <td>basic</td>\n",
       "      <td>0.0</td>\n",
       "    </tr>\n",
       "    <tr>\n",
       "      <th>906</th>\n",
       "      <td>906.0</td>\n",
       "      <td>9.0</td>\n",
       "      <td>0.0</td>\n",
       "      <td>sports_equipment</td>\n",
       "      <td>rollerskate</td>\n",
       "      <td>6.0</td>\n",
       "      <td>3.0</td>\n",
       "      <td>pool3</td>\n",
       "      <td>rollerskate_07s/grid5_1x1_upto_pool3.png</td>\n",
       "      <td>0.0</td>\n",
       "      <td>False</td>\n",
       "      <td>0.0</td>\n",
       "      <td>basic</td>\n",
       "      <td>0.0</td>\n",
       "    </tr>\n",
       "    <tr>\n",
       "      <th>910</th>\n",
       "      <td>910.0</td>\n",
       "      <td>9.0</td>\n",
       "      <td>1.0</td>\n",
       "      <td>sports_equipment</td>\n",
       "      <td>hockey_stick</td>\n",
       "      <td>0.0</td>\n",
       "      <td>0.0</td>\n",
       "      <td>orig</td>\n",
       "      <td>hockey_stick_01b/orig.png</td>\n",
       "      <td>0.0</td>\n",
       "      <td>False</td>\n",
       "      <td>0.0</td>\n",
       "      <td>basic</td>\n",
       "      <td>0.0</td>\n",
       "    </tr>\n",
       "    <tr>\n",
       "      <th>914</th>\n",
       "      <td>914.0</td>\n",
       "      <td>9.0</td>\n",
       "      <td>1.0</td>\n",
       "      <td>sports_equipment</td>\n",
       "      <td>hockey_stick</td>\n",
       "      <td>4.0</td>\n",
       "      <td>2.0</td>\n",
       "      <td>pool2</td>\n",
       "      <td>hockey_stick_05s/grid5_1x1_upto_pool2.png</td>\n",
       "      <td>0.0</td>\n",
       "      <td>False</td>\n",
       "      <td>0.0</td>\n",
       "      <td>basic</td>\n",
       "      <td>0.0</td>\n",
       "    </tr>\n",
       "    <tr>\n",
       "      <th>918</th>\n",
       "      <td>918.0</td>\n",
       "      <td>9.0</td>\n",
       "      <td>1.0</td>\n",
       "      <td>sports_equipment</td>\n",
       "      <td>hockey_stick</td>\n",
       "      <td>8.0</td>\n",
       "      <td>4.0</td>\n",
       "      <td>pool4</td>\n",
       "      <td>hockey_stick_09s/grid5_1x1_upto_pool4.png</td>\n",
       "      <td>0.0</td>\n",
       "      <td>False</td>\n",
       "      <td>0.0</td>\n",
       "      <td>basic</td>\n",
       "      <td>0.0</td>\n",
       "    </tr>\n",
       "    <tr>\n",
       "      <th>922</th>\n",
       "      <td>922.0</td>\n",
       "      <td>9.0</td>\n",
       "      <td>2.0</td>\n",
       "      <td>sports_equipment</td>\n",
       "      <td>iceskate</td>\n",
       "      <td>2.0</td>\n",
       "      <td>1.0</td>\n",
       "      <td>pool1</td>\n",
       "      <td>iceskate_03s/grid5_1x1_upto_pool1.png</td>\n",
       "      <td>0.0</td>\n",
       "      <td>False</td>\n",
       "      <td>0.0</td>\n",
       "      <td>basic</td>\n",
       "      <td>0.0</td>\n",
       "    </tr>\n",
       "    <tr>\n",
       "      <th>926</th>\n",
       "      <td>926.0</td>\n",
       "      <td>9.0</td>\n",
       "      <td>2.0</td>\n",
       "      <td>sports_equipment</td>\n",
       "      <td>iceskate</td>\n",
       "      <td>6.0</td>\n",
       "      <td>3.0</td>\n",
       "      <td>pool3</td>\n",
       "      <td>iceskate_07s/grid5_1x1_upto_pool3.png</td>\n",
       "      <td>0.0</td>\n",
       "      <td>False</td>\n",
       "      <td>0.0</td>\n",
       "      <td>basic</td>\n",
       "      <td>0.0</td>\n",
       "    </tr>\n",
       "    <tr>\n",
       "      <th>930</th>\n",
       "      <td>930.0</td>\n",
       "      <td>9.0</td>\n",
       "      <td>3.0</td>\n",
       "      <td>sports_equipment</td>\n",
       "      <td>cleat</td>\n",
       "      <td>0.0</td>\n",
       "      <td>0.0</td>\n",
       "      <td>orig</td>\n",
       "      <td>cleat_01b/orig.png</td>\n",
       "      <td>0.0</td>\n",
       "      <td>False</td>\n",
       "      <td>0.0</td>\n",
       "      <td>basic</td>\n",
       "      <td>0.0</td>\n",
       "    </tr>\n",
       "    <tr>\n",
       "      <th>934</th>\n",
       "      <td>934.0</td>\n",
       "      <td>9.0</td>\n",
       "      <td>3.0</td>\n",
       "      <td>sports_equipment</td>\n",
       "      <td>cleat</td>\n",
       "      <td>4.0</td>\n",
       "      <td>2.0</td>\n",
       "      <td>pool2</td>\n",
       "      <td>cleat_05s/grid5_1x1_upto_pool2.png</td>\n",
       "      <td>0.0</td>\n",
       "      <td>False</td>\n",
       "      <td>0.0</td>\n",
       "      <td>basic</td>\n",
       "      <td>0.0</td>\n",
       "    </tr>\n",
       "    <tr>\n",
       "      <th>938</th>\n",
       "      <td>938.0</td>\n",
       "      <td>9.0</td>\n",
       "      <td>3.0</td>\n",
       "      <td>sports_equipment</td>\n",
       "      <td>cleat</td>\n",
       "      <td>8.0</td>\n",
       "      <td>4.0</td>\n",
       "      <td>pool4</td>\n",
       "      <td>cleat_09s/grid5_1x1_upto_pool4.png</td>\n",
       "      <td>0.0</td>\n",
       "      <td>False</td>\n",
       "      <td>0.0</td>\n",
       "      <td>basic</td>\n",
       "      <td>0.0</td>\n",
       "    </tr>\n",
       "    <tr>\n",
       "      <th>942</th>\n",
       "      <td>942.0</td>\n",
       "      <td>9.0</td>\n",
       "      <td>4.0</td>\n",
       "      <td>sports_equipment</td>\n",
       "      <td>racket</td>\n",
       "      <td>2.0</td>\n",
       "      <td>1.0</td>\n",
       "      <td>pool1</td>\n",
       "      <td>racket_03s/grid5_1x1_upto_pool1.png</td>\n",
       "      <td>0.0</td>\n",
       "      <td>False</td>\n",
       "      <td>0.0</td>\n",
       "      <td>basic</td>\n",
       "      <td>0.0</td>\n",
       "    </tr>\n",
       "    <tr>\n",
       "      <th>946</th>\n",
       "      <td>946.0</td>\n",
       "      <td>9.0</td>\n",
       "      <td>4.0</td>\n",
       "      <td>sports_equipment</td>\n",
       "      <td>racket</td>\n",
       "      <td>6.0</td>\n",
       "      <td>3.0</td>\n",
       "      <td>pool3</td>\n",
       "      <td>racket_07s/grid5_1x1_upto_pool3.png</td>\n",
       "      <td>0.0</td>\n",
       "      <td>False</td>\n",
       "      <td>0.0</td>\n",
       "      <td>basic</td>\n",
       "      <td>0.0</td>\n",
       "    </tr>\n",
       "    <tr>\n",
       "      <th>950</th>\n",
       "      <td>950.0</td>\n",
       "      <td>9.0</td>\n",
       "      <td>5.0</td>\n",
       "      <td>sports_equipment</td>\n",
       "      <td>dartboard</td>\n",
       "      <td>0.0</td>\n",
       "      <td>0.0</td>\n",
       "      <td>orig</td>\n",
       "      <td>dartboard_01b/orig.png</td>\n",
       "      <td>0.0</td>\n",
       "      <td>False</td>\n",
       "      <td>0.0</td>\n",
       "      <td>basic</td>\n",
       "      <td>0.0</td>\n",
       "    </tr>\n",
       "    <tr>\n",
       "      <th>954</th>\n",
       "      <td>954.0</td>\n",
       "      <td>9.0</td>\n",
       "      <td>5.0</td>\n",
       "      <td>sports_equipment</td>\n",
       "      <td>dartboard</td>\n",
       "      <td>4.0</td>\n",
       "      <td>2.0</td>\n",
       "      <td>pool2</td>\n",
       "      <td>dartboard_05s/grid5_1x1_upto_pool2.png</td>\n",
       "      <td>0.0</td>\n",
       "      <td>False</td>\n",
       "      <td>0.0</td>\n",
       "      <td>basic</td>\n",
       "      <td>0.0</td>\n",
       "    </tr>\n",
       "    <tr>\n",
       "      <th>958</th>\n",
       "      <td>958.0</td>\n",
       "      <td>9.0</td>\n",
       "      <td>5.0</td>\n",
       "      <td>sports_equipment</td>\n",
       "      <td>dartboard</td>\n",
       "      <td>8.0</td>\n",
       "      <td>4.0</td>\n",
       "      <td>pool4</td>\n",
       "      <td>dartboard_09s/grid5_1x1_upto_pool4.png</td>\n",
       "      <td>0.0</td>\n",
       "      <td>False</td>\n",
       "      <td>0.0</td>\n",
       "      <td>basic</td>\n",
       "      <td>0.0</td>\n",
       "    </tr>\n",
       "    <tr>\n",
       "      <th>962</th>\n",
       "      <td>962.0</td>\n",
       "      <td>9.0</td>\n",
       "      <td>6.0</td>\n",
       "      <td>sports_equipment</td>\n",
       "      <td>rollerblade</td>\n",
       "      <td>2.0</td>\n",
       "      <td>1.0</td>\n",
       "      <td>pool1</td>\n",
       "      <td>rollerblade_03s/grid5_1x1_upto_pool1.png</td>\n",
       "      <td>0.0</td>\n",
       "      <td>False</td>\n",
       "      <td>0.0</td>\n",
       "      <td>basic</td>\n",
       "      <td>0.0</td>\n",
       "    </tr>\n",
       "    <tr>\n",
       "      <th>966</th>\n",
       "      <td>966.0</td>\n",
       "      <td>9.0</td>\n",
       "      <td>6.0</td>\n",
       "      <td>sports_equipment</td>\n",
       "      <td>rollerblade</td>\n",
       "      <td>6.0</td>\n",
       "      <td>3.0</td>\n",
       "      <td>pool3</td>\n",
       "      <td>rollerblade_07s/grid5_1x1_upto_pool3.png</td>\n",
       "      <td>0.0</td>\n",
       "      <td>False</td>\n",
       "      <td>0.0</td>\n",
       "      <td>basic</td>\n",
       "      <td>0.0</td>\n",
       "    </tr>\n",
       "    <tr>\n",
       "      <th>970</th>\n",
       "      <td>970.0</td>\n",
       "      <td>9.0</td>\n",
       "      <td>7.0</td>\n",
       "      <td>sports_equipment</td>\n",
       "      <td>boxing_gloves</td>\n",
       "      <td>0.0</td>\n",
       "      <td>0.0</td>\n",
       "      <td>orig</td>\n",
       "      <td>boxing_gloves_01b/orig.png</td>\n",
       "      <td>0.0</td>\n",
       "      <td>False</td>\n",
       "      <td>0.0</td>\n",
       "      <td>basic</td>\n",
       "      <td>0.0</td>\n",
       "    </tr>\n",
       "    <tr>\n",
       "      <th>974</th>\n",
       "      <td>974.0</td>\n",
       "      <td>9.0</td>\n",
       "      <td>7.0</td>\n",
       "      <td>sports_equipment</td>\n",
       "      <td>boxing_gloves</td>\n",
       "      <td>4.0</td>\n",
       "      <td>2.0</td>\n",
       "      <td>pool2</td>\n",
       "      <td>boxing_gloves_05s/grid5_1x1_upto_pool2.png</td>\n",
       "      <td>0.0</td>\n",
       "      <td>False</td>\n",
       "      <td>0.0</td>\n",
       "      <td>basic</td>\n",
       "      <td>0.0</td>\n",
       "    </tr>\n",
       "    <tr>\n",
       "      <th>978</th>\n",
       "      <td>978.0</td>\n",
       "      <td>9.0</td>\n",
       "      <td>7.0</td>\n",
       "      <td>sports_equipment</td>\n",
       "      <td>boxing_gloves</td>\n",
       "      <td>8.0</td>\n",
       "      <td>4.0</td>\n",
       "      <td>pool4</td>\n",
       "      <td>boxing_gloves_09s/grid5_1x1_upto_pool4.png</td>\n",
       "      <td>0.0</td>\n",
       "      <td>False</td>\n",
       "      <td>0.0</td>\n",
       "      <td>basic</td>\n",
       "      <td>0.0</td>\n",
       "    </tr>\n",
       "    <tr>\n",
       "      <th>982</th>\n",
       "      <td>982.0</td>\n",
       "      <td>9.0</td>\n",
       "      <td>8.0</td>\n",
       "      <td>sports_equipment</td>\n",
       "      <td>bobsled</td>\n",
       "      <td>2.0</td>\n",
       "      <td>1.0</td>\n",
       "      <td>pool1</td>\n",
       "      <td>bobsled_03s/grid5_1x1_upto_pool1.png</td>\n",
       "      <td>0.0</td>\n",
       "      <td>False</td>\n",
       "      <td>0.0</td>\n",
       "      <td>basic</td>\n",
       "      <td>0.0</td>\n",
       "    </tr>\n",
       "    <tr>\n",
       "      <th>986</th>\n",
       "      <td>986.0</td>\n",
       "      <td>9.0</td>\n",
       "      <td>8.0</td>\n",
       "      <td>sports_equipment</td>\n",
       "      <td>bobsled</td>\n",
       "      <td>6.0</td>\n",
       "      <td>3.0</td>\n",
       "      <td>pool3</td>\n",
       "      <td>bobsled_07s/grid5_1x1_upto_pool3.png</td>\n",
       "      <td>0.0</td>\n",
       "      <td>False</td>\n",
       "      <td>0.0</td>\n",
       "      <td>basic</td>\n",
       "      <td>0.0</td>\n",
       "    </tr>\n",
       "    <tr>\n",
       "      <th>990</th>\n",
       "      <td>990.0</td>\n",
       "      <td>9.0</td>\n",
       "      <td>9.0</td>\n",
       "      <td>sports_equipment</td>\n",
       "      <td>trampoline</td>\n",
       "      <td>0.0</td>\n",
       "      <td>0.0</td>\n",
       "      <td>orig</td>\n",
       "      <td>trampoline_01b/orig.png</td>\n",
       "      <td>0.0</td>\n",
       "      <td>False</td>\n",
       "      <td>0.0</td>\n",
       "      <td>basic</td>\n",
       "      <td>0.0</td>\n",
       "    </tr>\n",
       "    <tr>\n",
       "      <th>994</th>\n",
       "      <td>994.0</td>\n",
       "      <td>9.0</td>\n",
       "      <td>9.0</td>\n",
       "      <td>sports_equipment</td>\n",
       "      <td>trampoline</td>\n",
       "      <td>4.0</td>\n",
       "      <td>2.0</td>\n",
       "      <td>pool2</td>\n",
       "      <td>trampoline_05s/grid5_1x1_upto_pool2.png</td>\n",
       "      <td>0.0</td>\n",
       "      <td>False</td>\n",
       "      <td>0.0</td>\n",
       "      <td>basic</td>\n",
       "      <td>0.0</td>\n",
       "    </tr>\n",
       "    <tr>\n",
       "      <th>998</th>\n",
       "      <td>998.0</td>\n",
       "      <td>9.0</td>\n",
       "      <td>9.0</td>\n",
       "      <td>sports_equipment</td>\n",
       "      <td>trampoline</td>\n",
       "      <td>8.0</td>\n",
       "      <td>4.0</td>\n",
       "      <td>pool4</td>\n",
       "      <td>trampoline_09s/grid5_1x1_upto_pool4.png</td>\n",
       "      <td>0.0</td>\n",
       "      <td>False</td>\n",
       "      <td>0.0</td>\n",
       "      <td>basic</td>\n",
       "      <td>0.0</td>\n",
       "    </tr>\n",
       "  </tbody>\n",
       "</table>\n",
       "</div>"
      ],
      "text/plain": [
       "     trial_num_overall  categ_ind  concept_ind        super_name  \\\n",
       "902              902.0        9.0          0.0  sports_equipment   \n",
       "906              906.0        9.0          0.0  sports_equipment   \n",
       "910              910.0        9.0          1.0  sports_equipment   \n",
       "914              914.0        9.0          1.0  sports_equipment   \n",
       "918              918.0        9.0          1.0  sports_equipment   \n",
       "922              922.0        9.0          2.0  sports_equipment   \n",
       "926              926.0        9.0          2.0  sports_equipment   \n",
       "930              930.0        9.0          3.0  sports_equipment   \n",
       "934              934.0        9.0          3.0  sports_equipment   \n",
       "938              938.0        9.0          3.0  sports_equipment   \n",
       "942              942.0        9.0          4.0  sports_equipment   \n",
       "946              946.0        9.0          4.0  sports_equipment   \n",
       "950              950.0        9.0          5.0  sports_equipment   \n",
       "954              954.0        9.0          5.0  sports_equipment   \n",
       "958              958.0        9.0          5.0  sports_equipment   \n",
       "962              962.0        9.0          6.0  sports_equipment   \n",
       "966              966.0        9.0          6.0  sports_equipment   \n",
       "970              970.0        9.0          7.0  sports_equipment   \n",
       "974              974.0        9.0          7.0  sports_equipment   \n",
       "978              978.0        9.0          7.0  sports_equipment   \n",
       "982              982.0        9.0          8.0  sports_equipment   \n",
       "986              986.0        9.0          8.0  sports_equipment   \n",
       "990              990.0        9.0          9.0  sports_equipment   \n",
       "994              994.0        9.0          9.0  sports_equipment   \n",
       "998              998.0        9.0          9.0  sports_equipment   \n",
       "\n",
       "        basic_name  ex_num  image_type_num image_type  \\\n",
       "902    rollerskate     2.0             1.0      pool1   \n",
       "906    rollerskate     6.0             3.0      pool3   \n",
       "910   hockey_stick     0.0             0.0       orig   \n",
       "914   hockey_stick     4.0             2.0      pool2   \n",
       "918   hockey_stick     8.0             4.0      pool4   \n",
       "922       iceskate     2.0             1.0      pool1   \n",
       "926       iceskate     6.0             3.0      pool3   \n",
       "930          cleat     0.0             0.0       orig   \n",
       "934          cleat     4.0             2.0      pool2   \n",
       "938          cleat     8.0             4.0      pool4   \n",
       "942         racket     2.0             1.0      pool1   \n",
       "946         racket     6.0             3.0      pool3   \n",
       "950      dartboard     0.0             0.0       orig   \n",
       "954      dartboard     4.0             2.0      pool2   \n",
       "958      dartboard     8.0             4.0      pool4   \n",
       "962    rollerblade     2.0             1.0      pool1   \n",
       "966    rollerblade     6.0             3.0      pool3   \n",
       "970  boxing_gloves     0.0             0.0       orig   \n",
       "974  boxing_gloves     4.0             2.0      pool2   \n",
       "978  boxing_gloves     8.0             4.0      pool4   \n",
       "982        bobsled     2.0             1.0      pool1   \n",
       "986        bobsled     6.0             3.0      pool3   \n",
       "990     trampoline     0.0             0.0       orig   \n",
       "994     trampoline     4.0             2.0      pool2   \n",
       "998     trampoline     8.0             4.0      pool4   \n",
       "\n",
       "                                     image_name  dropbox_url target_present  \\\n",
       "902    rollerskate_03s/grid5_1x1_upto_pool1.png          0.0          False   \n",
       "906    rollerskate_07s/grid5_1x1_upto_pool3.png          0.0          False   \n",
       "910                   hockey_stick_01b/orig.png          0.0          False   \n",
       "914   hockey_stick_05s/grid5_1x1_upto_pool2.png          0.0          False   \n",
       "918   hockey_stick_09s/grid5_1x1_upto_pool4.png          0.0          False   \n",
       "922       iceskate_03s/grid5_1x1_upto_pool1.png          0.0          False   \n",
       "926       iceskate_07s/grid5_1x1_upto_pool3.png          0.0          False   \n",
       "930                          cleat_01b/orig.png          0.0          False   \n",
       "934          cleat_05s/grid5_1x1_upto_pool2.png          0.0          False   \n",
       "938          cleat_09s/grid5_1x1_upto_pool4.png          0.0          False   \n",
       "942         racket_03s/grid5_1x1_upto_pool1.png          0.0          False   \n",
       "946         racket_07s/grid5_1x1_upto_pool3.png          0.0          False   \n",
       "950                      dartboard_01b/orig.png          0.0          False   \n",
       "954      dartboard_05s/grid5_1x1_upto_pool2.png          0.0          False   \n",
       "958      dartboard_09s/grid5_1x1_upto_pool4.png          0.0          False   \n",
       "962    rollerblade_03s/grid5_1x1_upto_pool1.png          0.0          False   \n",
       "966    rollerblade_07s/grid5_1x1_upto_pool3.png          0.0          False   \n",
       "970                  boxing_gloves_01b/orig.png          0.0          False   \n",
       "974  boxing_gloves_05s/grid5_1x1_upto_pool2.png          0.0          False   \n",
       "978  boxing_gloves_09s/grid5_1x1_upto_pool4.png          0.0          False   \n",
       "982        bobsled_03s/grid5_1x1_upto_pool1.png          0.0          False   \n",
       "986        bobsled_07s/grid5_1x1_upto_pool3.png          0.0          False   \n",
       "990                     trampoline_01b/orig.png          0.0          False   \n",
       "994     trampoline_05s/grid5_1x1_upto_pool2.png          0.0          False   \n",
       "998     trampoline_09s/grid5_1x1_upto_pool4.png          0.0          False   \n",
       "\n",
       "     cue_level_num cue_level  cue_name  \n",
       "902            0.0     basic       0.0  \n",
       "906            0.0     basic       0.0  \n",
       "910            0.0     basic       0.0  \n",
       "914            0.0     basic       0.0  \n",
       "918            0.0     basic       0.0  \n",
       "922            0.0     basic       0.0  \n",
       "926            0.0     basic       0.0  \n",
       "930            0.0     basic       0.0  \n",
       "934            0.0     basic       0.0  \n",
       "938            0.0     basic       0.0  \n",
       "942            0.0     basic       0.0  \n",
       "946            0.0     basic       0.0  \n",
       "950            0.0     basic       0.0  \n",
       "954            0.0     basic       0.0  \n",
       "958            0.0     basic       0.0  \n",
       "962            0.0     basic       0.0  \n",
       "966            0.0     basic       0.0  \n",
       "970            0.0     basic       0.0  \n",
       "974            0.0     basic       0.0  \n",
       "978            0.0     basic       0.0  \n",
       "982            0.0     basic       0.0  \n",
       "986            0.0     basic       0.0  \n",
       "990            0.0     basic       0.0  \n",
       "994            0.0     basic       0.0  \n",
       "998            0.0     basic       0.0  "
      ]
     },
     "execution_count": 222,
     "metadata": {},
     "output_type": "execute_result"
    }
   ],
   "source": [
    "# inds = (trial_info['super_name']=='sports_equipment') & \\\n",
    "#         (trial_info['basic_name']=='rollerskate')\n",
    "\n",
    "inds = (trial_info['super_name']=='sports_equipment') & \\\n",
    "        (trial_info['cue_level']=='basic') & \\\n",
    "        (trial_info['target_present']==False)\n",
    "\n",
    "trial_info[inds]"
   ]
  },
  {
   "cell_type": "code",
   "execution_count": 226,
   "id": "374179a5-2186-4980-a0e8-4dbb3acc9cfb",
   "metadata": {},
   "outputs": [
    {
     "data": {
      "text/plain": [
       "array([1., 3., 5., 7., 9.])"
      ]
     },
     "execution_count": 226,
     "metadata": {},
     "output_type": "execute_result"
    }
   ],
   "source": [
    "actual_basic_inds"
   ]
  },
  {
   "cell_type": "code",
   "execution_count": 227,
   "id": "a29e38d6-a004-4567-be17-340e22a993d3",
   "metadata": {},
   "outputs": [
    {
     "data": {
      "text/plain": [
       "array([7, 1, 9, 3, 5])"
      ]
     },
     "execution_count": 227,
     "metadata": {},
     "output_type": "execute_result"
    }
   ],
   "source": [
    "incorrect_basic_inds"
   ]
  },
  {
   "cell_type": "code",
   "execution_count": 220,
   "id": "351bdc78-8cca-47e9-8667-9a12bdfa23a4",
   "metadata": {},
   "outputs": [
    {
     "data": {
      "text/html": [
       "<div>\n",
       "<style scoped>\n",
       "    .dataframe tbody tr th:only-of-type {\n",
       "        vertical-align: middle;\n",
       "    }\n",
       "\n",
       "    .dataframe tbody tr th {\n",
       "        vertical-align: top;\n",
       "    }\n",
       "\n",
       "    .dataframe thead th {\n",
       "        text-align: right;\n",
       "    }\n",
       "</style>\n",
       "<table border=\"1\" class=\"dataframe\">\n",
       "  <thead>\n",
       "    <tr style=\"text-align: right;\">\n",
       "      <th></th>\n",
       "      <th>trial_num_overall</th>\n",
       "      <th>categ_ind</th>\n",
       "      <th>concept_ind</th>\n",
       "      <th>super_name</th>\n",
       "      <th>basic_name</th>\n",
       "      <th>ex_num</th>\n",
       "      <th>image_type_num</th>\n",
       "      <th>image_type</th>\n",
       "      <th>image_name</th>\n",
       "      <th>dropbox_url</th>\n",
       "      <th>target_present</th>\n",
       "      <th>cue_level_num</th>\n",
       "      <th>cue_level</th>\n",
       "      <th>cue_name</th>\n",
       "    </tr>\n",
       "  </thead>\n",
       "  <tbody>\n",
       "    <tr>\n",
       "      <th>902</th>\n",
       "      <td>902.0</td>\n",
       "      <td>9.0</td>\n",
       "      <td>0.0</td>\n",
       "      <td>sports_equipment</td>\n",
       "      <td>rollerskate</td>\n",
       "      <td>2.0</td>\n",
       "      <td>1.0</td>\n",
       "      <td>pool1</td>\n",
       "      <td>rollerskate_03s/grid5_1x1_upto_pool1.png</td>\n",
       "      <td>0.0</td>\n",
       "      <td>False</td>\n",
       "      <td>0.0</td>\n",
       "      <td>basic</td>\n",
       "      <td>0.0</td>\n",
       "    </tr>\n",
       "    <tr>\n",
       "      <th>912</th>\n",
       "      <td>912.0</td>\n",
       "      <td>9.0</td>\n",
       "      <td>1.0</td>\n",
       "      <td>sports_equipment</td>\n",
       "      <td>hockey_stick</td>\n",
       "      <td>2.0</td>\n",
       "      <td>1.0</td>\n",
       "      <td>pool1</td>\n",
       "      <td>hockey_stick_03s/grid5_1x1_upto_pool1.png</td>\n",
       "      <td>0.0</td>\n",
       "      <td>True</td>\n",
       "      <td>0.0</td>\n",
       "      <td>basic</td>\n",
       "      <td>0.0</td>\n",
       "    </tr>\n",
       "    <tr>\n",
       "      <th>922</th>\n",
       "      <td>922.0</td>\n",
       "      <td>9.0</td>\n",
       "      <td>2.0</td>\n",
       "      <td>sports_equipment</td>\n",
       "      <td>iceskate</td>\n",
       "      <td>2.0</td>\n",
       "      <td>1.0</td>\n",
       "      <td>pool1</td>\n",
       "      <td>iceskate_03s/grid5_1x1_upto_pool1.png</td>\n",
       "      <td>0.0</td>\n",
       "      <td>False</td>\n",
       "      <td>0.0</td>\n",
       "      <td>basic</td>\n",
       "      <td>0.0</td>\n",
       "    </tr>\n",
       "    <tr>\n",
       "      <th>932</th>\n",
       "      <td>932.0</td>\n",
       "      <td>9.0</td>\n",
       "      <td>3.0</td>\n",
       "      <td>sports_equipment</td>\n",
       "      <td>cleat</td>\n",
       "      <td>2.0</td>\n",
       "      <td>1.0</td>\n",
       "      <td>pool1</td>\n",
       "      <td>cleat_03s/grid5_1x1_upto_pool1.png</td>\n",
       "      <td>0.0</td>\n",
       "      <td>True</td>\n",
       "      <td>0.0</td>\n",
       "      <td>basic</td>\n",
       "      <td>0.0</td>\n",
       "    </tr>\n",
       "    <tr>\n",
       "      <th>942</th>\n",
       "      <td>942.0</td>\n",
       "      <td>9.0</td>\n",
       "      <td>4.0</td>\n",
       "      <td>sports_equipment</td>\n",
       "      <td>racket</td>\n",
       "      <td>2.0</td>\n",
       "      <td>1.0</td>\n",
       "      <td>pool1</td>\n",
       "      <td>racket_03s/grid5_1x1_upto_pool1.png</td>\n",
       "      <td>0.0</td>\n",
       "      <td>False</td>\n",
       "      <td>0.0</td>\n",
       "      <td>basic</td>\n",
       "      <td>0.0</td>\n",
       "    </tr>\n",
       "    <tr>\n",
       "      <th>952</th>\n",
       "      <td>952.0</td>\n",
       "      <td>9.0</td>\n",
       "      <td>5.0</td>\n",
       "      <td>sports_equipment</td>\n",
       "      <td>dartboard</td>\n",
       "      <td>2.0</td>\n",
       "      <td>1.0</td>\n",
       "      <td>pool1</td>\n",
       "      <td>dartboard_03s/grid5_1x1_upto_pool1.png</td>\n",
       "      <td>0.0</td>\n",
       "      <td>True</td>\n",
       "      <td>0.0</td>\n",
       "      <td>basic</td>\n",
       "      <td>0.0</td>\n",
       "    </tr>\n",
       "    <tr>\n",
       "      <th>962</th>\n",
       "      <td>962.0</td>\n",
       "      <td>9.0</td>\n",
       "      <td>6.0</td>\n",
       "      <td>sports_equipment</td>\n",
       "      <td>rollerblade</td>\n",
       "      <td>2.0</td>\n",
       "      <td>1.0</td>\n",
       "      <td>pool1</td>\n",
       "      <td>rollerblade_03s/grid5_1x1_upto_pool1.png</td>\n",
       "      <td>0.0</td>\n",
       "      <td>False</td>\n",
       "      <td>0.0</td>\n",
       "      <td>basic</td>\n",
       "      <td>0.0</td>\n",
       "    </tr>\n",
       "    <tr>\n",
       "      <th>972</th>\n",
       "      <td>972.0</td>\n",
       "      <td>9.0</td>\n",
       "      <td>7.0</td>\n",
       "      <td>sports_equipment</td>\n",
       "      <td>boxing_gloves</td>\n",
       "      <td>2.0</td>\n",
       "      <td>1.0</td>\n",
       "      <td>pool1</td>\n",
       "      <td>boxing_gloves_03s/grid5_1x1_upto_pool1.png</td>\n",
       "      <td>0.0</td>\n",
       "      <td>True</td>\n",
       "      <td>0.0</td>\n",
       "      <td>basic</td>\n",
       "      <td>0.0</td>\n",
       "    </tr>\n",
       "    <tr>\n",
       "      <th>982</th>\n",
       "      <td>982.0</td>\n",
       "      <td>9.0</td>\n",
       "      <td>8.0</td>\n",
       "      <td>sports_equipment</td>\n",
       "      <td>bobsled</td>\n",
       "      <td>2.0</td>\n",
       "      <td>1.0</td>\n",
       "      <td>pool1</td>\n",
       "      <td>bobsled_03s/grid5_1x1_upto_pool1.png</td>\n",
       "      <td>0.0</td>\n",
       "      <td>False</td>\n",
       "      <td>0.0</td>\n",
       "      <td>basic</td>\n",
       "      <td>0.0</td>\n",
       "    </tr>\n",
       "    <tr>\n",
       "      <th>992</th>\n",
       "      <td>992.0</td>\n",
       "      <td>9.0</td>\n",
       "      <td>9.0</td>\n",
       "      <td>sports_equipment</td>\n",
       "      <td>trampoline</td>\n",
       "      <td>2.0</td>\n",
       "      <td>1.0</td>\n",
       "      <td>pool1</td>\n",
       "      <td>trampoline_03s/grid5_1x1_upto_pool1.png</td>\n",
       "      <td>0.0</td>\n",
       "      <td>True</td>\n",
       "      <td>0.0</td>\n",
       "      <td>basic</td>\n",
       "      <td>0.0</td>\n",
       "    </tr>\n",
       "  </tbody>\n",
       "</table>\n",
       "</div>"
      ],
      "text/plain": [
       "     trial_num_overall  categ_ind  concept_ind        super_name  \\\n",
       "902              902.0        9.0          0.0  sports_equipment   \n",
       "912              912.0        9.0          1.0  sports_equipment   \n",
       "922              922.0        9.0          2.0  sports_equipment   \n",
       "932              932.0        9.0          3.0  sports_equipment   \n",
       "942              942.0        9.0          4.0  sports_equipment   \n",
       "952              952.0        9.0          5.0  sports_equipment   \n",
       "962              962.0        9.0          6.0  sports_equipment   \n",
       "972              972.0        9.0          7.0  sports_equipment   \n",
       "982              982.0        9.0          8.0  sports_equipment   \n",
       "992              992.0        9.0          9.0  sports_equipment   \n",
       "\n",
       "        basic_name  ex_num  image_type_num image_type  \\\n",
       "902    rollerskate     2.0             1.0      pool1   \n",
       "912   hockey_stick     2.0             1.0      pool1   \n",
       "922       iceskate     2.0             1.0      pool1   \n",
       "932          cleat     2.0             1.0      pool1   \n",
       "942         racket     2.0             1.0      pool1   \n",
       "952      dartboard     2.0             1.0      pool1   \n",
       "962    rollerblade     2.0             1.0      pool1   \n",
       "972  boxing_gloves     2.0             1.0      pool1   \n",
       "982        bobsled     2.0             1.0      pool1   \n",
       "992     trampoline     2.0             1.0      pool1   \n",
       "\n",
       "                                     image_name  dropbox_url target_present  \\\n",
       "902    rollerskate_03s/grid5_1x1_upto_pool1.png          0.0          False   \n",
       "912   hockey_stick_03s/grid5_1x1_upto_pool1.png          0.0           True   \n",
       "922       iceskate_03s/grid5_1x1_upto_pool1.png          0.0          False   \n",
       "932          cleat_03s/grid5_1x1_upto_pool1.png          0.0           True   \n",
       "942         racket_03s/grid5_1x1_upto_pool1.png          0.0          False   \n",
       "952      dartboard_03s/grid5_1x1_upto_pool1.png          0.0           True   \n",
       "962    rollerblade_03s/grid5_1x1_upto_pool1.png          0.0          False   \n",
       "972  boxing_gloves_03s/grid5_1x1_upto_pool1.png          0.0           True   \n",
       "982        bobsled_03s/grid5_1x1_upto_pool1.png          0.0          False   \n",
       "992     trampoline_03s/grid5_1x1_upto_pool1.png          0.0           True   \n",
       "\n",
       "     cue_level_num cue_level  cue_name  \n",
       "902            0.0     basic       0.0  \n",
       "912            0.0     basic       0.0  \n",
       "922            0.0     basic       0.0  \n",
       "932            0.0     basic       0.0  \n",
       "942            0.0     basic       0.0  \n",
       "952            0.0     basic       0.0  \n",
       "962            0.0     basic       0.0  \n",
       "972            0.0     basic       0.0  \n",
       "982            0.0     basic       0.0  \n",
       "992            0.0     basic       0.0  "
      ]
     },
     "execution_count": 220,
     "metadata": {},
     "output_type": "execute_result"
    }
   ],
   "source": [
    "# inds = (trial_info['super_name']=='sports_equipment') & \\\n",
    "#         (trial_info['basic_name']=='rollerskate')\n",
    "\n",
    "inds = (trial_info['super_name']=='sports_equipment') & \\\n",
    "        (trial_info['cue_level']=='basic') & \\\n",
    "        (trial_info['image_type']=='pool1')\n",
    "\n",
    "trial_info[inds]"
   ]
  },
  {
   "cell_type": "code",
   "execution_count": null,
   "id": "a9b47274-4b8f-4fd4-9c71-5d696c4a41ed",
   "metadata": {},
   "outputs": [],
   "source": [
    "target_present_orders = np.zeros((n_trials_per_concept, n_concepts_use))\n",
    "# for co in range(n_concepts_use):\n",
    "for pp in range():\n",
    "    for xx in range(2):\n",
    "        target_present_orders["
   ]
  },
  {
   "cell_type": "code",
   "execution_count": 188,
   "id": "08c281d9-c6b9-49bf-82c6-e65e93e70a93",
   "metadata": {},
   "outputs": [],
   "source": [
    "from itertools import combinations"
   ]
  },
  {
   "cell_type": "code",
   "execution_count": 199,
   "id": "45adaf06-540e-455f-a75a-bab1c4bca2c7",
   "metadata": {},
   "outputs": [
    {
     "data": {
      "text/plain": [
       "[[()],\n",
       " [(0,), (1,), (2,), (3,), (4,)],\n",
       " [(0, 1),\n",
       "  (0, 2),\n",
       "  (0, 3),\n",
       "  (0, 4),\n",
       "  (1, 2),\n",
       "  (1, 3),\n",
       "  (1, 4),\n",
       "  (2, 3),\n",
       "  (2, 4),\n",
       "  (3, 4)],\n",
       " [(0, 1, 2),\n",
       "  (0, 1, 3),\n",
       "  (0, 1, 4),\n",
       "  (0, 2, 3),\n",
       "  (0, 2, 4),\n",
       "  (0, 3, 4),\n",
       "  (1, 2, 3),\n",
       "  (1, 2, 4),\n",
       "  (1, 3, 4),\n",
       "  (2, 3, 4)],\n",
       " [(0, 1, 2, 3), (0, 1, 2, 4), (0, 1, 3, 4), (0, 2, 3, 4), (1, 2, 3, 4)],\n",
       " [(0, 1, 2, 3, 4)]]"
      ]
     },
     "execution_count": 199,
     "metadata": {},
     "output_type": "execute_result"
    }
   ],
   "source": [
    "n_pairs = int(n_trials_per_concept/2)\n",
    "\n",
    "which_swap = [list(combinations(np.arange(n_pairs),n)) for n in range(n_pairs+1)]\n",
    "which_swap"
   ]
  },
  {
   "cell_type": "code",
   "execution_count": 200,
   "id": "fc4584cd-bec2-47ce-bdea-c4249f7e753c",
   "metadata": {},
   "outputs": [
    {
     "data": {
      "text/plain": [
       "32"
      ]
     },
     "execution_count": 200,
     "metadata": {},
     "output_type": "execute_result"
    }
   ],
   "source": [
    "np.sum([len(l) for l in which_swap])"
   ]
  },
  {
   "cell_type": "code",
   "execution_count": 201,
   "id": "a7ff771a-71b9-40e2-9b3a-a21e2f579c71",
   "metadata": {},
   "outputs": [
    {
     "data": {
      "text/plain": [
       "32"
      ]
     },
     "execution_count": 201,
     "metadata": {},
     "output_type": "execute_result"
    }
   ],
   "source": [
    "2**5"
   ]
  },
  {
   "cell_type": "code",
   "execution_count": 182,
   "id": "30c17992-307f-45f8-bd42-f316bc7e7a9f",
   "metadata": {},
   "outputs": [
    {
     "data": {
      "text/plain": [
       "10"
      ]
     },
     "execution_count": 182,
     "metadata": {},
     "output_type": "execute_result"
    }
   ],
   "source": [
    "n_concepts_use"
   ]
  },
  {
   "cell_type": "code",
   "execution_count": 171,
   "id": "3017ead8-9d42-48f2-b6f4-5dceb7f64838",
   "metadata": {},
   "outputs": [
    {
     "data": {
      "text/plain": [
       "array([9, 7, 1, 3, 5])"
      ]
     },
     "execution_count": 171,
     "metadata": {},
     "output_type": "execute_result"
    }
   ],
   "source": [
    "incorrect_basic_inds"
   ]
  },
  {
   "cell_type": "code",
   "execution_count": 166,
   "id": "95d4ffa7-b932-43c2-8119-28503fc79420",
   "metadata": {},
   "outputs": [
    {
     "data": {
      "text/plain": [
       "array([1., 3., 5., 7., 9.])"
      ]
     },
     "execution_count": 166,
     "metadata": {},
     "output_type": "execute_result"
    }
   ],
   "source": [
    "actual_basic_inds"
   ]
  },
  {
   "cell_type": "code",
   "execution_count": 51,
   "id": "f98bc6fb-0187-4534-b05c-197ddeb5190f",
   "metadata": {},
   "outputs": [
    {
     "data": {
      "text/plain": [
       "array([1., 1., 1., 1., 1., 3., 3., 3., 3., 3., 5., 5., 5., 5., 5., 7., 7.,\n",
       "       7., 7., 7., 9., 9., 9., 9., 9.])"
      ]
     },
     "execution_count": 51,
     "metadata": {},
     "output_type": "execute_result"
    }
   ],
   "source": [
    "actual_basic_inds"
   ]
  },
  {
   "cell_type": "code",
   "execution_count": 64,
   "id": "aaa93b89-d826-47d5-ada9-c3405b435dbb",
   "metadata": {},
   "outputs": [],
   "source": [
    "sequence = actual_basic_inds\n",
    "\n"
   ]
  },
  {
   "cell_type": "code",
   "execution_count": 59,
   "id": "59705361-d60f-4700-9720-1ef6cb783642",
   "metadata": {},
   "outputs": [],
   "source": []
  },
  {
   "cell_type": "code",
   "execution_count": 60,
   "id": "5a6c732e-f351-4cf2-b823-ab60ee6387e7",
   "metadata": {},
   "outputs": [
    {
     "data": {
      "text/plain": [
       "array([1., 1., 1., 1., 1., 3., 3., 3., 3., 3., 5., 5., 5., 5., 5., 7., 7.,\n",
       "       7., 7., 7., 9., 9., 9., 9., 9.])"
      ]
     },
     "execution_count": 60,
     "metadata": {},
     "output_type": "execute_result"
    }
   ],
   "source": [
    "sorted_sequence"
   ]
  },
  {
   "cell_type": "code",
   "execution_count": 161,
   "id": "134ad184-f986-4e97-8e7a-29941c511e8f",
   "metadata": {},
   "outputs": [
    {
     "data": {
      "text/plain": [
       "array([1, 4, 3, 0, 2])"
      ]
     },
     "execution_count": 161,
     "metadata": {},
     "output_type": "execute_result"
    }
   ],
   "source": [
    "shuffle_nosame(np.arange(5))"
   ]
  },
  {
   "cell_type": "code",
   "execution_count": 148,
   "id": "f4a18656-01ee-46a4-893b-e91625f1c81f",
   "metadata": {},
   "outputs": [
    {
     "data": {
      "text/plain": [
       "False"
      ]
     },
     "execution_count": 148,
     "metadata": {},
     "output_type": "execute_result"
    }
   ],
   "source": [
    "seq = np.repeat(np.arange(8),10)\n",
    "new = shuffle_nosame(seq)\n",
    "np.any(new==seq)"
   ]
  },
  {
   "cell_type": "code",
   "execution_count": 146,
   "id": "4ca5849b-0249-4242-a68a-18e8e5c854ac",
   "metadata": {},
   "outputs": [
    {
     "data": {
      "text/plain": [
       "False"
      ]
     },
     "execution_count": 146,
     "metadata": {},
     "output_type": "execute_result"
    }
   ],
   "source": [
    "seq = np.repeat(np.arange(8),10)\n",
    "seq = seq[np.random.permutation(len(seq))]\n",
    "new = shuffle_nosame(seq)\n",
    "np.any(new==seq)"
   ]
  },
  {
   "cell_type": "code",
   "execution_count": 144,
   "id": "c98def27-8057-407c-9fb9-b71bbbe7cb48",
   "metadata": {},
   "outputs": [
    {
     "data": {
      "text/plain": [
       "(array([0, 0, 0, 0, 0, 0, 0, 0, 0, 0, 1, 1, 1, 1, 1, 1, 1, 1, 1, 1, 2, 2,\n",
       "        2, 2, 2, 2, 2, 2, 2, 2, 3, 3, 3, 3, 3, 3, 3, 3, 3, 3, 4, 4, 4, 4,\n",
       "        4, 4, 4, 4, 4, 4, 5, 5, 5, 5, 5, 5, 5, 5, 5, 5, 6, 6, 6, 6, 6, 6,\n",
       "        6, 6, 6, 6, 7, 7, 7, 7, 7, 7, 7, 7, 7, 7]),\n",
       " array([7, 1, 4, 2, 4, 2, 3, 6, 1, 2, 4, 3, 5, 0, 5, 4, 5, 6, 4, 4, 5, 5,\n",
       "        4, 6, 4, 0, 7, 1, 5, 1, 7, 7, 0, 1, 4, 0, 2, 2, 0, 1, 7, 3, 2, 2,\n",
       "        6, 7, 5, 5, 7, 5, 0, 0, 6, 7, 3, 6, 3, 6, 3, 3, 2, 1, 7, 3, 1, 1,\n",
       "        7, 2, 2, 0, 6, 0, 3, 3, 5, 1, 4, 6, 6, 0]))"
      ]
     },
     "execution_count": 144,
     "metadata": {},
     "output_type": "execute_result"
    }
   ],
   "source": [
    "seq, new"
   ]
  },
  {
   "cell_type": "code",
   "execution_count": 151,
   "id": "d18478a5-53b9-4094-8cd5-b5ad7065dc6f",
   "metadata": {},
   "outputs": [
    {
     "data": {
      "text/plain": [
       "[<matplotlib.lines.Line2D at 0x7f29fae574e0>]"
      ]
     },
     "execution_count": 151,
     "metadata": {},
     "output_type": "execute_result"
    },
    {
     "data": {
      "image/png": "[encoded data removed]",
      "text/plain": [
       "<Figure size 432x288 with 1 Axes>"
      ]
     },
     "metadata": {
      "needs_background": "light"
     },
     "output_type": "display_data"
    }
   ],
   "source": [
    "import matplotlib.pyplot as plt\n",
    "plt.figure\n",
    "plt.plot(seq, new,'.')"
   ]
  },
  {
   "cell_type": "code",
   "execution_count": 108,
   "id": "4b538c46-0f70-4c48-bab3-e45c71a91842",
   "metadata": {},
   "outputs": [
    {
     "data": {
      "text/plain": [
       "(2, 3, 4, 0, 1)"
      ]
     },
     "execution_count": 108,
     "metadata": {},
     "output_type": "execute_result"
    }
   ],
   "source": [
    "perm_order"
   ]
  },
  {
   "cell_type": "code",
   "execution_count": 104,
   "id": "b9d92f7a-69ae-4f3b-be70-ca720987676b",
   "metadata": {},
   "outputs": [
    {
     "data": {
      "text/plain": [
       "array([ 0,  5, 10, 15, 20])"
      ]
     },
     "execution_count": 104,
     "metadata": {},
     "output_type": "execute_result"
    }
   ],
   "source": [
    "inds"
   ]
  },
  {
   "cell_type": "code",
   "execution_count": 105,
   "id": "b8fbb2f6-4780-4535-8337-52c7044406d3",
   "metadata": {},
   "outputs": [
    {
     "data": {
      "text/plain": [
       "array([1., 3., 5., 7., 9.])"
      ]
     },
     "execution_count": 105,
     "metadata": {},
     "output_type": "execute_result"
    }
   ],
   "source": [
    "vals"
   ]
  },
  {
   "cell_type": "code",
   "execution_count": 69,
   "id": "8c0697fa-6dfe-4c79-b1d3-c63d39b4fa26",
   "metadata": {},
   "outputs": [
    {
     "data": {
      "text/plain": [
       "array([0, 4, 1, 3, 2])"
      ]
     },
     "execution_count": 69,
     "metadata": {},
     "output_type": "execute_result"
    }
   ],
   "source": [
    "np.random.permutation(5)"
   ]
  },
  {
   "cell_type": "code",
   "execution_count": 106,
   "id": "0733faf9-df10-4ce6-a376-c1ece2638e1b",
   "metadata": {},
   "outputs": [],
   "source": []
  },
  {
   "cell_type": "code",
   "execution_count": 95,
   "id": "3e7c3d9d-d2a5-49ab-9f66-07ad5792deda",
   "metadata": {},
   "outputs": [
    {
     "data": {
      "text/plain": [
       "44"
      ]
     },
     "execution_count": 95,
     "metadata": {},
     "output_type": "execute_result"
    }
   ],
   "source": [
    "len(good_perms)"
   ]
  },
  {
   "cell_type": "code",
   "execution_count": 102,
   "id": "ef569893-6632-4ab0-ab33-4c5e2b366914",
   "metadata": {},
   "outputs": [
    {
     "data": {
      "text/plain": [
       "(3.0, 5.0, 7.0, 9.0, 1.0)"
      ]
     },
     "execution_count": 102,
     "metadata": {},
     "output_type": "execute_result"
    }
   ],
   "source": [
    "good_perms[np.random.choice(np.arange(len(good_perms)))]"
   ]
  },
  {
   "cell_type": "code",
   "execution_count": 86,
   "id": "36c34639-4c78-4c41-a24a-19d33baa24c3",
   "metadata": {},
   "outputs": [
    {
     "data": {
      "text/plain": [
       "[(1.0, 3.0, 5.0, 7.0, 9.0),\n",
       " (1.0, 3.0, 5.0, 9.0, 7.0),\n",
       " (1.0, 3.0, 7.0, 5.0, 9.0),\n",
       " (1.0, 3.0, 7.0, 9.0, 5.0),\n",
       " (1.0, 3.0, 9.0, 5.0, 7.0),\n",
       " (1.0, 3.0, 9.0, 7.0, 5.0),\n",
       " (1.0, 5.0, 3.0, 7.0, 9.0),\n",
       " (1.0, 5.0, 3.0, 9.0, 7.0),\n",
       " (1.0, 5.0, 7.0, 3.0, 9.0),\n",
       " (1.0, 5.0, 7.0, 9.0, 3.0),\n",
       " (1.0, 5.0, 9.0, 3.0, 7.0),\n",
       " (1.0, 5.0, 9.0, 7.0, 3.0),\n",
       " (1.0, 7.0, 3.0, 5.0, 9.0),\n",
       " (1.0, 7.0, 3.0, 9.0, 5.0),\n",
       " (1.0, 7.0, 5.0, 3.0, 9.0),\n",
       " (1.0, 7.0, 5.0, 9.0, 3.0),\n",
       " (1.0, 7.0, 9.0, 3.0, 5.0),\n",
       " (1.0, 7.0, 9.0, 5.0, 3.0),\n",
       " (1.0, 9.0, 3.0, 5.0, 7.0),\n",
       " (1.0, 9.0, 3.0, 7.0, 5.0),\n",
       " (1.0, 9.0, 5.0, 3.0, 7.0),\n",
       " (1.0, 9.0, 5.0, 7.0, 3.0),\n",
       " (1.0, 9.0, 7.0, 3.0, 5.0),\n",
       " (1.0, 9.0, 7.0, 5.0, 3.0),\n",
       " (3.0, 1.0, 5.0, 7.0, 9.0),\n",
       " (3.0, 1.0, 5.0, 9.0, 7.0),\n",
       " (3.0, 1.0, 7.0, 5.0, 9.0),\n",
       " (3.0, 1.0, 7.0, 9.0, 5.0),\n",
       " (3.0, 1.0, 9.0, 5.0, 7.0),\n",
       " (3.0, 1.0, 9.0, 7.0, 5.0),\n",
       " (3.0, 5.0, 1.0, 7.0, 9.0),\n",
       " (3.0, 5.0, 1.0, 9.0, 7.0),\n",
       " (3.0, 5.0, 7.0, 1.0, 9.0),\n",
       " (3.0, 5.0, 7.0, 9.0, 1.0),\n",
       " (3.0, 5.0, 9.0, 1.0, 7.0),\n",
       " (3.0, 5.0, 9.0, 7.0, 1.0),\n",
       " (3.0, 7.0, 1.0, 5.0, 9.0),\n",
       " (3.0, 7.0, 1.0, 9.0, 5.0),\n",
       " (3.0, 7.0, 5.0, 1.0, 9.0),\n",
       " (3.0, 7.0, 5.0, 9.0, 1.0),\n",
       " (3.0, 7.0, 9.0, 1.0, 5.0),\n",
       " (3.0, 7.0, 9.0, 5.0, 1.0),\n",
       " (3.0, 9.0, 1.0, 5.0, 7.0),\n",
       " (3.0, 9.0, 1.0, 7.0, 5.0),\n",
       " (3.0, 9.0, 5.0, 1.0, 7.0),\n",
       " (3.0, 9.0, 5.0, 7.0, 1.0),\n",
       " (3.0, 9.0, 7.0, 1.0, 5.0),\n",
       " (3.0, 9.0, 7.0, 5.0, 1.0),\n",
       " (5.0, 1.0, 3.0, 7.0, 9.0),\n",
       " (5.0, 1.0, 3.0, 9.0, 7.0),\n",
       " (5.0, 1.0, 7.0, 3.0, 9.0),\n",
       " (5.0, 1.0, 7.0, 9.0, 3.0),\n",
       " (5.0, 1.0, 9.0, 3.0, 7.0),\n",
       " (5.0, 1.0, 9.0, 7.0, 3.0),\n",
       " (5.0, 3.0, 1.0, 7.0, 9.0),\n",
       " (5.0, 3.0, 1.0, 9.0, 7.0),\n",
       " (5.0, 3.0, 7.0, 1.0, 9.0),\n",
       " (5.0, 3.0, 7.0, 9.0, 1.0),\n",
       " (5.0, 3.0, 9.0, 1.0, 7.0),\n",
       " (5.0, 3.0, 9.0, 7.0, 1.0),\n",
       " (5.0, 7.0, 1.0, 3.0, 9.0),\n",
       " (5.0, 7.0, 1.0, 9.0, 3.0),\n",
       " (5.0, 7.0, 3.0, 1.0, 9.0),\n",
       " (5.0, 7.0, 3.0, 9.0, 1.0),\n",
       " (5.0, 7.0, 9.0, 1.0, 3.0),\n",
       " (5.0, 7.0, 9.0, 3.0, 1.0),\n",
       " (5.0, 9.0, 1.0, 3.0, 7.0),\n",
       " (5.0, 9.0, 1.0, 7.0, 3.0),\n",
       " (5.0, 9.0, 3.0, 1.0, 7.0),\n",
       " (5.0, 9.0, 3.0, 7.0, 1.0),\n",
       " (5.0, 9.0, 7.0, 1.0, 3.0),\n",
       " (5.0, 9.0, 7.0, 3.0, 1.0),\n",
       " (7.0, 1.0, 3.0, 5.0, 9.0),\n",
       " (7.0, 1.0, 3.0, 9.0, 5.0),\n",
       " (7.0, 1.0, 5.0, 3.0, 9.0),\n",
       " (7.0, 1.0, 5.0, 9.0, 3.0),\n",
       " (7.0, 1.0, 9.0, 3.0, 5.0),\n",
       " (7.0, 1.0, 9.0, 5.0, 3.0),\n",
       " (7.0, 3.0, 1.0, 5.0, 9.0),\n",
       " (7.0, 3.0, 1.0, 9.0, 5.0),\n",
       " (7.0, 3.0, 5.0, 1.0, 9.0),\n",
       " (7.0, 3.0, 5.0, 9.0, 1.0),\n",
       " (7.0, 3.0, 9.0, 1.0, 5.0),\n",
       " (7.0, 3.0, 9.0, 5.0, 1.0),\n",
       " (7.0, 5.0, 1.0, 3.0, 9.0),\n",
       " (7.0, 5.0, 1.0, 9.0, 3.0),\n",
       " (7.0, 5.0, 3.0, 1.0, 9.0),\n",
       " (7.0, 5.0, 3.0, 9.0, 1.0),\n",
       " (7.0, 5.0, 9.0, 1.0, 3.0),\n",
       " (7.0, 5.0, 9.0, 3.0, 1.0),\n",
       " (7.0, 9.0, 1.0, 3.0, 5.0),\n",
       " (7.0, 9.0, 1.0, 5.0, 3.0),\n",
       " (7.0, 9.0, 3.0, 1.0, 5.0),\n",
       " (7.0, 9.0, 3.0, 5.0, 1.0),\n",
       " (7.0, 9.0, 5.0, 1.0, 3.0),\n",
       " (7.0, 9.0, 5.0, 3.0, 1.0),\n",
       " (9.0, 1.0, 3.0, 5.0, 7.0),\n",
       " (9.0, 1.0, 3.0, 7.0, 5.0),\n",
       " (9.0, 1.0, 5.0, 3.0, 7.0),\n",
       " (9.0, 1.0, 5.0, 7.0, 3.0),\n",
       " (9.0, 1.0, 7.0, 3.0, 5.0),\n",
       " (9.0, 1.0, 7.0, 5.0, 3.0),\n",
       " (9.0, 3.0, 1.0, 5.0, 7.0),\n",
       " (9.0, 3.0, 1.0, 7.0, 5.0),\n",
       " (9.0, 3.0, 5.0, 1.0, 7.0),\n",
       " (9.0, 3.0, 5.0, 7.0, 1.0),\n",
       " (9.0, 3.0, 7.0, 1.0, 5.0),\n",
       " (9.0, 3.0, 7.0, 5.0, 1.0),\n",
       " (9.0, 5.0, 1.0, 3.0, 7.0),\n",
       " (9.0, 5.0, 1.0, 7.0, 3.0),\n",
       " (9.0, 5.0, 3.0, 1.0, 7.0),\n",
       " (9.0, 5.0, 3.0, 7.0, 1.0),\n",
       " (9.0, 5.0, 7.0, 1.0, 3.0),\n",
       " (9.0, 5.0, 7.0, 3.0, 1.0),\n",
       " (9.0, 7.0, 1.0, 3.0, 5.0),\n",
       " (9.0, 7.0, 1.0, 5.0, 3.0),\n",
       " (9.0, 7.0, 3.0, 1.0, 5.0),\n",
       " (9.0, 7.0, 3.0, 5.0, 1.0),\n",
       " (9.0, 7.0, 5.0, 1.0, 3.0),\n",
       " (9.0, 7.0, 5.0, 3.0, 1.0)]"
      ]
     },
     "execution_count": 86,
     "metadata": {},
     "output_type": "execute_result"
    }
   ],
   "source": [
    "all_perms"
   ]
  },
  {
   "cell_type": "code",
   "execution_count": 84,
   "id": "86dcf42f-8465-4cbc-81e6-f981f007c6dd",
   "metadata": {},
   "outputs": [
    {
     "data": {
      "text/plain": [
       "array([False, False, False, False, False])"
      ]
     },
     "execution_count": 84,
     "metadata": {},
     "output_type": "execute_result"
    }
   ],
   "source": [
    "np.array(all_perms[0])!=unique_vals"
   ]
  },
  {
   "cell_type": "code",
   "execution_count": 58,
   "id": "21e35a3b-90ca-4227-ada8-457a8e223ffe",
   "metadata": {},
   "outputs": [],
   "source": []
  },
  {
   "cell_type": "code",
   "execution_count": 50,
   "id": "f76bc7bc-39b8-48c2-a5d5-9e8e7b108447",
   "metadata": {},
   "outputs": [
    {
     "data": {
      "text/plain": [
       "25.0"
      ]
     },
     "execution_count": 50,
     "metadata": {},
     "output_type": "execute_result"
    }
   ],
   "source": [
    "1000/2/10/2"
   ]
  },
  {
   "cell_type": "code",
   "execution_count": 48,
   "id": "28771a6e-33e9-4ed0-9741-9cf6339cb895",
   "metadata": {},
   "outputs": [
    {
     "data": {
      "text/plain": [
       "25"
      ]
     },
     "execution_count": 48,
     "metadata": {},
     "output_type": "execute_result"
    }
   ],
   "source": [
    "np.sum(group)"
   ]
  },
  {
   "cell_type": "code",
   "execution_count": 98,
   "id": "f5c4ca62-58bd-4fa4-818c-b3fcc38a203e",
   "metadata": {},
   "outputs": [],
   "source": [
    "\n",
    "def shuffle_nosame_repeats(sequence):\n",
    "    \n",
    "    \"\"\"\n",
    "    Shuffle a list pseudo-randomly, making sure that no element has the same \n",
    "    value in the new and old list.\n",
    "    Need to have list where each value repeats an equal number of times (or once each).\n",
    "    \"\"\"\n",
    "    unique_vals, uncounts = np.unique(sequence, return_counts=True)\n",
    "    n_each = uncounts[0]\n",
    "    n_vals = len(unique_vals)\n",
    "    assert(np.all(uncounts==n_each))\n",
    "    \n",
    "    n_total = len(sequence)\n",
    "\n",
    "    # list all the ways to randomly permute groups of elements without having any in \n",
    "    # their original position.\n",
    "    all_perms = list(permutations(np.arange(n_vals)))\n",
    "    good_perms = [perm for perm in all_perms if np.all(np.array(perm)!=(np.arange(n_vals)))]\n",
    "\n",
    "    # sort to make it easy to find the common groups\n",
    "    order2sort, order2reverse = invertible_sort(sequence)\n",
    "    sorted_sequence = sequence[order2sort]\n",
    "\n",
    "    new_sequence = np.zeros(np.shape(sorted_sequence),dtype=sorted_sequence.dtype)\n",
    "\n",
    "    n_groups = n_each\n",
    "    for gg in range(n_groups):\n",
    "    \n",
    "        # gather N elements at a time, one of each value. \n",
    "        inds = gg+np.arange(0,n_total,n_each)\n",
    "        vals = sorted_sequence[inds]\n",
    "        assert(np.all(vals==unique_vals))\n",
    "\n",
    "        # pick at random one of the orders that works\n",
    "        perm_order = np.array(good_perms[np.random.choice(np.arange(len(good_perms)))])\n",
    "        new_sequence[inds] = vals[perm_order]\n",
    "\n",
    "    new_sequence_unsorted = new_sequence[order2reverse]\n",
    "\n",
    "    return new_sequence_unsorted\n",
    "\n",
    "\n",
    "def invertible_sort(sequence):\n",
    "    \"\"\"\n",
    "    Sort a sequence and store the order needed to reverse sort.\n",
    "    Based on np.argsort.\n",
    "    \"\"\"\n",
    "    order2sort = np.argsort(sequence)\n",
    "    order2reverse = np.argsort(order2sort)\n",
    "    \n",
    "    return order2sort, order2reverse\n",
    "\n",
    "def swap_rand_pairs(sequence):\n",
    "    \n",
    "    n = len(sequence)\n",
    "    assert(np.mod(n, 2)==0)\n",
    "    \n",
    "    randpairs = np.floor(np.random.permutation(np.arange(n))/2).astype(int)\n",
    "    new_sequence = np.zeros(np.shape(sequence),dtype=sequence.dtype)\n",
    "    \n",
    "    for ii in range(int(n/2)):\n",
    "        \n",
    "        pair_inds = randpairs==ii\n",
    "        new_sequence[pair_inds] = np.flip(sequence[pair_inds])\n",
    "        \n",
    "    return new_sequence"
   ]
  },
  {
   "cell_type": "code",
   "execution_count": 43,
   "id": "631b18c0-5eed-4837-a289-545c2d567f03",
   "metadata": {},
   "outputs": [
    {
     "data": {
      "text/plain": [
       "5"
      ]
     },
     "execution_count": 43,
     "metadata": {},
     "output_type": "execute_result"
    }
   ],
   "source": [
    "np.sum(group)"
   ]
  },
  {
   "cell_type": "code",
   "execution_count": 40,
   "id": "927b6b5d-40ce-4764-83a8-4ecfafa130a6",
   "metadata": {},
   "outputs": [
    {
     "ename": "NameError",
     "evalue": "name 'n' is not defined",
     "output_type": "error",
     "traceback": [
      "\u001b[0;31m---------------------------------------------------------------------------\u001b[0m",
      "\u001b[0;31mNameError\u001b[0m                                 Traceback (most recent call last)",
      "\u001b[0;32m<ipython-input-40-ab0680a89434>\u001b[0m in \u001b[0;36m<module>\u001b[0;34m\u001b[0m\n\u001b[0;32m----> 1\u001b[0;31m \u001b[0mn\u001b[0m\u001b[0;34m\u001b[0m\u001b[0;34m\u001b[0m\u001b[0m\n\u001b[0m",
      "\u001b[0;31mNameError\u001b[0m: name 'n' is not defined"
     ]
    }
   ],
   "source": [
    "n"
   ]
  },
  {
   "cell_type": "code",
   "execution_count": 6,
   "id": "d2aaeb5e-d735-45a6-8999-69da24ca4f93",
   "metadata": {},
   "outputs": [],
   "source": [
    "# shuffle the order of everything together.\n",
    "shuff_order = np.random.permutation(np.arange(n_trials_total))\n",
    "trial_info = trial_info.iloc[shuff_order]\n",
    "\n",
    "# finally, assign the run numbers for each trial (these are the only non-shuffled columns).\n",
    "trial_info['run_number'] = np.repeat(np.arange(n_runs), n_trials_per_run) + 1\n",
    "trial_info['trial_in_run'] = np.tile(np.arange(n_trials_per_run), [n_runs,]) + 1\n",
    "\n",
    "# double check everything\n",
    "print('checking trial info')\n",
    "check_trial_info(trial_info)"
   ]
  },
  {
   "cell_type": "code",
   "execution_count": 6,
   "id": "22eeaceb-832e-44b1-862d-9ea9750fd9bd",
   "metadata": {},
   "outputs": [
    {
     "ename": "NameError",
     "evalue": "name 'n_counterbalance_conds' is not defined",
     "output_type": "error",
     "traceback": [
      "\u001b[0;31m---------------------------------------------------------------------------\u001b[0m",
      "\u001b[0;31mNameError\u001b[0m                                 Traceback (most recent call last)",
      "\u001b[0;32m<ipython-input-6-5655e4a70249>\u001b[0m in \u001b[0;36m<module>\u001b[0;34m\u001b[0m\n\u001b[1;32m      2\u001b[0m \u001b[0mnp\u001b[0m\u001b[0;34m.\u001b[0m\u001b[0mrandom\u001b[0m\u001b[0;34m.\u001b[0m\u001b[0mseed\u001b[0m\u001b[0;34m(\u001b[0m\u001b[0mrndseed\u001b[0m\u001b[0;34m)\u001b[0m\u001b[0;34m\u001b[0m\u001b[0;34m\u001b[0m\u001b[0m\n\u001b[1;32m      3\u001b[0m \u001b[0;34m\u001b[0m\u001b[0m\n\u001b[0;32m----> 4\u001b[0;31m \u001b[0;32mfor\u001b[0m \u001b[0mcb\u001b[0m \u001b[0;32min\u001b[0m \u001b[0mrange\u001b[0m\u001b[0;34m(\u001b[0m\u001b[0mn_counterbalance_conds\u001b[0m\u001b[0;34m)\u001b[0m\u001b[0;34m:\u001b[0m\u001b[0;34m\u001b[0m\u001b[0;34m\u001b[0m\u001b[0m\n\u001b[0m\u001b[1;32m      5\u001b[0m \u001b[0;34m\u001b[0m\u001b[0m\n\u001b[1;32m      6\u001b[0m     \u001b[0mprint\u001b[0m\u001b[0;34m(\u001b[0m\u001b[0;34m'making trial info for counterbalance cond %d of %d'\u001b[0m\u001b[0;34m%\u001b[0m\u001b[0;34m(\u001b[0m\u001b[0mcb\u001b[0m\u001b[0;34m,\u001b[0m \u001b[0mn_counterbalance_conds\u001b[0m\u001b[0;34m)\u001b[0m\u001b[0;34m)\u001b[0m\u001b[0;34m\u001b[0m\u001b[0;34m\u001b[0m\u001b[0m\n",
      "\u001b[0;31mNameError\u001b[0m: name 'n_counterbalance_conds' is not defined"
     ]
    }
   ],
   "source": [
    "# save everything to a single CSV file\n",
    "expt_design_folder = os.path.join(project_root, 'expt_design', expt_name)\n",
    "if not os.path.exists(expt_design_folder):\n",
    "    os.makedirs(expt_design_folder)\n",
    "trialinfo_filename1 =  os.path.join(expt_design_folder, 'trial_info_counterbal%d.csv'%(cb+1))\n",
    "print('saving to %s'%trialinfo_filename1)\n",
    "trial_info.to_csv(trialinfo_filename1, index=False)\n",
    "\n",
    "# making .js files for use in jsPsych\n",
    "# (this file holds all the runs)\n",
    "js_filename = os.path.join(expt_design_folder, 'trialseq_counterbal%d.js'%(cb+1))\n",
    "\n",
    "expt_utils.make_runs_js(trial_info, js_filename, var_name='info%d'%(cb+1))\n",
    "\n",
    "    # return"
   ]
  },
  {
   "cell_type": "code",
   "execution_count": 23,
   "id": "3e84d25e-5d7f-4d58-a40a-a29582c37474",
   "metadata": {},
   "outputs": [],
   "source": [
    "concepts_filename = os.path.join(things_root, 'concepts_use.npy')\n",
    "concepts_use = np.load(concepts_filename,allow_pickle=True).item()\n",
    "categ_names = concepts_use['categ_names']\n",
    "concept_names = concepts_use['concept_names_subsample']\n",
    "image_names = concepts_use['image_names']"
   ]
  }
 ],
 "metadata": {
  "kernelspec": {
   "display_name": "Python 3",
   "language": "python",
   "name": "python3"
  },
  "language_info": {
   "codemirror_mode": {
    "name": "ipython",
    "version": 3
   },
   "file_extension": ".py",
   "mimetype": "text/x-python",
   "name": "python",
   "nbconvert_exporter": "python",
   "pygments_lexer": "ipython3",
   "version": "3.7.1"
  }
 },
 "nbformat": 4,
 "nbformat_minor": 5
}
