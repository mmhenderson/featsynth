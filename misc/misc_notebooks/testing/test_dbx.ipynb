{
 "cells": [
  {
   "cell_type": "code",
   "execution_count": 1,
   "id": "f84793e1-de7c-46dc-a774-53b2ada98d15",
   "metadata": {},
   "outputs": [],
   "source": [
    "import dropbox, os\n",
    "\n",
    "project_root = '/user_data/mmhender/featsynth/'\n",
    "token_path = os.path.join(project_root, 'tokens/dbx_token.txt')\n",
    "\n",
    "with open(token_path) as f:\n",
    "    token = f.readlines()[0]\n",
    "dbx = dropbox.Dropbox(token)\n"
   ]
  },
  {
   "cell_type": "code",
   "execution_count": 2,
   "id": "2b40303a-89d0-4f90-b797-6d1cdd44e1fc",
   "metadata": {},
   "outputs": [],
   "source": [
    "# path = '/images/airbag_01b/grid5_1x1_upto_pool1.png'\n",
    "path = '/images/airbag_02s/grid5_1x1_upto_pool1.png'\n",
    "# path = '/expt_code/load_data.m'"
   ]
  },
  {
   "cell_type": "code",
   "execution_count": 3,
   "id": "73f2733b-a42b-4db1-8ba1-03305e3513df",
   "metadata": {},
   "outputs": [
    {
     "data": {
      "text/plain": [
       "GetSharedLinksResult(links=[])"
      ]
     },
     "execution_count": 3,
     "metadata": {},
     "output_type": "execute_result"
    }
   ],
   "source": [
    "result = dbx.sharing_get_shared_links(path)\n",
    "result"
   ]
  },
  {
   "cell_type": "code",
   "execution_count": 4,
   "id": "fb6256b7-7a08-4d1c-8c25-50117dad6a6b",
   "metadata": {},
   "outputs": [],
   "source": [
    "meta = dbx.sharing_create_shared_link_with_settings(path)\n",
    "result = dbx.sharing_get_shared_links(path)"
   ]
  },
  {
   "cell_type": "code",
   "execution_count": 5,
   "id": "ce90a29c-60a2-4a72-99fc-f38e10cf5d98",
   "metadata": {},
   "outputs": [
    {
     "data": {
      "text/plain": [
       "GetSharedLinksResult(links=[PathLinkMetadata(expires=NOT_SET, path='/images/airbag_02s/grid5_1x1_upto_pool1.png', url='https://www.dropbox.com/s/rkcs8guzhwcyets/grid5_1x1_upto_pool1.png?dl=0', visibility=Visibility('public', None))])"
      ]
     },
     "execution_count": 5,
     "metadata": {},
     "output_type": "execute_result"
    }
   ],
   "source": [
    "result"
   ]
  },
  {
   "cell_type": "code",
   "execution_count": 4,
   "id": "a807a190-7b5a-474b-898e-d39f48f626c5",
   "metadata": {},
   "outputs": [
    {
     "data": {
      "text/plain": [
       "<dropbox.dropbox_client.Dropbox at 0x7f6000c6e0b8>"
      ]
     },
     "execution_count": 4,
     "metadata": {},
     "output_type": "execute_result"
    }
   ],
   "source": [
    "# if len(result.links)==0:\n",
    "#     meta = dbx.sharing_create_shared_link_with_settings(path)\n",
    "#     result = dbx.sharing_get_shared_links(path)\n",
    "url = result.links[0].url\n",
    "url = url.replace('www.dropbox', 'dl.dropboxusercontent')"
   ]
  }
 ],
 "metadata": {
  "kernelspec": {
   "display_name": "Python 3",
   "language": "python",
   "name": "python3"
  },
  "language_info": {
   "codemirror_mode": {
    "name": "ipython",
    "version": 3
   },
   "file_extension": ".py",
   "mimetype": "text/x-python",
   "name": "python",
   "nbconvert_exporter": "python",
   "pygments_lexer": "ipython3",
   "version": "3.7.1"
  }
 },
 "nbformat": 4,
 "nbformat_minor": 5
}
