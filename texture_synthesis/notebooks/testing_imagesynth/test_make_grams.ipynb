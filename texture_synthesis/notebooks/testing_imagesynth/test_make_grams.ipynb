{
 "cells": [
  {
   "cell_type": "code",
   "execution_count": 10,
   "id": "b224f975-68a0-418f-8053-88debb8a1ce9",
   "metadata": {},
   "outputs": [],
   "source": [
    "import argparse\n",
    "import os\n",
    "import sys\n",
    "import numpy as np\n",
    "\n",
    "import torch\n",
    "import matplotlib.pyplot as plt     # type: ignore\n",
    "\n",
    "nsd_stim_path = '/user_data/mmhender/nsd/stimuli/'\n",
    "save_stim_path = '/user_data/mmhender/stimuli/'\n",
    "root = os.path.dirname(os.getcwd())\n",
    "\n",
    "sys.path.insert(0,root)\n",
    "\n",
    "import utilities\n",
    "import model_spatial\n",
    "import optimize\n",
    "import pandas as pd\n",
    "import PIL\n",
    "import torch\n",
    "import os"
   ]
  },
  {
   "cell_type": "code",
   "execution_count": 11,
   "id": "c8b7d454-8a72-4654-bc49-de13d1f35efb",
   "metadata": {},
   "outputs": [
    {
     "data": {
      "text/plain": [
       "'/user_data/mmhender/texture_synthesis'"
      ]
     },
     "execution_count": 11,
     "metadata": {},
     "output_type": "execute_result"
    }
   ],
   "source": [
    "root"
   ]
  },
  {
   "cell_type": "code",
   "execution_count": 12,
   "id": "d54b6b58-8beb-45eb-8b8f-a12ecbdf30fc",
   "metadata": {},
   "outputs": [
    {
     "name": "stdout",
     "output_type": "stream",
     "text": [
      "cuda\n",
      "\n",
      "loading image info from /user_data/mmhender/nsd/stimuli/Indep_set_info.csv\n",
      "\n"
     ]
    }
   ],
   "source": [
    "device = torch.device('cuda' if torch.cuda.is_available() else 'cpu')\n",
    "print(device)\n",
    "\n",
    "info_fn = os.path.join(nsd_stim_path, 'Indep_set_info.csv')\n",
    "print('\\nloading image info from %s\\n'%info_fn)\n",
    "info_df = pd.read_csv(info_fn, index_col=0)\n"
   ]
  },
  {
   "cell_type": "code",
   "execution_count": 14,
   "id": "0e5c4b63-aafd-484c-91c0-0744bc71ad8d",
   "metadata": {},
   "outputs": [
    {
     "name": "stdout",
     "output_type": "stream",
     "text": [
      "processing target image /lab_data/tarrlab/common/datasets/COCO/train2017/000000300147.jpg\n"
     ]
    }
   ],
   "source": [
    "ii=1000;\n",
    "\n",
    "target_image_filename = info_df['filename_raw'].iloc[ii]\n",
    "print('processing target image %s'%target_image_filename)\n",
    "sys.stdout.flush()\n",
    "\n",
    "cocoid = target_image_filename.split('/')[-1].split('.')[0]\n"
   ]
  },
  {
   "cell_type": "code",
   "execution_count": 16,
   "id": "39ec6dac-4930-4a52-9404-5e4725011bf7",
   "metadata": {},
   "outputs": [],
   "source": [
    "class a():\n",
    "    def __init__(self, n_ims_do=10, n_steps=10, debug=0):\n",
    "        self.n_ims_do = n_ims_do\n",
    "        self.n_steps = n_steps\n",
    "        self.debug = debug\n",
    "args = a()        "
   ]
  },
  {
   "cell_type": "code",
   "execution_count": 17,
   "id": "0eef4723-7307-4bd0-ac44-5aeb14aecda4",
   "metadata": {},
   "outputs": [],
   "source": [
    "args.lr = 1.0\n",
    "args.max_iter = 20\n",
    "args.checkpoint_every = 1\n",
    "args.n_steps = 100\n",
    "args.rndseed = None\n"
   ]
  },
  {
   "cell_type": "code",
   "execution_count": 50,
   "id": "dbe9e1fa-d542-498b-ad59-c78d5c1a8da7",
   "metadata": {},
   "outputs": [],
   "source": [
    "args.which_grid=2\n",
    "args.n_grid_eachside=1\n"
   ]
  },
  {
   "cell_type": "code",
   "execution_count": 57,
   "id": "ee0bd226-ec4c-4ad9-a2de-2feba629b86b",
   "metadata": {},
   "outputs": [
    {
     "name": "stdout",
     "output_type": "stream",
     "text": [
      "loading overlap from /user_data/mmhender/texture_synthesis/grid_overlap/vgg19_gridoverlap_grid2_1x1_Conv1.npy\n",
      "loading overlap from /user_data/mmhender/texture_synthesis/grid_overlap/vgg19_gridoverlap_grid2_1x1_MaxPool1.npy\n",
      "loading overlap from /user_data/mmhender/texture_synthesis/grid_overlap/vgg19_gridoverlap_grid2_1x1_MaxPool2.npy\n",
      "loading overlap from /user_data/mmhender/texture_synthesis/grid_overlap/vgg19_gridoverlap_grid2_1x1_MaxPool3.npy\n",
      "loading overlap from /user_data/mmhender/texture_synthesis/grid_overlap/vgg19_gridoverlap_grid2_1x1_MaxPool4.npy\n"
     ]
    }
   ],
   "source": [
    "layer_names_uppercase = ['Conv1','MaxPool1','MaxPool2','MaxPool3','MaxPool4']\n",
    "n_layers = len(layer_names_uppercase)\n",
    "overlap_each_layer = []\n",
    "for ll in range(n_layers):\n",
    "\n",
    "    fn = os.path.join(root,'grid_overlap','vgg19_gridoverlap_grid%d_%dx%d_%s.npy'%(args.which_grid,\n",
    "                                                                           args.n_grid_eachside, \n",
    "                                                                    args.n_grid_eachside, \n",
    "                                                                    layer_names_uppercase[ll]))\n",
    "    print('loading overlap from %s'%fn)\n",
    "    overlap = np.load(fn)\n",
    "    overlap_each_layer.append(overlap)"
   ]
  },
  {
   "cell_type": "code",
   "execution_count": 59,
   "id": "87059afd-9c9e-4454-bf62-15a336ea33bd",
   "metadata": {},
   "outputs": [
    {
     "data": {
      "text/plain": [
       "<matplotlib.colorbar.Colorbar at 0x7f9fc67e90b8>"
      ]
     },
     "execution_count": 59,
     "metadata": {},
     "output_type": "execute_result"
    },
    {
     "data": {
      "image/png": "[encoded data removed]",
      "text/plain": [
       "<Figure size 432x288 with 2 Axes>"
      ]
     },
     "metadata": {
      "needs_background": "light"
     },
     "output_type": "display_data"
    }
   ],
   "source": [
    "plt.figure()\n",
    "plt.pcolormesh(overlap_each_layer[0])\n",
    "plt.colorbar()"
   ]
  },
  {
   "cell_type": "code",
   "execution_count": 60,
   "id": "157c4a71-956c-45f5-a43b-42a35031a8f5",
   "metadata": {},
   "outputs": [],
   "source": [
    "\n",
    "# load target image to use in synthesis (different preproc than above)\n",
    "target_image = utilities.preprocess_image(\n",
    "    utilities.load_image(target_image_filename)\n",
    ")\n",
    "\n",
    "important_layers = ['relu1_1', 'pool1','pool2','pool3','pool4']\n"
   ]
  },
  {
   "cell_type": "code",
   "execution_count": 61,
   "id": "19812396-3f1d-4bf9-bb08-f49d705f40a7",
   "metadata": {},
   "outputs": [
    {
     "name": "stdout",
     "output_type": "stream",
     "text": [
      "making texture for layers:\n",
      "['relu1_1', 'pool1', 'pool2', 'pool3', 'pool4']\n"
     ]
    }
   ],
   "source": [
    "ll=4;\n",
    "\n",
    "layers_match = important_layers[0:ll+1]\n",
    "spatial_weights_use = overlap_each_layer[0:ll+1]\n",
    "print('making texture for layers:')\n",
    "print(layers_match)\n",
    "sys.stdout.flush()\n",
    "\n",
    "model_path = os.path.join(root, 'models','VGG19_normalized_avg_pool_pytorch')\n",
    "        \n",
    "net = model_spatial.Model(model_path, device, target_image, \\\n",
    "                          important_layers=layers_match, \\\n",
    "                          spatial_weights_list = spatial_weights_use, \n",
    "                          do_sqrt = True)\n"
   ]
  },
  {
   "cell_type": "code",
   "execution_count": 67,
   "id": "184eae83-1226-472c-a84d-e33705ede037",
   "metadata": {},
   "outputs": [],
   "source": [
    "gram_matrices = net.gram_loss_hook.target_gram_matrices\n",
    "gram_numpy = [g.detach().cpu().numpy().astype(np.float32) for g in gram_matrices]\n"
   ]
  },
  {
   "cell_type": "code",
   "execution_count": 63,
   "id": "97272387-80db-4b5a-a2ee-c6728cc80149",
   "metadata": {},
   "outputs": [
    {
     "data": {
      "text/plain": [
       "5"
      ]
     },
     "execution_count": 63,
     "metadata": {},
     "output_type": "execute_result"
    }
   ],
   "source": [
    "len(gram_matrices)"
   ]
  },
  {
   "cell_type": "code",
   "execution_count": 70,
   "id": "be844b77-29cf-4070-b193-44cf176097af",
   "metadata": {},
   "outputs": [
    {
     "data": {
      "text/plain": [
       "(352256,)"
      ]
     },
     "execution_count": 70,
     "metadata": {},
     "output_type": "execute_result"
    }
   ],
   "source": [
    "gram_feats_concat = np.concatenate([g.ravel() for g in gram_numpy], axis=0)\n",
    "gram_feats_concat.shape"
   ]
  },
  {
   "cell_type": "code",
   "execution_count": 64,
   "id": "6f17b9c0-ed87-49b6-897e-03d17e19c40f",
   "metadata": {},
   "outputs": [],
   "source": [
    "savename = os.path.join(os.getcwd(),'test2.npy')\n",
    "np.save(savename, gram_numpy)"
   ]
  },
  {
   "cell_type": "code",
   "execution_count": 25,
   "id": "e57f0a98-662c-4a1e-8901-9fbd35a977d1",
   "metadata": {},
   "outputs": [
    {
     "data": {
      "text/plain": [
       "<model_spatial.Model at 0x7f9fc6b800f0>"
      ]
     },
     "execution_count": 25,
     "metadata": {},
     "output_type": "execute_result"
    }
   ],
   "source": [
    "\n",
    "\n",
    "def gram_matrix_spatweighted(activations: torch.Tensor, spatial_weights: torch.Tensor = None, do_sqrt=True) -> torch.Tensor:\n",
    "    b, n, x, y = activations.size()\n",
    "    # print((b,n,x,y))\n",
    "    activation_matrix = activations.view(b * n, x * y)\n",
    "    \n",
    "    if do_sqrt:\n",
    "        # print('doing sqrt')\n",
    "        activation_matrix_weighted = activation_matrix * torch.sqrt(spatial_weights[None,:])\n",
    "    else:\n",
    "        # print('skipping sqrt')\n",
    "        activation_matrix_weighted = activation_matrix * spatial_weights[None,:]\n",
    "    \n",
    "    G = torch.mm(activation_matrix_weighted, activation_matrix_weighted.t())    # gram product\n",
    "    return G.div(b * n * x * y)     # normalization\n",
    "\n",
    "\n",
    "class Model:\n",
    "    def __init__(\n",
    "        self, path: str, device: torch.device, target_image: torch.Tensor,\n",
    "        important_layers: List[str] = [\n",
    "            'relu1_1', 'pool1', 'pool2', 'pool3', 'pool4'\n",
    "        ],\n",
    "        spatial_weights_list: List[torch.Tensor] = None,\n",
    "        do_sqrt=True, \n",
    "    ):\n",
    "        self.net = utilities.load_model(path).to(device).eval()\n",
    "        self.device = device\n",
    "        self.target_image = target_image.to(device)\n",
    "        self.layer_weights = layer_weights\n",
    "        self.important_layers = important_layers\n",
    "        self.do_sqrt=do_sqrt\n",
    "        # print(self.important_layers)\n",
    "        \n",
    "        self.spatial_weights_list = [torch.Tensor(sw).to(self.device) for sw in spatial_weights_list]\n",
    "        if self.spatial_weights_list is not None:\n",
    "            self.n_total_grid = self.spatial_weights_list[0].shape[0]\n",
    "            assert(len(self.spatial_weights_list)==len(self.important_layers))\n",
    "            \n",
    "        # extract Gram matrices of the target image\n",
    "        \n",
    "        gram_hook = GramHook(self.spatial_weights_list, do_sqrt = self.do_sqrt)\n",
    "        gram_hook_handles = []\n",
    "        \n",
    "        for name, layer in self.net.named_children():\n",
    "            if name in self.important_layers:\n",
    "               \n",
    "                handle = layer.register_forward_hook(gram_hook)\n",
    "                gram_hook_handles.append(handle)\n",
    "            \n",
    "        self.net(self.target_image)\n",
    "\n",
    "        # print('gram matrices:')\n",
    "        # print(len(gram_hook.gram_matrices), [gm.shape for gm in gram_hook.gram_matrices])\n",
    "        # register Gram loss hook\n",
    "        self.gram_loss_hook = GramLossHook(\n",
    "            gram_hook.gram_matrices, self.layer_weights, \\\n",
    "            self.important_layers, self.spatial_weights_list, do_sqrt = self.do_sqrt\n",
    "        )\n",
    "        # print('sizes of gram matrices')\n",
    "        # for ii, mat in enumerate(gram_hook.gram_matrices):\n",
    "        #     print(ii, mat.shape)\n",
    "        for handle in gram_hook_handles:    # Gram hook is not needed anymore\n",
    "            handle.remove()\n",
    "\n",
    "        for name, layer in self.net.named_children():\n",
    "            if name in self.important_layers:\n",
    "                # print('adding loss hook for %s'%name)\n",
    "                handle = layer.register_forward_hook(self.gram_loss_hook)\n",
    "\n",
    "        # print([name for [name, l] in self.net.named_children()])\n",
    "        # remove unnecessary layers\n",
    "        i = 0\n",
    "        for name, layer in self.net.named_children():\n",
    "            if name == important_layers[-1]:\n",
    "                break\n",
    "            i += 1\n",
    "        self.net = self.net[:(i + 1)]\n",
    "        # print([name for [name, l] in self.net.named_children()])\n",
    "        \n",
    "    def __call__(self, image: torch.Tensor) -> torch.Tensor:\n",
    "        self.gram_loss_hook.clear()\n",
    "\n",
    "        return self.net(image)\n",
    "\n",
    "    def get_loss(self) -> torch.Tensor:\n",
    "        # return sum(self.gram_loss_hook.losses)\n",
    "        return torch.stack(self.gram_loss_hook.losses, dim=0).sum(dim=0)\n",
    "\n",
    "    \n",
    "class GramHook:\n",
    "    def __init__(self, \n",
    "                 spatial_weights_list: List[torch.Tensor],\n",
    "                 do_sqrt=True):\n",
    "        self.gram_matrices = []\n",
    "        self.spatial_weights_list = spatial_weights_list\n",
    "        self.layer_counter = -1;\n",
    "        self.do_sqrt=do_sqrt\n",
    "        \n",
    "    def __call__(\n",
    "        self, layer: torch.nn.Module, layer_in: Tuple[torch.Tensor],\n",
    "        layer_out: torch.Tensor\n",
    "    ):\n",
    "        self.layer_counter+=1\n",
    "        ll = self.layer_counter\n",
    "        n_grid_total = self.spatial_weights_list[0].shape[0]\n",
    "        for gg in range(n_grid_total):\n",
    "            spatial_weights = self.spatial_weights_list[ll][gg,:]\n",
    "            # print('size of spatial weights:')\n",
    "            # print(spatial_weights.shape)\n",
    "            gram_matrix = gram_matrix_spatweighted(layer_out.detach(), spatial_weights, self.do_sqrt)\n",
    "            # print('size of gram matrix:')\n",
    "            # print(gram_matrix.shape)\n",
    "            self.gram_matrices.append(gram_matrix)\n",
    "\n",
    "class GramLossHook:\n",
    "    def __init__(\n",
    "        self, target_gram_matrices: List[torch.Tensor],\n",
    "        layer_weights: List[float], layer_names: List[str],\n",
    "        spatial_weights_list: List[torch.Tensor],\n",
    "        do_sqrt=True, \n",
    "    ):\n",
    "        self.target_gram_matrices = target_gram_matrices\n",
    "        self.layer_weights = [\n",
    "            weight * (1.0 / 4.0) for weight in layer_weights\n",
    "        ]\n",
    "        self.layer_names = layer_names\n",
    "        self.losses: List[torch.Tensor] = []\n",
    "        self.spatial_weights_list = spatial_weights_list\n",
    "        self.layer_counter = -1;\n",
    "        self.do_sqrt=do_sqrt\n",
    "        \n",
    "    def __call__(\n",
    "        self, layer: torch.nn.Module, layer_in: Tuple[torch.Tensor],\n",
    "        layer_out: torch.Tensor\n",
    "    ):\n",
    "        self.layer_counter+=1\n",
    "        ll = self.layer_counter\n",
    "        # print('layer_counter = %d'%self.layer_counter)\n",
    "        assert ll < len(self.layer_weights)\n",
    "        assert ll < len(self.target_gram_matrices)\n",
    "        assert not torch.isnan(layer_out).any()\n",
    "\n",
    "        n_grid_total = self.spatial_weights_list[0].shape[0]\n",
    "        for gg in range(n_grid_total):\n",
    "            # print('len of layer_names: %d'%len(self.layer_names))\n",
    "            \n",
    "            tt = ll * n_grid_total + gg\n",
    "            # print(ll, gg, tt)\n",
    "            opt_gram_matrix = gram_matrix_spatweighted(layer_out, \n",
    "                                                       self.spatial_weights_list[ll][gg,:],\n",
    "                                                       self.do_sqrt)\n",
    "            \n",
    "            # print(opt_gram_matrix.shape)\n",
    "            # print(self.target_gram_matrices[tt].shape)\n",
    "            loss = self.layer_weights[ll] * (\n",
    "                (opt_gram_matrix - self.target_gram_matrices[tt])**2\n",
    "            ).sum()\n",
    "            # print(tt, len(self.losses), loss)\n",
    "            self.losses.append(loss)\n",
    "\n",
    "    def clear(self):\n",
    "        self.losses = []\n",
    "        self.layer_counter=-1"
   ]
  }
 ],
 "metadata": {
  "kernelspec": {
   "display_name": "Python 3",
   "language": "python",
   "name": "python3"
  },
  "language_info": {
   "codemirror_mode": {
    "name": "ipython",
    "version": 3
   },
   "file_extension": ".py",
   "mimetype": "text/x-python",
   "name": "python",
   "nbconvert_exporter": "python",
   "pygments_lexer": "ipython3",
   "version": "3.7.1"
  }
 },
 "nbformat": 4,
 "nbformat_minor": 5
}
