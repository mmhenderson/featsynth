{
 "cells": [
  {
   "cell_type": "code",
   "execution_count": 3,
   "id": "bad11b62-3e40-4712-b077-a2557096ea1d",
   "metadata": {},
   "outputs": [],
   "source": [
    "import os, sys\n",
    "import numpy as np\n",
    "import pandas as pd\n",
    "\n",
    "things_root = '/user_data/mmhender/stimuli/things/'\n",
    "project_root = '/user_data/mmhender/featsynth/'\n",
    "\n",
    "sys.path.append(project_root)\n",
    "\n",
    "from code_utils import dropbox_utils, expt_utils\n",
    "token_path = os.path.join(project_root, 'tokens/dbx_token.txt')\n",
    "dbx = dropbox_utils.init_dropbox(token_path)\n",
    "\n",
    "expt_name = 'pilot2'"
   ]
  },
  {
   "cell_type": "code",
   "execution_count": 4,
   "id": "342252ae-200e-455c-88a4-ad05510bc4b2",
   "metadata": {},
   "outputs": [
    {
     "data": {
      "text/plain": [
       "<dropbox.dropbox_client.Dropbox at 0x7f2a7428deb8>"
      ]
     },
     "execution_count": 4,
     "metadata": {},
     "output_type": "execute_result"
    }
   ],
   "source": [
    "dbx"
   ]
  },
  {
   "cell_type": "code",
   "execution_count": 19,
   "id": "fae5c80e-50c1-4fad-9050-9b92963b3cf2",
   "metadata": {},
   "outputs": [],
   "source": [
    "rndseed = None\n",
    "\n",
    "# def make_trial_info(rndseed = None):\n",
    "\n",
    "# decide which images we will use\n",
    "categ_sets, concept_sets, image_name_sets = choose_image_subsets()\n",
    "n_counterbalance_conds = len(categ_sets)\n",
    "\n",
    "# figure out trial conditions/counts\n",
    "n_categ_use = len(categ_sets[0])\n",
    "n_concepts_use = len(concept_sets[0][0])\n",
    "n_ex_use = len(image_name_sets[0][0][0])\n",
    "\n",
    "# image types are original or \"synth\" from different DNN layers\n",
    "n_layers=4\n",
    "n_image_types = n_layers+1 \n",
    "\n",
    "cue_levels = ['basic', 'super']\n",
    "n_cue_levels = len(cue_levels); # basic or superordinate\n",
    "\n",
    "n_trials_per_concept = n_image_types * n_cue_levels\n",
    "assert(n_trials_per_concept==n_ex_use)\n",
    "\n",
    "n_trials_total = n_categ_use * n_concepts_use * n_trials_per_concept\n",
    "\n",
    "n_runs = 10;\n",
    "assert(np.mod(n_trials_total, n_runs)==0)\n",
    "n_trials_per_run = int(n_trials_total/n_runs);"
   ]
  },
  {
   "cell_type": "code",
   "execution_count": 17,
   "id": "cabcfc9e-23d2-46fa-9fff-8340a716fea9",
   "metadata": {},
   "outputs": [
    {
     "data": {
      "text/plain": [
       "100"
      ]
     },
     "execution_count": 17,
     "metadata": {},
     "output_type": "execute_result"
    }
   ],
   "source": [
    "n_trials_per_run"
   ]
  },
  {
   "cell_type": "code",
   "execution_count": 20,
   "id": "36e3e4c2-f6a6-40d7-a244-87d2562f17eb",
   "metadata": {},
   "outputs": [],
   "source": [
    "stimuli_folder = 'images_v1'\n"
   ]
  },
  {
   "cell_type": "code",
   "execution_count": 217,
   "id": "1aabf99d-daad-4981-a69c-da445bfaf123",
   "metadata": {},
   "outputs": [
    {
     "name": "stdout",
     "output_type": "stream",
     "text": [
      "making trial info for counterbalance cond 0 of 2\n",
      "['bird', 'drink', 'fruit', 'body_part', 'home_decor', 'medical_equipment', 'weapon', 'vehicle', 'electronic_device', 'sports_equipment']\n",
      "proc trial 0 of 1000\n",
      "proc trial 100 of 1000\n",
      "proc trial 200 of 1000\n",
      "proc trial 300 of 1000\n",
      "proc trial 400 of 1000\n",
      "proc trial 500 of 1000\n",
      "proc trial 600 of 1000\n",
      "proc trial 700 of 1000\n",
      "proc trial 800 of 1000\n",
      "proc trial 900 of 1000\n"
     ]
    }
   ],
   "source": [
    "rndseed = 567677\n",
    "np.random.seed(rndseed)\n",
    "\n",
    "cb = 0;\n",
    "\n",
    "# for cb in range(n_counterbalance_conds):\n",
    "\n",
    "print('making trial info for counterbalance cond %d of %d'%(cb, n_counterbalance_conds))\n",
    "\n",
    "categ_use = categ_sets[cb]\n",
    "print(categ_use)\n",
    "concepts_use = concept_sets[cb]\n",
    "image_names_use = image_name_sets[cb]\n",
    "\n",
    "trial_info = pd.DataFrame({'trial_num_overall': np.zeros((n_trials_total,)), \n",
    "                           'categ_ind': np.zeros((n_trials_total,)),\n",
    "                          'concept_ind': np.zeros((n_trials_total,)),\n",
    "                          'super_name': np.zeros((n_trials_total,)),\n",
    "                          'basic_name': np.zeros((n_trials_total,)),\n",
    "                          'ex_num': np.zeros((n_trials_total,)),\n",
    "                          'image_type_num': np.zeros((n_trials_total,)),\n",
    "                          'image_type': np.zeros((n_trials_total,)),\n",
    "                          'image_name': np.zeros((n_trials_total,)),\n",
    "                          'dropbox_url': np.zeros((n_trials_total,)),\n",
    "                          'target_present': np.zeros((n_trials_total,)),\n",
    "                          'cue_level_num': np.zeros((n_trials_total,)),\n",
    "                          'cue_level': np.zeros((n_trials_total,)),\n",
    "                          'cue_name': np.zeros((n_trials_total,)),\n",
    "                          })\n",
    "\n",
    "image_type_names = ['orig', 'pool1','pool2','pool3','pool4']\n",
    "\n",
    "tt=-1\n",
    "for ca in range(n_categ_use):\n",
    "    \n",
    "    xx = -1\n",
    "    \n",
    "    for co in range(n_concepts_use):\n",
    "\n",
    "        ex = -1\n",
    "        \n",
    "        for typ in range(n_image_types):\n",
    "            for cue in range(n_cue_levels):\n",
    "\n",
    "                tt+=1\n",
    "                if np.mod(tt,100)==0:\n",
    "                    print('proc trial %d of %d'%(tt, n_trials_total))\n",
    "\n",
    "                trial_info['trial_num_overall'].iloc[tt] = tt\n",
    "                trial_info['categ_ind'].iloc[tt] = ca\n",
    "                trial_info['concept_ind'].iloc[tt] = co\n",
    "                trial_info['super_name'].iloc[tt] = categ_use[ca]\n",
    "                trial_info['basic_name'].iloc[tt] = concepts_use[ca][co]\n",
    "\n",
    "                trial_info['image_type_num'].iloc[tt] = typ\n",
    "                trial_info['image_type'].iloc[tt] = image_type_names[typ]\n",
    "                trial_info['cue_level_num'].iloc[tt] = cue\n",
    "                trial_info['cue_level'].iloc[tt] = cue_levels[cue]\n",
    "\n",
    "                ex += 1\n",
    "                trial_info['ex_num'].iloc[tt] = ex\n",
    "\n",
    "                name_raw = image_names_use[ca][co][ex].split('.jpg')[0]\n",
    "\n",
    "                if image_type_names[typ]=='orig':\n",
    "\n",
    "                    trial_info['image_name'].iloc[tt] = os.path.join(name_raw, 'orig.png')\n",
    "                    dbxpath = os.path.join(stimuli_folder, name_raw, 'orig.png')\n",
    "\n",
    "                else:\n",
    "\n",
    "                    trial_info['image_name'].iloc[tt] = os.path.join(name_raw, \\\n",
    "                                                                     'grid5_1x1_upto_%s.png'%\\\n",
    "                                                                     (image_type_names[typ]))\n",
    "                    dbxpath = os.path.join(stimuli_folder,name_raw,\\\n",
    "                                           'grid5_1x1_upto_%s.png'%image_type_names[typ])\n",
    "\n",
    "                # print(dbxpath)\n",
    "                # trial_info['dropbox_url'].iloc[tt] = dropbox_utils.get_shared_url(dbxpath, dbx)\n",
    "                \n",
    "                xx += 1;\n",
    "                # print(ex, xx, np.floor(xx/2))\n",
    "                   \n",
    "                # determining the target present-absent based on which concept it is\n",
    "                # (this is not perfectly counter-balanced, but is balanced across all concepts)\n",
    "                # if np.mod(co,2)==0:\n",
    "                if np.mod(np.floor(xx/2),2)==0:\n",
    "                    trial_info['target_present'].iloc[tt] = (cue==0)\n",
    "                else:\n",
    "                    trial_info['target_present'].iloc[tt] = (cue==1)\n",
    "                    \n",
    "        if np.mod(co,2)==1:\n",
    "            xx = -1     \n",
    "            "
   ]
  },
  {
   "cell_type": "code",
   "execution_count": 273,
   "id": "c3f55928-7a78-4728-b465-6649d2188296",
   "metadata": {},
   "outputs": [],
   "source": [
    "n_concepts_use = 10;\n",
    "n_trials_per_concept = 8;\n",
    "n_trials_each_categ = n_concepts_use*n_trials_per_concept\n",
    "\n",
    "n_image_types = 5;\n",
    "n_resp_types = 4;\n",
    "\n",
    "n_trials_per_resp_type = int(n_trials_each_categ/n_resp_types)\n",
    "n_trials_per_image_type = int(n_trials_each_categ/n_image_types)"
   ]
  },
  {
   "cell_type": "code",
   "execution_count": 276,
   "id": "935ffe68-0b8c-47d3-8ff7-32acc6e0f86d",
   "metadata": {},
   "outputs": [
    {
     "data": {
      "text/plain": [
       "20"
      ]
     },
     "execution_count": 276,
     "metadata": {},
     "output_type": "execute_result"
    }
   ],
   "source": [
    "n_trials_per_resp_type"
   ]
  },
  {
   "cell_type": "code",
   "execution_count": 248,
   "id": "dc496c89-b8e1-4652-866c-f4c11501708e",
   "metadata": {},
   "outputs": [
    {
     "data": {
      "text/plain": [
       "80"
      ]
     },
     "execution_count": 248,
     "metadata": {},
     "output_type": "execute_result"
    }
   ],
   "source": [
    "n_trials"
   ]
  },
  {
   "cell_type": "code",
   "execution_count": 263,
   "id": "95911ef3-644d-4d3f-9a1c-b7e3a10915c1",
   "metadata": {},
   "outputs": [
    {
     "data": {
      "text/plain": [
       "(80, 3)"
      ]
     },
     "execution_count": 263,
     "metadata": {},
     "output_type": "execute_result"
    }
   ],
   "source": [
    "conc_inds = np.tile(np.arange(n_concepts_use), n_trials_per_concept)[:,None]\n",
    "resp_type_inds = np.repeat(np.arange(n_resp_types), n_trials_per_resp_type)[:,None]\n",
    "image_type_inds = np.repeat(np.arange(n_image_types), n_trials_per_image_type)[:,None]\n",
    "\n",
    "seq = np.concatenate([conc_inds, resp_type_inds, image_type_inds], axis=1)\n",
    "seq.shape"
   ]
  },
  {
   "cell_type": "code",
   "execution_count": 282,
   "id": "d0674a1e-c736-440d-9530-78381b9d47cf",
   "metadata": {},
   "outputs": [
    {
     "data": {
      "text/plain": [
       "(40, 2)"
      ]
     },
     "execution_count": 282,
     "metadata": {},
     "output_type": "execute_result"
    }
   ],
   "source": [
    "np.unique(seq[:,0:2], axis=0).shape"
   ]
  },
  {
   "cell_type": "code",
   "execution_count": 288,
   "id": "a8c386bb-ea32-4636-8e8e-10e1e08f1b9d",
   "metadata": {},
   "outputs": [
    {
     "data": {
      "text/plain": [
       "array([2, 2, 2, 2, 2, 2, 2, 2, 2, 2, 2, 2, 2, 2, 2, 2, 2, 2, 2, 2, 2, 2,\n",
       "       2, 2, 2, 2, 2, 2, 2, 2, 2, 2, 2, 2, 2, 2, 2, 2, 2, 2])"
      ]
     },
     "execution_count": 288,
     "metadata": {},
     "output_type": "execute_result"
    }
   ],
   "source": [
    "un, counts = np.unique(seq[:,0:2], axis=0, return_counts=True)\n",
    "counts"
   ]
  },
  {
   "cell_type": "code",
   "execution_count": 289,
   "id": "5d918f5c-40d0-46e8-9532-03e3a9001836",
   "metadata": {},
   "outputs": [
    {
     "data": {
      "text/plain": [
       "array([16,  4, 12,  8,  8, 12,  4, 16])"
      ]
     },
     "execution_count": 289,
     "metadata": {},
     "output_type": "execute_result"
    }
   ],
   "source": [
    "un, counts = np.unique(seq[:,1:], axis=0, return_counts=True)\n",
    "counts"
   ]
  },
  {
   "cell_type": "code",
   "execution_count": 290,
   "id": "e78dfa4b-fc79-401b-8193-848be46847ef",
   "metadata": {},
   "outputs": [
    {
     "data": {
      "text/plain": [
       "array([[0, 0],\n",
       "       [0, 1],\n",
       "       [1, 1],\n",
       "       [1, 2],\n",
       "       [2, 2],\n",
       "       [2, 3],\n",
       "       [3, 3],\n",
       "       [3, 4]])"
      ]
     },
     "execution_count": 290,
     "metadata": {},
     "output_type": "execute_result"
    }
   ],
   "source": [
    "un"
   ]
  },
  {
   "cell_type": "code",
   "execution_count": 251,
   "id": "d417745a-186c-4159-bdcc-be0dbb286766",
   "metadata": {},
   "outputs": [
    {
     "data": {
      "text/plain": [
       "array([0, 1, 2, 3, 4, 0, 1, 2, 3, 4, 0, 1, 2, 3, 4, 0, 1, 2, 3, 4])"
      ]
     },
     "execution_count": 251,
     "metadata": {},
     "output_type": "execute_result"
    }
   ],
   "source": [
    "np.tile(np.arange(n_image_types), n_resp_types)"
   ]
  },
  {
   "cell_type": "code",
   "execution_count": 254,
   "id": "e3fe3dbe-ae3a-4f69-b589-f22c3fca5934",
   "metadata": {},
   "outputs": [
    {
     "data": {
      "text/plain": [
       "(80, 3)"
      ]
     },
     "execution_count": 254,
     "metadata": {},
     "output_type": "execute_result"
    }
   ],
   "source": [
    "np.shape(np.unique(seq, axis=1))"
   ]
  },
  {
   "cell_type": "code",
   "execution_count": 272,
   "id": "dfe3b062-1f39-4503-86d8-c115a2ce5e62",
   "metadata": {},
   "outputs": [
    {
     "data": {
      "text/plain": [
       "array([[9, 0, 0],\n",
       "       [9, 0, 1],\n",
       "       [9, 1, 1],\n",
       "       [9, 1, 2],\n",
       "       [9, 2, 3],\n",
       "       [9, 2, 3],\n",
       "       [9, 3, 4],\n",
       "       [9, 3, 4]])"
      ]
     },
     "execution_count": 272,
     "metadata": {},
     "output_type": "execute_result"
    }
   ],
   "source": [
    "seq[seq[:,0]==9,:]"
   ]
  },
  {
   "cell_type": "code",
   "execution_count": 218,
   "id": "2d4ad908-2c36-4cd7-9944-1679e1790cda",
   "metadata": {},
   "outputs": [
    {
     "data": {
      "text/html": [
       "<div>\n",
       "<style scoped>\n",
       "    .dataframe tbody tr th:only-of-type {\n",
       "        vertical-align: middle;\n",
       "    }\n",
       "\n",
       "    .dataframe tbody tr th {\n",
       "        vertical-align: top;\n",
       "    }\n",
       "\n",
       "    .dataframe thead th {\n",
       "        text-align: right;\n",
       "    }\n",
       "</style>\n",
       "<table border=\"1\" class=\"dataframe\">\n",
       "  <thead>\n",
       "    <tr style=\"text-align: right;\">\n",
       "      <th></th>\n",
       "      <th>trial_num_overall</th>\n",
       "      <th>categ_ind</th>\n",
       "      <th>concept_ind</th>\n",
       "      <th>super_name</th>\n",
       "      <th>basic_name</th>\n",
       "      <th>ex_num</th>\n",
       "      <th>image_type_num</th>\n",
       "      <th>image_type</th>\n",
       "      <th>image_name</th>\n",
       "      <th>dropbox_url</th>\n",
       "      <th>target_present</th>\n",
       "      <th>cue_level_num</th>\n",
       "      <th>cue_level</th>\n",
       "      <th>cue_name</th>\n",
       "    </tr>\n",
       "  </thead>\n",
       "  <tbody>\n",
       "    <tr>\n",
       "      <th>900</th>\n",
       "      <td>900.0</td>\n",
       "      <td>9.0</td>\n",
       "      <td>0.0</td>\n",
       "      <td>sports_equipment</td>\n",
       "      <td>rollerskate</td>\n",
       "      <td>0.0</td>\n",
       "      <td>0.0</td>\n",
       "      <td>orig</td>\n",
       "      <td>rollerskate_01b/orig.png</td>\n",
       "      <td>0.0</td>\n",
       "      <td>True</td>\n",
       "      <td>0.0</td>\n",
       "      <td>basic</td>\n",
       "      <td>0.0</td>\n",
       "    </tr>\n",
       "    <tr>\n",
       "      <th>901</th>\n",
       "      <td>901.0</td>\n",
       "      <td>9.0</td>\n",
       "      <td>0.0</td>\n",
       "      <td>sports_equipment</td>\n",
       "      <td>rollerskate</td>\n",
       "      <td>1.0</td>\n",
       "      <td>0.0</td>\n",
       "      <td>orig</td>\n",
       "      <td>rollerskate_02s/orig.png</td>\n",
       "      <td>0.0</td>\n",
       "      <td>False</td>\n",
       "      <td>1.0</td>\n",
       "      <td>super</td>\n",
       "      <td>0.0</td>\n",
       "    </tr>\n",
       "    <tr>\n",
       "      <th>902</th>\n",
       "      <td>902.0</td>\n",
       "      <td>9.0</td>\n",
       "      <td>0.0</td>\n",
       "      <td>sports_equipment</td>\n",
       "      <td>rollerskate</td>\n",
       "      <td>2.0</td>\n",
       "      <td>1.0</td>\n",
       "      <td>pool1</td>\n",
       "      <td>rollerskate_03s/grid5_1x1_upto_pool1.png</td>\n",
       "      <td>0.0</td>\n",
       "      <td>False</td>\n",
       "      <td>0.0</td>\n",
       "      <td>basic</td>\n",
       "      <td>0.0</td>\n",
       "    </tr>\n",
       "    <tr>\n",
       "      <th>903</th>\n",
       "      <td>903.0</td>\n",
       "      <td>9.0</td>\n",
       "      <td>0.0</td>\n",
       "      <td>sports_equipment</td>\n",
       "      <td>rollerskate</td>\n",
       "      <td>3.0</td>\n",
       "      <td>1.0</td>\n",
       "      <td>pool1</td>\n",
       "      <td>rollerskate_04s/grid5_1x1_upto_pool1.png</td>\n",
       "      <td>0.0</td>\n",
       "      <td>True</td>\n",
       "      <td>1.0</td>\n",
       "      <td>super</td>\n",
       "      <td>0.0</td>\n",
       "    </tr>\n",
       "    <tr>\n",
       "      <th>904</th>\n",
       "      <td>904.0</td>\n",
       "      <td>9.0</td>\n",
       "      <td>0.0</td>\n",
       "      <td>sports_equipment</td>\n",
       "      <td>rollerskate</td>\n",
       "      <td>4.0</td>\n",
       "      <td>2.0</td>\n",
       "      <td>pool2</td>\n",
       "      <td>rollerskate_05s/grid5_1x1_upto_pool2.png</td>\n",
       "      <td>0.0</td>\n",
       "      <td>True</td>\n",
       "      <td>0.0</td>\n",
       "      <td>basic</td>\n",
       "      <td>0.0</td>\n",
       "    </tr>\n",
       "    <tr>\n",
       "      <th>905</th>\n",
       "      <td>905.0</td>\n",
       "      <td>9.0</td>\n",
       "      <td>0.0</td>\n",
       "      <td>sports_equipment</td>\n",
       "      <td>rollerskate</td>\n",
       "      <td>5.0</td>\n",
       "      <td>2.0</td>\n",
       "      <td>pool2</td>\n",
       "      <td>rollerskate_06s/grid5_1x1_upto_pool2.png</td>\n",
       "      <td>0.0</td>\n",
       "      <td>False</td>\n",
       "      <td>1.0</td>\n",
       "      <td>super</td>\n",
       "      <td>0.0</td>\n",
       "    </tr>\n",
       "    <tr>\n",
       "      <th>906</th>\n",
       "      <td>906.0</td>\n",
       "      <td>9.0</td>\n",
       "      <td>0.0</td>\n",
       "      <td>sports_equipment</td>\n",
       "      <td>rollerskate</td>\n",
       "      <td>6.0</td>\n",
       "      <td>3.0</td>\n",
       "      <td>pool3</td>\n",
       "      <td>rollerskate_07s/grid5_1x1_upto_pool3.png</td>\n",
       "      <td>0.0</td>\n",
       "      <td>False</td>\n",
       "      <td>0.0</td>\n",
       "      <td>basic</td>\n",
       "      <td>0.0</td>\n",
       "    </tr>\n",
       "    <tr>\n",
       "      <th>907</th>\n",
       "      <td>907.0</td>\n",
       "      <td>9.0</td>\n",
       "      <td>0.0</td>\n",
       "      <td>sports_equipment</td>\n",
       "      <td>rollerskate</td>\n",
       "      <td>7.0</td>\n",
       "      <td>3.0</td>\n",
       "      <td>pool3</td>\n",
       "      <td>rollerskate_08s/grid5_1x1_upto_pool3.png</td>\n",
       "      <td>0.0</td>\n",
       "      <td>True</td>\n",
       "      <td>1.0</td>\n",
       "      <td>super</td>\n",
       "      <td>0.0</td>\n",
       "    </tr>\n",
       "    <tr>\n",
       "      <th>908</th>\n",
       "      <td>908.0</td>\n",
       "      <td>9.0</td>\n",
       "      <td>0.0</td>\n",
       "      <td>sports_equipment</td>\n",
       "      <td>rollerskate</td>\n",
       "      <td>8.0</td>\n",
       "      <td>4.0</td>\n",
       "      <td>pool4</td>\n",
       "      <td>rollerskate_09s/grid5_1x1_upto_pool4.png</td>\n",
       "      <td>0.0</td>\n",
       "      <td>True</td>\n",
       "      <td>0.0</td>\n",
       "      <td>basic</td>\n",
       "      <td>0.0</td>\n",
       "    </tr>\n",
       "    <tr>\n",
       "      <th>909</th>\n",
       "      <td>909.0</td>\n",
       "      <td>9.0</td>\n",
       "      <td>0.0</td>\n",
       "      <td>sports_equipment</td>\n",
       "      <td>rollerskate</td>\n",
       "      <td>9.0</td>\n",
       "      <td>4.0</td>\n",
       "      <td>pool4</td>\n",
       "      <td>rollerskate_10s/grid5_1x1_upto_pool4.png</td>\n",
       "      <td>0.0</td>\n",
       "      <td>False</td>\n",
       "      <td>1.0</td>\n",
       "      <td>super</td>\n",
       "      <td>0.0</td>\n",
       "    </tr>\n",
       "    <tr>\n",
       "      <th>910</th>\n",
       "      <td>910.0</td>\n",
       "      <td>9.0</td>\n",
       "      <td>1.0</td>\n",
       "      <td>sports_equipment</td>\n",
       "      <td>hockey_stick</td>\n",
       "      <td>0.0</td>\n",
       "      <td>0.0</td>\n",
       "      <td>orig</td>\n",
       "      <td>hockey_stick_01b/orig.png</td>\n",
       "      <td>0.0</td>\n",
       "      <td>False</td>\n",
       "      <td>0.0</td>\n",
       "      <td>basic</td>\n",
       "      <td>0.0</td>\n",
       "    </tr>\n",
       "    <tr>\n",
       "      <th>911</th>\n",
       "      <td>911.0</td>\n",
       "      <td>9.0</td>\n",
       "      <td>1.0</td>\n",
       "      <td>sports_equipment</td>\n",
       "      <td>hockey_stick</td>\n",
       "      <td>1.0</td>\n",
       "      <td>0.0</td>\n",
       "      <td>orig</td>\n",
       "      <td>hockey_stick_02s/orig.png</td>\n",
       "      <td>0.0</td>\n",
       "      <td>True</td>\n",
       "      <td>1.0</td>\n",
       "      <td>super</td>\n",
       "      <td>0.0</td>\n",
       "    </tr>\n",
       "    <tr>\n",
       "      <th>912</th>\n",
       "      <td>912.0</td>\n",
       "      <td>9.0</td>\n",
       "      <td>1.0</td>\n",
       "      <td>sports_equipment</td>\n",
       "      <td>hockey_stick</td>\n",
       "      <td>2.0</td>\n",
       "      <td>1.0</td>\n",
       "      <td>pool1</td>\n",
       "      <td>hockey_stick_03s/grid5_1x1_upto_pool1.png</td>\n",
       "      <td>0.0</td>\n",
       "      <td>True</td>\n",
       "      <td>0.0</td>\n",
       "      <td>basic</td>\n",
       "      <td>0.0</td>\n",
       "    </tr>\n",
       "    <tr>\n",
       "      <th>913</th>\n",
       "      <td>913.0</td>\n",
       "      <td>9.0</td>\n",
       "      <td>1.0</td>\n",
       "      <td>sports_equipment</td>\n",
       "      <td>hockey_stick</td>\n",
       "      <td>3.0</td>\n",
       "      <td>1.0</td>\n",
       "      <td>pool1</td>\n",
       "      <td>hockey_stick_04s/grid5_1x1_upto_pool1.png</td>\n",
       "      <td>0.0</td>\n",
       "      <td>False</td>\n",
       "      <td>1.0</td>\n",
       "      <td>super</td>\n",
       "      <td>0.0</td>\n",
       "    </tr>\n",
       "    <tr>\n",
       "      <th>914</th>\n",
       "      <td>914.0</td>\n",
       "      <td>9.0</td>\n",
       "      <td>1.0</td>\n",
       "      <td>sports_equipment</td>\n",
       "      <td>hockey_stick</td>\n",
       "      <td>4.0</td>\n",
       "      <td>2.0</td>\n",
       "      <td>pool2</td>\n",
       "      <td>hockey_stick_05s/grid5_1x1_upto_pool2.png</td>\n",
       "      <td>0.0</td>\n",
       "      <td>False</td>\n",
       "      <td>0.0</td>\n",
       "      <td>basic</td>\n",
       "      <td>0.0</td>\n",
       "    </tr>\n",
       "    <tr>\n",
       "      <th>915</th>\n",
       "      <td>915.0</td>\n",
       "      <td>9.0</td>\n",
       "      <td>1.0</td>\n",
       "      <td>sports_equipment</td>\n",
       "      <td>hockey_stick</td>\n",
       "      <td>5.0</td>\n",
       "      <td>2.0</td>\n",
       "      <td>pool2</td>\n",
       "      <td>hockey_stick_06s/grid5_1x1_upto_pool2.png</td>\n",
       "      <td>0.0</td>\n",
       "      <td>True</td>\n",
       "      <td>1.0</td>\n",
       "      <td>super</td>\n",
       "      <td>0.0</td>\n",
       "    </tr>\n",
       "    <tr>\n",
       "      <th>916</th>\n",
       "      <td>916.0</td>\n",
       "      <td>9.0</td>\n",
       "      <td>1.0</td>\n",
       "      <td>sports_equipment</td>\n",
       "      <td>hockey_stick</td>\n",
       "      <td>6.0</td>\n",
       "      <td>3.0</td>\n",
       "      <td>pool3</td>\n",
       "      <td>hockey_stick_07s/grid5_1x1_upto_pool3.png</td>\n",
       "      <td>0.0</td>\n",
       "      <td>True</td>\n",
       "      <td>0.0</td>\n",
       "      <td>basic</td>\n",
       "      <td>0.0</td>\n",
       "    </tr>\n",
       "    <tr>\n",
       "      <th>917</th>\n",
       "      <td>917.0</td>\n",
       "      <td>9.0</td>\n",
       "      <td>1.0</td>\n",
       "      <td>sports_equipment</td>\n",
       "      <td>hockey_stick</td>\n",
       "      <td>7.0</td>\n",
       "      <td>3.0</td>\n",
       "      <td>pool3</td>\n",
       "      <td>hockey_stick_08s/grid5_1x1_upto_pool3.png</td>\n",
       "      <td>0.0</td>\n",
       "      <td>False</td>\n",
       "      <td>1.0</td>\n",
       "      <td>super</td>\n",
       "      <td>0.0</td>\n",
       "    </tr>\n",
       "    <tr>\n",
       "      <th>918</th>\n",
       "      <td>918.0</td>\n",
       "      <td>9.0</td>\n",
       "      <td>1.0</td>\n",
       "      <td>sports_equipment</td>\n",
       "      <td>hockey_stick</td>\n",
       "      <td>8.0</td>\n",
       "      <td>4.0</td>\n",
       "      <td>pool4</td>\n",
       "      <td>hockey_stick_09s/grid5_1x1_upto_pool4.png</td>\n",
       "      <td>0.0</td>\n",
       "      <td>False</td>\n",
       "      <td>0.0</td>\n",
       "      <td>basic</td>\n",
       "      <td>0.0</td>\n",
       "    </tr>\n",
       "    <tr>\n",
       "      <th>919</th>\n",
       "      <td>919.0</td>\n",
       "      <td>9.0</td>\n",
       "      <td>1.0</td>\n",
       "      <td>sports_equipment</td>\n",
       "      <td>hockey_stick</td>\n",
       "      <td>9.0</td>\n",
       "      <td>4.0</td>\n",
       "      <td>pool4</td>\n",
       "      <td>hockey_stick_10s/grid5_1x1_upto_pool4.png</td>\n",
       "      <td>0.0</td>\n",
       "      <td>True</td>\n",
       "      <td>1.0</td>\n",
       "      <td>super</td>\n",
       "      <td>0.0</td>\n",
       "    </tr>\n",
       "  </tbody>\n",
       "</table>\n",
       "</div>"
      ],
      "text/plain": [
       "     trial_num_overall  categ_ind  concept_ind        super_name  \\\n",
       "900              900.0        9.0          0.0  sports_equipment   \n",
       "901              901.0        9.0          0.0  sports_equipment   \n",
       "902              902.0        9.0          0.0  sports_equipment   \n",
       "903              903.0        9.0          0.0  sports_equipment   \n",
       "904              904.0        9.0          0.0  sports_equipment   \n",
       "905              905.0        9.0          0.0  sports_equipment   \n",
       "906              906.0        9.0          0.0  sports_equipment   \n",
       "907              907.0        9.0          0.0  sports_equipment   \n",
       "908              908.0        9.0          0.0  sports_equipment   \n",
       "909              909.0        9.0          0.0  sports_equipment   \n",
       "910              910.0        9.0          1.0  sports_equipment   \n",
       "911              911.0        9.0          1.0  sports_equipment   \n",
       "912              912.0        9.0          1.0  sports_equipment   \n",
       "913              913.0        9.0          1.0  sports_equipment   \n",
       "914              914.0        9.0          1.0  sports_equipment   \n",
       "915              915.0        9.0          1.0  sports_equipment   \n",
       "916              916.0        9.0          1.0  sports_equipment   \n",
       "917              917.0        9.0          1.0  sports_equipment   \n",
       "918              918.0        9.0          1.0  sports_equipment   \n",
       "919              919.0        9.0          1.0  sports_equipment   \n",
       "\n",
       "       basic_name  ex_num  image_type_num image_type  \\\n",
       "900   rollerskate     0.0             0.0       orig   \n",
       "901   rollerskate     1.0             0.0       orig   \n",
       "902   rollerskate     2.0             1.0      pool1   \n",
       "903   rollerskate     3.0             1.0      pool1   \n",
       "904   rollerskate     4.0             2.0      pool2   \n",
       "905   rollerskate     5.0             2.0      pool2   \n",
       "906   rollerskate     6.0             3.0      pool3   \n",
       "907   rollerskate     7.0             3.0      pool3   \n",
       "908   rollerskate     8.0             4.0      pool4   \n",
       "909   rollerskate     9.0             4.0      pool4   \n",
       "910  hockey_stick     0.0             0.0       orig   \n",
       "911  hockey_stick     1.0             0.0       orig   \n",
       "912  hockey_stick     2.0             1.0      pool1   \n",
       "913  hockey_stick     3.0             1.0      pool1   \n",
       "914  hockey_stick     4.0             2.0      pool2   \n",
       "915  hockey_stick     5.0             2.0      pool2   \n",
       "916  hockey_stick     6.0             3.0      pool3   \n",
       "917  hockey_stick     7.0             3.0      pool3   \n",
       "918  hockey_stick     8.0             4.0      pool4   \n",
       "919  hockey_stick     9.0             4.0      pool4   \n",
       "\n",
       "                                    image_name  dropbox_url target_present  \\\n",
       "900                   rollerskate_01b/orig.png          0.0           True   \n",
       "901                   rollerskate_02s/orig.png          0.0          False   \n",
       "902   rollerskate_03s/grid5_1x1_upto_pool1.png          0.0          False   \n",
       "903   rollerskate_04s/grid5_1x1_upto_pool1.png          0.0           True   \n",
       "904   rollerskate_05s/grid5_1x1_upto_pool2.png          0.0           True   \n",
       "905   rollerskate_06s/grid5_1x1_upto_pool2.png          0.0          False   \n",
       "906   rollerskate_07s/grid5_1x1_upto_pool3.png          0.0          False   \n",
       "907   rollerskate_08s/grid5_1x1_upto_pool3.png          0.0           True   \n",
       "908   rollerskate_09s/grid5_1x1_upto_pool4.png          0.0           True   \n",
       "909   rollerskate_10s/grid5_1x1_upto_pool4.png          0.0          False   \n",
       "910                  hockey_stick_01b/orig.png          0.0          False   \n",
       "911                  hockey_stick_02s/orig.png          0.0           True   \n",
       "912  hockey_stick_03s/grid5_1x1_upto_pool1.png          0.0           True   \n",
       "913  hockey_stick_04s/grid5_1x1_upto_pool1.png          0.0          False   \n",
       "914  hockey_stick_05s/grid5_1x1_upto_pool2.png          0.0          False   \n",
       "915  hockey_stick_06s/grid5_1x1_upto_pool2.png          0.0           True   \n",
       "916  hockey_stick_07s/grid5_1x1_upto_pool3.png          0.0           True   \n",
       "917  hockey_stick_08s/grid5_1x1_upto_pool3.png          0.0          False   \n",
       "918  hockey_stick_09s/grid5_1x1_upto_pool4.png          0.0          False   \n",
       "919  hockey_stick_10s/grid5_1x1_upto_pool4.png          0.0           True   \n",
       "\n",
       "     cue_level_num cue_level  cue_name  \n",
       "900            0.0     basic       0.0  \n",
       "901            1.0     super       0.0  \n",
       "902            0.0     basic       0.0  \n",
       "903            1.0     super       0.0  \n",
       "904            0.0     basic       0.0  \n",
       "905            1.0     super       0.0  \n",
       "906            0.0     basic       0.0  \n",
       "907            1.0     super       0.0  \n",
       "908            0.0     basic       0.0  \n",
       "909            1.0     super       0.0  \n",
       "910            0.0     basic       0.0  \n",
       "911            1.0     super       0.0  \n",
       "912            0.0     basic       0.0  \n",
       "913            1.0     super       0.0  \n",
       "914            0.0     basic       0.0  \n",
       "915            1.0     super       0.0  \n",
       "916            0.0     basic       0.0  \n",
       "917            1.0     super       0.0  \n",
       "918            0.0     basic       0.0  \n",
       "919            1.0     super       0.0  "
      ]
     },
     "execution_count": 218,
     "metadata": {},
     "output_type": "execute_result"
    }
   ],
   "source": [
    "inds = (trial_info['super_name']=='sports_equipment') & \\\n",
    "        ((trial_info['basic_name']=='rollerskate') | (trial_info['basic_name']=='hockey_stick')) \n",
    "\n",
    "# inds = (trial_info['super_name']=='sports_equipment') & \\\n",
    "#         (trial_info['cue_level']=='basic') & \\\n",
    "#         (trial_info['image_type']=='orig')\n",
    "\n",
    "trial_info[inds]"
   ]
  },
  {
   "cell_type": "code",
   "execution_count": 222,
   "id": "67963c0e-4484-4c3d-a9e2-fa7ed7ce25db",
   "metadata": {},
   "outputs": [
    {
     "data": {
      "text/html": [
       "<div>\n",
       "<style scoped>\n",
       "    .dataframe tbody tr th:only-of-type {\n",
       "        vertical-align: middle;\n",
       "    }\n",
       "\n",
       "    .dataframe tbody tr th {\n",
       "        vertical-align: top;\n",
       "    }\n",
       "\n",
       "    .dataframe thead th {\n",
       "        text-align: right;\n",
       "    }\n",
       "</style>\n",
       "<table border=\"1\" class=\"dataframe\">\n",
       "  <thead>\n",
       "    <tr style=\"text-align: right;\">\n",
       "      <th></th>\n",
       "      <th>trial_num_overall</th>\n",
       "      <th>categ_ind</th>\n",
       "      <th>concept_ind</th>\n",
       "      <th>super_name</th>\n",
       "      <th>basic_name</th>\n",
       "      <th>ex_num</th>\n",
       "      <th>image_type_num</th>\n",
       "      <th>image_type</th>\n",
       "      <th>image_name</th>\n",
       "      <th>dropbox_url</th>\n",
       "      <th>target_present</th>\n",
       "      <th>cue_level_num</th>\n",
       "      <th>cue_level</th>\n",
       "      <th>cue_name</th>\n",
       "    </tr>\n",
       "  </thead>\n",
       "  <tbody>\n",
       "    <tr>\n",
       "      <th>902</th>\n",
       "      <td>902.0</td>\n",
       "      <td>9.0</td>\n",
       "      <td>0.0</td>\n",
       "      <td>sports_equipment</td>\n",
       "      <td>rollerskate</td>\n",
       "      <td>2.0</td>\n",
       "      <td>1.0</td>\n",
       "      <td>pool1</td>\n",
       "      <td>rollerskate_03s/grid5_1x1_upto_pool1.png</td>\n",
       "      <td>0.0</td>\n",
       "      <td>False</td>\n",
       "      <td>0.0</td>\n",
       "      <td>basic</td>\n",
       "      <td>0.0</td>\n",
       "    </tr>\n",
       "    <tr>\n",
       "      <th>906</th>\n",
       "      <td>906.0</td>\n",
       "      <td>9.0</td>\n",
       "      <td>0.0</td>\n",
       "      <td>sports_equipment</td>\n",
       "      <td>rollerskate</td>\n",
       "      <td>6.0</td>\n",
       "      <td>3.0</td>\n",
       "      <td>pool3</td>\n",
       "      <td>rollerskate_07s/grid5_1x1_upto_pool3.png</td>\n",
       "      <td>0.0</td>\n",
       "      <td>False</td>\n",
       "      <td>0.0</td>\n",
       "      <td>basic</td>\n",
       "      <td>0.0</td>\n",
       "    </tr>\n",
       "    <tr>\n",
       "      <th>910</th>\n",
       "      <td>910.0</td>\n",
       "      <td>9.0</td>\n",
       "      <td>1.0</td>\n",
       "      <td>sports_equipment</td>\n",
       "      <td>hockey_stick</td>\n",
       "      <td>0.0</td>\n",
       "      <td>0.0</td>\n",
       "      <td>orig</td>\n",
       "      <td>hockey_stick_01b/orig.png</td>\n",
       "      <td>0.0</td>\n",
       "      <td>False</td>\n",
       "      <td>0.0</td>\n",
       "      <td>basic</td>\n",
       "      <td>0.0</td>\n",
       "    </tr>\n",
       "    <tr>\n",
       "      <th>914</th>\n",
       "      <td>914.0</td>\n",
       "      <td>9.0</td>\n",
       "      <td>1.0</td>\n",
       "      <td>sports_equipment</td>\n",
       "      <td>hockey_stick</td>\n",
       "      <td>4.0</td>\n",
       "      <td>2.0</td>\n",
       "      <td>pool2</td>\n",
       "      <td>hockey_stick_05s/grid5_1x1_upto_pool2.png</td>\n",
       "      <td>0.0</td>\n",
       "      <td>False</td>\n",
       "      <td>0.0</td>\n",
       "      <td>basic</td>\n",
       "      <td>0.0</td>\n",
       "    </tr>\n",
       "    <tr>\n",
       "      <th>918</th>\n",
       "      <td>918.0</td>\n",
       "      <td>9.0</td>\n",
       "      <td>1.0</td>\n",
       "      <td>sports_equipment</td>\n",
       "      <td>hockey_stick</td>\n",
       "      <td>8.0</td>\n",
       "      <td>4.0</td>\n",
       "      <td>pool4</td>\n",
       "      <td>hockey_stick_09s/grid5_1x1_upto_pool4.png</td>\n",
       "      <td>0.0</td>\n",
       "      <td>False</td>\n",
       "      <td>0.0</td>\n",
       "      <td>basic</td>\n",
       "      <td>0.0</td>\n",
       "    </tr>\n",
       "    <tr>\n",
       "      <th>922</th>\n",
       "      <td>922.0</td>\n",
       "      <td>9.0</td>\n",
       "      <td>2.0</td>\n",
       "      <td>sports_equipment</td>\n",
       "      <td>iceskate</td>\n",
       "      <td>2.0</td>\n",
       "      <td>1.0</td>\n",
       "      <td>pool1</td>\n",
       "      <td>iceskate_03s/grid5_1x1_upto_pool1.png</td>\n",
       "      <td>0.0</td>\n",
       "      <td>False</td>\n",
       "      <td>0.0</td>\n",
       "      <td>basic</td>\n",
       "      <td>0.0</td>\n",
       "    </tr>\n",
       "    <tr>\n",
       "      <th>926</th>\n",
       "      <td>926.0</td>\n",
       "      <td>9.0</td>\n",
       "      <td>2.0</td>\n",
       "      <td>sports_equipment</td>\n",
       "      <td>iceskate</td>\n",
       "      <td>6.0</td>\n",
       "      <td>3.0</td>\n",
       "      <td>pool3</td>\n",
       "      <td>iceskate_07s/grid5_1x1_upto_pool3.png</td>\n",
       "      <td>0.0</td>\n",
       "      <td>False</td>\n",
       "      <td>0.0</td>\n",
       "      <td>basic</td>\n",
       "      <td>0.0</td>\n",
       "    </tr>\n",
       "    <tr>\n",
       "      <th>930</th>\n",
       "      <td>930.0</td>\n",
       "      <td>9.0</td>\n",
       "      <td>3.0</td>\n",
       "      <td>sports_equipment</td>\n",
       "      <td>cleat</td>\n",
       "      <td>0.0</td>\n",
       "      <td>0.0</td>\n",
       "      <td>orig</td>\n",
       "      <td>cleat_01b/orig.png</td>\n",
       "      <td>0.0</td>\n",
       "      <td>False</td>\n",
       "      <td>0.0</td>\n",
       "      <td>basic</td>\n",
       "      <td>0.0</td>\n",
       "    </tr>\n",
       "    <tr>\n",
       "      <th>934</th>\n",
       "      <td>934.0</td>\n",
       "      <td>9.0</td>\n",
       "      <td>3.0</td>\n",
       "      <td>sports_equipment</td>\n",
       "      <td>cleat</td>\n",
       "      <td>4.0</td>\n",
       "      <td>2.0</td>\n",
       "      <td>pool2</td>\n",
       "      <td>cleat_05s/grid5_1x1_upto_pool2.png</td>\n",
       "      <td>0.0</td>\n",
       "      <td>False</td>\n",
       "      <td>0.0</td>\n",
       "      <td>basic</td>\n",
       "      <td>0.0</td>\n",
       "    </tr>\n",
       "    <tr>\n",
       "      <th>938</th>\n",
       "      <td>938.0</td>\n",
       "      <td>9.0</td>\n",
       "      <td>3.0</td>\n",
       "      <td>sports_equipment</td>\n",
       "      <td>cleat</td>\n",
       "      <td>8.0</td>\n",
       "      <td>4.0</td>\n",
       "      <td>pool4</td>\n",
       "      <td>cleat_09s/grid5_1x1_upto_pool4.png</td>\n",
       "      <td>0.0</td>\n",
       "      <td>False</td>\n",
       "      <td>0.0</td>\n",
       "      <td>basic</td>\n",
       "      <td>0.0</td>\n",
       "    </tr>\n",
       "    <tr>\n",
       "      <th>942</th>\n",
       "      <td>942.0</td>\n",
       "      <td>9.0</td>\n",
       "      <td>4.0</td>\n",
       "      <td>sports_equipment</td>\n",
       "      <td>racket</td>\n",
       "      <td>2.0</td>\n",
       "      <td>1.0</td>\n",
       "      <td>pool1</td>\n",
       "      <td>racket_03s/grid5_1x1_upto_pool1.png</td>\n",
       "      <td>0.0</td>\n",
       "      <td>False</td>\n",
       "      <td>0.0</td>\n",
       "      <td>basic</td>\n",
       "      <td>0.0</td>\n",
       "    </tr>\n",
       "    <tr>\n",
       "      <th>946</th>\n",
       "      <td>946.0</td>\n",
       "      <td>9.0</td>\n",
       "      <td>4.0</td>\n",
       "      <td>sports_equipment</td>\n",
       "      <td>racket</td>\n",
       "      <td>6.0</td>\n",
       "      <td>3.0</td>\n",
       "      <td>pool3</td>\n",
       "      <td>racket_07s/grid5_1x1_upto_pool3.png</td>\n",
       "      <td>0.0</td>\n",
       "      <td>False</td>\n",
       "      <td>0.0</td>\n",
       "      <td>basic</td>\n",
       "      <td>0.0</td>\n",
       "    </tr>\n",
       "    <tr>\n",
       "      <th>950</th>\n",
       "      <td>950.0</td>\n",
       "      <td>9.0</td>\n",
       "      <td>5.0</td>\n",
       "      <td>sports_equipment</td>\n",
       "      <td>dartboard</td>\n",
       "      <td>0.0</td>\n",
       "      <td>0.0</td>\n",
       "      <td>orig</td>\n",
       "      <td>dartboard_01b/orig.png</td>\n",
       "      <td>0.0</td>\n",
       "      <td>False</td>\n",
       "      <td>0.0</td>\n",
       "      <td>basic</td>\n",
       "      <td>0.0</td>\n",
       "    </tr>\n",
       "    <tr>\n",
       "      <th>954</th>\n",
       "      <td>954.0</td>\n",
       "      <td>9.0</td>\n",
       "      <td>5.0</td>\n",
       "      <td>sports_equipment</td>\n",
       "      <td>dartboard</td>\n",
       "      <td>4.0</td>\n",
       "      <td>2.0</td>\n",
       "      <td>pool2</td>\n",
       "      <td>dartboard_05s/grid5_1x1_upto_pool2.png</td>\n",
       "      <td>0.0</td>\n",
       "      <td>False</td>\n",
       "      <td>0.0</td>\n",
       "      <td>basic</td>\n",
       "      <td>0.0</td>\n",
       "    </tr>\n",
       "    <tr>\n",
       "      <th>958</th>\n",
       "      <td>958.0</td>\n",
       "      <td>9.0</td>\n",
       "      <td>5.0</td>\n",
       "      <td>sports_equipment</td>\n",
       "      <td>dartboard</td>\n",
       "      <td>8.0</td>\n",
       "      <td>4.0</td>\n",
       "      <td>pool4</td>\n",
       "      <td>dartboard_09s/grid5_1x1_upto_pool4.png</td>\n",
       "      <td>0.0</td>\n",
       "      <td>False</td>\n",
       "      <td>0.0</td>\n",
       "      <td>basic</td>\n",
       "      <td>0.0</td>\n",
       "    </tr>\n",
       "    <tr>\n",
       "      <th>962</th>\n",
       "      <td>962.0</td>\n",
       "      <td>9.0</td>\n",
       "      <td>6.0</td>\n",
       "      <td>sports_equipment</td>\n",
       "      <td>rollerblade</td>\n",
       "      <td>2.0</td>\n",
       "      <td>1.0</td>\n",
       "      <td>pool1</td>\n",
       "      <td>rollerblade_03s/grid5_1x1_upto_pool1.png</td>\n",
       "      <td>0.0</td>\n",
       "      <td>False</td>\n",
       "      <td>0.0</td>\n",
       "      <td>basic</td>\n",
       "      <td>0.0</td>\n",
       "    </tr>\n",
       "    <tr>\n",
       "      <th>966</th>\n",
       "      <td>966.0</td>\n",
       "      <td>9.0</td>\n",
       "      <td>6.0</td>\n",
       "      <td>sports_equipment</td>\n",
       "      <td>rollerblade</td>\n",
       "      <td>6.0</td>\n",
       "      <td>3.0</td>\n",
       "      <td>pool3</td>\n",
       "      <td>rollerblade_07s/grid5_1x1_upto_pool3.png</td>\n",
       "      <td>0.0</td>\n",
       "      <td>False</td>\n",
       "      <td>0.0</td>\n",
       "      <td>basic</td>\n",
       "      <td>0.0</td>\n",
       "    </tr>\n",
       "    <tr>\n",
       "      <th>970</th>\n",
       "      <td>970.0</td>\n",
       "      <td>9.0</td>\n",
       "      <td>7.0</td>\n",
       "      <td>sports_equipment</td>\n",
       "      <td>boxing_gloves</td>\n",
       "      <td>0.0</td>\n",
       "      <td>0.0</td>\n",
       "      <td>orig</td>\n",
       "      <td>boxing_gloves_01b/orig.png</td>\n",
       "      <td>0.0</td>\n",
       "      <td>False</td>\n",
       "      <td>0.0</td>\n",
       "      <td>basic</td>\n",
       "      <td>0.0</td>\n",
       "    </tr>\n",
       "    <tr>\n",
       "      <th>974</th>\n",
       "      <td>974.0</td>\n",
       "      <td>9.0</td>\n",
       "      <td>7.0</td>\n",
       "      <td>sports_equipment</td>\n",
       "      <td>boxing_gloves</td>\n",
       "      <td>4.0</td>\n",
       "      <td>2.0</td>\n",
       "      <td>pool2</td>\n",
       "      <td>boxing_gloves_05s/grid5_1x1_upto_pool2.png</td>\n",
       "      <td>0.0</td>\n",
       "      <td>False</td>\n",
       "      <td>0.0</td>\n",
       "      <td>basic</td>\n",
       "      <td>0.0</td>\n",
       "    </tr>\n",
       "    <tr>\n",
       "      <th>978</th>\n",
       "      <td>978.0</td>\n",
       "      <td>9.0</td>\n",
       "      <td>7.0</td>\n",
       "      <td>sports_equipment</td>\n",
       "      <td>boxing_gloves</td>\n",
       "      <td>8.0</td>\n",
       "      <td>4.0</td>\n",
       "      <td>pool4</td>\n",
       "      <td>boxing_gloves_09s/grid5_1x1_upto_pool4.png</td>\n",
       "      <td>0.0</td>\n",
       "      <td>False</td>\n",
       "      <td>0.0</td>\n",
       "      <td>basic</td>\n",
       "      <td>0.0</td>\n",
       "    </tr>\n",
       "    <tr>\n",
       "      <th>982</th>\n",
       "      <td>982.0</td>\n",
       "      <td>9.0</td>\n",
       "      <td>8.0</td>\n",
       "      <td>sports_equipment</td>\n",
       "      <td>bobsled</td>\n",
       "      <td>2.0</td>\n",
       "      <td>1.0</td>\n",
       "      <td>pool1</td>\n",
       "      <td>bobsled_03s/grid5_1x1_upto_pool1.png</td>\n",
       "      <td>0.0</td>\n",
       "      <td>False</td>\n",
       "      <td>0.0</td>\n",
       "      <td>basic</td>\n",
       "      <td>0.0</td>\n",
       "    </tr>\n",
       "    <tr>\n",
       "      <th>986</th>\n",
       "      <td>986.0</td>\n",
       "      <td>9.0</td>\n",
       "      <td>8.0</td>\n",
       "      <td>sports_equipment</td>\n",
       "      <td>bobsled</td>\n",
       "      <td>6.0</td>\n",
       "      <td>3.0</td>\n",
       "      <td>pool3</td>\n",
       "      <td>bobsled_07s/grid5_1x1_upto_pool3.png</td>\n",
       "      <td>0.0</td>\n",
       "      <td>False</td>\n",
       "      <td>0.0</td>\n",
       "      <td>basic</td>\n",
       "      <td>0.0</td>\n",
       "    </tr>\n",
       "    <tr>\n",
       "      <th>990</th>\n",
       "      <td>990.0</td>\n",
       "      <td>9.0</td>\n",
       "      <td>9.0</td>\n",
       "      <td>sports_equipment</td>\n",
       "      <td>trampoline</td>\n",
       "      <td>0.0</td>\n",
       "      <td>0.0</td>\n",
       "      <td>orig</td>\n",
       "      <td>trampoline_01b/orig.png</td>\n",
       "      <td>0.0</td>\n",
       "      <td>False</td>\n",
       "      <td>0.0</td>\n",
       "      <td>basic</td>\n",
       "      <td>0.0</td>\n",
       "    </tr>\n",
       "    <tr>\n",
       "      <th>994</th>\n",
       "      <td>994.0</td>\n",
       "      <td>9.0</td>\n",
       "      <td>9.0</td>\n",
       "      <td>sports_equipment</td>\n",
       "      <td>trampoline</td>\n",
       "      <td>4.0</td>\n",
       "      <td>2.0</td>\n",
       "      <td>pool2</td>\n",
       "      <td>trampoline_05s/grid5_1x1_upto_pool2.png</td>\n",
       "      <td>0.0</td>\n",
       "      <td>False</td>\n",
       "      <td>0.0</td>\n",
       "      <td>basic</td>\n",
       "      <td>0.0</td>\n",
       "    </tr>\n",
       "    <tr>\n",
       "      <th>998</th>\n",
       "      <td>998.0</td>\n",
       "      <td>9.0</td>\n",
       "      <td>9.0</td>\n",
       "      <td>sports_equipment</td>\n",
       "      <td>trampoline</td>\n",
       "      <td>8.0</td>\n",
       "      <td>4.0</td>\n",
       "      <td>pool4</td>\n",
       "      <td>trampoline_09s/grid5_1x1_upto_pool4.png</td>\n",
       "      <td>0.0</td>\n",
       "      <td>False</td>\n",
       "      <td>0.0</td>\n",
       "      <td>basic</td>\n",
       "      <td>0.0</td>\n",
       "    </tr>\n",
       "  </tbody>\n",
       "</table>\n",
       "</div>"
      ],
      "text/plain": [
       "     trial_num_overall  categ_ind  concept_ind        super_name  \\\n",
       "902              902.0        9.0          0.0  sports_equipment   \n",
       "906              906.0        9.0          0.0  sports_equipment   \n",
       "910              910.0        9.0          1.0  sports_equipment   \n",
       "914              914.0        9.0          1.0  sports_equipment   \n",
       "918              918.0        9.0          1.0  sports_equipment   \n",
       "922              922.0        9.0          2.0  sports_equipment   \n",
       "926              926.0        9.0          2.0  sports_equipment   \n",
       "930              930.0        9.0          3.0  sports_equipment   \n",
       "934              934.0        9.0          3.0  sports_equipment   \n",
       "938              938.0        9.0          3.0  sports_equipment   \n",
       "942              942.0        9.0          4.0  sports_equipment   \n",
       "946              946.0        9.0          4.0  sports_equipment   \n",
       "950              950.0        9.0          5.0  sports_equipment   \n",
       "954              954.0        9.0          5.0  sports_equipment   \n",
       "958              958.0        9.0          5.0  sports_equipment   \n",
       "962              962.0        9.0          6.0  sports_equipment   \n",
       "966              966.0        9.0          6.0  sports_equipment   \n",
       "970              970.0        9.0          7.0  sports_equipment   \n",
       "974              974.0        9.0          7.0  sports_equipment   \n",
       "978              978.0        9.0          7.0  sports_equipment   \n",
       "982              982.0        9.0          8.0  sports_equipment   \n",
       "986              986.0        9.0          8.0  sports_equipment   \n",
       "990              990.0        9.0          9.0  sports_equipment   \n",
       "994              994.0        9.0          9.0  sports_equipment   \n",
       "998              998.0        9.0          9.0  sports_equipment   \n",
       "\n",
       "        basic_name  ex_num  image_type_num image_type  \\\n",
       "902    rollerskate     2.0             1.0      pool1   \n",
       "906    rollerskate     6.0             3.0      pool3   \n",
       "910   hockey_stick     0.0             0.0       orig   \n",
       "914   hockey_stick     4.0             2.0      pool2   \n",
       "918   hockey_stick     8.0             4.0      pool4   \n",
       "922       iceskate     2.0             1.0      pool1   \n",
       "926       iceskate     6.0             3.0      pool3   \n",
       "930          cleat     0.0             0.0       orig   \n",
       "934          cleat     4.0             2.0      pool2   \n",
       "938          cleat     8.0             4.0      pool4   \n",
       "942         racket     2.0             1.0      pool1   \n",
       "946         racket     6.0             3.0      pool3   \n",
       "950      dartboard     0.0             0.0       orig   \n",
       "954      dartboard     4.0             2.0      pool2   \n",
       "958      dartboard     8.0             4.0      pool4   \n",
       "962    rollerblade     2.0             1.0      pool1   \n",
       "966    rollerblade     6.0             3.0      pool3   \n",
       "970  boxing_gloves     0.0             0.0       orig   \n",
       "974  boxing_gloves     4.0             2.0      pool2   \n",
       "978  boxing_gloves     8.0             4.0      pool4   \n",
       "982        bobsled     2.0             1.0      pool1   \n",
       "986        bobsled     6.0             3.0      pool3   \n",
       "990     trampoline     0.0             0.0       orig   \n",
       "994     trampoline     4.0             2.0      pool2   \n",
       "998     trampoline     8.0             4.0      pool4   \n",
       "\n",
       "                                     image_name  dropbox_url target_present  \\\n",
       "902    rollerskate_03s/grid5_1x1_upto_pool1.png          0.0          False   \n",
       "906    rollerskate_07s/grid5_1x1_upto_pool3.png          0.0          False   \n",
       "910                   hockey_stick_01b/orig.png          0.0          False   \n",
       "914   hockey_stick_05s/grid5_1x1_upto_pool2.png          0.0          False   \n",
       "918   hockey_stick_09s/grid5_1x1_upto_pool4.png          0.0          False   \n",
       "922       iceskate_03s/grid5_1x1_upto_pool1.png          0.0          False   \n",
       "926       iceskate_07s/grid5_1x1_upto_pool3.png          0.0          False   \n",
       "930                          cleat_01b/orig.png          0.0          False   \n",
       "934          cleat_05s/grid5_1x1_upto_pool2.png          0.0          False   \n",
       "938          cleat_09s/grid5_1x1_upto_pool4.png          0.0          False   \n",
       "942         racket_03s/grid5_1x1_upto_pool1.png          0.0          False   \n",
       "946         racket_07s/grid5_1x1_upto_pool3.png          0.0          False   \n",
       "950                      dartboard_01b/orig.png          0.0          False   \n",
       "954      dartboard_05s/grid5_1x1_upto_pool2.png          0.0          False   \n",
       "958      dartboard_09s/grid5_1x1_upto_pool4.png          0.0          False   \n",
       "962    rollerblade_03s/grid5_1x1_upto_pool1.png          0.0          False   \n",
       "966    rollerblade_07s/grid5_1x1_upto_pool3.png          0.0          False   \n",
       "970                  boxing_gloves_01b/orig.png          0.0          False   \n",
       "974  boxing_gloves_05s/grid5_1x1_upto_pool2.png          0.0          False   \n",
       "978  boxing_gloves_09s/grid5_1x1_upto_pool4.png          0.0          False   \n",
       "982        bobsled_03s/grid5_1x1_upto_pool1.png          0.0          False   \n",
       "986        bobsled_07s/grid5_1x1_upto_pool3.png          0.0          False   \n",
       "990                     trampoline_01b/orig.png          0.0          False   \n",
       "994     trampoline_05s/grid5_1x1_upto_pool2.png          0.0          False   \n",
       "998     trampoline_09s/grid5_1x1_upto_pool4.png          0.0          False   \n",
       "\n",
       "     cue_level_num cue_level  cue_name  \n",
       "902            0.0     basic       0.0  \n",
       "906            0.0     basic       0.0  \n",
       "910            0.0     basic       0.0  \n",
       "914            0.0     basic       0.0  \n",
       "918            0.0     basic       0.0  \n",
       "922            0.0     basic       0.0  \n",
       "926            0.0     basic       0.0  \n",
       "930            0.0     basic       0.0  \n",
       "934            0.0     basic       0.0  \n",
       "938            0.0     basic       0.0  \n",
       "942            0.0     basic       0.0  \n",
       "946            0.0     basic       0.0  \n",
       "950            0.0     basic       0.0  \n",
       "954            0.0     basic       0.0  \n",
       "958            0.0     basic       0.0  \n",
       "962            0.0     basic       0.0  \n",
       "966            0.0     basic       0.0  \n",
       "970            0.0     basic       0.0  \n",
       "974            0.0     basic       0.0  \n",
       "978            0.0     basic       0.0  \n",
       "982            0.0     basic       0.0  \n",
       "986            0.0     basic       0.0  \n",
       "990            0.0     basic       0.0  \n",
       "994            0.0     basic       0.0  \n",
       "998            0.0     basic       0.0  "
      ]
     },
     "execution_count": 222,
     "metadata": {},
     "output_type": "execute_result"
    }
   ],
   "source": [
    "# inds = (trial_info['super_name']=='sports_equipment') & \\\n",
    "#         (trial_info['basic_name']=='rollerskate')\n",
    "\n",
    "inds = (trial_info['super_name']=='sports_equipment') & \\\n",
    "        (trial_info['cue_level']=='basic') & \\\n",
    "        (trial_info['target_present']==False)\n",
    "\n",
    "trial_info[inds]"
   ]
  },
  {
   "cell_type": "code",
   "execution_count": 228,
   "id": "81b31b43-c7ee-4a2e-aa01-70b224a42552",
   "metadata": {},
   "outputs": [
    {
     "name": "stdout",
     "output_type": "stream",
     "text": [
      "prepping cue names\n",
      "[5 1 9 3 7]\n",
      "[6 4 2 8 0]\n",
      "[7 9 3 1 5]\n",
      "[4 6 8 2 0]\n",
      "[3 1 9 5 7]\n",
      "[5 9 7 3 1]\n",
      "[6 8 2 0 4]\n",
      "[7 5 1 9 3]\n",
      "[8 4 0 2 6]\n",
      "[3 7 9 5 1]\n",
      "[5 7 1 9 3]\n",
      "[4 8 6 0 2]\n",
      "[9 1 7 5 3]\n",
      "[6 8 0 2 4]\n",
      "[3 5 7 9 1]\n",
      "[9 7 1 3 5]\n",
      "[4 6 8 0 2]\n",
      "[5 7 3 9 1]\n",
      "[2 4 6 8 0]\n",
      "[3 7 9 5 1]\n",
      "[9 5 1 3 7]\n",
      "[8 0 6 2 4]\n",
      "[7 9 3 5 1]\n",
      "[2 8 6 4 0]\n",
      "[5 7 3 9 1]\n",
      "[7 9 3 1 5]\n",
      "[2 8 6 4 0]\n",
      "[3 7 9 1 5]\n",
      "[6 8 2 0 4]\n",
      "[3 5 1 9 7]\n",
      "[7 5 9 3 1]\n",
      "[8 4 0 2 6]\n",
      "[5 9 1 3 7]\n",
      "[6 0 8 4 2]\n",
      "[3 9 1 5 7]\n",
      "[7 1 9 3 5]\n",
      "[8 6 0 2 4]\n",
      "[3 7 9 1 5]\n",
      "[4 6 2 8 0]\n",
      "[3 1 9 5 7]\n",
      "[9 1 3 5 7]\n",
      "[4 6 8 0 2]\n",
      "[7 5 9 1 3]\n",
      "[8 6 2 0 4]\n",
      "[3 7 9 1 5]\n",
      "[9 5 3 1 7]\n",
      "[8 4 6 0 2]\n",
      "[5 7 1 9 3]\n",
      "[4 8 6 0 2]\n",
      "[9 1 3 5 7]\n"
     ]
    },
    {
     "name": "stderr",
     "output_type": "stream",
     "text": [
      "/home/mmhender/myenv/lib/python3.7/site-packages/ipykernel_launcher.py:6: SettingWithCopyWarning: \n",
      "A value is trying to be set on a copy of a slice from a DataFrame\n",
      "\n",
      "See the caveats in the documentation: https://pandas.pydata.org/pandas-docs/stable/user_guide/indexing.html#returning-a-view-versus-a-copy\n",
      "  \n"
     ]
    }
   ],
   "source": [
    "print('prepping cue names')\n",
    "# decide what name to use to \"cue\" each trial, based on which level they are being cued at\n",
    "# (these are all \"correct names\"; some of them get changed to incorrect in the next step)\n",
    "trial_info['cue_name'] = trial_info['super_name']\n",
    "trial_info['cue_name'][trial_info['cue_level']=='basic'] = \\\n",
    "    trial_info['basic_name'][trial_info['cue_level']=='basic']\n",
    "\n",
    "# Assign incorrect names to all the basic-level target-absent trials\n",
    "# always swapping basic-level names across trials with same superordinate \n",
    "# level name, and same in all other attributes\n",
    "lev = 'basic'\n",
    "\n",
    "for ca in range(n_categ_use):\n",
    "    for typ in range(n_image_types):\n",
    "\n",
    "        group = (trial_info['target_present']==False) & \\\n",
    "            (trial_info['categ_ind']==ca) & \\\n",
    "            (trial_info['cue_level']==lev) & \\\n",
    "            (trial_info['image_type_num']==typ) \n",
    "        \n",
    "            \n",
    "\n",
    "        actual_basic_inds = np.array(trial_info['concept_ind'][group])\n",
    "        actual_basic_names = np.array(trial_info['basic_name'][group])\n",
    "        # switch the names around pseudo-randomly, so they are \n",
    "        # always cued with the wrong name on these trials.\n",
    "        incorrect_basic_inds = shuffle_nosame(actual_basic_inds).astype(int)\n",
    "\n",
    "        print(incorrect_basic_inds)\n",
    "        # incorrect_basic_inds = expt_utils.swap_rand_pairs(actual_basic_inds).astype(int)\n",
    "\n",
    "        # trial_info['cue_name'].iloc[group] = actual_basic_names[incorrect_basic_inds]"
   ]
  },
  {
   "cell_type": "code",
   "execution_count": 226,
   "id": "374179a5-2186-4980-a0e8-4dbb3acc9cfb",
   "metadata": {},
   "outputs": [
    {
     "data": {
      "text/plain": [
       "array([1., 3., 5., 7., 9.])"
      ]
     },
     "execution_count": 226,
     "metadata": {},
     "output_type": "execute_result"
    }
   ],
   "source": [
    "actual_basic_inds"
   ]
  },
  {
   "cell_type": "code",
   "execution_count": 227,
   "id": "a29e38d6-a004-4567-be17-340e22a993d3",
   "metadata": {},
   "outputs": [
    {
     "data": {
      "text/plain": [
       "array([7, 1, 9, 3, 5])"
      ]
     },
     "execution_count": 227,
     "metadata": {},
     "output_type": "execute_result"
    }
   ],
   "source": [
    "incorrect_basic_inds"
   ]
  },
  {
   "cell_type": "code",
   "execution_count": 220,
   "id": "351bdc78-8cca-47e9-8667-9a12bdfa23a4",
   "metadata": {},
   "outputs": [
    {
     "data": {
      "text/html": [
       "<div>\n",
       "<style scoped>\n",
       "    .dataframe tbody tr th:only-of-type {\n",
       "        vertical-align: middle;\n",
       "    }\n",
       "\n",
       "    .dataframe tbody tr th {\n",
       "        vertical-align: top;\n",
       "    }\n",
       "\n",
       "    .dataframe thead th {\n",
       "        text-align: right;\n",
       "    }\n",
       "</style>\n",
       "<table border=\"1\" class=\"dataframe\">\n",
       "  <thead>\n",
       "    <tr style=\"text-align: right;\">\n",
       "      <th></th>\n",
       "      <th>trial_num_overall</th>\n",
       "      <th>categ_ind</th>\n",
       "      <th>concept_ind</th>\n",
       "      <th>super_name</th>\n",
       "      <th>basic_name</th>\n",
       "      <th>ex_num</th>\n",
       "      <th>image_type_num</th>\n",
       "      <th>image_type</th>\n",
       "      <th>image_name</th>\n",
       "      <th>dropbox_url</th>\n",
       "      <th>target_present</th>\n",
       "      <th>cue_level_num</th>\n",
       "      <th>cue_level</th>\n",
       "      <th>cue_name</th>\n",
       "    </tr>\n",
       "  </thead>\n",
       "  <tbody>\n",
       "    <tr>\n",
       "      <th>902</th>\n",
       "      <td>902.0</td>\n",
       "      <td>9.0</td>\n",
       "      <td>0.0</td>\n",
       "      <td>sports_equipment</td>\n",
       "      <td>rollerskate</td>\n",
       "      <td>2.0</td>\n",
       "      <td>1.0</td>\n",
       "      <td>pool1</td>\n",
       "      <td>rollerskate_03s/grid5_1x1_upto_pool1.png</td>\n",
       "      <td>0.0</td>\n",
       "      <td>False</td>\n",
       "      <td>0.0</td>\n",
       "      <td>basic</td>\n",
       "      <td>0.0</td>\n",
       "    </tr>\n",
       "    <tr>\n",
       "      <th>912</th>\n",
       "      <td>912.0</td>\n",
       "      <td>9.0</td>\n",
       "      <td>1.0</td>\n",
       "      <td>sports_equipment</td>\n",
       "      <td>hockey_stick</td>\n",
       "      <td>2.0</td>\n",
       "      <td>1.0</td>\n",
       "      <td>pool1</td>\n",
       "      <td>hockey_stick_03s/grid5_1x1_upto_pool1.png</td>\n",
       "      <td>0.0</td>\n",
       "      <td>True</td>\n",
       "      <td>0.0</td>\n",
       "      <td>basic</td>\n",
       "      <td>0.0</td>\n",
       "    </tr>\n",
       "    <tr>\n",
       "      <th>922</th>\n",
       "      <td>922.0</td>\n",
       "      <td>9.0</td>\n",
       "      <td>2.0</td>\n",
       "      <td>sports_equipment</td>\n",
       "      <td>iceskate</td>\n",
       "      <td>2.0</td>\n",
       "      <td>1.0</td>\n",
       "      <td>pool1</td>\n",
       "      <td>iceskate_03s/grid5_1x1_upto_pool1.png</td>\n",
       "      <td>0.0</td>\n",
       "      <td>False</td>\n",
       "      <td>0.0</td>\n",
       "      <td>basic</td>\n",
       "      <td>0.0</td>\n",
       "    </tr>\n",
       "    <tr>\n",
       "      <th>932</th>\n",
       "      <td>932.0</td>\n",
       "      <td>9.0</td>\n",
       "      <td>3.0</td>\n",
       "      <td>sports_equipment</td>\n",
       "      <td>cleat</td>\n",
       "      <td>2.0</td>\n",
       "      <td>1.0</td>\n",
       "      <td>pool1</td>\n",
       "      <td>cleat_03s/grid5_1x1_upto_pool1.png</td>\n",
       "      <td>0.0</td>\n",
       "      <td>True</td>\n",
       "      <td>0.0</td>\n",
       "      <td>basic</td>\n",
       "      <td>0.0</td>\n",
       "    </tr>\n",
       "    <tr>\n",
       "      <th>942</th>\n",
       "      <td>942.0</td>\n",
       "      <td>9.0</td>\n",
       "      <td>4.0</td>\n",
       "      <td>sports_equipment</td>\n",
       "      <td>racket</td>\n",
       "      <td>2.0</td>\n",
       "      <td>1.0</td>\n",
       "      <td>pool1</td>\n",
       "      <td>racket_03s/grid5_1x1_upto_pool1.png</td>\n",
       "      <td>0.0</td>\n",
       "      <td>False</td>\n",
       "      <td>0.0</td>\n",
       "      <td>basic</td>\n",
       "      <td>0.0</td>\n",
       "    </tr>\n",
       "    <tr>\n",
       "      <th>952</th>\n",
       "      <td>952.0</td>\n",
       "      <td>9.0</td>\n",
       "      <td>5.0</td>\n",
       "      <td>sports_equipment</td>\n",
       "      <td>dartboard</td>\n",
       "      <td>2.0</td>\n",
       "      <td>1.0</td>\n",
       "      <td>pool1</td>\n",
       "      <td>dartboard_03s/grid5_1x1_upto_pool1.png</td>\n",
       "      <td>0.0</td>\n",
       "      <td>True</td>\n",
       "      <td>0.0</td>\n",
       "      <td>basic</td>\n",
       "      <td>0.0</td>\n",
       "    </tr>\n",
       "    <tr>\n",
       "      <th>962</th>\n",
       "      <td>962.0</td>\n",
       "      <td>9.0</td>\n",
       "      <td>6.0</td>\n",
       "      <td>sports_equipment</td>\n",
       "      <td>rollerblade</td>\n",
       "      <td>2.0</td>\n",
       "      <td>1.0</td>\n",
       "      <td>pool1</td>\n",
       "      <td>rollerblade_03s/grid5_1x1_upto_pool1.png</td>\n",
       "      <td>0.0</td>\n",
       "      <td>False</td>\n",
       "      <td>0.0</td>\n",
       "      <td>basic</td>\n",
       "      <td>0.0</td>\n",
       "    </tr>\n",
       "    <tr>\n",
       "      <th>972</th>\n",
       "      <td>972.0</td>\n",
       "      <td>9.0</td>\n",
       "      <td>7.0</td>\n",
       "      <td>sports_equipment</td>\n",
       "      <td>boxing_gloves</td>\n",
       "      <td>2.0</td>\n",
       "      <td>1.0</td>\n",
       "      <td>pool1</td>\n",
       "      <td>boxing_gloves_03s/grid5_1x1_upto_pool1.png</td>\n",
       "      <td>0.0</td>\n",
       "      <td>True</td>\n",
       "      <td>0.0</td>\n",
       "      <td>basic</td>\n",
       "      <td>0.0</td>\n",
       "    </tr>\n",
       "    <tr>\n",
       "      <th>982</th>\n",
       "      <td>982.0</td>\n",
       "      <td>9.0</td>\n",
       "      <td>8.0</td>\n",
       "      <td>sports_equipment</td>\n",
       "      <td>bobsled</td>\n",
       "      <td>2.0</td>\n",
       "      <td>1.0</td>\n",
       "      <td>pool1</td>\n",
       "      <td>bobsled_03s/grid5_1x1_upto_pool1.png</td>\n",
       "      <td>0.0</td>\n",
       "      <td>False</td>\n",
       "      <td>0.0</td>\n",
       "      <td>basic</td>\n",
       "      <td>0.0</td>\n",
       "    </tr>\n",
       "    <tr>\n",
       "      <th>992</th>\n",
       "      <td>992.0</td>\n",
       "      <td>9.0</td>\n",
       "      <td>9.0</td>\n",
       "      <td>sports_equipment</td>\n",
       "      <td>trampoline</td>\n",
       "      <td>2.0</td>\n",
       "      <td>1.0</td>\n",
       "      <td>pool1</td>\n",
       "      <td>trampoline_03s/grid5_1x1_upto_pool1.png</td>\n",
       "      <td>0.0</td>\n",
       "      <td>True</td>\n",
       "      <td>0.0</td>\n",
       "      <td>basic</td>\n",
       "      <td>0.0</td>\n",
       "    </tr>\n",
       "  </tbody>\n",
       "</table>\n",
       "</div>"
      ],
      "text/plain": [
       "     trial_num_overall  categ_ind  concept_ind        super_name  \\\n",
       "902              902.0        9.0          0.0  sports_equipment   \n",
       "912              912.0        9.0          1.0  sports_equipment   \n",
       "922              922.0        9.0          2.0  sports_equipment   \n",
       "932              932.0        9.0          3.0  sports_equipment   \n",
       "942              942.0        9.0          4.0  sports_equipment   \n",
       "952              952.0        9.0          5.0  sports_equipment   \n",
       "962              962.0        9.0          6.0  sports_equipment   \n",
       "972              972.0        9.0          7.0  sports_equipment   \n",
       "982              982.0        9.0          8.0  sports_equipment   \n",
       "992              992.0        9.0          9.0  sports_equipment   \n",
       "\n",
       "        basic_name  ex_num  image_type_num image_type  \\\n",
       "902    rollerskate     2.0             1.0      pool1   \n",
       "912   hockey_stick     2.0             1.0      pool1   \n",
       "922       iceskate     2.0             1.0      pool1   \n",
       "932          cleat     2.0             1.0      pool1   \n",
       "942         racket     2.0             1.0      pool1   \n",
       "952      dartboard     2.0             1.0      pool1   \n",
       "962    rollerblade     2.0             1.0      pool1   \n",
       "972  boxing_gloves     2.0             1.0      pool1   \n",
       "982        bobsled     2.0             1.0      pool1   \n",
       "992     trampoline     2.0             1.0      pool1   \n",
       "\n",
       "                                     image_name  dropbox_url target_present  \\\n",
       "902    rollerskate_03s/grid5_1x1_upto_pool1.png          0.0          False   \n",
       "912   hockey_stick_03s/grid5_1x1_upto_pool1.png          0.0           True   \n",
       "922       iceskate_03s/grid5_1x1_upto_pool1.png          0.0          False   \n",
       "932          cleat_03s/grid5_1x1_upto_pool1.png          0.0           True   \n",
       "942         racket_03s/grid5_1x1_upto_pool1.png          0.0          False   \n",
       "952      dartboard_03s/grid5_1x1_upto_pool1.png          0.0           True   \n",
       "962    rollerblade_03s/grid5_1x1_upto_pool1.png          0.0          False   \n",
       "972  boxing_gloves_03s/grid5_1x1_upto_pool1.png          0.0           True   \n",
       "982        bobsled_03s/grid5_1x1_upto_pool1.png          0.0          False   \n",
       "992     trampoline_03s/grid5_1x1_upto_pool1.png          0.0           True   \n",
       "\n",
       "     cue_level_num cue_level  cue_name  \n",
       "902            0.0     basic       0.0  \n",
       "912            0.0     basic       0.0  \n",
       "922            0.0     basic       0.0  \n",
       "932            0.0     basic       0.0  \n",
       "942            0.0     basic       0.0  \n",
       "952            0.0     basic       0.0  \n",
       "962            0.0     basic       0.0  \n",
       "972            0.0     basic       0.0  \n",
       "982            0.0     basic       0.0  \n",
       "992            0.0     basic       0.0  "
      ]
     },
     "execution_count": 220,
     "metadata": {},
     "output_type": "execute_result"
    }
   ],
   "source": [
    "# inds = (trial_info['super_name']=='sports_equipment') & \\\n",
    "#         (trial_info['basic_name']=='rollerskate')\n",
    "\n",
    "inds = (trial_info['super_name']=='sports_equipment') & \\\n",
    "        (trial_info['cue_level']=='basic') & \\\n",
    "        (trial_info['image_type']=='pool1')\n",
    "\n",
    "trial_info[inds]"
   ]
  },
  {
   "cell_type": "code",
   "execution_count": null,
   "id": "a9b47274-4b8f-4fd4-9c71-5d696c4a41ed",
   "metadata": {},
   "outputs": [],
   "source": [
    "target_present_orders = np.zeros((n_trials_per_concept, n_concepts_use))\n",
    "# for co in range(n_concepts_use):\n",
    "for pp in range():\n",
    "    for xx in range(2):\n",
    "        target_present_orders["
   ]
  },
  {
   "cell_type": "code",
   "execution_count": 188,
   "id": "08c281d9-c6b9-49bf-82c6-e65e93e70a93",
   "metadata": {},
   "outputs": [],
   "source": [
    "from itertools import combinations"
   ]
  },
  {
   "cell_type": "code",
   "execution_count": 199,
   "id": "45adaf06-540e-455f-a75a-bab1c4bca2c7",
   "metadata": {},
   "outputs": [
    {
     "data": {
      "text/plain": [
       "[[()],\n",
       " [(0,), (1,), (2,), (3,), (4,)],\n",
       " [(0, 1),\n",
       "  (0, 2),\n",
       "  (0, 3),\n",
       "  (0, 4),\n",
       "  (1, 2),\n",
       "  (1, 3),\n",
       "  (1, 4),\n",
       "  (2, 3),\n",
       "  (2, 4),\n",
       "  (3, 4)],\n",
       " [(0, 1, 2),\n",
       "  (0, 1, 3),\n",
       "  (0, 1, 4),\n",
       "  (0, 2, 3),\n",
       "  (0, 2, 4),\n",
       "  (0, 3, 4),\n",
       "  (1, 2, 3),\n",
       "  (1, 2, 4),\n",
       "  (1, 3, 4),\n",
       "  (2, 3, 4)],\n",
       " [(0, 1, 2, 3), (0, 1, 2, 4), (0, 1, 3, 4), (0, 2, 3, 4), (1, 2, 3, 4)],\n",
       " [(0, 1, 2, 3, 4)]]"
      ]
     },
     "execution_count": 199,
     "metadata": {},
     "output_type": "execute_result"
    }
   ],
   "source": [
    "n_pairs = int(n_trials_per_concept/2)\n",
    "\n",
    "which_swap = [list(combinations(np.arange(n_pairs),n)) for n in range(n_pairs+1)]\n",
    "which_swap"
   ]
  },
  {
   "cell_type": "code",
   "execution_count": 200,
   "id": "fc4584cd-bec2-47ce-bdea-c4249f7e753c",
   "metadata": {},
   "outputs": [
    {
     "data": {
      "text/plain": [
       "32"
      ]
     },
     "execution_count": 200,
     "metadata": {},
     "output_type": "execute_result"
    }
   ],
   "source": [
    "np.sum([len(l) for l in which_swap])"
   ]
  },
  {
   "cell_type": "code",
   "execution_count": 201,
   "id": "a7ff771a-71b9-40e2-9b3a-a21e2f579c71",
   "metadata": {},
   "outputs": [
    {
     "data": {
      "text/plain": [
       "32"
      ]
     },
     "execution_count": 201,
     "metadata": {},
     "output_type": "execute_result"
    }
   ],
   "source": [
    "2**5"
   ]
  },
  {
   "cell_type": "code",
   "execution_count": 182,
   "id": "30c17992-307f-45f8-bd42-f316bc7e7a9f",
   "metadata": {},
   "outputs": [
    {
     "data": {
      "text/plain": [
       "10"
      ]
     },
     "execution_count": 182,
     "metadata": {},
     "output_type": "execute_result"
    }
   ],
   "source": [
    "n_concepts_use"
   ]
  },
  {
   "cell_type": "code",
   "execution_count": 171,
   "id": "3017ead8-9d42-48f2-b6f4-5dceb7f64838",
   "metadata": {},
   "outputs": [
    {
     "data": {
      "text/plain": [
       "array([9, 7, 1, 3, 5])"
      ]
     },
     "execution_count": 171,
     "metadata": {},
     "output_type": "execute_result"
    }
   ],
   "source": [
    "incorrect_basic_inds"
   ]
  },
  {
   "cell_type": "code",
   "execution_count": 166,
   "id": "95d4ffa7-b932-43c2-8119-28503fc79420",
   "metadata": {},
   "outputs": [
    {
     "data": {
      "text/plain": [
       "array([1., 3., 5., 7., 9.])"
      ]
     },
     "execution_count": 166,
     "metadata": {},
     "output_type": "execute_result"
    }
   ],
   "source": [
    "actual_basic_inds"
   ]
  },
  {
   "cell_type": "code",
   "execution_count": 51,
   "id": "f98bc6fb-0187-4534-b05c-197ddeb5190f",
   "metadata": {},
   "outputs": [
    {
     "data": {
      "text/plain": [
       "array([1., 1., 1., 1., 1., 3., 3., 3., 3., 3., 5., 5., 5., 5., 5., 7., 7.,\n",
       "       7., 7., 7., 9., 9., 9., 9., 9.])"
      ]
     },
     "execution_count": 51,
     "metadata": {},
     "output_type": "execute_result"
    }
   ],
   "source": [
    "actual_basic_inds"
   ]
  },
  {
   "cell_type": "code",
   "execution_count": 64,
   "id": "aaa93b89-d826-47d5-ada9-c3405b435dbb",
   "metadata": {},
   "outputs": [],
   "source": [
    "sequence = actual_basic_inds\n",
    "\n"
   ]
  },
  {
   "cell_type": "code",
   "execution_count": 59,
   "id": "59705361-d60f-4700-9720-1ef6cb783642",
   "metadata": {},
   "outputs": [],
   "source": []
  },
  {
   "cell_type": "code",
   "execution_count": 60,
   "id": "5a6c732e-f351-4cf2-b823-ab60ee6387e7",
   "metadata": {},
   "outputs": [
    {
     "data": {
      "text/plain": [
       "array([1., 1., 1., 1., 1., 3., 3., 3., 3., 3., 5., 5., 5., 5., 5., 7., 7.,\n",
       "       7., 7., 7., 9., 9., 9., 9., 9.])"
      ]
     },
     "execution_count": 60,
     "metadata": {},
     "output_type": "execute_result"
    }
   ],
   "source": [
    "sorted_sequence"
   ]
  },
  {
   "cell_type": "code",
   "execution_count": 221,
   "id": "f5c4ca62-58bd-4fa4-818c-b3fcc38a203e",
   "metadata": {},
   "outputs": [],
   "source": [
    "from itertools import permutations\n",
    "\n",
    "def shuffle_nosame(sequence):\n",
    "    \n",
    "    \"\"\"\n",
    "    Shuffle a list pseudo-randomly, making sure that no element has the same \n",
    "    value in the new and old list.\n",
    "    Need to have list where each value repeats an equal number of times (or once each).\n",
    "    \"\"\"\n",
    "    unique_vals, uncounts = np.unique(sequence, return_counts=True)\n",
    "    n_each = uncounts[0]\n",
    "    n_vals = len(unique_vals)\n",
    "    assert(np.all(uncounts==n_each))\n",
    "    \n",
    "    n_total = len(sequence)\n",
    "\n",
    "    # list all the ways to randomly permute groups of elements without having any in \n",
    "    # their original position.\n",
    "    all_perms = list(permutations(np.arange(n_vals)))\n",
    "    good_perms = [perm for perm in all_perms if np.all(np.array(perm)!=(np.arange(n_vals)))]\n",
    "\n",
    "    # sort to make it easy to find the common groups\n",
    "    order2sort, order2reverse = invertible_sort(sequence)\n",
    "    sorted_sequence = sequence[order2sort]\n",
    "\n",
    "    new_sequence = np.zeros(np.shape(sorted_sequence),dtype=sorted_sequence.dtype)\n",
    "\n",
    "    n_groups = n_each\n",
    "    for gg in range(n_groups):\n",
    "    \n",
    "        # gather N elements at a time, one of each value. \n",
    "        inds = gg+np.arange(0,n_total,n_each)\n",
    "        vals = sorted_sequence[inds]\n",
    "        assert(np.all(vals==unique_vals))\n",
    "\n",
    "        # pick at random one of the orders that works\n",
    "        perm_order = np.array(good_perms[np.random.choice(np.arange(len(good_perms)))])\n",
    "        new_sequence[inds] = vals[perm_order]\n",
    "\n",
    "    new_sequence_unsorted = new_sequence[order2reverse]\n",
    "\n",
    "    return new_sequence_unsorted"
   ]
  },
  {
   "cell_type": "code",
   "execution_count": 161,
   "id": "134ad184-f986-4e97-8e7a-29941c511e8f",
   "metadata": {},
   "outputs": [
    {
     "data": {
      "text/plain": [
       "array([1, 4, 3, 0, 2])"
      ]
     },
     "execution_count": 161,
     "metadata": {},
     "output_type": "execute_result"
    }
   ],
   "source": [
    "shuffle_nosame(np.arange(5))"
   ]
  },
  {
   "cell_type": "code",
   "execution_count": 148,
   "id": "f4a18656-01ee-46a4-893b-e91625f1c81f",
   "metadata": {},
   "outputs": [
    {
     "data": {
      "text/plain": [
       "False"
      ]
     },
     "execution_count": 148,
     "metadata": {},
     "output_type": "execute_result"
    }
   ],
   "source": [
    "seq = np.repeat(np.arange(8),10)\n",
    "new = shuffle_nosame(seq)\n",
    "np.any(new==seq)"
   ]
  },
  {
   "cell_type": "code",
   "execution_count": 146,
   "id": "4ca5849b-0249-4242-a68a-18e8e5c854ac",
   "metadata": {},
   "outputs": [
    {
     "data": {
      "text/plain": [
       "False"
      ]
     },
     "execution_count": 146,
     "metadata": {},
     "output_type": "execute_result"
    }
   ],
   "source": [
    "seq = np.repeat(np.arange(8),10)\n",
    "seq = seq[np.random.permutation(len(seq))]\n",
    "new = shuffle_nosame(seq)\n",
    "np.any(new==seq)"
   ]
  },
  {
   "cell_type": "code",
   "execution_count": 144,
   "id": "c98def27-8057-407c-9fb9-b71bbbe7cb48",
   "metadata": {},
   "outputs": [
    {
     "data": {
      "text/plain": [
       "(array([0, 0, 0, 0, 0, 0, 0, 0, 0, 0, 1, 1, 1, 1, 1, 1, 1, 1, 1, 1, 2, 2,\n",
       "        2, 2, 2, 2, 2, 2, 2, 2, 3, 3, 3, 3, 3, 3, 3, 3, 3, 3, 4, 4, 4, 4,\n",
       "        4, 4, 4, 4, 4, 4, 5, 5, 5, 5, 5, 5, 5, 5, 5, 5, 6, 6, 6, 6, 6, 6,\n",
       "        6, 6, 6, 6, 7, 7, 7, 7, 7, 7, 7, 7, 7, 7]),\n",
       " array([7, 1, 4, 2, 4, 2, 3, 6, 1, 2, 4, 3, 5, 0, 5, 4, 5, 6, 4, 4, 5, 5,\n",
       "        4, 6, 4, 0, 7, 1, 5, 1, 7, 7, 0, 1, 4, 0, 2, 2, 0, 1, 7, 3, 2, 2,\n",
       "        6, 7, 5, 5, 7, 5, 0, 0, 6, 7, 3, 6, 3, 6, 3, 3, 2, 1, 7, 3, 1, 1,\n",
       "        7, 2, 2, 0, 6, 0, 3, 3, 5, 1, 4, 6, 6, 0]))"
      ]
     },
     "execution_count": 144,
     "metadata": {},
     "output_type": "execute_result"
    }
   ],
   "source": [
    "seq, new"
   ]
  },
  {
   "cell_type": "code",
   "execution_count": 151,
   "id": "d18478a5-53b9-4094-8cd5-b5ad7065dc6f",
   "metadata": {},
   "outputs": [
    {
     "data": {
      "text/plain": [
       "[<matplotlib.lines.Line2D at 0x7f29fae574e0>]"
      ]
     },
     "execution_count": 151,
     "metadata": {},
     "output_type": "execute_result"
    },
    {
     "data": {
      "image/png": "[encoded data removed]",
      "text/plain": [
       "<Figure size 432x288 with 1 Axes>"
      ]
     },
     "metadata": {
      "needs_background": "light"
     },
     "output_type": "display_data"
    }
   ],
   "source": [
    "import matplotlib.pyplot as plt\n",
    "plt.figure\n",
    "plt.plot(seq, new,'.')"
   ]
  },
  {
   "cell_type": "code",
   "execution_count": 108,
   "id": "4b538c46-0f70-4c48-bab3-e45c71a91842",
   "metadata": {},
   "outputs": [
    {
     "data": {
      "text/plain": [
       "(2, 3, 4, 0, 1)"
      ]
     },
     "execution_count": 108,
     "metadata": {},
     "output_type": "execute_result"
    }
   ],
   "source": [
    "perm_order"
   ]
  },
  {
   "cell_type": "code",
   "execution_count": 104,
   "id": "b9d92f7a-69ae-4f3b-be70-ca720987676b",
   "metadata": {},
   "outputs": [
    {
     "data": {
      "text/plain": [
       "array([ 0,  5, 10, 15, 20])"
      ]
     },
     "execution_count": 104,
     "metadata": {},
     "output_type": "execute_result"
    }
   ],
   "source": [
    "inds"
   ]
  },
  {
   "cell_type": "code",
   "execution_count": 105,
   "id": "b8fbb2f6-4780-4535-8337-52c7044406d3",
   "metadata": {},
   "outputs": [
    {
     "data": {
      "text/plain": [
       "array([1., 3., 5., 7., 9.])"
      ]
     },
     "execution_count": 105,
     "metadata": {},
     "output_type": "execute_result"
    }
   ],
   "source": [
    "vals"
   ]
  },
  {
   "cell_type": "code",
   "execution_count": 69,
   "id": "8c0697fa-6dfe-4c79-b1d3-c63d39b4fa26",
   "metadata": {},
   "outputs": [
    {
     "data": {
      "text/plain": [
       "array([0, 4, 1, 3, 2])"
      ]
     },
     "execution_count": 69,
     "metadata": {},
     "output_type": "execute_result"
    }
   ],
   "source": [
    "np.random.permutation(5)"
   ]
  },
  {
   "cell_type": "code",
   "execution_count": 106,
   "id": "0733faf9-df10-4ce6-a376-c1ece2638e1b",
   "metadata": {},
   "outputs": [],
   "source": []
  },
  {
   "cell_type": "code",
   "execution_count": 95,
   "id": "3e7c3d9d-d2a5-49ab-9f66-07ad5792deda",
   "metadata": {},
   "outputs": [
    {
     "data": {
      "text/plain": [
       "44"
      ]
     },
     "execution_count": 95,
     "metadata": {},
     "output_type": "execute_result"
    }
   ],
   "source": [
    "len(good_perms)"
   ]
  },
  {
   "cell_type": "code",
   "execution_count": 102,
   "id": "ef569893-6632-4ab0-ab33-4c5e2b366914",
   "metadata": {},
   "outputs": [
    {
     "data": {
      "text/plain": [
       "(3.0, 5.0, 7.0, 9.0, 1.0)"
      ]
     },
     "execution_count": 102,
     "metadata": {},
     "output_type": "execute_result"
    }
   ],
   "source": [
    "good_perms[np.random.choice(np.arange(len(good_perms)))]"
   ]
  },
  {
   "cell_type": "code",
   "execution_count": 86,
   "id": "36c34639-4c78-4c41-a24a-19d33baa24c3",
   "metadata": {},
   "outputs": [
    {
     "data": {
      "text/plain": [
       "[(1.0, 3.0, 5.0, 7.0, 9.0),\n",
       " (1.0, 3.0, 5.0, 9.0, 7.0),\n",
       " (1.0, 3.0, 7.0, 5.0, 9.0),\n",
       " (1.0, 3.0, 7.0, 9.0, 5.0),\n",
       " (1.0, 3.0, 9.0, 5.0, 7.0),\n",
       " (1.0, 3.0, 9.0, 7.0, 5.0),\n",
       " (1.0, 5.0, 3.0, 7.0, 9.0),\n",
       " (1.0, 5.0, 3.0, 9.0, 7.0),\n",
       " (1.0, 5.0, 7.0, 3.0, 9.0),\n",
       " (1.0, 5.0, 7.0, 9.0, 3.0),\n",
       " (1.0, 5.0, 9.0, 3.0, 7.0),\n",
       " (1.0, 5.0, 9.0, 7.0, 3.0),\n",
       " (1.0, 7.0, 3.0, 5.0, 9.0),\n",
       " (1.0, 7.0, 3.0, 9.0, 5.0),\n",
       " (1.0, 7.0, 5.0, 3.0, 9.0),\n",
       " (1.0, 7.0, 5.0, 9.0, 3.0),\n",
       " (1.0, 7.0, 9.0, 3.0, 5.0),\n",
       " (1.0, 7.0, 9.0, 5.0, 3.0),\n",
       " (1.0, 9.0, 3.0, 5.0, 7.0),\n",
       " (1.0, 9.0, 3.0, 7.0, 5.0),\n",
       " (1.0, 9.0, 5.0, 3.0, 7.0),\n",
       " (1.0, 9.0, 5.0, 7.0, 3.0),\n",
       " (1.0, 9.0, 7.0, 3.0, 5.0),\n",
       " (1.0, 9.0, 7.0, 5.0, 3.0),\n",
       " (3.0, 1.0, 5.0, 7.0, 9.0),\n",
       " (3.0, 1.0, 5.0, 9.0, 7.0),\n",
       " (3.0, 1.0, 7.0, 5.0, 9.0),\n",
       " (3.0, 1.0, 7.0, 9.0, 5.0),\n",
       " (3.0, 1.0, 9.0, 5.0, 7.0),\n",
       " (3.0, 1.0, 9.0, 7.0, 5.0),\n",
       " (3.0, 5.0, 1.0, 7.0, 9.0),\n",
       " (3.0, 5.0, 1.0, 9.0, 7.0),\n",
       " (3.0, 5.0, 7.0, 1.0, 9.0),\n",
       " (3.0, 5.0, 7.0, 9.0, 1.0),\n",
       " (3.0, 5.0, 9.0, 1.0, 7.0),\n",
       " (3.0, 5.0, 9.0, 7.0, 1.0),\n",
       " (3.0, 7.0, 1.0, 5.0, 9.0),\n",
       " (3.0, 7.0, 1.0, 9.0, 5.0),\n",
       " (3.0, 7.0, 5.0, 1.0, 9.0),\n",
       " (3.0, 7.0, 5.0, 9.0, 1.0),\n",
       " (3.0, 7.0, 9.0, 1.0, 5.0),\n",
       " (3.0, 7.0, 9.0, 5.0, 1.0),\n",
       " (3.0, 9.0, 1.0, 5.0, 7.0),\n",
       " (3.0, 9.0, 1.0, 7.0, 5.0),\n",
       " (3.0, 9.0, 5.0, 1.0, 7.0),\n",
       " (3.0, 9.0, 5.0, 7.0, 1.0),\n",
       " (3.0, 9.0, 7.0, 1.0, 5.0),\n",
       " (3.0, 9.0, 7.0, 5.0, 1.0),\n",
       " (5.0, 1.0, 3.0, 7.0, 9.0),\n",
       " (5.0, 1.0, 3.0, 9.0, 7.0),\n",
       " (5.0, 1.0, 7.0, 3.0, 9.0),\n",
       " (5.0, 1.0, 7.0, 9.0, 3.0),\n",
       " (5.0, 1.0, 9.0, 3.0, 7.0),\n",
       " (5.0, 1.0, 9.0, 7.0, 3.0),\n",
       " (5.0, 3.0, 1.0, 7.0, 9.0),\n",
       " (5.0, 3.0, 1.0, 9.0, 7.0),\n",
       " (5.0, 3.0, 7.0, 1.0, 9.0),\n",
       " (5.0, 3.0, 7.0, 9.0, 1.0),\n",
       " (5.0, 3.0, 9.0, 1.0, 7.0),\n",
       " (5.0, 3.0, 9.0, 7.0, 1.0),\n",
       " (5.0, 7.0, 1.0, 3.0, 9.0),\n",
       " (5.0, 7.0, 1.0, 9.0, 3.0),\n",
       " (5.0, 7.0, 3.0, 1.0, 9.0),\n",
       " (5.0, 7.0, 3.0, 9.0, 1.0),\n",
       " (5.0, 7.0, 9.0, 1.0, 3.0),\n",
       " (5.0, 7.0, 9.0, 3.0, 1.0),\n",
       " (5.0, 9.0, 1.0, 3.0, 7.0),\n",
       " (5.0, 9.0, 1.0, 7.0, 3.0),\n",
       " (5.0, 9.0, 3.0, 1.0, 7.0),\n",
       " (5.0, 9.0, 3.0, 7.0, 1.0),\n",
       " (5.0, 9.0, 7.0, 1.0, 3.0),\n",
       " (5.0, 9.0, 7.0, 3.0, 1.0),\n",
       " (7.0, 1.0, 3.0, 5.0, 9.0),\n",
       " (7.0, 1.0, 3.0, 9.0, 5.0),\n",
       " (7.0, 1.0, 5.0, 3.0, 9.0),\n",
       " (7.0, 1.0, 5.0, 9.0, 3.0),\n",
       " (7.0, 1.0, 9.0, 3.0, 5.0),\n",
       " (7.0, 1.0, 9.0, 5.0, 3.0),\n",
       " (7.0, 3.0, 1.0, 5.0, 9.0),\n",
       " (7.0, 3.0, 1.0, 9.0, 5.0),\n",
       " (7.0, 3.0, 5.0, 1.0, 9.0),\n",
       " (7.0, 3.0, 5.0, 9.0, 1.0),\n",
       " (7.0, 3.0, 9.0, 1.0, 5.0),\n",
       " (7.0, 3.0, 9.0, 5.0, 1.0),\n",
       " (7.0, 5.0, 1.0, 3.0, 9.0),\n",
       " (7.0, 5.0, 1.0, 9.0, 3.0),\n",
       " (7.0, 5.0, 3.0, 1.0, 9.0),\n",
       " (7.0, 5.0, 3.0, 9.0, 1.0),\n",
       " (7.0, 5.0, 9.0, 1.0, 3.0),\n",
       " (7.0, 5.0, 9.0, 3.0, 1.0),\n",
       " (7.0, 9.0, 1.0, 3.0, 5.0),\n",
       " (7.0, 9.0, 1.0, 5.0, 3.0),\n",
       " (7.0, 9.0, 3.0, 1.0, 5.0),\n",
       " (7.0, 9.0, 3.0, 5.0, 1.0),\n",
       " (7.0, 9.0, 5.0, 1.0, 3.0),\n",
       " (7.0, 9.0, 5.0, 3.0, 1.0),\n",
       " (9.0, 1.0, 3.0, 5.0, 7.0),\n",
       " (9.0, 1.0, 3.0, 7.0, 5.0),\n",
       " (9.0, 1.0, 5.0, 3.0, 7.0),\n",
       " (9.0, 1.0, 5.0, 7.0, 3.0),\n",
       " (9.0, 1.0, 7.0, 3.0, 5.0),\n",
       " (9.0, 1.0, 7.0, 5.0, 3.0),\n",
       " (9.0, 3.0, 1.0, 5.0, 7.0),\n",
       " (9.0, 3.0, 1.0, 7.0, 5.0),\n",
       " (9.0, 3.0, 5.0, 1.0, 7.0),\n",
       " (9.0, 3.0, 5.0, 7.0, 1.0),\n",
       " (9.0, 3.0, 7.0, 1.0, 5.0),\n",
       " (9.0, 3.0, 7.0, 5.0, 1.0),\n",
       " (9.0, 5.0, 1.0, 3.0, 7.0),\n",
       " (9.0, 5.0, 1.0, 7.0, 3.0),\n",
       " (9.0, 5.0, 3.0, 1.0, 7.0),\n",
       " (9.0, 5.0, 3.0, 7.0, 1.0),\n",
       " (9.0, 5.0, 7.0, 1.0, 3.0),\n",
       " (9.0, 5.0, 7.0, 3.0, 1.0),\n",
       " (9.0, 7.0, 1.0, 3.0, 5.0),\n",
       " (9.0, 7.0, 1.0, 5.0, 3.0),\n",
       " (9.0, 7.0, 3.0, 1.0, 5.0),\n",
       " (9.0, 7.0, 3.0, 5.0, 1.0),\n",
       " (9.0, 7.0, 5.0, 1.0, 3.0),\n",
       " (9.0, 7.0, 5.0, 3.0, 1.0)]"
      ]
     },
     "execution_count": 86,
     "metadata": {},
     "output_type": "execute_result"
    }
   ],
   "source": [
    "all_perms"
   ]
  },
  {
   "cell_type": "code",
   "execution_count": 84,
   "id": "86dcf42f-8465-4cbc-81e6-f981f007c6dd",
   "metadata": {},
   "outputs": [
    {
     "data": {
      "text/plain": [
       "array([False, False, False, False, False])"
      ]
     },
     "execution_count": 84,
     "metadata": {},
     "output_type": "execute_result"
    }
   ],
   "source": [
    "np.array(all_perms[0])!=unique_vals"
   ]
  },
  {
   "cell_type": "code",
   "execution_count": 58,
   "id": "21e35a3b-90ca-4227-ada8-457a8e223ffe",
   "metadata": {},
   "outputs": [],
   "source": [
    "def invertible_sort(sequence):\n",
    "    \"\"\"\n",
    "    Sort a sequence and store the order needed to reverse sort.\n",
    "    Based on np.argsort.\n",
    "    \"\"\"\n",
    "    order2sort = np.argsort(sequence)\n",
    "    order2reverse = np.argsort(order2sort)\n",
    "    \n",
    "    return order2sort, order2reverse"
   ]
  },
  {
   "cell_type": "code",
   "execution_count": 50,
   "id": "f76bc7bc-39b8-48c2-a5d5-9e8e7b108447",
   "metadata": {},
   "outputs": [
    {
     "data": {
      "text/plain": [
       "25.0"
      ]
     },
     "execution_count": 50,
     "metadata": {},
     "output_type": "execute_result"
    }
   ],
   "source": [
    "1000/2/10/2"
   ]
  },
  {
   "cell_type": "code",
   "execution_count": 48,
   "id": "28771a6e-33e9-4ed0-9741-9cf6339cb895",
   "metadata": {},
   "outputs": [
    {
     "data": {
      "text/plain": [
       "25"
      ]
     },
     "execution_count": 48,
     "metadata": {},
     "output_type": "execute_result"
    }
   ],
   "source": [
    "np.sum(group)"
   ]
  },
  {
   "cell_type": "code",
   "execution_count": 39,
   "id": "5e4f3ecc-cea9-41e7-8ad8-57ada77cc2c1",
   "metadata": {},
   "outputs": [
    {
     "name": "stdout",
     "output_type": "stream",
     "text": [
      "prepping cue names\n"
     ]
    },
    {
     "name": "stderr",
     "output_type": "stream",
     "text": [
      "/home/mmhender/myenv/lib/python3.7/site-packages/ipykernel_launcher.py:6: SettingWithCopyWarning: \n",
      "A value is trying to be set on a copy of a slice from a DataFrame\n",
      "\n",
      "See the caveats in the documentation: https://pandas.pydata.org/pandas-docs/stable/user_guide/indexing.html#returning-a-view-versus-a-copy\n",
      "  \n"
     ]
    },
    {
     "ename": "AssertionError",
     "evalue": "",
     "output_type": "error",
     "traceback": [
      "\u001b[0;31m---------------------------------------------------------------------------\u001b[0m",
      "\u001b[0;31mAssertionError\u001b[0m                            Traceback (most recent call last)",
      "\u001b[0;32m<ipython-input-39-2a3cbd253c04>\u001b[0m in \u001b[0;36m<module>\u001b[0;34m\u001b[0m\n\u001b[1;32m     25\u001b[0m             \u001b[0;31m# switch the names around pseudo-randomly, so they are\u001b[0m\u001b[0;34m\u001b[0m\u001b[0;34m\u001b[0m\u001b[0;34m\u001b[0m\u001b[0m\n\u001b[1;32m     26\u001b[0m             \u001b[0;31m# always cued with the wrong name on these trials.\u001b[0m\u001b[0;34m\u001b[0m\u001b[0;34m\u001b[0m\u001b[0;34m\u001b[0m\u001b[0m\n\u001b[0;32m---> 27\u001b[0;31m             \u001b[0mincorrect_basic_inds\u001b[0m \u001b[0;34m=\u001b[0m \u001b[0mexpt_utils\u001b[0m\u001b[0;34m.\u001b[0m\u001b[0mswap_rand_pairs\u001b[0m\u001b[0;34m(\u001b[0m\u001b[0mactual_basic_inds\u001b[0m\u001b[0;34m)\u001b[0m\u001b[0;34m.\u001b[0m\u001b[0mastype\u001b[0m\u001b[0;34m(\u001b[0m\u001b[0mint\u001b[0m\u001b[0;34m)\u001b[0m\u001b[0;34m\u001b[0m\u001b[0;34m\u001b[0m\u001b[0m\n\u001b[0m\u001b[1;32m     28\u001b[0m \u001b[0;34m\u001b[0m\u001b[0m\n\u001b[1;32m     29\u001b[0m             \u001b[0mtrial_info\u001b[0m\u001b[0;34m[\u001b[0m\u001b[0;34m'cue_name'\u001b[0m\u001b[0;34m]\u001b[0m\u001b[0;34m.\u001b[0m\u001b[0miloc\u001b[0m\u001b[0;34m[\u001b[0m\u001b[0mgroup\u001b[0m\u001b[0;34m]\u001b[0m \u001b[0;34m=\u001b[0m \u001b[0mactual_basic_names\u001b[0m\u001b[0;34m[\u001b[0m\u001b[0mincorrect_basic_inds\u001b[0m\u001b[0;34m]\u001b[0m\u001b[0;34m\u001b[0m\u001b[0;34m\u001b[0m\u001b[0m\n",
      "\u001b[0;32m/user_data/mmhender/featsynth/code_utils/expt_utils.py\u001b[0m in \u001b[0;36mswap_rand_pairs\u001b[0;34m(sequence)\u001b[0m\n\u001b[1;32m     66\u001b[0m \u001b[0;34m\u001b[0m\u001b[0m\n\u001b[1;32m     67\u001b[0m     \u001b[0mn\u001b[0m \u001b[0;34m=\u001b[0m \u001b[0mlen\u001b[0m\u001b[0;34m(\u001b[0m\u001b[0msequence\u001b[0m\u001b[0;34m)\u001b[0m\u001b[0;34m\u001b[0m\u001b[0;34m\u001b[0m\u001b[0m\n\u001b[0;32m---> 68\u001b[0;31m     \u001b[0;32massert\u001b[0m\u001b[0;34m(\u001b[0m\u001b[0mnp\u001b[0m\u001b[0;34m.\u001b[0m\u001b[0mmod\u001b[0m\u001b[0;34m(\u001b[0m\u001b[0mn\u001b[0m\u001b[0;34m,\u001b[0m \u001b[0;36m2\u001b[0m\u001b[0;34m)\u001b[0m\u001b[0;34m==\u001b[0m\u001b[0;36m0\u001b[0m\u001b[0;34m)\u001b[0m\u001b[0;34m\u001b[0m\u001b[0;34m\u001b[0m\u001b[0m\n\u001b[0m\u001b[1;32m     69\u001b[0m \u001b[0;34m\u001b[0m\u001b[0m\n\u001b[1;32m     70\u001b[0m     \u001b[0mrandpairs\u001b[0m \u001b[0;34m=\u001b[0m \u001b[0mnp\u001b[0m\u001b[0;34m.\u001b[0m\u001b[0mfloor\u001b[0m\u001b[0;34m(\u001b[0m\u001b[0mnp\u001b[0m\u001b[0;34m.\u001b[0m\u001b[0mrandom\u001b[0m\u001b[0;34m.\u001b[0m\u001b[0mpermutation\u001b[0m\u001b[0;34m(\u001b[0m\u001b[0mnp\u001b[0m\u001b[0;34m.\u001b[0m\u001b[0marange\u001b[0m\u001b[0;34m(\u001b[0m\u001b[0mn\u001b[0m\u001b[0;34m)\u001b[0m\u001b[0;34m)\u001b[0m\u001b[0;34m/\u001b[0m\u001b[0;36m2\u001b[0m\u001b[0;34m)\u001b[0m\u001b[0;34m.\u001b[0m\u001b[0mastype\u001b[0m\u001b[0;34m(\u001b[0m\u001b[0mint\u001b[0m\u001b[0;34m)\u001b[0m\u001b[0;34m\u001b[0m\u001b[0;34m\u001b[0m\u001b[0m\n",
      "\u001b[0;31mAssertionError\u001b[0m: "
     ]
    }
   ],
   "source": [
    "# Assign incorrect names to all the superord-level target-absent trials\n",
    "lev = 'super'\n",
    "\n",
    "for co in range(n_concepts_use):\n",
    "    for typ in range(n_image_types):\n",
    "        for ex in range(n_ex_use):\n",
    "\n",
    "            group = (trial_info['target_present']==False) & \\\n",
    "                    (trial_info['concept_ind']==co) & \\\n",
    "                    (trial_info['cue_level']==lev) & \\\n",
    "                    (trial_info['image_type_num']==typ) & \\\n",
    "                    (trial_info['ex_num']==ex)\n",
    "\n",
    "            actual_super_inds = np.array(trial_info['categ_ind'][group])\n",
    "            actual_super_names = np.array(trial_info['super_name'][group])\n",
    "            # switch the names around pseudo-randomly, so they are \n",
    "            # always cued with the wrong name on these trials.\n",
    "            incorrect_super_inds = expt_utils.swap_rand_pairs(actual_super_inds).astype(int)\n",
    "\n",
    "            trial_info['cue_name'].iloc[group] = actual_super_names[incorrect_super_inds]"
   ]
  },
  {
   "cell_type": "code",
   "execution_count": 43,
   "id": "631b18c0-5eed-4837-a289-545c2d567f03",
   "metadata": {},
   "outputs": [
    {
     "data": {
      "text/plain": [
       "5"
      ]
     },
     "execution_count": 43,
     "metadata": {},
     "output_type": "execute_result"
    }
   ],
   "source": [
    "np.sum(group)"
   ]
  },
  {
   "cell_type": "code",
   "execution_count": 40,
   "id": "927b6b5d-40ce-4764-83a8-4ecfafa130a6",
   "metadata": {},
   "outputs": [
    {
     "ename": "NameError",
     "evalue": "name 'n' is not defined",
     "output_type": "error",
     "traceback": [
      "\u001b[0;31m---------------------------------------------------------------------------\u001b[0m",
      "\u001b[0;31mNameError\u001b[0m                                 Traceback (most recent call last)",
      "\u001b[0;32m<ipython-input-40-ab0680a89434>\u001b[0m in \u001b[0;36m<module>\u001b[0;34m\u001b[0m\n\u001b[0;32m----> 1\u001b[0;31m \u001b[0mn\u001b[0m\u001b[0;34m\u001b[0m\u001b[0;34m\u001b[0m\u001b[0m\n\u001b[0m",
      "\u001b[0;31mNameError\u001b[0m: name 'n' is not defined"
     ]
    }
   ],
   "source": [
    "n"
   ]
  },
  {
   "cell_type": "code",
   "execution_count": 6,
   "id": "d2aaeb5e-d735-45a6-8999-69da24ca4f93",
   "metadata": {},
   "outputs": [],
   "source": [
    "# shuffle the order of everything together.\n",
    "shuff_order = np.random.permutation(np.arange(n_trials_total))\n",
    "trial_info = trial_info.iloc[shuff_order]\n",
    "\n",
    "# finally, assign the run numbers for each trial (these are the only non-shuffled columns).\n",
    "trial_info['run_number'] = np.repeat(np.arange(n_runs), n_trials_per_run) + 1\n",
    "trial_info['trial_in_run'] = np.tile(np.arange(n_trials_per_run), [n_runs,]) + 1\n",
    "\n",
    "# double check everything\n",
    "print('checking trial info')\n",
    "check_trial_info(trial_info)"
   ]
  },
  {
   "cell_type": "code",
   "execution_count": 6,
   "id": "22eeaceb-832e-44b1-862d-9ea9750fd9bd",
   "metadata": {},
   "outputs": [
    {
     "ename": "NameError",
     "evalue": "name 'n_counterbalance_conds' is not defined",
     "output_type": "error",
     "traceback": [
      "\u001b[0;31m---------------------------------------------------------------------------\u001b[0m",
      "\u001b[0;31mNameError\u001b[0m                                 Traceback (most recent call last)",
      "\u001b[0;32m<ipython-input-6-5655e4a70249>\u001b[0m in \u001b[0;36m<module>\u001b[0;34m\u001b[0m\n\u001b[1;32m      2\u001b[0m \u001b[0mnp\u001b[0m\u001b[0;34m.\u001b[0m\u001b[0mrandom\u001b[0m\u001b[0;34m.\u001b[0m\u001b[0mseed\u001b[0m\u001b[0;34m(\u001b[0m\u001b[0mrndseed\u001b[0m\u001b[0;34m)\u001b[0m\u001b[0;34m\u001b[0m\u001b[0;34m\u001b[0m\u001b[0m\n\u001b[1;32m      3\u001b[0m \u001b[0;34m\u001b[0m\u001b[0m\n\u001b[0;32m----> 4\u001b[0;31m \u001b[0;32mfor\u001b[0m \u001b[0mcb\u001b[0m \u001b[0;32min\u001b[0m \u001b[0mrange\u001b[0m\u001b[0;34m(\u001b[0m\u001b[0mn_counterbalance_conds\u001b[0m\u001b[0;34m)\u001b[0m\u001b[0;34m:\u001b[0m\u001b[0;34m\u001b[0m\u001b[0;34m\u001b[0m\u001b[0m\n\u001b[0m\u001b[1;32m      5\u001b[0m \u001b[0;34m\u001b[0m\u001b[0m\n\u001b[1;32m      6\u001b[0m     \u001b[0mprint\u001b[0m\u001b[0;34m(\u001b[0m\u001b[0;34m'making trial info for counterbalance cond %d of %d'\u001b[0m\u001b[0;34m%\u001b[0m\u001b[0;34m(\u001b[0m\u001b[0mcb\u001b[0m\u001b[0;34m,\u001b[0m \u001b[0mn_counterbalance_conds\u001b[0m\u001b[0;34m)\u001b[0m\u001b[0;34m)\u001b[0m\u001b[0;34m\u001b[0m\u001b[0;34m\u001b[0m\u001b[0m\n",
      "\u001b[0;31mNameError\u001b[0m: name 'n_counterbalance_conds' is not defined"
     ]
    }
   ],
   "source": [
    "# save everything to a single CSV file\n",
    "expt_design_folder = os.path.join(project_root, 'expt_design', expt_name)\n",
    "if not os.path.exists(expt_design_folder):\n",
    "    os.makedirs(expt_design_folder)\n",
    "trialinfo_filename1 =  os.path.join(expt_design_folder, 'trial_info_counterbal%d.csv'%(cb+1))\n",
    "print('saving to %s'%trialinfo_filename1)\n",
    "trial_info.to_csv(trialinfo_filename1, index=False)\n",
    "\n",
    "# making .js files for use in jsPsych\n",
    "# (this file holds all the runs)\n",
    "js_filename = os.path.join(expt_design_folder, 'trialseq_counterbal%d.js'%(cb+1))\n",
    "\n",
    "expt_utils.make_runs_js(trial_info, js_filename, var_name='info%d'%(cb+1))\n",
    "\n",
    "    # return"
   ]
  },
  {
   "cell_type": "code",
   "execution_count": 7,
   "id": "77aa3112-5622-47f0-b7d9-a9088fe464ac",
   "metadata": {},
   "outputs": [],
   "source": [
    "def choose_image_subsets():\n",
    "    \n",
    "    concepts_filename = os.path.join(things_root, 'concepts_use.npy')\n",
    "    concepts_use = np.load(concepts_filename,allow_pickle=True).item()\n",
    "    categ_names = concepts_use['categ_names']\n",
    "    concept_names = concepts_use['concept_names_subsample']\n",
    "    image_names = concepts_use['image_names']\n",
    "    \n",
    "    concepts_all = np.concatenate(concept_names)\n",
    "    categ_all = np.repeat(categ_names, [len(cc) for cc in concept_names])\n",
    "\n",
    "    n_categ_use_each = 10;\n",
    "    n_concepts_use_each = 10;\n",
    "\n",
    "    n_ex_use = 10;\n",
    "    assert(np.mod(n_ex_use,10)==0)\n",
    "\n",
    "    # randomly selecting the subset of categories and concepts that will be used here\n",
    "    rndseed = 676788\n",
    "    np.random.seed(rndseed)\n",
    "\n",
    "    # i am manually assigning the categories that are animals, food/drink, \n",
    "    # or human-related, so that they are balanced in the two sets\n",
    "    categ_set1 = ['bird', 'drink', 'fruit', 'body_part']\n",
    "    categ_set2 = ['insect','dessert', 'vegetable', 'clothing']\n",
    "    # then randomly assign the remaining categories\n",
    "    categ_shuffled = np.array(categ_names)[np.random.permutation(len(categ_names))]\n",
    "    categ_shuffled = [c for c in categ_shuffled if (c not in categ_set1 and c not in categ_set2)]\n",
    "    n_append = n_categ_use_each - len(categ_set1)\n",
    "    categ_set1 += categ_shuffled[0:n_append]\n",
    "    categ_set2 += categ_shuffled[n_append:2*n_append]\n",
    "\n",
    "    categ_sets = [categ_set1, categ_set2]\n",
    "    concept_sets = []\n",
    "    image_name_sets = []\n",
    "\n",
    "    for categ_use in categ_sets:\n",
    "\n",
    "        categ_inds_use = [np.where(np.array(categ_names)==c)[0][0] for c in categ_use]\n",
    "\n",
    "        # randomly select which individual concepts and which exemplars to use here\n",
    "        concepts_use = [np.random.choice(concept_names[ca], n_concepts_use_each, replace=False) for ca in categ_inds_use]\n",
    "\n",
    "        # always use the first 10 exemplars, since these are the ones we have made synths for.\n",
    "        image_names_use = [[image_names[co][0:n_ex_use] for co in conc] \\\n",
    "                           for conc in concepts_use]\n",
    "\n",
    "        concept_sets += [concepts_use]\n",
    "        image_name_sets += [image_names_use]\n",
    "\n",
    "    return categ_sets, concept_sets, image_name_sets\n",
    "\n",
    "def check_trial_info(ti):\n",
    "\n",
    "    # make sure that the target present/target absent trials line up correctly\n",
    "    # (cue name should match actual name for target present, and should \n",
    "    # always mismatch for target absent)\n",
    "\n",
    "    inds_check = (ti['cue_level']=='basic') & (ti['target_present']==True)\n",
    "    assert(np.all(ti['cue_name'][inds_check]==ti['basic_name'][inds_check]))\n",
    "    inds_check = (ti['cue_level']=='basic') & (ti['target_present']==False)\n",
    "    assert(np.all(ti['cue_name'][inds_check]!=ti['basic_name'][inds_check]))\n",
    "\n",
    "    inds_check = (ti['cue_level']=='super') & (ti['target_present']==True)\n",
    "    assert(np.all(ti['cue_name'][inds_check]==ti['super_name'][inds_check]))\n",
    "    inds_check = (ti['cue_level']=='super') & (ti['target_present']==False)\n",
    "    assert(np.all(ti['cue_name'][inds_check]!=ti['super_name'][inds_check]))\n",
    "\n",
    "    # check to make sure individual attributes are distributed evenly across trials \n",
    "    n_trials_total = ti.shape[0]\n",
    "\n",
    "    attr_check_even = ['super_name', 'basic_name', 'ex_num', 'image_type_num', 'target_present', 'cue_level']\n",
    "    for attr in attr_check_even:\n",
    "\n",
    "        # should be an equal number of each thing \n",
    "        un, counts = np.unique(ti[attr], return_counts=True)\n",
    "        assert(np.all(counts==n_trials_total/len(un)))\n",
    "\n",
    "    # check the counterbalancing over multiple attributes\n",
    "\n",
    "    # there should be an equal number of trials in each of the combinations of these \n",
    "    # different attribute \"levels\". for example each combination of category/image type. \n",
    "\n",
    "    attr_balanced = [ti['categ_ind'], ti['concept_ind'], ti['image_type_num'], ti['target_present'], ti['cue_level']]\n",
    "    attr_balanced_inds = np.array([np.unique(attr, return_inverse=True)[1] for attr in attr_balanced]).T\n",
    "\n",
    "    n_levels_each = [len(np.unique(attr)) for attr in attr_balanced]\n",
    "    n_combs_expected = np.prod(n_levels_each)\n",
    "    n_repeats_expected = n_trials_total/n_combs_expected\n",
    "\n",
    "    un_rows, counts = np.unique(attr_balanced_inds,axis=0, return_counts=True)\n",
    "\n",
    "    assert(un_rows.shape[0]==n_combs_expected)\n",
    "    assert(np.all(counts==n_repeats_expected))"
   ]
  }
 ],
 "metadata": {
  "kernelspec": {
   "display_name": "Python 3",
   "language": "python",
   "name": "python3"
  },
  "language_info": {
   "codemirror_mode": {
    "name": "ipython",
    "version": 3
   },
   "file_extension": ".py",
   "mimetype": "text/x-python",
   "name": "python",
   "nbconvert_exporter": "python",
   "pygments_lexer": "ipython3",
   "version": "3.7.1"
  }
 },
 "nbformat": 4,
 "nbformat_minor": 5
}
