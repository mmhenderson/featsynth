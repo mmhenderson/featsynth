{
 "cells": [
  {
   "cell_type": "code",
   "execution_count": 18,
   "id": "94a2fb53-fd00-49d9-befb-c3d92ff7a62e",
   "metadata": {},
   "outputs": [],
   "source": [
    "import numpy as np\n",
    "import PIL\n",
    "import pandas as pd\n",
    "import os\n",
    "import copy\n",
    "import scipy.io\n",
    "\n",
    "things_stim_path = '/user_data/mmhender/things/'\n",
    "things_images_root = os.path.join(things_stim_path, 'Images')\n"
   ]
  },
  {
   "cell_type": "code",
   "execution_count": 71,
   "id": "06412b7f-8711-4ef9-9d6f-7db8de216165",
   "metadata": {},
   "outputs": [],
   "source": [
    "import sys\n",
    "sys.path.append('/user_data/mmhender/texture_synthesis/code/')\n",
    "import things_utils"
   ]
  },
  {
   "cell_type": "code",
   "execution_count": 85,
   "id": "1ab9aa5f-c336-417b-be44-bb4f61db1de6",
   "metadata": {},
   "outputs": [
    {
     "name": "stdout",
     "output_type": "stream",
     "text": [
      "saving to /user_data/mmhender/things/concepts_use.npy\n"
     ]
    }
   ],
   "source": [
    "# things_utils.process_concepts()\n",
    "things_utils.subsample_concepts()"
   ]
  },
  {
   "cell_type": "code",
   "execution_count": 74,
   "id": "31aa23ea-0736-4697-a739-a2fbdfe6348b",
   "metadata": {},
   "outputs": [],
   "source": [
    "fn = '/user_data/mmhender/things/concepts_removeoverlap.npy'\n",
    "concept_info = np.load(fn, allow_pickle=True).item()"
   ]
  },
  {
   "cell_type": "code",
   "execution_count": 84,
   "id": "77cf2fba-8a97-4a28-827f-ef7adc3f88d1",
   "metadata": {},
   "outputs": [
    {
     "data": {
      "text/plain": [
       "12"
      ]
     },
     "execution_count": 84,
     "metadata": {},
     "output_type": "execute_result"
    }
   ],
   "source": [
    "neach = [len(cc) for cc in concept_info['concept_names']]\n",
    "np.min(neach)"
   ]
  },
  {
   "cell_type": "code",
   "execution_count": 86,
   "id": "90149cab-3406-4b2d-b59f-aa8bbbb18f2b",
   "metadata": {},
   "outputs": [],
   "source": [
    "fn = '/user_data/mmhender/things/concepts_use.npy'\n",
    "concept_info = np.load(fn, allow_pickle=True).item()"
   ]
  },
  {
   "cell_type": "code",
   "execution_count": 88,
   "id": "bf474416-f9d6-4947-94ae-48fa8f03e1a5",
   "metadata": {},
   "outputs": [
    {
     "data": {
      "text/plain": [
       "12"
      ]
     },
     "execution_count": 88,
     "metadata": {},
     "output_type": "execute_result"
    }
   ],
   "source": [
    "neach = [len(cc) for cc in concept_info['concept_names_subsample']]\n",
    "np.min(neach)"
   ]
  },
  {
   "cell_type": "code",
   "execution_count": 91,
   "id": "cff0c434-c71a-450b-950e-21b00325f1fb",
   "metadata": {},
   "outputs": [
    {
     "data": {
      "text/plain": [
       "[array(['toucan', 'ostrich', 'chick', 'pigeon', 'turkey', 'duck', 'eagle',\n",
       "        'parrot', 'vulture', 'seagull', 'pelican', 'peacock'], dtype='<U18'),\n",
       " array(['thumb', 'leg', 'skin', 'arm', 'wrist', 'elbow', 'ear', 'tongue',\n",
       "        'shoulder', 'hair', 'eye', 'mouth'], dtype='<U18'),\n",
       " array(['jumpsuit', 'blazer', 'shorts', 'pantyhose', 'jersey',\n",
       "        'fishnet_stockings', 'underwear', 'cape', 'turtleneck', 'pantsuit',\n",
       "        'sweatsuit', 'cardigan'], dtype='<U18'),\n",
       " array(['souffle', 'popsicle', 'birthday_cake', 'donut', 'tiramisu',\n",
       "        'baklava', 'brownie', 'whipped_cream', 'creme_brulee', 'chocolate',\n",
       "        'mousse', 'pudding'], dtype='<U18'),\n",
       " array(['espresso', 'tea', 'milk', 'eggnog', 'hot_chocolate', 'smoothie',\n",
       "        'lemonade', 'juice', 'latte', 'wine', 'soda', 'champagne'],\n",
       "       dtype='<U18'),\n",
       " array(['stereo', 'television', 'tablet', 'computer_screen', 'radio',\n",
       "        'remote_control', 'modem', 'cellphone', 'tape_recorder',\n",
       "        'projector', 'cd_player', 'metal_detector'], dtype='<U18'),\n",
       " array(['peach', 'prune', 'banana', 'lemon', 'star_fruit', 'cranberry',\n",
       "        'plum', 'coconut', 'raspberry', 'apple', 'pineapple', 'kiwi'],\n",
       "       dtype='<U18'),\n",
       " array(['workbench', 'ottoman', 'beanbag', 'dresser', 'sofa_bed',\n",
       "        'rocking_chair', 'coffee_table', 'bench', 'recliner', 'desk',\n",
       "        'nightstand', 'step_stool'], dtype='<U18'),\n",
       " array(['frame', 'terrarium', 'centerpiece', 'tapestry', 'vase',\n",
       "        'candelabra', 'pillow', 'lampshade', 'wreath', 'potpourri',\n",
       "        'curtain', 'wallpaper'], dtype='<U18'),\n",
       " array(['lightning_bug', 'earwig', 'grasshopper', 'beetle', 'ant', 'moth',\n",
       "        'praying_mantis', 'bee', 'fly', 'dragonfly', 'ladybug',\n",
       "        'butterfly'], dtype='<U18'),\n",
       " array(['bottle_opener', 'skewer', 'tongs', 'measuring_cup', 'nutcracker',\n",
       "        'ladle', 'sifter', 'grater', 'eggbeater', 'strainer', 'cleaver',\n",
       "        'whisk'], dtype='<U18'),\n",
       " array(['gurney', 'wheelchair', 'syringe', 'bedpan', 'first-aid_kit',\n",
       "        'cane', 'stretcher', 'plaster_cast', 'brace', 'sling',\n",
       "        'stethoscope', 'crutch'], dtype='<U18'),\n",
       " array(['trumpet', 'ukulele', 'violin', 'flute', 'mandolin', 'cymbal',\n",
       "        'harmonica', 'kazoo', 'recorder', 'bongo', 'xylophone', 'guitar'],\n",
       "       dtype='<U18'),\n",
       " array(['eraser', 'penholder', 'stapler', 'paperweight', 'paper', 'ink',\n",
       "        'scissors', 'staple', 'paperclip', 'envelope', 'thumbtack',\n",
       "        'pencil_sharpener'], dtype='<U18'),\n",
       " array(['bumper', 'car_door', 'windshield_wiper', 'filter', 'headrest',\n",
       "        'sunroof', 'car_seat', 'headlight', 'airbag', 'engine',\n",
       "        'gearshift', 'handbrake'], dtype='<U18'),\n",
       " array(['moss', 'grapevine', 'bamboo', 'cactus', 'seaweed', 'fern',\n",
       "        'marijuana', 'weed', 'bonsai', 'hedge', 'bush', 'aloe'],\n",
       "       dtype='<U18'),\n",
       " array(['dartboard', 'trampoline', 'racket', 'rollerblade',\n",
       "        'boxing_gloves', 'iceskate', 'bobsled', 'cleat', 'soccer_ball',\n",
       "        'ski_pole', 'rollerskate', 'hockey_stick'], dtype='<U18'),\n",
       " array(['lego', 'rocking_horse', 'pinwheel', 'kite', 'doll', 'rattle',\n",
       "        'dollhouse', 'puppet', 'hula_hoop', 'pogo_stick',\n",
       "        'whoopee_cushion', 'marble'], dtype='<U18'),\n",
       " array(['sweet_potato', 'carrot', 'arugula', 'garlic', 'bok_choy',\n",
       "        'spinach', 'rhubarb', 'kale', 'squash', 'sprouts', 'pumpkin',\n",
       "        'beet'], dtype='<U18'),\n",
       " array(['buggy', 'carriage', 'subway', 'camper', 'snowmobile', 'airplane',\n",
       "        'snowplow', 'garbage_truck', 'trolley', 'jeep', 'golf_cart',\n",
       "        'motorcycle'], dtype='<U18'),\n",
       " array(['missile', 'cannon', 'dagger', 'brass_knuckles', 'landmine',\n",
       "        'machine_gun', 'spear', 'rifle', 'whip', 'arrow', 'catapult',\n",
       "        'crossbow'], dtype='<U18')]"
      ]
     },
     "execution_count": 91,
     "metadata": {},
     "output_type": "execute_result"
    }
   ],
   "source": [
    "concept_info['concept_names_subsample']"
   ]
  },
  {
   "cell_type": "code",
   "execution_count": 19,
   "id": "ce31a8e3-b096-4895-aaae-8f311d937b18",
   "metadata": {},
   "outputs": [
    {
     "data": {
      "text/plain": [
       "(491, 21)"
      ]
     },
     "execution_count": 19,
     "metadata": {},
     "output_type": "execute_result"
    }
   ],
   "source": [
    "filename = os.path.join(things_stim_path,'things_concepts.tsv')\n",
    "\n",
    "df = pd.read_csv(filename, sep='\\t')\n",
    "concept_list = np.array(df['Word'])\n",
    "ids_list = np.array(df['uniqueID'])\n",
    "concept_list = [c.replace(' ', '_') for c in concept_list]\n",
    "n_concepts = len(concept_list)\n",
    "# concepts are the fine-grained/basic level names\n",
    "\n",
    "info_folder = os.path.join(things_stim_path,'27 higher-level categories')\n",
    "categ_names = scipy.io.loadmat(os.path.join(info_folder, 'categories.mat'))['categories'][0]\n",
    "categ_names = [categ_names[ii][0] for ii in range(len(categ_names))]\n",
    "categ_names = [categ.replace(' ', '_') for categ in categ_names]\n",
    "n_categ = len(categ_names)\n",
    "# categories are the high-level/superordinate names\n",
    "\n",
    "# load the \"bottom-up\" (human-generated) groupings\n",
    "dat = scipy.io.loadmat(os.path.join(info_folder, 'category_mat_bottom_up.mat'))\n",
    "cmat = dat['category_mat_bottom_up']\n",
    "\n",
    "# there is a swap in this labeling betweeen \"hot-air balloon\" and \"hot chocolate\"\n",
    "# (maybe a typo?)\n",
    "# i am manually switching them here\n",
    "cmat_fixed = copy.deepcopy(cmat)\n",
    "tmp = copy.deepcopy(cmat[801,:])\n",
    "cmat_fixed[801,:] = cmat[803,:]\n",
    "cmat_fixed[803,:] = tmp\n",
    "\n",
    "# now going to fix these a bit to get rid of anything ambiguous\n",
    "cmat_adjusted = copy.deepcopy(cmat_fixed).astype(bool) \n",
    "\n",
    "# removing any duplicate concept names here (these are ambiguous meaning words like bat)\n",
    "un, counts = np.unique(concept_list, return_counts=True)\n",
    "duplicate_conc = un[counts>1]\n",
    "duplicate_conc_inds = np.where([conc in duplicate_conc for conc in concept_list])\n",
    "cmat_adjusted[duplicate_conc_inds,:] = False\n",
    "\n",
    "# remove any concepts that have the same name as one of the categories (for example \"fruit\")\n",
    "duplicate_inds = np.where([conc in categ_names for conc in concept_list])[0]\n",
    "cmat_adjusted[duplicate_inds,:] = False\n",
    "\n",
    "# deciding how to resolve overlap between categories. \n",
    "# always prioritizing the \"lower-level\" category here\n",
    "# for example use \"bird\" label over \"animal\"\n",
    "categories_prioritize = ['bird','insect','dessert','drink','fruit','vegetable']\n",
    "\n",
    "for cc1 in range(n_categ):\n",
    "\n",
    "    for cc2 in np.arange(cc1+1, n_categ):\n",
    "\n",
    "        overlap = cmat_adjusted[:,cc1] & cmat_adjusted[:,cc2]\n",
    "\n",
    "        cat1 = categ_names[cc1]\n",
    "        cat2 = categ_names[cc2]\n",
    "\n",
    "        if np.sum(overlap)>0:\n",
    "\n",
    "            if (cat1 in categories_prioritize) and (cat2 not in categories_prioritize):\n",
    "                # remove concept from the not-prioritized category\n",
    "                cmat_adjusted[overlap,cc2] = False\n",
    "            elif (cat2 in categories_prioritize) and (cat1 not in categories_prioritize):\n",
    "                cmat_adjusted[overlap,cc1] = False        \n",
    "            else:\n",
    "                # if neither is prioritized, don't use the concept at all\n",
    "                cmat_adjusted[overlap,cc1] = False\n",
    "                cmat_adjusted[overlap,cc2] = False\n",
    "\n",
    "\n",
    "# now decide which concepts and categories to exclude from this remaining set.\n",
    "# exclusion criteria:\n",
    "# exclude any categories that are supersets of other categories\n",
    "# (for example exclude food, keep dessert)\n",
    "# exclude concepts that are supersets of other concepts\n",
    "# (for example exclude berry, keep strawberry).\n",
    "# also excluding some concepts that are not very well-known \n",
    "# (for example spark plug).\n",
    "\n",
    "categ_exclude = list(pd.read_csv(os.path.join(things_stim_path, 'categ_exclude.csv'))['categ_exclude'])\n",
    "concepts_exclude = list(pd.read_csv(os.path.join(things_stim_path, 'conc_exclude.csv'))['concepts_exclude'])\n",
    "\n",
    "# remove these from the concept matrix\n",
    "\n",
    "categ_names_new = [cc for cc in categ_names if cc not in categ_exclude]\n",
    "categ_inds_keep = [cc for cc in range(n_categ) if categ_names[cc] not in categ_exclude]\n",
    "\n",
    "n_categ = len(categ_inds_keep)\n",
    "categ_names = categ_names_new\n",
    "\n",
    "cmat_adjusted = cmat_adjusted[:,categ_inds_keep]\n",
    "\n",
    "conc_inds_overlapping = np.sum(cmat_adjusted, axis=1)>1\n",
    "conc_inds_notcategorized = np.sum(cmat_adjusted, axis=1)==0\n",
    "conc_inds_exclude = np.array([conc in concepts_exclude for conc in concept_list])\n",
    "\n",
    "conc_inds_keep = ~conc_inds_overlapping & ~conc_inds_notcategorized & ~conc_inds_exclude\n",
    "\n",
    "cmat_adjusted = cmat_adjusted[conc_inds_keep,:]\n",
    "\n",
    "cmat_adjusted.shape"
   ]
  },
  {
   "cell_type": "code",
   "execution_count": 51,
   "id": "af92de7f-f9ab-4bd7-97db-3aebbbb7fc97",
   "metadata": {},
   "outputs": [
    {
     "data": {
      "text/plain": [
       "(491, 21)"
      ]
     },
     "execution_count": 51,
     "metadata": {},
     "output_type": "execute_result"
    }
   ],
   "source": [
    "filename = os.path.join(things_stim_path,'things_concepts.tsv')\n",
    "\n",
    "df = pd.read_csv(filename, sep='\\t')\n",
    "concept_list = np.array(df['Word'])\n",
    "ids_list = np.array(df['uniqueID'])\n",
    "concept_list = [c.replace(' ', '_') for c in concept_list]\n",
    "n_concepts = len(concept_list)\n",
    "# concepts are the fine-grained/basic level names\n",
    "\n",
    "info_folder = os.path.join(things_stim_path,'27 higher-level categories')\n",
    "categ_names = scipy.io.loadmat(os.path.join(info_folder, 'categories.mat'))['categories'][0]\n",
    "categ_names = [categ_names[ii][0] for ii in range(len(categ_names))]\n",
    "categ_names = [categ.replace(' ', '_') for categ in categ_names]\n",
    "n_categ = len(categ_names)\n",
    "# categories are the high-level/superordinate names\n",
    "\n",
    "# load the \"bottom-up\" (human-generated) groupings\n",
    "dat = scipy.io.loadmat(os.path.join(info_folder, 'category_mat_bottom_up.mat'))\n",
    "cmat = dat['category_mat_bottom_up']\n",
    "\n",
    "# there is a swap in this labeling betweeen \"hot-air balloon\" and \"hot chocolate\"\n",
    "# (maybe a typo?)\n",
    "# i am manually switching them here\n",
    "cmat_fixed = copy.deepcopy(cmat)\n",
    "tmp = copy.deepcopy(cmat[801,:])\n",
    "cmat_fixed[801,:] = cmat[803,:]\n",
    "cmat_fixed[803,:] = tmp\n",
    "\n",
    "# now going to fix these a bit to get rid of anything ambiguous\n",
    "cmat_adjusted = copy.deepcopy(cmat_fixed).astype(bool) \n",
    "\n",
    "# removing any duplicate concept names here (these are ambiguous meaning words like bat)\n",
    "un, counts = np.unique(concept_list, return_counts=True)\n",
    "duplicate_conc = un[counts>1]\n",
    "duplicate_conc_inds = np.where([conc in duplicate_conc for conc in concept_list])\n",
    "cmat_adjusted[duplicate_conc_inds,:] = False\n",
    "\n",
    "# remove any concepts that have the same name as one of the categories (for example \"fruit\")\n",
    "duplicate_inds = np.where([conc in categ_names for conc in concept_list])[0]\n",
    "cmat_adjusted[duplicate_inds,:] = False\n",
    "\n",
    "# remove first the \"food\" and \"animal\" categories, because these share a lot of members with \n",
    "# other categories like \"dessert\", \"bird\"\n",
    "categ_exclude_first = ['food','animal']\n",
    "categ_names_new = [cc for cc in categ_names if cc not in categ_exclude_first]\n",
    "categ_inds_keep = [cc for cc in range(n_categ) if categ_names[cc] not in categ_exclude_first]\n",
    "n_categ = len(categ_inds_keep)\n",
    "categ_names = categ_names_new\n",
    "cmat_adjusted = cmat_adjusted[:,categ_inds_keep]\n",
    "\n",
    "# now decide which concepts and categories to exclude from this remaining set.\n",
    "# exclusion criteria:\n",
    "# exclude any categories that are supersets of other categories\n",
    "# (for example exclude food, keep dessert)\n",
    "# exclude concepts that are supersets of other concepts\n",
    "# (for example exclude berry, keep strawberry).\n",
    "# also excluding some concepts that are not very well-known \n",
    "# (for example spark plug).\n",
    "\n",
    "categ_exclude = list(pd.read_csv(os.path.join(things_stim_path, 'categ_exclude.csv'))['categ_exclude'])\n",
    "concepts_exclude = list(pd.read_csv(os.path.join(things_stim_path, 'conc_exclude.csv'))['concepts_exclude'])\n",
    "\n",
    "# from set of all categories, find the ones that are overlapping for any categories\n",
    "conc_inds_overlapping = np.sum(cmat_adjusted, axis=1)>1\n",
    "conc_inds_exclude = np.array([conc in concepts_exclude for conc in concept_list])\n",
    "\n",
    "categ_names_new = [cc for cc in categ_names if cc not in categ_exclude]\n",
    "categ_inds_keep = [cc for cc in range(n_categ) if categ_names[cc] not in categ_exclude]\n",
    "n_categ = len(categ_inds_keep)\n",
    "categ_names = categ_names_new\n",
    "cmat_adjusted = cmat_adjusted[:,categ_inds_keep]\n",
    "\n",
    "conc_inds_notcategorized = np.sum(cmat_adjusted, axis=1)==0\n",
    "conc_inds_keep = ~conc_inds_overlapping & ~conc_inds_notcategorized & ~conc_inds_exclude\n",
    "cmat_adjusted = cmat_adjusted[conc_inds_keep,:]\n",
    "\n",
    "cmat_adjusted.shape"
   ]
  },
  {
   "cell_type": "code",
   "execution_count": 56,
   "id": "11e4d273-f452-4b9a-86f9-66e0b818a266",
   "metadata": {},
   "outputs": [],
   "source": [
    "conc_use = np.array(concept_list)[conc_inds_keep]\n",
    "ids_use = np.array(ids_list)[conc_inds_keep]\n"
   ]
  },
  {
   "cell_type": "code",
   "execution_count": 57,
   "id": "9d48ba57-941c-45e4-a1ee-f6a552252310",
   "metadata": {},
   "outputs": [
    {
     "data": {
      "text/plain": [
       "(491,)"
      ]
     },
     "execution_count": 57,
     "metadata": {},
     "output_type": "execute_result"
    }
   ],
   "source": [
    "ids_use.shape"
   ]
  },
  {
   "cell_type": "code",
   "execution_count": 61,
   "id": "0bb26f35-9505-46b1-8d97-3e8b95e2223f",
   "metadata": {},
   "outputs": [],
   "source": [
    "image_names = dict()\n",
    "\n",
    "for categ_ind in range(n_categ):\n",
    "    ids = ids_use[cmat_adjusted[:,categ_ind]]\n",
    "    for conc in ids:\n",
    "        files = os.listdir(os.path.join(things_images_root, conc))\n",
    "        files.sort()\n",
    "        image_names[conc] = files"
   ]
  },
  {
   "cell_type": "code",
   "execution_count": 63,
   "id": "2ad37342-a116-412c-ad1a-22e064ae8dd8",
   "metadata": {},
   "outputs": [],
   "source": [
    "concepts_each_categ = [conc_use[cmat_adjusted[:,ca]] for ca in range(n_categ)]\n",
    "ids_each_categ = [ids_use[cmat_adjusted[:,ca]] for ca in range(n_categ)]\n",
    "    "
   ]
  },
  {
   "cell_type": "code",
   "execution_count": 67,
   "id": "b6633e0d-bdc1-4219-b43b-de117e329e8c",
   "metadata": {},
   "outputs": [
    {
     "data": {
      "text/plain": [
       "array([ True,  True,  True,  True,  True,  True,  True,  True,  True,\n",
       "        True,  True,  True,  True,  True,  True,  True,  True,  True,\n",
       "        True,  True,  True,  True,  True,  True,  True,  True])"
      ]
     },
     "execution_count": 67,
     "metadata": {},
     "output_type": "execute_result"
    }
   ],
   "source": [
    "ids_each_categ[0]==concepts_each_categ[0]"
   ]
  },
  {
   "cell_type": "code",
   "execution_count": 52,
   "id": "c6df5d82-ebb5-40ce-8d2a-f6239918fdd3",
   "metadata": {},
   "outputs": [],
   "source": [
    "conc_use2 = np.array(concept_list)[conc_inds_keep]"
   ]
  },
  {
   "cell_type": "code",
   "execution_count": 53,
   "id": "bde156ce-352c-4237-ac8f-0b823bd984ae",
   "metadata": {},
   "outputs": [
    {
     "data": {
      "text/plain": [
       "[]"
      ]
     },
     "execution_count": 53,
     "metadata": {},
     "output_type": "execute_result"
    }
   ],
   "source": [
    "[conc for conc in conc_use2 if conc not in conc_use]"
   ]
  },
  {
   "cell_type": "code",
   "execution_count": 54,
   "id": "696be330-495d-4e3e-b124-19354c444770",
   "metadata": {},
   "outputs": [
    {
     "data": {
      "text/plain": [
       "[]"
      ]
     },
     "execution_count": 54,
     "metadata": {},
     "output_type": "execute_result"
    }
   ],
   "source": [
    "[conc for conc in conc_use if conc not in conc_use2]"
   ]
  },
  {
   "cell_type": "code",
   "execution_count": 47,
   "id": "92886431-52ab-4da8-9001-22b1c3e34843",
   "metadata": {},
   "outputs": [],
   "source": [
    "conc_use = ['cardinal',\n",
    " 'chick',\n",
    " 'cockatoo',\n",
    " 'crow',\n",
    " 'duck',\n",
    " 'duckling',\n",
    " 'eagle',\n",
    " 'flamingo',\n",
    " 'goose',\n",
    " 'hawk',\n",
    " 'hummingbird',\n",
    " 'ostrich',\n",
    " 'owl',\n",
    " 'parrot',\n",
    " 'peacock',\n",
    " 'pelican',\n",
    " 'penguin',\n",
    " 'pheasant',\n",
    " 'pigeon',\n",
    " 'puffin',\n",
    " 'rooster',\n",
    " 'seagull',\n",
    " 'swan',\n",
    " 'toucan',\n",
    " 'turkey',\n",
    " 'vulture',\n",
    " 'ankle',\n",
    " 'arm',\n",
    " 'chin',\n",
    " 'ear',\n",
    " 'elbow',\n",
    " 'eye',\n",
    " 'finger',\n",
    " 'hair',\n",
    " 'hip',\n",
    " 'knee',\n",
    " 'leg',\n",
    " 'mouth',\n",
    " 'navel',\n",
    " 'neck',\n",
    " 'nose',\n",
    " 'shoulder',\n",
    " 'skin',\n",
    " 'thumb',\n",
    " 'toe',\n",
    " 'tongue',\n",
    " 'tooth',\n",
    " 'torso',\n",
    " 'wrist',\n",
    " 'bathrobe',\n",
    " 'blazer',\n",
    " 'blouse',\n",
    " 'bra',\n",
    " 'cape',\n",
    " 'cardigan',\n",
    " 'chaps',\n",
    " 'corset',\n",
    " 'costume',\n",
    " 'dress',\n",
    " 'fishnet_stockings',\n",
    " 'fur_coat',\n",
    " 'glove',\n",
    " 'hood',\n",
    " 'hoodie',\n",
    " 'jacket',\n",
    " 'jeans',\n",
    " 'jersey',\n",
    " 'jumpsuit',\n",
    " 'kilt',\n",
    " 'kimono',\n",
    " 'lab_coat',\n",
    " 'leggings',\n",
    " 'leotard',\n",
    " 'loincloth',\n",
    " 'nightshirt',\n",
    " 'overalls',\n",
    " 'pajamas',\n",
    " 'pantsuit',\n",
    " 'pantyhose',\n",
    " 'polo_shirt',\n",
    " 'shawl',\n",
    " 'shorts',\n",
    " 'skirt',\n",
    " 'snowsuit',\n",
    " 'sock',\n",
    " 'sweatsuit',\n",
    " 'swimsuit',\n",
    " 't-shirt',\n",
    " 'toga',\n",
    " 'tube_top',\n",
    " 'turtleneck',\n",
    " 'tuxedo',\n",
    " 'undershirt',\n",
    " 'underwear',\n",
    " 'uniform',\n",
    " 'vest',\n",
    " 'baklava',\n",
    " 'banana_split',\n",
    " 'birthday_cake',\n",
    " 'brownie',\n",
    " 'cheesecake',\n",
    " 'chocolate',\n",
    " 'creme_brulee',\n",
    " 'cupcake',\n",
    " 'donut',\n",
    " 'flan',\n",
    " 'fruitcake',\n",
    " 'fudge',\n",
    " 'mousse',\n",
    " 'parfait',\n",
    " 'pastry',\n",
    " 'pie',\n",
    " 'popsicle',\n",
    " 'pudding',\n",
    " 'shortbread',\n",
    " 'sorbet',\n",
    " 'souffle',\n",
    " 'tiramisu',\n",
    " 'wedding_cake',\n",
    " 'whipped_cream',\n",
    " 'champagne',\n",
    " 'eggnog',\n",
    " 'espresso',\n",
    " 'hot_chocolate',\n",
    " 'juice',\n",
    " 'latte',\n",
    " 'lemonade',\n",
    " 'milk',\n",
    " 'smoothie',\n",
    " 'soda',\n",
    " 'tea',\n",
    " 'wine',\n",
    " 'cd_player',\n",
    " 'cellphone',\n",
    " 'computer_screen',\n",
    " 'laptop',\n",
    " 'metal_detector',\n",
    " 'modem',\n",
    " 'projector',\n",
    " 'radio',\n",
    " 'remote_control',\n",
    " 'stereo',\n",
    " 'tablet',\n",
    " 'tape_recorder',\n",
    " 'television',\n",
    " 'apple',\n",
    " 'banana',\n",
    " 'blackberry',\n",
    " 'blueberry',\n",
    " 'cantaloupe',\n",
    " 'cherry',\n",
    " 'coconut',\n",
    " 'cranberry',\n",
    " 'fig',\n",
    " 'grape',\n",
    " 'grapefruit',\n",
    " 'kiwi',\n",
    " 'lemon',\n",
    " 'lime',\n",
    " 'mango',\n",
    " 'mulberry',\n",
    " 'orange',\n",
    " 'papaya',\n",
    " 'peach',\n",
    " 'pear',\n",
    " 'pineapple',\n",
    " 'plum',\n",
    " 'pomegranate',\n",
    " 'prune',\n",
    " 'raspberry',\n",
    " 'star_fruit',\n",
    " 'strawberry',\n",
    " 'watermelon',\n",
    " 'beanbag',\n",
    " 'bench',\n",
    " 'bookshelf',\n",
    " 'bunkbed',\n",
    " 'coffee_table',\n",
    " 'desk',\n",
    " 'dresser',\n",
    " 'footrest',\n",
    " 'lectern',\n",
    " 'loveseat',\n",
    " 'nightstand',\n",
    " 'ottoman',\n",
    " 'recliner',\n",
    " 'rocking_chair',\n",
    " 'sofa_bed',\n",
    " 'step_stool',\n",
    " 'workbench',\n",
    " 'candelabra',\n",
    " 'centerpiece',\n",
    " 'coaster',\n",
    " 'curtain',\n",
    " 'doily',\n",
    " 'fireplace',\n",
    " 'frame',\n",
    " 'lampshade',\n",
    " 'mirror',\n",
    " 'pillow',\n",
    " 'potpourri',\n",
    " 'tapestry',\n",
    " 'terrarium',\n",
    " 'vase',\n",
    " 'wallpaper',\n",
    " 'wreath',\n",
    " 'ant',\n",
    " 'bee',\n",
    " 'beetle',\n",
    " 'butterfly',\n",
    " 'caterpillar',\n",
    " 'cockroach',\n",
    " 'dragonfly',\n",
    " 'earwig',\n",
    " 'fly',\n",
    " 'grasshopper',\n",
    " 'ladybug',\n",
    " 'lightning_bug',\n",
    " 'mosquito',\n",
    " 'moth',\n",
    " 'praying_mantis',\n",
    " 'wasp',\n",
    " 'bottle_opener',\n",
    " 'can_opener',\n",
    " 'cleaver',\n",
    " 'corkscrew',\n",
    " 'cutting_board',\n",
    " 'eggbeater',\n",
    " 'grater',\n",
    " 'grinder',\n",
    " 'ladle',\n",
    " 'measuring_cup',\n",
    " 'nutcracker',\n",
    " 'peeler',\n",
    " 'rolling_pin',\n",
    " 'scoop',\n",
    " 'sifter',\n",
    " 'skewer',\n",
    " 'spatula',\n",
    " 'strainer',\n",
    " 'tongs',\n",
    " 'whisk',\n",
    " 'bandage',\n",
    " 'bedpan',\n",
    " 'brace',\n",
    " 'cane',\n",
    " 'crutch',\n",
    " 'first-aid_kit',\n",
    " 'gauze',\n",
    " 'gurney',\n",
    " 'inhaler',\n",
    " 'plaster_cast',\n",
    " 'sling',\n",
    " 'stethoscope',\n",
    " 'stretcher',\n",
    " 'syringe',\n",
    " 'wheelchair',\n",
    " 'accordion',\n",
    " 'bagpipe',\n",
    " 'banjo',\n",
    " 'bassoon',\n",
    " 'bell',\n",
    " 'bongo',\n",
    " 'cello',\n",
    " 'chime',\n",
    " 'clarinet',\n",
    " 'cymbal',\n",
    " 'flute',\n",
    " 'french_horn',\n",
    " 'gong',\n",
    " 'guitar',\n",
    " 'harmonica',\n",
    " 'harp',\n",
    " 'kazoo',\n",
    " 'mandolin',\n",
    " 'organ',\n",
    " 'piano',\n",
    " 'recorder',\n",
    " 'saxophone',\n",
    " 'tambourine',\n",
    " 'triangle',\n",
    " 'trombone',\n",
    " 'trumpet',\n",
    " 'tuba',\n",
    " 'ukulele',\n",
    " 'violin',\n",
    " 'xylophone',\n",
    " 'binder',\n",
    " 'clipboard',\n",
    " 'corkboard',\n",
    " 'envelope',\n",
    " 'eraser',\n",
    " 'folder',\n",
    " 'highlighter',\n",
    " 'ink',\n",
    " 'notebook',\n",
    " 'paper',\n",
    " 'paperclip',\n",
    " 'paperweight',\n",
    " 'pencil_sharpener',\n",
    " 'penholder',\n",
    " 'rubber_band',\n",
    " 'scissors',\n",
    " 'staple',\n",
    " 'stapler',\n",
    " 'tape',\n",
    " 'thumbtack',\n",
    " 'whiteboard',\n",
    " 'airbag',\n",
    " 'bumper',\n",
    " 'car_door',\n",
    " 'car_seat',\n",
    " 'dashboard',\n",
    " 'engine',\n",
    " 'exhaust_pipe',\n",
    " 'filter',\n",
    " 'gearshift',\n",
    " 'grille',\n",
    " 'handbrake',\n",
    " 'headlight',\n",
    " 'headrest',\n",
    " 'hubcap',\n",
    " 'license_plate',\n",
    " 'rearview_mirror',\n",
    " 'steering_wheel',\n",
    " 'sunroof',\n",
    " 'taillight',\n",
    " 'windshield_wiper',\n",
    " 'aloe',\n",
    " 'apple_tree',\n",
    " 'bamboo',\n",
    " 'bonsai',\n",
    " 'bush',\n",
    " 'cactus',\n",
    " 'clover',\n",
    " 'fern',\n",
    " 'grapevine',\n",
    " 'grass',\n",
    " 'hedge',\n",
    " 'ivy',\n",
    " 'marijuana',\n",
    " 'moss',\n",
    " 'poinsettia',\n",
    " 'seaweed',\n",
    " 'tumbleweed',\n",
    " 'weed',\n",
    " 'baseball',\n",
    " 'baseball_bat',\n",
    " 'baseball_glove',\n",
    " 'basketball',\n",
    " 'basketball_hoop',\n",
    " 'bobsled',\n",
    " 'bowling_ball',\n",
    " 'boxing_gloves',\n",
    " 'cleat',\n",
    " 'dartboard',\n",
    " 'football',\n",
    " 'football_helmet',\n",
    " 'goalpost',\n",
    " 'golf_club',\n",
    " 'hockey_stick',\n",
    " 'iceskate',\n",
    " 'javelin',\n",
    " 'ping-pong_table',\n",
    " 'pool_table',\n",
    " 'puck',\n",
    " 'punching_bag',\n",
    " 'racket',\n",
    " 'rollerblade',\n",
    " 'rollerskate',\n",
    " 'saddle',\n",
    " 'scoreboard',\n",
    " 'skateboard',\n",
    " 'ski',\n",
    " 'ski_pole',\n",
    " 'snowboard',\n",
    " 'soccer_ball',\n",
    " 'surfboard',\n",
    " 'target',\n",
    " 'tennis_ball',\n",
    " 'trampoline',\n",
    " 'volleyball',\n",
    " 'beachball',\n",
    " 'doll',\n",
    " 'dollhouse',\n",
    " 'dreidel',\n",
    " 'gyroscope',\n",
    " 'hobbyhorse',\n",
    " 'hula_hoop',\n",
    " 'kaleidoscope',\n",
    " 'kite',\n",
    " 'lego',\n",
    " 'marble',\n",
    " 'pinwheel',\n",
    " 'pogo_stick',\n",
    " 'puppet',\n",
    " 'rattle',\n",
    " 'rocking_horse',\n",
    " 'slime',\n",
    " 'squirt_gun',\n",
    " 'stilt',\n",
    " 'teddy_bear',\n",
    " 'train_set',\n",
    " 'whoopee_cushion',\n",
    " 'yo-yo',\n",
    " 'artichoke',\n",
    " 'arugula',\n",
    " 'asparagus',\n",
    " 'beet',\n",
    " 'bell_pepper',\n",
    " 'bok_choy',\n",
    " 'broccoli',\n",
    " 'brussels_sprouts',\n",
    " 'cabbage',\n",
    " 'carrot',\n",
    " 'cauliflower',\n",
    " 'celery',\n",
    " 'chive',\n",
    " 'corn',\n",
    " 'cucumber',\n",
    " 'eggplant',\n",
    " 'garlic',\n",
    " 'green_beans',\n",
    " 'jalapeno',\n",
    " 'kale',\n",
    " 'leek',\n",
    " 'lettuce',\n",
    " 'okra',\n",
    " 'onion',\n",
    " 'pea',\n",
    " 'potato',\n",
    " 'pumpkin',\n",
    " 'radish',\n",
    " 'rhubarb',\n",
    " 'scallion',\n",
    " 'spinach',\n",
    " 'sprouts',\n",
    " 'squash',\n",
    " 'sweet_potato',\n",
    " 'zucchini',\n",
    " 'airplane',\n",
    " 'buggy',\n",
    " 'camper',\n",
    " 'carriage',\n",
    " 'dirt_bike',\n",
    " 'garbage_truck',\n",
    " 'golf_cart',\n",
    " 'hearse',\n",
    " 'hot-air_balloon',\n",
    " 'humvee',\n",
    " 'jeep',\n",
    " 'limousine',\n",
    " 'minivan',\n",
    " 'motorcycle',\n",
    " 'police_car',\n",
    " 'quad',\n",
    " 'rickshaw',\n",
    " 'roadsweeper',\n",
    " 'school_bus',\n",
    " 'snowmobile',\n",
    " 'snowplow',\n",
    " 'station_wagon',\n",
    " 'subway',\n",
    " 'taxi',\n",
    " 'train_car',\n",
    " 'trolley',\n",
    " 'unicycle',\n",
    " 'van',\n",
    " 'wagon',\n",
    " 'arrow',\n",
    " 'bazooka',\n",
    " 'blowgun',\n",
    " 'brass_knuckles',\n",
    " 'cannon',\n",
    " 'cannonball',\n",
    " 'catapult',\n",
    " 'crossbow',\n",
    " 'dagger',\n",
    " 'flamethrower',\n",
    " 'grenade',\n",
    " 'landmine',\n",
    " 'machete',\n",
    " 'machine_gun',\n",
    " 'missile',\n",
    " 'revolver',\n",
    " 'rifle',\n",
    " 'slingshot',\n",
    " 'spear',\n",
    " 'sword',\n",
    " 'torpedo',\n",
    " 'whip']"
   ]
  },
  {
   "cell_type": "code",
   "execution_count": 24,
   "id": "fb0eff9f-9ffb-4460-9a48-271306aeb9ac",
   "metadata": {},
   "outputs": [],
   "source": [
    "for cc1 in range(n_categ):\n",
    "    for cc2 in np.arange(cc1+1, n_categ):\n",
    "        overlap = cmat_adjusted[:,cc1] & cmat_adjusted[:,cc2]\n",
    "        if np.sum(overlap)>0:\n",
    "            cmat_adjusted[overlap,cc1] = False\n",
    "            cmat_adjusted[overlap,cc2] = False\n",
    "\n",
    "concepts_each_categ_adj = [np.array(concept_list)[cmat_adjusted[:,ii]==1] for ii in range(n_categ)]"
   ]
  },
  {
   "cell_type": "code",
   "execution_count": 27,
   "id": "2524763e-13d9-44d4-9943-43c7bbdb7002",
   "metadata": {},
   "outputs": [],
   "source": [
    "# remove any concepts that we previously specified to exclude\n",
    "concepts_each_categ_adj = [[cc for cc in conc if cc not in concepts_exclude] for conc in concepts_each_categ_adj]"
   ]
  },
  {
   "cell_type": "code",
   "execution_count": 18,
   "id": "674456a1-9de4-4492-9523-4688720385a3",
   "metadata": {},
   "outputs": [
    {
     "name": "stdout",
     "output_type": "stream",
     "text": [
      "remove from dessert and drink:\n",
      "['milkshake']\n",
      "remove from fruit and vegetable:\n",
      "['tomato']\n",
      "remove from furniture and home_decor:\n",
      "['coat_rack']\n",
      "remove from sports_equipment and toy:\n",
      "['frisbee']\n",
      "remove from toy and vehicle:\n",
      "['scooter']\n",
      "remove from toy and weapon:\n",
      "['boomerang']\n"
     ]
    }
   ],
   "source": [
    "ids_each_categ = [np.array(ids_list)[cmat_adjusted[:,ii]==1] for ii in range(n_categ)]\n",
    "\n",
    "image_names = dict()\n",
    "\n",
    "for categ_ind in range(n_categ):\n",
    "    for conc in ids_each_categ[categ_ind]:\n",
    "        files = os.listdir(os.path.join(things_images_root, conc))\n",
    "        files.sort()\n",
    "        image_names[conc] = files"
   ]
  },
  {
   "cell_type": "code",
   "execution_count": 19,
   "id": "e1d2e6d6-22ce-49d5-9d4d-499e8d363938",
   "metadata": {},
   "outputs": [],
   "source": [
    "concepts_all = np.concatenate(concepts_each_categ_adj)\n",
    "categ_all = np.repeat(categ_names, [len(cc) for cc in concepts_each_categ_adj])"
   ]
  },
  {
   "cell_type": "code",
   "execution_count": 6,
   "id": "2e3605af-d6e3-46ed-b0cb-5a24ed3a7cc6",
   "metadata": {},
   "outputs": [
    {
     "data": {
      "text/plain": [
       "['bird',\n",
       " 'body_part',\n",
       " 'clothing',\n",
       " 'dessert',\n",
       " 'drink',\n",
       " 'electronic_device',\n",
       " 'fruit',\n",
       " 'furniture',\n",
       " 'home_decor',\n",
       " 'insect',\n",
       " 'kitchen_tool',\n",
       " 'medical_equipment',\n",
       " 'musical_instrument',\n",
       " 'office_supply',\n",
       " 'part_of_car',\n",
       " 'plant',\n",
       " 'sports_equipment',\n",
       " 'toy',\n",
       " 'vegetable',\n",
       " 'vehicle',\n",
       " 'weapon']"
      ]
     },
     "execution_count": 6,
     "metadata": {},
     "output_type": "execute_result"
    }
   ],
   "source": [
    "categ_names_new = [cc for cc in categ_names if cc not in categ_exclude]\n",
    "categ_inds_keep = [cc for cc in range(n_categ) if categ_names[cc] not in categ_exclude]\n",
    "categ_names_new"
   ]
  },
  {
   "cell_type": "code",
   "execution_count": 6,
   "id": "8e3f476a-87e6-41a7-b300-c8cef37e2bc9",
   "metadata": {},
   "outputs": [
    {
     "data": {
      "text/plain": [
       "['bird',\n",
       " 'body_part',\n",
       " 'clothing',\n",
       " 'dessert',\n",
       " 'drink',\n",
       " 'electronic_device',\n",
       " 'fruit',\n",
       " 'furniture',\n",
       " 'home_decor',\n",
       " 'insect',\n",
       " 'kitchen_tool',\n",
       " 'medical_equipment',\n",
       " 'musical_instrument',\n",
       " 'office_supply',\n",
       " 'part_of_car',\n",
       " 'plant',\n",
       " 'sports_equipment',\n",
       " 'toy',\n",
       " 'vegetable',\n",
       " 'vehicle',\n",
       " 'weapon']"
      ]
     },
     "execution_count": 6,
     "metadata": {},
     "output_type": "execute_result"
    }
   ],
   "source": [
    "categ_names_new3 = [cc for cc in categ_names if cc not in categ_exclude]\n",
    "categ_inds_keep3 = [cc for cc in range(n_categ) if categ_names[cc] not in categ_exclude]\n",
    "categ_names_new3"
   ]
  },
  {
   "cell_type": "code",
   "execution_count": 57,
   "id": "f1314098-0916-41a3-b810-6d5ba5f57fb2",
   "metadata": {},
   "outputs": [
    {
     "data": {
      "text/plain": [
       "[True,\n",
       " True,\n",
       " True,\n",
       " True,\n",
       " True,\n",
       " True,\n",
       " True,\n",
       " True,\n",
       " True,\n",
       " True,\n",
       " True,\n",
       " True,\n",
       " True,\n",
       " True,\n",
       " True,\n",
       " True,\n",
       " True,\n",
       " True,\n",
       " True,\n",
       " True,\n",
       " True]"
      ]
     },
     "execution_count": 57,
     "metadata": {},
     "output_type": "execute_result"
    }
   ],
   "source": [
    "[categ_names_new[ii]==categ_names_new3[ii] for ii in range(len(categ_names_new))]"
   ]
  },
  {
   "cell_type": "code",
   "execution_count": 7,
   "id": "385614b4-7a3d-4f4f-a8b7-0ae592388725",
   "metadata": {},
   "outputs": [],
   "source": [
    "concept_names_new3 = [[conc for conc in concepts_each_categ_adj[cc] if conc not in concepts_exclude] \\\n",
    "                         for cc in categ_inds_keep3]"
   ]
  },
  {
   "cell_type": "code",
   "execution_count": 10,
   "id": "a3fed5d9-1f31-4436-bcf1-dcaba594bfb0",
   "metadata": {},
   "outputs": [
    {
     "data": {
      "text/plain": [
       "array(['cardinal', 'cockatoo', 'crow', 'duckling', 'eagle', 'flamingo',\n",
       "       'goose', 'hawk', 'hummingbird', 'owl', 'parrot', 'peacock',\n",
       "       'pelican', 'pheasant', 'pigeon', 'puffin', 'rooster', 'seagull',\n",
       "       'swan', 'toucan', 'turkey', 'vulture'], dtype='<U18')"
      ]
     },
     "execution_count": 10,
     "metadata": {},
     "output_type": "execute_result"
    }
   ],
   "source": [
    "concepts_each_categ_adj[1]"
   ]
  },
  {
   "cell_type": "code",
   "execution_count": 8,
   "id": "b8f836c1-dda5-4a26-b731-a7de15a131cd",
   "metadata": {},
   "outputs": [
    {
     "data": {
      "text/plain": [
       "['cardinal',\n",
       " 'cockatoo',\n",
       " 'crow',\n",
       " 'duckling',\n",
       " 'eagle',\n",
       " 'flamingo',\n",
       " 'goose',\n",
       " 'hawk',\n",
       " 'hummingbird',\n",
       " 'owl',\n",
       " 'parrot',\n",
       " 'peacock',\n",
       " 'pelican',\n",
       " 'pheasant',\n",
       " 'pigeon',\n",
       " 'puffin',\n",
       " 'rooster',\n",
       " 'seagull',\n",
       " 'swan',\n",
       " 'toucan',\n",
       " 'turkey',\n",
       " 'vulture']"
      ]
     },
     "execution_count": 8,
     "metadata": {},
     "output_type": "execute_result"
    }
   ],
   "source": [
    "concept_names_new3[0]"
   ]
  },
  {
   "cell_type": "code",
   "execution_count": 16,
   "id": "9fffe33a-cbff-41b2-bcab-9db9609dd5c7",
   "metadata": {},
   "outputs": [
    {
     "data": {
      "text/plain": [
       "['cardinal',\n",
       " 'cockatoo',\n",
       " 'crow',\n",
       " 'duckling',\n",
       " 'eagle',\n",
       " 'flamingo',\n",
       " 'goose',\n",
       " 'hawk',\n",
       " 'hummingbird',\n",
       " 'owl',\n",
       " 'parrot',\n",
       " 'peacock',\n",
       " 'pelican',\n",
       " 'pheasant',\n",
       " 'pigeon',\n",
       " 'puffin',\n",
       " 'rooster',\n",
       " 'seagull',\n",
       " 'swan',\n",
       " 'toucan',\n",
       " 'turkey',\n",
       " 'vulture']"
      ]
     },
     "execution_count": 16,
     "metadata": {},
     "output_type": "execute_result"
    }
   ],
   "source": [
    "concept_names_new3[0]"
   ]
  },
  {
   "cell_type": "code",
   "execution_count": 70,
   "id": "1f4df4aa-cee7-444e-b71f-ea0db9233189",
   "metadata": {},
   "outputs": [
    {
     "data": {
      "text/plain": [
       "([22,\n",
       "  23,\n",
       "  47,\n",
       "  18,\n",
       "  12,\n",
       "  13,\n",
       "  28,\n",
       "  17,\n",
       "  16,\n",
       "  16,\n",
       "  20,\n",
       "  15,\n",
       "  30,\n",
       "  21,\n",
       "  20,\n",
       "  18,\n",
       "  36,\n",
       "  23,\n",
       "  31,\n",
       "  29,\n",
       "  22],\n",
       " [26,\n",
       "  23,\n",
       "  47,\n",
       "  24,\n",
       "  12,\n",
       "  13,\n",
       "  28,\n",
       "  17,\n",
       "  16,\n",
       "  16,\n",
       "  20,\n",
       "  15,\n",
       "  30,\n",
       "  21,\n",
       "  20,\n",
       "  18,\n",
       "  36,\n",
       "  23,\n",
       "  35,\n",
       "  29,\n",
       "  22])"
      ]
     },
     "execution_count": 70,
     "metadata": {},
     "output_type": "execute_result"
    }
   ],
   "source": [
    "[len(conc) for conc in concept_names_new3], [len(conc) for conc in concept_names_new]"
   ]
  },
  {
   "cell_type": "code",
   "execution_count": 59,
   "id": "dd356b59-65ef-42e9-8380-10fc33c3d310",
   "metadata": {},
   "outputs": [],
   "source": [
    "concept_names_new4 = []\n",
    "\n",
    "for ca, categ in enumerate(categ_names):\n",
    "   \n",
    "    if categ not in categ_exclude:\n",
    "\n",
    "        conc_inds_plot = np.where(categ_all==categ)[0]\n",
    "        \n",
    "        conc_inds_plot = [ci for ci in conc_inds_plot if concepts_all[ci] not in concepts_exclude]\n",
    "        \n",
    "        concept_names_new4 += [[conc for conc in concepts_all[conc_inds_plot] if conc not in concepts_exclude]]"
   ]
  },
  {
   "cell_type": "code",
   "execution_count": 25,
   "id": "8f2a0bb6-9a72-4c26-abbc-5784a5dea929",
   "metadata": {},
   "outputs": [
    {
     "data": {
      "text/plain": [
       "[1, 2, 3, 6, 7, 8, 10, 11, 12, 13, 15, 16, 17, 18, 19, 20, 21, 23, 24, 25, 26]"
      ]
     },
     "execution_count": 25,
     "metadata": {},
     "output_type": "execute_result"
    }
   ],
   "source": [
    "categ_inds_keep"
   ]
  },
  {
   "cell_type": "code",
   "execution_count": 8,
   "id": "b51499ae-f3bc-4bdd-ab8e-db301f04281f",
   "metadata": {},
   "outputs": [
    {
     "data": {
      "text/plain": [
       "26"
      ]
     },
     "execution_count": 8,
     "metadata": {},
     "output_type": "execute_result"
    }
   ],
   "source": [
    "len(concept_names_new[0])"
   ]
  },
  {
   "cell_type": "code",
   "execution_count": 43,
   "id": "0f57cbb5-5d23-41fd-aaae-5c939145df25",
   "metadata": {},
   "outputs": [],
   "source": [
    "concept_names_new2 = []\n",
    "\n",
    "for ca, categ in enumerate(categ_names):\n",
    "   \n",
    "    if categ not in categ_exclude:\n",
    "\n",
    "        conc_inds_plot = np.where(categ_all==categ)[0]\n",
    "        \n",
    "        conc_inds_plot = [ci for ci in conc_inds_plot if concepts_all[ci] not in concepts_exclude]\n",
    "        \n",
    "        concept_names_new2 += [[conc for conc in concepts_all[conc_inds_plot] if conc not in concepts_exclude]]"
   ]
  },
  {
   "cell_type": "code",
   "execution_count": 49,
   "id": "ae5bfb2a-dc50-4f4d-8217-a9fd179dc51e",
   "metadata": {},
   "outputs": [
    {
     "data": {
      "text/plain": [
       "True"
      ]
     },
     "execution_count": 49,
     "metadata": {},
     "output_type": "execute_result"
    }
   ],
   "source": [
    "np.all(np.all([[concept_names_new[ii][jj]==concept_names_new2[ii][jj] for jj in range(len(concept_names_new[ii]))] \\\n",
    "                for ii in range(len(concept_names_new))]))"
   ]
  },
  {
   "cell_type": "code",
   "execution_count": null,
   "id": "996ae0c3-9c48-434b-9ba4-d367e1884a71",
   "metadata": {},
   "outputs": [
    {
     "ename": "IndexError",
     "evalue": "list index out of range",
     "output_type": "error",
     "traceback": [
      "\u001b[0;31m---------------------------------------------------------------------------\u001b[0m",
      "\u001b[0;31mIndexError\u001b[0m                                Traceback (most recent call last)",
      "\u001b[0;32m<ipython-input-60-656d3a973a94>\u001b[0m in \u001b[0;36m<module>\u001b[0;34m\u001b[0m\n\u001b[1;32m      1\u001b[0m np.all(np.all([[concept_names_new[ii][jj]==concept_names_new3[ii][jj] for jj in range(len(concept_names_new[ii]))] \\\n\u001b[0;32m----> 2\u001b[0;31m                 for ii in range(len(concept_names_new))]))\n\u001b[0m",
      "\u001b[0;32m<ipython-input-60-656d3a973a94>\u001b[0m in \u001b[0;36m<listcomp>\u001b[0;34m(.0)\u001b[0m\n\u001b[1;32m      1\u001b[0m np.all(np.all([[concept_names_new[ii][jj]==concept_names_new3[ii][jj] for jj in range(len(concept_names_new[ii]))] \\\n\u001b[0;32m----> 2\u001b[0;31m                 for ii in range(len(concept_names_new))]))\n\u001b[0m",
      "\u001b[0;32m<ipython-input-60-656d3a973a94>\u001b[0m in \u001b[0;36m<listcomp>\u001b[0;34m(.0)\u001b[0m\n\u001b[0;32m----> 1\u001b[0;31m np.all(np.all([[concept_names_new[ii][jj]==concept_names_new3[ii][jj] for jj in range(len(concept_names_new[ii]))] \\\n\u001b[0m\u001b[1;32m      2\u001b[0m                 for ii in range(len(concept_names_new))]))\n",
      "\u001b[0;31mIndexError\u001b[0m: list index out of range"
     ]
    }
   ],
   "source": [
    "np.all(np.all([[concept_names_new[ii][jj]==concept_names_new3[ii][jj] for jj in range(len(concept_names_new[ii]))] \\\n",
    "                for ii in range(len(concept_names_new))]))"
   ]
  }
 ],
 "metadata": {
  "kernelspec": {
   "display_name": "Python 3",
   "language": "python",
   "name": "python3"
  },
  "language_info": {
   "codemirror_mode": {
    "name": "ipython",
    "version": 3
   },
   "file_extension": ".py",
   "mimetype": "text/x-python",
   "name": "python",
   "nbconvert_exporter": "python",
   "pygments_lexer": "ipython3",
   "version": "3.7.1"
  }
 },
 "nbformat": 4,
 "nbformat_minor": 5
}
