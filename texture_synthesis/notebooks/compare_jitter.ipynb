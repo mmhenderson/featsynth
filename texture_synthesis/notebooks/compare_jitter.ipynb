{
 "cells": [
  {
   "cell_type": "code",
   "execution_count": 1,
   "id": "c148384e-9875-4234-8db7-ef570151ba66",
   "metadata": {},
   "outputs": [],
   "source": [
    "import sys, os\n",
    "import numpy as np\n",
    "\n",
    "import PIL\n",
    "import matplotlib.pyplot as plt\n",
    "\n",
    "import pandas as pd\n",
    "\n",
    "ecoset_info_path = '/user_data/mmhender/stimuli/ecoset_info/'\n",
    "\n",
    "fn = os.path.join(ecoset_info_path, 'categ_use_ecoset.npy')\n",
    "info = np.load(fn, allow_pickle=True).item()\n",
    "bnames = list(info['binfo'].keys())"
   ]
  },
  {
   "cell_type": "code",
   "execution_count": null,
   "id": "4b8f34f8-a20d-4445-a0b4-7965fca6fcb6",
   "metadata": {},
   "outputs": [],
   "source": [
    "root = '/user_data/mmhender/stimuli/featsynth/'\n",
    "\n",
    "jitters = [0,1,3,5]\n",
    "\n",
    "subfolders = ['images_comb64_jitter%dpix'%j if j>0 else 'images_comb64' \\\n",
    "              for j in jitters]\n",
    "\n",
    "folders = [os.path.join(root, s) for s in subfolders]"
   ]
  },
  {
   "cell_type": "code",
   "execution_count": null,
   "id": "ef0fdc03-3421-42df-8c9a-3e655b8ecf59",
   "metadata": {},
   "outputs": [],
   "source": [
    "bi = 1;\n",
    "\n",
    "bname = bnames[bi]\n",
    "\n",
    "ee = 0;\n",
    "\n",
    "imnames = ['orig.png', 'scramble_upto_pool1.png', 'scramble_upto_pool2.png', \\\n",
    "               'scramble_upto_pool3.png', 'scramble_upto_pool4.png']\n",
    "\n",
    "for jitt, folder in zip((jitters, folders)):\n",
    "\n",
    "    plt.figure(figsize=(12, 3))\n",
    "\n",
    "    pi=0;\n",
    "    for name in imnames:\n",
    "       \n",
    "        imfn = os.path.join(folder, bname, 'ex%02d'%ee, name)\n",
    "    \n",
    "        im = PIL.Image.open(imfn)\n",
    "\n",
    "        pi=+=1\n",
    "        plt.subplot(1,5,pi)\n",
    "    \n",
    "        plt.imshow(im)\n",
    "        plt.axis('off')\n",
    "    \n",
    "        plt.title('orig')\n",
    "        \n"
   ]
  }
 ],
 "metadata": {
  "kernelspec": {
   "display_name": "Python 3 (ipykernel)",
   "language": "python",
   "name": "python3"
  },
  "language_info": {
   "codemirror_mode": {
    "name": "ipython",
    "version": 3
   },
   "file_extension": ".py",
   "mimetype": "text/x-python",
   "name": "python",
   "nbconvert_exporter": "python",
   "pygments_lexer": "ipython3",
   "version": "3.10.9"
  }
 },
 "nbformat": 4,
 "nbformat_minor": 5
}
